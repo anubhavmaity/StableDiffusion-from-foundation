{
 "cells": [
  {
   "cell_type": "code",
   "execution_count": null,
   "id": "60812d03",
   "metadata": {},
   "outputs": [],
   "source": [
    "import torch\n",
    "from torch import nn\n",
    "from torch.optim import SGD\n",
    "from datasets import load_dataset\n",
    "from torch.utils.data import DataLoader\n",
    "from minai.datasets import inplace\n",
    "import torchvision.transforms.functional as TF\n",
    "import torch.nn.functional as F"
   ]
  },
  {
   "cell_type": "code",
   "execution_count": null,
   "id": "3f10a2d3",
   "metadata": {},
   "outputs": [],
   "source": [
    "mnist_ds = load_dataset('mnist')\n",
    "fashion_ds = load_dataset('fashion_mnist')"
   ]
  },
  {
   "cell_type": "code",
   "execution_count": null,
   "id": "713846b5",
   "metadata": {},
   "outputs": [],
   "source": [
    "x, y = 'image', 'label'"
   ]
  },
  {
   "cell_type": "code",
   "execution_count": null,
   "id": "bbac9278",
   "metadata": {},
   "outputs": [],
   "source": [
    "@inplace\n",
    "def transformi(b): b[x] = [torch.flatten(TF.to_tensor(o)) for o in b[x]]"
   ]
  },
  {
   "cell_type": "code",
   "execution_count": null,
   "id": "d104cb2f",
   "metadata": {},
   "outputs": [],
   "source": [
    "bs = 1024\n",
    "mnist_dsd = mnist_ds.with_transform(transformi)\n",
    "fashion_dsd = fashion_ds.with_transform(transformi)"
   ]
  },
  {
   "cell_type": "code",
   "execution_count": null,
   "id": "c2c1bfab",
   "metadata": {},
   "outputs": [],
   "source": [
    "class DataLoaders:\n",
    "    def __init__(self, *dls): self.train, self.valid = dls[:2]\n",
    "        \n",
    "    @classmethod\n",
    "    def from_dd(cls, dd, batch_size, num_workers=4, as_tuple=True):\n",
    "        return cls(*[DataLoader(ds, batch_size, collate_fn=collate_dict(ds)) for ds in dd.values()])"
   ]
  },
  {
   "cell_type": "code",
   "execution_count": null,
   "id": "f22d5792",
   "metadata": {},
   "outputs": [
    {
     "data": {
      "text/plain": [
       "(torch.Size([1024, 784]), tensor([5, 0, 4, 1, 9, 2, 1, 3, 1, 4]))"
      ]
     },
     "execution_count": null,
     "metadata": {},
     "output_type": "execute_result"
    }
   ],
   "source": [
    "mnist_dls = DataLoaders.from_dd(mnist_dsd, bs)\n",
    "mnist_dt = mnist_dls.train\n",
    "xb, yb = next(iter(mnist_dt))\n",
    "xb.shape, yb[:10]"
   ]
  },
  {
   "cell_type": "code",
   "execution_count": null,
   "id": "cc9c1bed",
   "metadata": {},
   "outputs": [],
   "source": [
    "def train_v1(dl, epochs):\n",
    "    model = nn.Sequential(nn.Linear(784, 50), nn.ReLU(), nn.Linear(50, 10))\n",
    "    opt = SGD(model.parameters(), lr=1e-3)\n",
    "    \n",
    "    for epoch in range(epochs):\n",
    "        losses = []\n",
    "        ns = []\n",
    "        for xb, yb in dl:\n",
    "            pred = model(xb)\n",
    "            loss = F.cross_entropy(pred, yb)\n",
    "            losses.append(loss * len(xb))\n",
    "            ns.append(len(xb))\n",
    "\n",
    "            loss.backward()\n",
    "            opt.step()\n",
    "            opt.zero_grad()\n",
    "        print(sum(losses)/ sum(ns))"
   ]
  },
  {
   "cell_type": "code",
   "execution_count": null,
   "id": "022e458f",
   "metadata": {},
   "outputs": [
    {
     "name": "stdout",
     "output_type": "stream",
     "text": [
      "tensor(2.31, grad_fn=<DivBackward0>)\n"
     ]
    }
   ],
   "source": [
    "train_v1(mnist_dt, 1)"
   ]
  },
  {
   "cell_type": "code",
   "execution_count": null,
   "id": "dc022bca",
   "metadata": {},
   "outputs": [],
   "source": [
    "def train_v2(dl, epochs):\n",
    "    model = nn.Sequential(nn.Linear(784, 50), nn.ReLU(), nn.Linear(50, 10))\n",
    "    opt = SGD(model.parameters(), lr=1e-3)\n",
    "    \n",
    "    for epoch in range(epochs):\n",
    "        losses = []\n",
    "        ns = []\n",
    "        for xb, yb in dl:\n",
    "            pred = model(xb)\n",
    "            loss = F.cross_entropy(pred, yb)\n",
    "            losses.append(loss * len(xb))\n",
    "            ns.append(len(xb))\n",
    "\n",
    "            opt.zero_grad()\n",
    "            loss.backward()\n",
    "            opt.step()\n",
    "            \n",
    "        print(sum(losses)/ sum(ns))"
   ]
  },
  {
   "cell_type": "code",
   "execution_count": null,
   "id": "6727deb4",
   "metadata": {},
   "outputs": [
    {
     "name": "stdout",
     "output_type": "stream",
     "text": [
      "tensor(2.31, grad_fn=<DivBackward0>)\n"
     ]
    }
   ],
   "source": [
    "train_v2(mnist_dt, 1)"
   ]
  },
  {
   "cell_type": "code",
   "execution_count": null,
   "id": "5ca369db",
   "metadata": {},
   "outputs": [],
   "source": []
  }
 ],
 "metadata": {
  "kernelspec": {
   "display_name": "fastai",
   "language": "python",
   "name": "fastai"
  }
 },
 "nbformat": 4,
 "nbformat_minor": 5
}
