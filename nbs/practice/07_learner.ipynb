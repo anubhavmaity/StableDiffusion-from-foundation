{
 "cells": [
  {
   "cell_type": "markdown",
   "id": "50ebe26f",
   "metadata": {},
   "source": [
    "# Learner"
   ]
  },
  {
   "cell_type": "code",
   "execution_count": null,
   "id": "8e5896ea",
   "metadata": {},
   "outputs": [],
   "source": [
    "from datasets import load_dataset\n",
    "import torch\n",
    "import fastcore.all as fc\n",
    "import torchvision.transforms.functional as TF\n",
    "from minai.datasets import inplace, collate_dict\n",
    "from torch.utils.data import DataLoader\n",
    "from torch import optim, nn\n",
    "import torch.nn.functional as F\n",
    "from torch import tensor\n",
    "from torcheval.metrics import MulticlassAccuracy, Mean\n",
    "from collections.abc import Mapping\n",
    "from copy import copy\n",
    "from contextlib import contextmanager\n",
    "from fastprogress.fastprogress import master_bar, progress_bar\n",
    "from functools import partial\n",
    "import math\n",
    "import matplotlib as mpl\n",
    "from matplotlib import pyplot as plt"
   ]
  },
  {
   "cell_type": "code",
   "execution_count": null,
   "id": "93eb7f73",
   "metadata": {},
   "outputs": [],
   "source": [
    "dataset = load_dataset('fashion_mnist')"
   ]
  },
  {
   "cell_type": "code",
   "execution_count": null,
   "id": "fede9f86",
   "metadata": {},
   "outputs": [
    {
     "data": {
      "image/png": "[encoded data removed]",
      "text/plain": [
       "<PIL.PngImagePlugin.PngImageFile image mode=L size=28x28>"
      ]
     },
     "execution_count": null,
     "metadata": {},
     "output_type": "execute_result"
    }
   ],
   "source": [
    "bs = 1024\n",
    "x, y = 'image', 'label'\n",
    "dataset['train'][x][0]"
   ]
  },
  {
   "cell_type": "code",
   "execution_count": null,
   "id": "27c11aee",
   "metadata": {},
   "outputs": [
    {
     "data": {
      "text/plain": [
       "9"
      ]
     },
     "execution_count": null,
     "metadata": {},
     "output_type": "execute_result"
    }
   ],
   "source": [
    "dataset['train'][y][0]"
   ]
  },
  {
   "cell_type": "code",
   "execution_count": null,
   "id": "b2f2c279",
   "metadata": {},
   "outputs": [
    {
     "data": {
      "text/plain": [
       "'Ankle boot'"
      ]
     },
     "execution_count": null,
     "metadata": {},
     "output_type": "execute_result"
    }
   ],
   "source": [
    "dataset['train'].features['label'].names[9]"
   ]
  },
  {
   "cell_type": "code",
   "execution_count": null,
   "id": "3fd6e513",
   "metadata": {},
   "outputs": [
    {
     "data": {
      "text/plain": [
       "DatasetDict({\n",
       "    train: Dataset({\n",
       "        features: ['image', 'label'],\n",
       "        num_rows: 60000\n",
       "    })\n",
       "    test: Dataset({\n",
       "        features: ['image', 'label'],\n",
       "        num_rows: 10000\n",
       "    })\n",
       "})"
      ]
     },
     "execution_count": null,
     "metadata": {},
     "output_type": "execute_result"
    }
   ],
   "source": [
    "dataset"
   ]
  },
  {
   "cell_type": "code",
   "execution_count": null,
   "id": "ce842dbd",
   "metadata": {},
   "outputs": [
    {
     "data": {
      "text/plain": [
       "torch.Size([784])"
      ]
     },
     "execution_count": null,
     "metadata": {},
     "output_type": "execute_result"
    }
   ],
   "source": [
    "torch.flatten(TF.to_tensor(dataset['train'][x][0])).shape"
   ]
  },
  {
   "cell_type": "code",
   "execution_count": null,
   "id": "3c7a01b4",
   "metadata": {},
   "outputs": [],
   "source": [
    "@inplace\n",
    "def transformi(b): b[x] = [torch.flatten(TF.to_tensor(o)) for o in b[x]]"
   ]
  },
  {
   "cell_type": "code",
   "execution_count": null,
   "id": "7aa7c72c",
   "metadata": {},
   "outputs": [],
   "source": [
    "dsd = dataset.with_transform(transformi)"
   ]
  },
  {
   "cell_type": "code",
   "execution_count": null,
   "id": "61f1cb48",
   "metadata": {},
   "outputs": [],
   "source": [
    "class DataLoaders:\n",
    "    def __init__(self, dls):\n",
    "        self.train_dl, self.valid_dl = dls[:2]\n",
    "    \n",
    "    @classmethod\n",
    "    def from_dd(cls, dsd):\n",
    "        return cls([DataLoader(ds, batch_size=bs, collate_fn=collate_dict(ds)) for ds in dsd.values()])"
   ]
  },
  {
   "cell_type": "code",
   "execution_count": null,
   "id": "f2079fd7",
   "metadata": {},
   "outputs": [],
   "source": [
    "dls = DataLoaders.from_dd(dsd)"
   ]
  },
  {
   "cell_type": "code",
   "execution_count": null,
   "id": "88d4ae51",
   "metadata": {},
   "outputs": [],
   "source": [
    "train_dl = dls.train_dl\n",
    "valid_dl = dls.valid_dl"
   ]
  },
  {
   "cell_type": "code",
   "execution_count": null,
   "id": "4e06a1bd",
   "metadata": {},
   "outputs": [
    {
     "data": {
      "text/plain": [
       "(torch.Size([1024, 784]), torch.Size([1024]))"
      ]
     },
     "execution_count": null,
     "metadata": {},
     "output_type": "execute_result"
    }
   ],
   "source": [
    "it = iter(train_dl)\n",
    "xb, yb = next(it)\n",
    "xb.shape, yb.shape"
   ]
  },
  {
   "cell_type": "code",
   "execution_count": null,
   "id": "32b7ec4f",
   "metadata": {},
   "outputs": [
    {
     "data": {
      "text/plain": [
       "tensor(1)"
      ]
     },
     "execution_count": null,
     "metadata": {},
     "output_type": "execute_result"
    }
   ],
   "source": [
    "(torch.tensor([1, 1, 0, 1]) == torch.tensor([1, 0, 1, 0])).sum()"
   ]
  },
  {
   "cell_type": "code",
   "execution_count": null,
   "id": "e265a6ff",
   "metadata": {},
   "outputs": [],
   "source": [
    "class Learner:\n",
    "    def __init__(self, model, train_dl, valid_dl, lr, opt_func, loss_func):\n",
    "        fc.store_attr()\n",
    "    \n",
    "    def one_batch(self):\n",
    "        self.preds = self.model(self.xb)\n",
    "        self.loss = self.loss_func(self.preds, self.yb)\n",
    "        self.loss.backward()\n",
    "        self.opt.step()\n",
    "        self.opt.zero_grad()\n",
    "        with torch.no_grad(): self.calc_stats()\n",
    "    \n",
    "    def calc_stats(self):\n",
    "        n = len(self.xb)\n",
    "        self.losses.append(self.loss * n)\n",
    "        self.ns.append(n)\n",
    "        self.accuracy.append((self.preds.argmax(-1) == self.yb).sum())\n",
    "        \n",
    "    def one_epoch(self, train):\n",
    "        self.model.training = train\n",
    "        self.losses = []\n",
    "        self.ns = []\n",
    "        self.accuracy = []\n",
    "        dl = train_dl if self.model.training else valid_dl\n",
    "        for self.xb, self.yb in dl:\n",
    "            self.one_batch()\n",
    "        print(f'Epoch:{self.epoch} Train:{self.model.training} Loss:{sum(self.losses)/sum(self.ns)} Accuracy: {sum(self.accuracy)/sum(self.ns)}')\n",
    "        \n",
    "    def fit(self, epochs):\n",
    "        self.opt = self.opt_func(self.model.parameters(), lr = self.lr)\n",
    "        for self.epoch in range(epochs):\n",
    "            self.one_epoch(True)\n",
    "            self.one_epoch(False)"
   ]
  },
  {
   "cell_type": "code",
   "execution_count": null,
   "id": "d4d4ac16",
   "metadata": {},
   "outputs": [],
   "source": [
    "def get_model(): return nn.Sequential(nn.Linear(784, 50), nn.ReLU(), nn.Linear(50, 10))\n",
    "learn = Learner(get_model(), train_dl, valid_dl, 0.2, optim.SGD, F.cross_entropy)"
   ]
  },
  {
   "cell_type": "code",
   "execution_count": null,
   "id": "d6f0b510",
   "metadata": {},
   "outputs": [
    {
     "name": "stdout",
     "output_type": "stream",
     "text": [
      "Epoch:0 Train:True Loss:1.1667500734329224 Accuracy: 0.5988666415214539\n",
      "Epoch:0 Train:False Loss:0.8084695339202881 Accuracy: 0.713699996471405\n"
     ]
    }
   ],
   "source": [
    "learn.fit(1)"
   ]
  },
  {
   "cell_type": "markdown",
   "id": "dff1e76b",
   "metadata": {},
   "source": [
    "## Callback"
   ]
  },
  {
   "cell_type": "code",
   "execution_count": null,
   "id": "367c876d",
   "metadata": {},
   "outputs": [],
   "source": [
    "class CancelEpochException(Exception): pass\n",
    "class CancelFitException(Exception): pass\n",
    "class CancelBatchException(Exception): pass"
   ]
  },
  {
   "cell_type": "code",
   "execution_count": null,
   "id": "d5dbef57",
   "metadata": {},
   "outputs": [],
   "source": [
    "class Callback: order = 0"
   ]
  },
  {
   "cell_type": "code",
   "execution_count": null,
   "id": "103b33ca",
   "metadata": {},
   "outputs": [],
   "source": [
    "class CompleteCallback(Callback):\n",
    "    def before_fit(self): self.num_batch = 0\n",
    "    def after_batch(self): self.num_batch += 1\n",
    "    def after_fit(self): print(f'Completed {self.num_batch}')"
   ]
  },
  {
   "cell_type": "code",
   "execution_count": null,
   "id": "e01592ee",
   "metadata": {},
   "outputs": [],
   "source": [
    "cbs = [CompleteCallback()]"
   ]
  },
  {
   "cell_type": "code",
   "execution_count": null,
   "id": "de52b6f3",
   "metadata": {},
   "outputs": [
    {
     "name": "stdout",
     "output_type": "stream",
     "text": [
      "Completed 0\n"
     ]
    }
   ],
   "source": [
    "getattr(cbs[0], 'before_fit')()\n",
    "getattr(cbs[0], 'after_fit')()"
   ]
  },
  {
   "cell_type": "code",
   "execution_count": null,
   "id": "64c61d3e",
   "metadata": {},
   "outputs": [],
   "source": [
    "def run_cbs(cbs, f:str):\n",
    "    for cb in sorted(cbs, key=lambda x: x.order):\n",
    "        method = getattr(cb, f, None)\n",
    "        if method: method()"
   ]
  },
  {
   "cell_type": "code",
   "execution_count": null,
   "id": "9566a85c",
   "metadata": {},
   "outputs": [],
   "source": [
    "run_cbs(cbs, 'before_epoch')"
   ]
  },
  {
   "cell_type": "code",
   "execution_count": null,
   "id": "3554ad72",
   "metadata": {},
   "outputs": [],
   "source": [
    "run_cbs(cbs, 'before_fit')"
   ]
  },
  {
   "cell_type": "code",
   "execution_count": null,
   "id": "f031aa23",
   "metadata": {},
   "outputs": [
    {
     "name": "stdout",
     "output_type": "stream",
     "text": [
      "Completed 0\n"
     ]
    }
   ],
   "source": [
    "run_cbs(cbs, 'after_fit')"
   ]
  },
  {
   "cell_type": "code",
   "execution_count": null,
   "id": "86f3f29e",
   "metadata": {},
   "outputs": [],
   "source": [
    "run_cbs(cbs, 'after_batch')"
   ]
  },
  {
   "cell_type": "code",
   "execution_count": null,
   "id": "d7835ad1",
   "metadata": {},
   "outputs": [
    {
     "name": "stdout",
     "output_type": "stream",
     "text": [
      "Completed 1\n"
     ]
    }
   ],
   "source": [
    "run_cbs(cbs, 'after_fit')"
   ]
  },
  {
   "cell_type": "code",
   "execution_count": null,
   "id": "b196e52b",
   "metadata": {},
   "outputs": [],
   "source": [
    "class Learner:\n",
    "    def __init__(self, model, dls, lr, opt_func, loss_func, cbs=[]):\n",
    "        fc.store_attr()\n",
    "        for cb in self.cbs: cb.learn = self\n",
    "    \n",
    "    def one_batch(self):\n",
    "        try:\n",
    "            self.callback('before_batch')\n",
    "            self.preds = self.model(self.batch[0])\n",
    "            self.loss = self.loss_func(self.preds, self.batch[1])\n",
    "            if self.model.training:\n",
    "                self.loss.backward()\n",
    "                self.opt.step()\n",
    "                self.opt.zero_grad()\n",
    "        except CancelBatchException: pass\n",
    "        finally: self.callback('after_batch')\n",
    "        \n",
    "    def one_epoch(self, train):\n",
    "        self.model.training = train\n",
    "        self.dl = dls.train_dl if self.model.training else dls.valid_dl\n",
    "        try:\n",
    "            self.callback('before_epoch')\n",
    "            for self.batch in self.dl:\n",
    "                self.one_batch()\n",
    "        except CancelEpochException: pass\n",
    "        finally: self.callback('after_epoch')\n",
    "        \n",
    "    \n",
    "    def fit(self, epochs):\n",
    "        try:\n",
    "            self.callback('before_fit')\n",
    "            self.opt = self.opt_func(self.model.parameters(), lr = self.lr)\n",
    "            for self.epoch in range(epochs):\n",
    "                self.one_epoch(True)\n",
    "                self.one_epoch(False)\n",
    "        except CancelFitException: pass\n",
    "        finally: self.callback('after_fit')\n",
    "    \n",
    "    def callback(self, fn):\n",
    "        run_cbs(self.cbs, fn)"
   ]
  },
  {
   "cell_type": "code",
   "execution_count": null,
   "id": "505cbcc0",
   "metadata": {},
   "outputs": [],
   "source": [
    "learn = Learner(get_model(), dls, 0.2, optim.SGD, F.cross_entropy, cbs=[CompleteCallback()])"
   ]
  },
  {
   "cell_type": "code",
   "execution_count": null,
   "id": "252de28b",
   "metadata": {},
   "outputs": [
    {
     "name": "stdout",
     "output_type": "stream",
     "text": [
      "Completed 69\n"
     ]
    }
   ],
   "source": [
    "learn.fit(1)"
   ]
  },
  {
   "cell_type": "code",
   "execution_count": null,
   "id": "5e1b9828",
   "metadata": {},
   "outputs": [],
   "source": [
    "class SingleBatchCallback(Callback):\n",
    "    def after_batch(self): raise CancelEpochException()"
   ]
  },
  {
   "cell_type": "code",
   "execution_count": null,
   "id": "ad731133",
   "metadata": {},
   "outputs": [],
   "source": [
    "learn = Learner(get_model(), dls, 0.2, optim.SGD, F.cross_entropy, cbs=[CompleteCallback(), SingleBatchCallback()])"
   ]
  },
  {
   "cell_type": "code",
   "execution_count": null,
   "id": "df8a2539",
   "metadata": {},
   "outputs": [
    {
     "name": "stdout",
     "output_type": "stream",
     "text": [
      "Completed 2\n"
     ]
    }
   ],
   "source": [
    "learn.fit(1)"
   ]
  },
  {
   "cell_type": "markdown",
   "id": "3fc218ba",
   "metadata": {},
   "source": [
    "## Metric"
   ]
  },
  {
   "cell_type": "code",
   "execution_count": null,
   "id": "70e24fd1",
   "metadata": {},
   "outputs": [],
   "source": [
    "class Metric:\n",
    "    def __init__(self):\n",
    "        self.reset()\n",
    "    \n",
    "    def reset(self):\n",
    "        self.vals = []\n",
    "        self.ns = []\n",
    "    \n",
    "    def add(self, inps, target=None, n=1):\n",
    "        self.last = self.compute(inps, target)\n",
    "        self.vals.append(self.last)\n",
    "        self.ns.append(n)\n",
    "         \n",
    "    \n",
    "    @property\n",
    "    def value(self):\n",
    "        ns = tensor(self.ns)\n",
    "        return (tensor(self.vals) * ns).sum()/ns.sum()\n",
    "        \n",
    "    \n",
    "    def compute(self, inps, target=None):\n",
    "        return inps"
   ]
  },
  {
   "cell_type": "code",
   "execution_count": null,
   "id": "a64601ed",
   "metadata": {},
   "outputs": [],
   "source": [
    "class Accuracy(Metric):\n",
    "    def compute(self, inps, target=None):\n",
    "        return (tensor(inps) == tensor(target)).float().mean()"
   ]
  },
  {
   "cell_type": "code",
   "execution_count": null,
   "id": "501424ff",
   "metadata": {},
   "outputs": [],
   "source": [
    "acc = Accuracy()"
   ]
  },
  {
   "cell_type": "code",
   "execution_count": null,
   "id": "d867f376",
   "metadata": {},
   "outputs": [],
   "source": [
    "acc.add([1, 0, 1, 0, 1], [1, 1, 1, 1, 1])"
   ]
  },
  {
   "cell_type": "code",
   "execution_count": null,
   "id": "53f702a1",
   "metadata": {},
   "outputs": [
    {
     "data": {
      "text/plain": [
       "tensor(0.6000)"
      ]
     },
     "execution_count": null,
     "metadata": {},
     "output_type": "execute_result"
    }
   ],
   "source": [
    "acc.value"
   ]
  },
  {
   "cell_type": "code",
   "execution_count": null,
   "id": "feaed36f",
   "metadata": {},
   "outputs": [],
   "source": [
    "acc.add([1, 1, 1, 1, 1], [1, 1, 1, 1, 1])"
   ]
  },
  {
   "cell_type": "code",
   "execution_count": null,
   "id": "212ae4a7",
   "metadata": {},
   "outputs": [
    {
     "data": {
      "text/plain": [
       "tensor(0.8000)"
      ]
     },
     "execution_count": null,
     "metadata": {},
     "output_type": "execute_result"
    }
   ],
   "source": [
    "acc.value"
   ]
  },
  {
   "cell_type": "code",
   "execution_count": null,
   "id": "a02620bc",
   "metadata": {},
   "outputs": [],
   "source": [
    "loss = Metric()"
   ]
  },
  {
   "cell_type": "code",
   "execution_count": null,
   "id": "f214e809",
   "metadata": {},
   "outputs": [],
   "source": [
    "loss.add(0.9, 6)"
   ]
  },
  {
   "cell_type": "code",
   "execution_count": null,
   "id": "40be34b4",
   "metadata": {},
   "outputs": [],
   "source": [
    "loss.add(0.8, 6)"
   ]
  },
  {
   "cell_type": "code",
   "execution_count": null,
   "id": "e237e53a",
   "metadata": {},
   "outputs": [
    {
     "data": {
      "text/plain": [
       "tensor(0.8500)"
      ]
     },
     "execution_count": null,
     "metadata": {},
     "output_type": "execute_result"
    }
   ],
   "source": [
    "loss.value"
   ]
  },
  {
   "cell_type": "code",
   "execution_count": null,
   "id": "49e445f8",
   "metadata": {},
   "outputs": [
    {
     "data": {
      "text/plain": [
       "tensor(nan)"
      ]
     },
     "execution_count": null,
     "metadata": {},
     "output_type": "execute_result"
    }
   ],
   "source": [
    "acc.reset(); acc.value"
   ]
  },
  {
   "cell_type": "code",
   "execution_count": null,
   "id": "111b6a3c",
   "metadata": {},
   "outputs": [],
   "source": [
    "acc = MulticlassAccuracy()"
   ]
  },
  {
   "cell_type": "code",
   "execution_count": null,
   "id": "1ad1d5ae",
   "metadata": {},
   "outputs": [
    {
     "data": {
      "text/plain": [
       "<torcheval.metrics.classification.accuracy.MulticlassAccuracy>"
      ]
     },
     "execution_count": null,
     "metadata": {},
     "output_type": "execute_result"
    }
   ],
   "source": [
    "acc.update(tensor([0, 0, 0, 1, 1, 1]), tensor([1, 1, 1, 1, 1, 1]))"
   ]
  },
  {
   "cell_type": "code",
   "execution_count": null,
   "id": "536e4486",
   "metadata": {},
   "outputs": [
    {
     "data": {
      "text/plain": [
       "tensor(0.5000)"
      ]
     },
     "execution_count": null,
     "metadata": {},
     "output_type": "execute_result"
    }
   ],
   "source": [
    "acc.compute()"
   ]
  },
  {
   "cell_type": "code",
   "execution_count": null,
   "id": "4916f988",
   "metadata": {},
   "outputs": [
    {
     "data": {
      "text/plain": [
       "tensor(nan)"
      ]
     },
     "execution_count": null,
     "metadata": {},
     "output_type": "execute_result"
    }
   ],
   "source": [
    "acc.reset(); acc.compute()"
   ]
  },
  {
   "cell_type": "code",
   "execution_count": null,
   "id": "0bb57870",
   "metadata": {},
   "outputs": [],
   "source": [
    "mean = Mean()"
   ]
  },
  {
   "cell_type": "code",
   "execution_count": null,
   "id": "0435626a",
   "metadata": {},
   "outputs": [
    {
     "data": {
      "text/plain": [
       "<torcheval.metrics.aggregation.mean.Mean>"
      ]
     },
     "execution_count": null,
     "metadata": {},
     "output_type": "execute_result"
    }
   ],
   "source": [
    "mean.update(torch.tensor(0.9), weight = 6)"
   ]
  },
  {
   "cell_type": "code",
   "execution_count": null,
   "id": "b0900577",
   "metadata": {},
   "outputs": [
    {
     "data": {
      "text/plain": [
       "<torcheval.metrics.aggregation.mean.Mean>"
      ]
     },
     "execution_count": null,
     "metadata": {},
     "output_type": "execute_result"
    }
   ],
   "source": [
    "mean.update(torch.tensor(0.8), weight = 6)"
   ]
  },
  {
   "cell_type": "code",
   "execution_count": null,
   "id": "6a143597",
   "metadata": {},
   "outputs": [
    {
     "data": {
      "text/plain": [
       "tensor(0.8500, dtype=torch.float64)"
      ]
     },
     "execution_count": null,
     "metadata": {},
     "output_type": "execute_result"
    }
   ],
   "source": [
    "mean.compute()"
   ]
  },
  {
   "cell_type": "markdown",
   "id": "8225b84d",
   "metadata": {},
   "source": [
    "## Metrics Callback"
   ]
  },
  {
   "cell_type": "code",
   "execution_count": null,
   "id": "5c3041ae",
   "metadata": {},
   "outputs": [],
   "source": [
    "def to_cpu(o):\n",
    "    if isinstance(o, Mapping):  return {k: to_cpu(v) for k, v in o.items()}\n",
    "    if isinstance(o, list): return [to_cpu(x) for x in o]\n",
    "    if isinstance(o, tuple): return tuple(to_cpu(list(o)))\n",
    "    return o.detach().cpu()"
   ]
  },
  {
   "cell_type": "code",
   "execution_count": null,
   "id": "3dbfb377",
   "metadata": {},
   "outputs": [
    {
     "data": {
      "text/plain": [
       "tensor([1, 2, 3, 4])"
      ]
     },
     "execution_count": null,
     "metadata": {},
     "output_type": "execute_result"
    }
   ],
   "source": [
    "to_cpu(tensor([1, 2, 3, 4]))"
   ]
  },
  {
   "cell_type": "code",
   "execution_count": null,
   "id": "644e6f9c",
   "metadata": {},
   "outputs": [],
   "source": [
    "class MetricsCallback(Callback):\n",
    "    def __init__(self, *m, **metrics):\n",
    "        for o in m: metrics[o.__class__.__name__] = o\n",
    "        self.metrics = metrics\n",
    "        self.all_metrics = copy(self.metrics)\n",
    "        self.all_metrics['loss'] = Mean()\n",
    "    \n",
    "    def _log(self, d): print(d)\n",
    "    \n",
    "    def before_fit(self):\n",
    "        self.learn.metrics = self\n",
    "        \n",
    "    def before_epoch(self): \n",
    "        for o in self.all_metrics.values(): o.reset()\n",
    "    \n",
    "    def after_batch(self):\n",
    "        for o in self.metrics.values(): o.update(to_cpu(self.learn.preds), self.learn.batch[1])\n",
    "        self.all_metrics['loss'].update(to_cpu(self.learn.loss), weight = len(self.learn.batch[0]))\n",
    "        \n",
    "    def after_epoch(self):\n",
    "        d = {k: o.compute().item() for k, o in self.all_metrics.items()}\n",
    "        d['epoch'] = self.learn.epoch\n",
    "        d['train'] = self.learn.model.training\n",
    "        self._log(str(d))"
   ]
  },
  {
   "cell_type": "code",
   "execution_count": null,
   "id": "c44f2707",
   "metadata": {},
   "outputs": [],
   "source": [
    "metrics = MetricsCallback(MulticlassAccuracy())"
   ]
  },
  {
   "cell_type": "code",
   "execution_count": null,
   "id": "9ede0b50",
   "metadata": {},
   "outputs": [],
   "source": [
    "learn = Learner(get_model(), dls, 0.2, optim.SGD, F.cross_entropy, cbs=[metrics])"
   ]
  },
  {
   "cell_type": "code",
   "execution_count": null,
   "id": "179fb2e4",
   "metadata": {},
   "outputs": [
    {
     "name": "stdout",
     "output_type": "stream",
     "text": [
      "{'MulticlassAccuracy': 0.60916668176651, 'loss': 1.1722128804524738, 'epoch': 0, 'train': True}\n",
      "{'MulticlassAccuracy': 0.6777999997138977, 'loss': 0.8951601806640626, 'epoch': 0, 'train': False}\n"
     ]
    }
   ],
   "source": [
    "learn.fit(1)"
   ]
  },
  {
   "cell_type": "markdown",
   "id": "91d40395",
   "metadata": {},
   "source": [
    "## New Learner"
   ]
  },
  {
   "cell_type": "code",
   "execution_count": null,
   "id": "0264b395",
   "metadata": {},
   "outputs": [],
   "source": [
    "class Learner:\n",
    "    def __init__(self, model, dls, lr, loss_func, opt_func, cbs=[]):\n",
    "        fc.store_attr()\n",
    "        for cb in self.cbs: cb.learn = self\n",
    "    \n",
    "    @contextmanager\n",
    "    def callback_ctx(self, name):\n",
    "        try:\n",
    "            self.callback(f'before_{name}')\n",
    "            yield\n",
    "        except globals()[f'Cancel{name.title()}Exception']: pass\n",
    "        finally: self.callback(f'after_{name}')\n",
    "        \n",
    "    \n",
    "    def one_epoch(self, train):\n",
    "        self.model.training = train\n",
    "        self.dl = dls.train_dl if self.model.training else dls.valid_dl\n",
    "        with self.callback_ctx('epoch'):\n",
    "            for self.batch in self.dl:\n",
    "                with self.callback_ctx('batch'):\n",
    "                    self.predict()\n",
    "                    self.get_loss()\n",
    "                    if self.model.training:\n",
    "                        self.backward()\n",
    "                        self.step()\n",
    "                        self.zero_grad()\n",
    "        \n",
    "    \n",
    "    def fit(self, n_epochs):\n",
    "        self.n_epochs = n_epochs\n",
    "        self.epochs = range(n_epochs)\n",
    "        self.opt = self.opt_func(self.model.parameters(), self.lr)\n",
    "        with self.callback_ctx('fit'):\n",
    "            for self.epoch in self.epochs:\n",
    "                self.one_epoch(True)\n",
    "                self.one_epoch(False)\n",
    "                \n",
    "    def callback(self, fn):\n",
    "        run_cbs(self.cbs, fn)\n",
    "        \n",
    "    def __getattr__(self, fn):\n",
    "        if fn in ('get_loss', 'predict', 'step', 'zero_grad', 'backward'): return partial(self.callback, fn)\n",
    "        raise AttributeError(fn)"
   ]
  },
  {
   "cell_type": "code",
   "execution_count": null,
   "id": "ce07558f",
   "metadata": {},
   "outputs": [],
   "source": [
    "class TrainCB(Callback):\n",
    "    def predict(self): self.learn.preds = self.learn.model(self.learn.batch[0])\n",
    "    def get_loss(self): self.learn.loss = self.learn.loss_func(self.learn.preds, self.learn.batch[1])\n",
    "    def backward(self): self.learn.loss.backward()\n",
    "    def step(self): self.learn.opt.step()\n",
    "    def zero_grad(self): self.learn.opt.zero_grad()"
   ]
  },
  {
   "cell_type": "code",
   "execution_count": null,
   "id": "f7eca743",
   "metadata": {},
   "outputs": [],
   "source": [
    "class ProgressCallback(Callback):\n",
    "    order = MetricsCallback.order + 1\n",
    "    \n",
    "    def __init__(self, plot=False): fc.store_attr()\n",
    "        \n",
    "    def before_fit(self): \n",
    "        self.learn.epochs = self.mbar = master_bar(self.learn.epochs)\n",
    "        if hasattr(self.learn, 'metrics'): self.learn.metrics._log = self._log\n",
    "        self.losses = []\n",
    "        \n",
    "    def _log(self, d): self.mbar.write(d)\n",
    "        \n",
    "    def before_epoch(self):\n",
    "        self.learn.dl = progress_bar(self.learn.dl, leave=False, parent=self.mbar)\n",
    "    \n",
    "    def after_batch(self):\n",
    "        self.mbar.child.comment = f'Loss: {self.learn.loss}'\n",
    "        if self.learn.model.training and self.plot and hasattr(self.learn, 'metrics'):\n",
    "            self.losses.append(self.learn.loss.item())\n",
    "            self.mbar.update_graph([[fc.L.range(self.losses), self.losses]])   "
   ]
  },
  {
   "cell_type": "code",
   "execution_count": null,
   "id": "606494e1",
   "metadata": {},
   "outputs": [],
   "source": [
    "metrics = MetricsCallback(accuracy=MulticlassAccuracy())"
   ]
  },
  {
   "cell_type": "code",
   "execution_count": null,
   "id": "09d69386",
   "metadata": {},
   "outputs": [],
   "source": [
    "learn = Learner(get_model(), dls, 0.2, F.cross_entropy, optim.SGD, cbs=[TrainCB(), metrics, ProgressCallback(plot=True)])"
   ]
  },
  {
   "cell_type": "code",
   "execution_count": null,
   "id": "edca24ca",
   "metadata": {},
   "outputs": [
    {
     "data": {
      "text/html": [
       "\n",
       "<style>\n",
       "    /* Turns off some styling */\n",
       "    progress {\n",
       "        /* gets rid of default border in Firefox and Opera. */\n",
       "        border: none;\n",
       "        /* Needs to be in here for Safari polyfill so background images work as expected. */\n",
       "        background-size: auto;\n",
       "    }\n",
       "    progress:not([value]), progress:not([value])::-webkit-progress-bar {\n",
       "        background: repeating-linear-gradient(45deg, #7e7e7e, #7e7e7e 10px, #5c5c5c 10px, #5c5c5c 20px);\n",
       "    }\n",
       "    .progress-bar-interrupted, .progress-bar-interrupted::-webkit-progress-bar {\n",
       "        background: #F44336;\n",
       "    }\n",
       "</style>\n"
      ],
      "text/plain": [
       "<IPython.core.display.HTML object>"
      ]
     },
     "metadata": {},
     "output_type": "display_data"
    },
    {
     "data": {
      "text/html": [
       "{'accuracy': 0.5951499938964844, 'loss': 1.2079812403361003, 'epoch': 0, 'train': True}<p>{'accuracy': 0.6837999820709229, 'loss': 0.8876185363769531, 'epoch': 0, 'train': False}"
      ],
      "text/plain": [
       "<IPython.core.display.HTML object>"
      ]
     },
     "metadata": {},
     "output_type": "display_data"
    },
    {
     "data": {
      "image/png": "[encoded data removed]",
      "text/plain": [
       "<Figure size 600x400 with 1 Axes>"
      ]
     },
     "metadata": {},
     "output_type": "display_data"
    }
   ],
   "source": [
    "learn.fit(1)"
   ]
  },
  {
   "cell_type": "markdown",
   "id": "239b0d6e",
   "metadata": {},
   "source": [
    "## Momentum Learner"
   ]
  },
  {
   "cell_type": "code",
   "execution_count": null,
   "id": "25a9080b",
   "metadata": {},
   "outputs": [],
   "source": [
    "class MomentumLearner(Learner):\n",
    "    def __init__(self, model, dls, lr, loss_func, opt_func, cbs = [], mom=0.8): \n",
    "        self.mom = mom\n",
    "        super().__init__(model, dls, lr, loss_func, opt_func, cbs=cbs)\n",
    "        \n",
    "    def predict(self): self.preds = self.model(self.batch[0])\n",
    "    def get_loss(self): self.loss = self.loss_func(self.preds, self.batch[1])\n",
    "    def backward(self): self.loss.backward()\n",
    "    def step(self): self.opt.step()\n",
    "    def zero_grad(self): \n",
    "        for param in self.model.parameters():\n",
    "            param.grad = self.mom * param.grad"
   ]
  },
  {
   "cell_type": "code",
   "execution_count": null,
   "id": "5a7c43dd",
   "metadata": {},
   "outputs": [],
   "source": [
    "metrics = MetricsCallback(accuracy = MulticlassAccuracy())\n",
    "cbs=[metrics, ProgressCallback(plot=True)]\n",
    "learn = MomentumLearner(get_model(), dls, 0.2, F.cross_entropy, optim.SGD, cbs=cbs)"
   ]
  },
  {
   "cell_type": "code",
   "execution_count": null,
   "id": "a6b65786",
   "metadata": {},
   "outputs": [
    {
     "data": {
      "text/html": [
       "\n",
       "<style>\n",
       "    /* Turns off some styling */\n",
       "    progress {\n",
       "        /* gets rid of default border in Firefox and Opera. */\n",
       "        border: none;\n",
       "        /* Needs to be in here for Safari polyfill so background images work as expected. */\n",
       "        background-size: auto;\n",
       "    }\n",
       "    progress:not([value]), progress:not([value])::-webkit-progress-bar {\n",
       "        background: repeating-linear-gradient(45deg, #7e7e7e, #7e7e7e 10px, #5c5c5c 10px, #5c5c5c 20px);\n",
       "    }\n",
       "    .progress-bar-interrupted, .progress-bar-interrupted::-webkit-progress-bar {\n",
       "        background: #F44336;\n",
       "    }\n",
       "</style>\n"
      ],
      "text/plain": [
       "<IPython.core.display.HTML object>"
      ]
     },
     "metadata": {},
     "output_type": "display_data"
    },
    {
     "data": {
      "text/html": [
       "{'accuracy': 0.6760666370391846, 'loss': 0.9477442993164062, 'epoch': 0, 'train': True}<p>{'accuracy': 0.8033999800682068, 'loss': 0.566629672241211, 'epoch': 0, 'train': False}"
      ],
      "text/plain": [
       "<IPython.core.display.HTML object>"
      ]
     },
     "metadata": {},
     "output_type": "display_data"
    },
    {
     "data": {
      "image/png": "[encoded data removed]",
      "text/plain": [
       "<Figure size 600x400 with 1 Axes>"
      ]
     },
     "metadata": {},
     "output_type": "display_data"
    }
   ],
   "source": [
    "learn.fit(1)"
   ]
  },
  {
   "cell_type": "markdown",
   "id": "1577cc35",
   "metadata": {},
   "source": [
    "## LRFinder"
   ]
  },
  {
   "cell_type": "code",
   "execution_count": null,
   "id": "e781c422",
   "metadata": {},
   "outputs": [],
   "source": [
    "class LRFinderCallback(Callback):\n",
    "    def __init__(self, lr_mult=1.3):\n",
    "        fc.store_attr()\n",
    "    \n",
    "    def before_fit(self):\n",
    "        self.lrs, self.losses = [], []\n",
    "        self.min = math.inf\n",
    "        \n",
    "    def after_batch(self):\n",
    "        if not self.learn.model.training: raise CancelEpochException()\n",
    "        self.lrs.append(self.learn.opt.param_groups[-1]['lr'])\n",
    "        self.losses.append(self.learn.loss.item())\n",
    "        if self.learn.loss.item() < self.min: self.min = self.learn.loss.item()\n",
    "        if self.learn.loss.item() > self.min * 3: raise CancelFitException()\n",
    "        for grp in self.learn.opt.param_groups: grp['lr'] *= self.lr_mult\n",
    "        \n",
    "    \n",
    "    def after_fit(self):\n",
    "        plt.plot(self.lrs, self.losses)\n",
    "        plt.xscale('log')"
   ]
  },
  {
   "cell_type": "code",
   "execution_count": null,
   "id": "c700e283",
   "metadata": {},
   "outputs": [],
   "source": [
    "lr_find = LRFinderCallback()\n",
    "metrics = MetricsCallback(accuracy=MulticlassAccuracy())\n",
    "learn = MomentumLearner(get_model(), dls, 0.2, F.cross_entropy, optim.SGD, cbs=[lr_find, metrics, ProgressCallback()])"
   ]
  },
  {
   "cell_type": "code",
   "execution_count": null,
   "id": "bdd1cd3d",
   "metadata": {},
   "outputs": [
    {
     "data": {
      "text/html": [
       "\n",
       "<style>\n",
       "    /* Turns off some styling */\n",
       "    progress {\n",
       "        /* gets rid of default border in Firefox and Opera. */\n",
       "        border: none;\n",
       "        /* Needs to be in here for Safari polyfill so background images work as expected. */\n",
       "        background-size: auto;\n",
       "    }\n",
       "    progress:not([value]), progress:not([value])::-webkit-progress-bar {\n",
       "        background: repeating-linear-gradient(45deg, #7e7e7e, #7e7e7e 10px, #5c5c5c 10px, #5c5c5c 20px);\n",
       "    }\n",
       "    .progress-bar-interrupted, .progress-bar-interrupted::-webkit-progress-bar {\n",
       "        background: #F44336;\n",
       "    }\n",
       "</style>\n"
      ],
      "text/plain": [
       "<IPython.core.display.HTML object>"
      ]
     },
     "metadata": {},
     "output_type": "display_data"
    },
    {
     "data": {
      "text/html": [
       "\n",
       "    <div>\n",
       "      <progress value='0' class='' max='1' style='width:300px; height:20px; vertical-align: middle;'></progress>\n",
       "      0.00% [0/1 00:00&lt;?]\n",
       "    </div>\n",
       "    \n",
       "\n",
       "\n",
       "    <div>\n",
       "      <progress value='6' class='' max='59' style='width:300px; height:20px; vertical-align: middle;'></progress>\n",
       "      10.17% [6/59 00:02&lt;00:20 Loss: 1.1941802501678467]\n",
       "    </div>\n",
       "    "
      ],
      "text/plain": [
       "<IPython.core.display.HTML object>"
      ]
     },
     "metadata": {},
     "output_type": "display_data"
    },
    {
     "data": {
      "image/png": "[encoded data removed]",
      "text/plain": [
       "<Figure size 640x480 with 1 Axes>"
      ]
     },
     "metadata": {},
     "output_type": "display_data"
    }
   ],
   "source": [
    "learn.fit(1)"
   ]
  },
  {
   "cell_type": "markdown",
   "id": "ef4a0c67",
   "metadata": {},
   "source": [
    "### Using ExponentialLR"
   ]
  },
  {
   "cell_type": "code",
   "execution_count": null,
   "id": "32cc53e7",
   "metadata": {},
   "outputs": [],
   "source": [
    "class LRFinderCallback(Callback):\n",
    "    def __init__(self, lr_mult=1.3):\n",
    "        fc.store_attr()\n",
    "        \n",
    "    def before_fit(self):\n",
    "        self.sched = optim.lr_scheduler.ExponentialLR(self.learn.opt, gamma=self.lr_mult)\n",
    "        self.lrs = []\n",
    "        self.losses = []\n",
    "        self.min = math.inf\n",
    "        \n",
    "    def after_batch(self):\n",
    "        if not self.learn.model.training: raise CancelEpochException()\n",
    "        loss = self.learn.loss.item()\n",
    "        self.lrs.append(self.sched.get_lr()[-1])\n",
    "        self.losses.append(loss)\n",
    "        if loss < self.min: self.min = loss\n",
    "        if loss > self.min * 3: raise CancelFitException() \n",
    "        self.sched.step()\n",
    "    \n",
    "    def after_fit(self):\n",
    "        plt.plot(self.lrs, self.losses)\n",
    "        plt.xscale('log')"
   ]
  },
  {
   "cell_type": "code",
   "execution_count": null,
   "id": "3f517a24",
   "metadata": {},
   "outputs": [],
   "source": [
    "lr_find = LRFinderCallback()\n",
    "metrics = MetricsCallback(accuracy=MulticlassAccuracy())\n",
    "learn = MomentumLearner(get_model(), dls, 0.2, F.cross_entropy, optim.SGD, cbs=[lr_find, metrics, ProgressCallback()])"
   ]
  },
  {
   "cell_type": "code",
   "execution_count": null,
   "id": "86b42390",
   "metadata": {},
   "outputs": [
    {
     "data": {
      "text/html": [
       "\n",
       "<style>\n",
       "    /* Turns off some styling */\n",
       "    progress {\n",
       "        /* gets rid of default border in Firefox and Opera. */\n",
       "        border: none;\n",
       "        /* Needs to be in here for Safari polyfill so background images work as expected. */\n",
       "        background-size: auto;\n",
       "    }\n",
       "    progress:not([value]), progress:not([value])::-webkit-progress-bar {\n",
       "        background: repeating-linear-gradient(45deg, #7e7e7e, #7e7e7e 10px, #5c5c5c 10px, #5c5c5c 20px);\n",
       "    }\n",
       "    .progress-bar-interrupted, .progress-bar-interrupted::-webkit-progress-bar {\n",
       "        background: #F44336;\n",
       "    }\n",
       "</style>\n"
      ],
      "text/plain": [
       "<IPython.core.display.HTML object>"
      ]
     },
     "metadata": {},
     "output_type": "display_data"
    },
    {
     "data": {
      "text/html": [
       "\n",
       "    <div>\n",
       "      <progress value='0' class='' max='1' style='width:300px; height:20px; vertical-align: middle;'></progress>\n",
       "      0.00% [0/1 00:00&lt;?]\n",
       "    </div>\n",
       "    \n",
       "\n",
       "\n",
       "    <div>\n",
       "      <progress value='6' class='' max='59' style='width:300px; height:20px; vertical-align: middle;'></progress>\n",
       "      10.17% [6/59 00:02&lt;00:23 Loss: 1.4683640003204346]\n",
       "    </div>\n",
       "    "
      ],
      "text/plain": [
       "<IPython.core.display.HTML object>"
      ]
     },
     "metadata": {},
     "output_type": "display_data"
    },
    {
     "name": "stderr",
     "output_type": "stream",
     "text": [
      "/Users/anubhavmaity/mambaforge/envs/fastai/lib/python3.9/site-packages/torch/optim/lr_scheduler.py:574: UserWarning: To get the last learning rate computed by the scheduler, please use `get_last_lr()`.\n",
      "  warnings.warn(\"To get the last learning rate computed by the scheduler, \"\n"
     ]
    },
    {
     "data": {
      "image/png": "[encoded data removed]",
      "text/plain": [
       "<Figure size 640x480 with 1 Axes>"
      ]
     },
     "metadata": {},
     "output_type": "display_data"
    }
   ],
   "source": [
    "learn.fit(1)"
   ]
  },
  {
   "cell_type": "code",
   "execution_count": null,
   "id": "09b170d4",
   "metadata": {},
   "outputs": [],
   "source": []
  }
 ],
 "metadata": {
  "kernelspec": {
   "display_name": "fastai",
   "language": "python",
   "name": "fastai"
  }
 },
 "nbformat": 4,
 "nbformat_minor": 5
}
