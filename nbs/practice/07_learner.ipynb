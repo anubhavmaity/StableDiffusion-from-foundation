{
 "cells": [
  {
   "cell_type": "markdown",
   "id": "47928e3b",
   "metadata": {},
   "source": [
    "# Learner"
   ]
  },
  {
   "cell_type": "markdown",
   "id": "02fcad80",
   "metadata": {},
   "source": [
    "## Imports"
   ]
  },
  {
   "cell_type": "code",
   "execution_count": null,
   "id": "cb1061ce",
   "metadata": {},
   "outputs": [],
   "source": [
    "from datasets import load_dataset, load_dataset_builder\n",
    "\n",
    "import torch\n",
    "from torch.optim import SGD\n",
    "import torchvision.transforms.functional as TF\n",
    "import random\n",
    "import numpy as np\n",
    "from operator import attrgetter\n",
    "from copy import copy\n",
    "from contextlib import contextmanager\n",
    "\n",
    "from fastprogress.fastprogress import master_bar, progress_bar\n",
    "from minai.datasets import inplace, collate_dict\n",
    "from torcheval.metrics import MulticlassAccuracy, Mean\n",
    "from minai.conv import to_device\n",
    "from functools import partial\n",
    "import math\n",
    "\n",
    "\n",
    "from matplotlib import pyplot as plt\n",
    "from torch.optim.lr_scheduler import ExponentialLR"
   ]
  },
  {
   "cell_type": "markdown",
   "id": "96e3719e",
   "metadata": {},
   "source": [
    "## Set Seed"
   ]
  },
  {
   "cell_type": "code",
   "execution_count": null,
   "id": "10aa31b3",
   "metadata": {},
   "outputs": [],
   "source": [
    "def set_seed(seed):\n",
    "    torch.manual_seed(seed)\n",
    "    random.seed(seed)\n",
    "    np.random.seed(seed)"
   ]
  },
  {
   "cell_type": "code",
   "execution_count": null,
   "id": "95dcba26",
   "metadata": {},
   "outputs": [],
   "source": [
    "set_seed(42)"
   ]
  },
  {
   "cell_type": "markdown",
   "id": "d8ce95f3",
   "metadata": {},
   "source": [
    "## Load dataset"
   ]
  },
  {
   "cell_type": "code",
   "execution_count": null,
   "id": "7d024bbe",
   "metadata": {},
   "outputs": [],
   "source": [
    "x, y = 'image', 'label'\n",
    "dsd = load_dataset(\"fashion_mnist\")"
   ]
  },
  {
   "cell_type": "code",
   "execution_count": null,
   "id": "f0c41442",
   "metadata": {},
   "outputs": [],
   "source": [
    "dsb = load_dataset_builder(\"fashion_mnist\")"
   ]
  },
  {
   "cell_type": "code",
   "execution_count": null,
   "id": "cc8ea0e8",
   "metadata": {},
   "outputs": [
    {
     "data": {
      "text/plain": [
       "['T - shirt / top',\n",
       " 'Trouser',\n",
       " 'Pullover',\n",
       " 'Dress',\n",
       " 'Coat',\n",
       " 'Sandal',\n",
       " 'Shirt',\n",
       " 'Sneaker',\n",
       " 'Bag',\n",
       " 'Ankle boot']"
      ]
     },
     "execution_count": null,
     "metadata": {},
     "output_type": "execute_result"
    }
   ],
   "source": [
    "featy = dsd['train'].features[y].names; featy"
   ]
  },
  {
   "cell_type": "code",
   "execution_count": null,
   "id": "59ee8c10",
   "metadata": {},
   "outputs": [
    {
     "data": {
      "image/png": "[encoded data removed]",
      "text/plain": [
       "<PIL.PngImagePlugin.PngImageFile image mode=L size=28x28>"
      ]
     },
     "execution_count": null,
     "metadata": {},
     "output_type": "execute_result"
    }
   ],
   "source": [
    "dsd['train'][0][x]"
   ]
  },
  {
   "cell_type": "code",
   "execution_count": null,
   "id": "2e07d03d",
   "metadata": {},
   "outputs": [
    {
     "data": {
      "text/plain": [
       "'Ankle boot'"
      ]
     },
     "execution_count": null,
     "metadata": {},
     "output_type": "execute_result"
    }
   ],
   "source": [
    "featy[dsd['train'][0][y]]"
   ]
  },
  {
   "cell_type": "code",
   "execution_count": null,
   "id": "4858927c",
   "metadata": {},
   "outputs": [
    {
     "data": {
      "text/plain": [
       "PIL.PngImagePlugin.PngImageFile"
      ]
     },
     "execution_count": null,
     "metadata": {},
     "output_type": "execute_result"
    }
   ],
   "source": [
    "type(dsd['train'][0][x])"
   ]
  },
  {
   "cell_type": "markdown",
   "id": "ad802975",
   "metadata": {},
   "source": [
    "## Transform"
   ]
  },
  {
   "cell_type": "code",
   "execution_count": null,
   "id": "d7716e35",
   "metadata": {},
   "outputs": [],
   "source": [
    "@inplace\n",
    "def transformi(b): b[x] = [torch.flatten(TF.to_tensor(o)) for o in b[x]]"
   ]
  },
  {
   "cell_type": "code",
   "execution_count": null,
   "id": "e6e39f81",
   "metadata": {},
   "outputs": [],
   "source": [
    "bs = 1024\n",
    "tds = dsd.with_transform(transformi)"
   ]
  },
  {
   "cell_type": "markdown",
   "id": "d5d6128f",
   "metadata": {},
   "source": [
    "## DataLoaders"
   ]
  },
  {
   "cell_type": "code",
   "execution_count": null,
   "id": "51394bd7",
   "metadata": {},
   "outputs": [],
   "source": [
    "class DataLoaders:\n",
    "    def __init__(self, *dls):\n",
    "        self.train, self.valid = dls[:2]\n",
    "        \n",
    "    @classmethod\n",
    "    def from_dd(cls, tds, batch_size):\n",
    "        return cls(*[DataLoader(ds, batch_size, collate_fn=collate_dict(ds)) for ds in tds.values()])"
   ]
  },
  {
   "cell_type": "code",
   "execution_count": null,
   "id": "2710a2d0",
   "metadata": {},
   "outputs": [],
   "source": [
    "dls = DataLoaders.from_dd(tds, bs)"
   ]
  },
  {
   "cell_type": "code",
   "execution_count": null,
   "id": "75a797e1",
   "metadata": {},
   "outputs": [],
   "source": [
    "xb, yb = next(iter(dls.train))"
   ]
  },
  {
   "cell_type": "code",
   "execution_count": null,
   "id": "df4cb1e4",
   "metadata": {},
   "outputs": [
    {
     "data": {
      "text/plain": [
       "(torch.Size([1024, 784]), torch.Size([1024]))"
      ]
     },
     "execution_count": null,
     "metadata": {},
     "output_type": "execute_result"
    }
   ],
   "source": [
    "xb.shape, yb.shape"
   ]
  },
  {
   "cell_type": "code",
   "execution_count": null,
   "id": "9a2ad0c4",
   "metadata": {},
   "outputs": [],
   "source": [
    "batch = (xb, yb)"
   ]
  },
  {
   "cell_type": "markdown",
   "id": "b51cc4b1",
   "metadata": {},
   "source": [
    "## Model"
   ]
  },
  {
   "cell_type": "code",
   "execution_count": null,
   "id": "6e8821df",
   "metadata": {},
   "outputs": [],
   "source": [
    "def get_model(m=784, nh=50):\n",
    "    return nn.Sequential(\n",
    "        nn.Linear(m, nh),\n",
    "        nn.ReLU(), \n",
    "        nn.Linear(nh, 10)\n",
    "    )"
   ]
  },
  {
   "cell_type": "code",
   "execution_count": null,
   "id": "e78aa90e",
   "metadata": {},
   "outputs": [
    {
     "data": {
      "text/plain": [
       "Sequential(\n",
       "  (0): Linear(in_features=784, out_features=50, bias=True)\n",
       "  (1): ReLU()\n",
       "  (2): Linear(in_features=50, out_features=10, bias=True)\n",
       ")"
      ]
     },
     "execution_count": null,
     "metadata": {},
     "output_type": "execute_result"
    }
   ],
   "source": [
    "model = get_model(); model"
   ]
  },
  {
   "cell_type": "code",
   "execution_count": null,
   "id": "a5dff5ca",
   "metadata": {},
   "outputs": [
    {
     "data": {
      "text/plain": [
       "torch.Size([1024, 10])"
      ]
     },
     "execution_count": null,
     "metadata": {},
     "output_type": "execute_result"
    }
   ],
   "source": [
    "model(xb).shape"
   ]
  },
  {
   "cell_type": "code",
   "execution_count": null,
   "id": "2c8c754f",
   "metadata": {},
   "outputs": [
    {
     "data": {
      "text/plain": [
       "tensor([1, 6, 6,  ..., 6, 6, 6])"
      ]
     },
     "execution_count": null,
     "metadata": {},
     "output_type": "execute_result"
    }
   ],
   "source": [
    "F.softmax(model(xb), dim=-1).argmax(-1)"
   ]
  },
  {
   "cell_type": "markdown",
   "id": "e5d68dcc",
   "metadata": {},
   "source": [
    "## Learner"
   ]
  },
  {
   "cell_type": "code",
   "execution_count": null,
   "id": "28d3192f",
   "metadata": {},
   "outputs": [],
   "source": [
    "class Learner:\n",
    "    def __init__(self, model, dls, lr, loss_func, opt_func = SGD):\n",
    "        fc.store_attr()\n",
    "    \n",
    "    def one_batch(self):\n",
    "        self.batch = to_device(self.batch)\n",
    "        self.preds = self.model(self.batch[0])\n",
    "        self.loss = self.loss_func(self.preds, self.batch[1])\n",
    "        n = len(self.batch[0])\n",
    "        if self.model.training:\n",
    "            self.loss.backward()\n",
    "            self.opt.step()\n",
    "            self.opt.zero_grad()\n",
    "        \n",
    "        self.losses.append(self.loss * n)\n",
    "        self.accs.append((self.preds.argmax(-1) == self.batch[1]).float().sum())\n",
    "        self.ns.append(n)\n",
    "        \n",
    "    \n",
    "    def log(self):\n",
    "        n = sum(self.ns)\n",
    "        accuracy = sum(self.accs).item() / n\n",
    "        loss = sum(self.losses).item() / n\n",
    "        step = \"Training\" if self.model.training else \"Validation\"\n",
    "        print(self.epoch, step, loss, accuracy)\n",
    "        \n",
    "    def one_epoch(self, train):\n",
    "        self.accs, self.losses, self.ns = [], [], []\n",
    "        self.model.train(train)\n",
    "        dl = dls.train if self.model.training else dls.valid\n",
    "        for self.batch in dl:\n",
    "            self.one_batch()\n",
    "        self.log()\n",
    "        \n",
    "        \n",
    "    def fit(self, n_epochs):\n",
    "        self.opt = self.opt_func(self.model.parameters(), self.lr)\n",
    "        self.n_epochs = n_epochs\n",
    "        self.epochs = range(self.n_epochs)\n",
    "        for self.epoch in self.epochs:\n",
    "            self.one_epoch(True)\n",
    "            self.one_epoch(False)"
   ]
  },
  {
   "cell_type": "code",
   "execution_count": null,
   "id": "8807eccd",
   "metadata": {},
   "outputs": [],
   "source": [
    "learn  = Learner(get_model(), dls, 0.2, F.cross_entropy)"
   ]
  },
  {
   "cell_type": "code",
   "execution_count": null,
   "id": "9d630425",
   "metadata": {},
   "outputs": [
    {
     "name": "stdout",
     "output_type": "stream",
     "text": [
      "0 Training 1.1514001302083334 0.6056666666666667\n",
      "0 Validation 0.88968134765625 0.6819\n"
     ]
    }
   ],
   "source": [
    "learn.fit(1)"
   ]
  },
  {
   "cell_type": "markdown",
   "id": "6aba8f45",
   "metadata": {},
   "source": [
    "## Callback"
   ]
  },
  {
   "cell_type": "code",
   "execution_count": null,
   "id": "75a1a9ea",
   "metadata": {},
   "outputs": [],
   "source": [
    "class Callback():\n",
    "    order = 0\n",
    "    _fwd = 'model', 'opt', 'batch'\n",
    "    \n",
    "    def __getattr__(self, name):\n",
    "        if name in self._fwd: return getattr(self.learn, name)\n",
    "        raise AttributeError(name)\n",
    "    \n",
    "    def __setattr__(self, name, val):\n",
    "        if name in self._fwd: warn(f\"You are trying to set {name} in self.learn\")\n",
    "        super().__setattr__(name, val)\n",
    "    \n",
    "    @property\n",
    "    def training(self): return self.model.training"
   ]
  },
  {
   "cell_type": "code",
   "execution_count": null,
   "id": "8e8443d4",
   "metadata": {},
   "outputs": [],
   "source": [
    "class CompleteCB(Callback): # Counts the number of batches elapsed in the training loop\n",
    "    def before_fit(self): self.count = 0\n",
    "    def after_batch(self): self.count += 1\n",
    "    def after_fit(self): print(f\"Completed {self.count} batches\")"
   ]
  },
  {
   "cell_type": "code",
   "execution_count": null,
   "id": "8b26942d",
   "metadata": {},
   "outputs": [],
   "source": [
    "def run_cbs(cbs, method_nm):\n",
    "    for cb in sorted(cbs, key=attrgetter('order')):\n",
    "        method = getattr(cb, method_nm, None)\n",
    "        if method: method()"
   ]
  },
  {
   "cell_type": "code",
   "execution_count": null,
   "id": "e489139e",
   "metadata": {},
   "outputs": [
    {
     "name": "stdout",
     "output_type": "stream",
     "text": [
      "Completed 1 batches\n"
     ]
    }
   ],
   "source": [
    "cbs = [CompleteCB()]\n",
    "run_cbs(cbs, 'before_fit')\n",
    "run_cbs(cbs, 'after_batch')\n",
    "run_cbs(cbs, 'after_fit')"
   ]
  },
  {
   "cell_type": "markdown",
   "id": "8938ac66",
   "metadata": {},
   "source": [
    "### Exception"
   ]
  },
  {
   "cell_type": "code",
   "execution_count": null,
   "id": "801392e4",
   "metadata": {},
   "outputs": [],
   "source": [
    "class CancelFitException(Exception): pass\n",
    "class CancelEpochException(Exception): pass\n",
    "class CancelBatchException(Exception): pass"
   ]
  },
  {
   "cell_type": "code",
   "execution_count": null,
   "id": "6c6120e9",
   "metadata": {},
   "outputs": [],
   "source": [
    "class Learner:\n",
    "    def __init__(self, model, dls, lr, loss_func, opt_func=SGD, cbs=[]):\n",
    "        fc.store_attr()\n",
    "        for cb in self.cbs: cb.learn = self\n",
    "    \n",
    "    def one_epoch(self, train):\n",
    "        self.model.train(train)\n",
    "        self.dl = dls.train if self.model.training else dls.valid\n",
    "        try:\n",
    "            self.callback('before_epoch')\n",
    "            for self.batch in self.dl:\n",
    "                try:\n",
    "                    self.callback('before_batch')\n",
    "                    self.preds = self.model(self.batch[0])\n",
    "                    self.loss = self.loss_func(self.preds, self.batch[1])\n",
    "                    if self.model.training:\n",
    "                        self.loss.backward()\n",
    "                        self.opt.step()\n",
    "                        self.opt.zero_grad()\n",
    "                except CancelBatchException: pass\n",
    "                finally: self.callback('after_batch')\n",
    "        except CancelEpochException: pass\n",
    "        finally: self.callback('after_epoch')\n",
    "                \n",
    "    def fit(self, n_epochs):\n",
    "        try:\n",
    "            self.opt = self.opt_func(self.model.parameters(), self.lr)\n",
    "            self.n_epochs = n_epochs\n",
    "            self.epochs = range(self.n_epochs)\n",
    "            self.callback('before_fit')\n",
    "            for self.epoch in self.epochs:\n",
    "                self.one_epoch(True)\n",
    "                self.one_epoch(False)\n",
    "        except CancelFitException: pass\n",
    "        finally: self.callback('after_fit')\n",
    "    \n",
    "    def callback(self, method_nm): run_cbs(self.cbs, method_nm)"
   ]
  },
  {
   "cell_type": "code",
   "execution_count": null,
   "id": "e0f556bb",
   "metadata": {},
   "outputs": [],
   "source": [
    "class DeviceCB(Callback):\n",
    "    def before_batch(self): self.learn.batch = to_device(self.batch)\n",
    "    def before_fit(self): self.model.to(def_device)"
   ]
  },
  {
   "cell_type": "code",
   "execution_count": null,
   "id": "e0841d8c",
   "metadata": {},
   "outputs": [],
   "source": [
    "learn = Learner(get_model(), dls, 0.2, F.cross_entropy, cbs=[DeviceCB(), CompleteCB()])"
   ]
  },
  {
   "cell_type": "code",
   "execution_count": null,
   "id": "b547260f",
   "metadata": {},
   "outputs": [
    {
     "name": "stdout",
     "output_type": "stream",
     "text": [
      "Completed 69 batches\n"
     ]
    }
   ],
   "source": [
    "learn.fit(1)"
   ]
  },
  {
   "cell_type": "markdown",
   "id": "19f03007",
   "metadata": {},
   "source": [
    "## Metric"
   ]
  },
  {
   "cell_type": "code",
   "execution_count": null,
   "id": "5f962d8c",
   "metadata": {},
   "outputs": [],
   "source": [
    "class Metric:\n",
    "    def __init__(self): self.reset()\n",
    "    def reset(self): self.vals, self.ns = [], []\n",
    "    def add(self, inp, targ=None, n=1):\n",
    "        last = self.calc(inp, targ)\n",
    "        self.vals.append(last)\n",
    "        self.ns.append(n)\n",
    "    \n",
    "    @property\n",
    "    def value(self):\n",
    "        ns = tensor(self.ns)\n",
    "        return (tensor(self.vals) * ns).sum() / ns.sum()\n",
    "    \n",
    "    def calc(self, inp, targ): return inp        "
   ]
  },
  {
   "cell_type": "code",
   "execution_count": null,
   "id": "7cae7f33",
   "metadata": {},
   "outputs": [],
   "source": [
    "loss = Metric()"
   ]
  },
  {
   "cell_type": "code",
   "execution_count": null,
   "id": "257da199",
   "metadata": {},
   "outputs": [],
   "source": [
    "loss.add(0.9, n=2)\n",
    "loss.add(0.1, n=3)"
   ]
  },
  {
   "cell_type": "code",
   "execution_count": null,
   "id": "c606a030",
   "metadata": {},
   "outputs": [
    {
     "data": {
      "text/plain": [
       "tensor(0.42)"
      ]
     },
     "execution_count": null,
     "metadata": {},
     "output_type": "execute_result"
    }
   ],
   "source": [
    "loss.value"
   ]
  },
  {
   "cell_type": "code",
   "execution_count": null,
   "id": "d4a09994",
   "metadata": {},
   "outputs": [
    {
     "data": {
      "text/plain": [
       "0.42000000000000004"
      ]
     },
     "execution_count": null,
     "metadata": {},
     "output_type": "execute_result"
    }
   ],
   "source": [
    "(1.8 + 0.3)/ 5"
   ]
  },
  {
   "cell_type": "code",
   "execution_count": null,
   "id": "d512d6eb",
   "metadata": {},
   "outputs": [],
   "source": [
    "loss.reset()"
   ]
  },
  {
   "cell_type": "code",
   "execution_count": null,
   "id": "5b7090c0",
   "metadata": {},
   "outputs": [
    {
     "data": {
      "text/plain": [
       "tensor(nan)"
      ]
     },
     "execution_count": null,
     "metadata": {},
     "output_type": "execute_result"
    }
   ],
   "source": [
    "loss.value"
   ]
  },
  {
   "cell_type": "code",
   "execution_count": null,
   "id": "f0fcfcd6",
   "metadata": {},
   "outputs": [],
   "source": [
    "class Accuracy(Metric): \n",
    "    def calc(self, inp, targ): return (tensor(inp) == tensor(targ)).float().mean()"
   ]
  },
  {
   "cell_type": "code",
   "execution_count": null,
   "id": "f7f08952",
   "metadata": {},
   "outputs": [],
   "source": [
    "acc = Accuracy()"
   ]
  },
  {
   "cell_type": "code",
   "execution_count": null,
   "id": "39c3c32f",
   "metadata": {},
   "outputs": [],
   "source": [
    "acc.add([1, 0, 1, 0], [1, 1, 1, 1])"
   ]
  },
  {
   "cell_type": "code",
   "execution_count": null,
   "id": "05b347df",
   "metadata": {},
   "outputs": [
    {
     "data": {
      "text/plain": [
       "tensor(0.50)"
      ]
     },
     "execution_count": null,
     "metadata": {},
     "output_type": "execute_result"
    }
   ],
   "source": [
    "acc.value"
   ]
  },
  {
   "cell_type": "code",
   "execution_count": null,
   "id": "0f8ce900",
   "metadata": {},
   "outputs": [],
   "source": [
    "acc.add([1, 1, 1, 0], [1, 1, 1, 1])"
   ]
  },
  {
   "cell_type": "code",
   "execution_count": null,
   "id": "35e801d7",
   "metadata": {},
   "outputs": [
    {
     "data": {
      "text/plain": [
       "tensor(0.62)"
      ]
     },
     "execution_count": null,
     "metadata": {},
     "output_type": "execute_result"
    }
   ],
   "source": [
    "acc.value"
   ]
  },
  {
   "cell_type": "markdown",
   "id": "a0698189",
   "metadata": {},
   "source": [
    "## TorchEval"
   ]
  },
  {
   "cell_type": "code",
   "execution_count": null,
   "id": "3da390c8",
   "metadata": {},
   "outputs": [],
   "source": [
    "acc = MulticlassAccuracy()"
   ]
  },
  {
   "cell_type": "code",
   "execution_count": null,
   "id": "36e10054",
   "metadata": {},
   "outputs": [
    {
     "data": {
      "text/plain": [
       "<torcheval.metrics.classification.accuracy.MulticlassAccuracy>"
      ]
     },
     "execution_count": null,
     "metadata": {},
     "output_type": "execute_result"
    }
   ],
   "source": [
    "acc.update(tensor([1, 0, 1, 0]), tensor([1, 1, 1, 1]))"
   ]
  },
  {
   "cell_type": "code",
   "execution_count": null,
   "id": "89b3a04d",
   "metadata": {},
   "outputs": [
    {
     "data": {
      "text/plain": [
       "tensor(0.50)"
      ]
     },
     "execution_count": null,
     "metadata": {},
     "output_type": "execute_result"
    }
   ],
   "source": [
    "acc.compute()"
   ]
  },
  {
   "cell_type": "code",
   "execution_count": null,
   "id": "c76e698e",
   "metadata": {},
   "outputs": [
    {
     "data": {
      "text/plain": [
       "<torcheval.metrics.classification.accuracy.MulticlassAccuracy>"
      ]
     },
     "execution_count": null,
     "metadata": {},
     "output_type": "execute_result"
    }
   ],
   "source": [
    "acc.update(tensor([1, 1, 1, 0]), tensor([1, 1, 1, 1]))"
   ]
  },
  {
   "cell_type": "code",
   "execution_count": null,
   "id": "e887c740",
   "metadata": {},
   "outputs": [
    {
     "data": {
      "text/plain": [
       "tensor(0.62)"
      ]
     },
     "execution_count": null,
     "metadata": {},
     "output_type": "execute_result"
    }
   ],
   "source": [
    "acc.compute()"
   ]
  },
  {
   "cell_type": "code",
   "execution_count": null,
   "id": "0d27c128",
   "metadata": {},
   "outputs": [],
   "source": [
    "loss = Mean()"
   ]
  },
  {
   "cell_type": "code",
   "execution_count": null,
   "id": "05835b3e",
   "metadata": {},
   "outputs": [
    {
     "data": {
      "text/plain": [
       "<torcheval.metrics.aggregation.mean.Mean>"
      ]
     },
     "execution_count": null,
     "metadata": {},
     "output_type": "execute_result"
    }
   ],
   "source": [
    "loss.update(tensor(0.9), weight=2)"
   ]
  },
  {
   "cell_type": "code",
   "execution_count": null,
   "id": "f98d776f",
   "metadata": {},
   "outputs": [
    {
     "data": {
      "text/plain": [
       "<torcheval.metrics.aggregation.mean.Mean>"
      ]
     },
     "execution_count": null,
     "metadata": {},
     "output_type": "execute_result"
    }
   ],
   "source": [
    "loss.update(tensor(0.1), weight=3)"
   ]
  },
  {
   "cell_type": "code",
   "execution_count": null,
   "id": "6cbd09f2",
   "metadata": {},
   "outputs": [
    {
     "data": {
      "text/plain": [
       "tensor(0.42, dtype=torch.float64)"
      ]
     },
     "execution_count": null,
     "metadata": {},
     "output_type": "execute_result"
    }
   ],
   "source": [
    "loss.compute()"
   ]
  },
  {
   "cell_type": "markdown",
   "id": "0133e5f3",
   "metadata": {},
   "source": [
    "## MetricCB"
   ]
  },
  {
   "cell_type": "code",
   "execution_count": null,
   "id": "fdc15fa9",
   "metadata": {},
   "outputs": [],
   "source": [
    "class MetricCB(Callback):\n",
    "    def __init__(self, *m, **ms):\n",
    "        for o in m: ms[type(o).__name__] = o\n",
    "        self.metrics = ms\n",
    "        self.all_metrics = copy(ms)\n",
    "        self.all_metrics['loss'] = Mean()\n",
    "    \n",
    "    def before_fit(self): self.learn.metrics = self\n",
    "    \n",
    "    def before_epoch(self): [v.reset() for k, v in self.all_metrics.items()]\n",
    "    \n",
    "    def after_batch(self):\n",
    "        for k, v in self.metrics.items(): v.update(self.learn.preds.argmax(-1), self.learn.batch[1])\n",
    "        self.all_metrics['loss'].update(self.learn.loss, weight=len(self.learn.batch[0]))\n",
    "    \n",
    "    def _log(self, d):\n",
    "        print(d)\n",
    "        \n",
    "    def after_epoch(self):\n",
    "        d = {k: v.compute().item() for k, v in self.all_metrics.items()}\n",
    "        d['epoch'] = self.learn.epoch\n",
    "        d['train'] = self.training\n",
    "        self._log(d)"
   ]
  },
  {
   "cell_type": "code",
   "execution_count": null,
   "id": "0a2c19b6",
   "metadata": {},
   "outputs": [],
   "source": [
    "metrics = MetricCB(MulticlassAccuracy())\n",
    "learn = Learner(get_model(), dls, 0.2, F.cross_entropy, cbs = [DeviceCB(), metrics])"
   ]
  },
  {
   "cell_type": "code",
   "execution_count": null,
   "id": "6413e5da",
   "metadata": {},
   "outputs": [
    {
     "name": "stdout",
     "output_type": "stream",
     "text": [
      "{'MulticlassAccuracy': 0.6046500205993652, 'loss': 1.1899776596069336, 'epoch': 0, 'train': True}\n",
      "{'MulticlassAccuracy': 0.7002999782562256, 'loss': 0.8055204406738281, 'epoch': 0, 'train': False}\n"
     ]
    }
   ],
   "source": [
    "learn.fit(1)"
   ]
  },
  {
   "cell_type": "markdown",
   "id": "58cbe3fa",
   "metadata": {},
   "source": [
    "## ProgressCB"
   ]
  },
  {
   "cell_type": "code",
   "execution_count": null,
   "id": "fe23058f",
   "metadata": {},
   "outputs": [],
   "source": [
    "class ProgressCB(Callback):\n",
    "    order = MetricCB.order + 1\n",
    "    \n",
    "    def __init__(self, plot=False): self.plot = plot\n",
    "        \n",
    "    def before_fit(self): \n",
    "        self.learn.epochs = self.mbar = master_bar(self.learn.epochs)\n",
    "        self.learn.metrics._log = self._log\n",
    "    \n",
    "    def before_epoch(self): \n",
    "        self.learn.dl = progress_bar(self.learn.dl, leave=False, parent=self.mbar)\n",
    "        self.train_losses = []\n",
    "    \n",
    "    def _log(self, d): self.mbar.write(str(d))\n",
    "         \n",
    "    def after_batch(self):\n",
    "        self.learn.dl.comment = f'Loss {self.learn.loss.item(): .3f}'\n",
    "        if self.plot and self.training and hasattr(self.learn, 'metrics'): \n",
    "            self.train_losses.append(self.learn.loss.item())\n",
    "            self.mbar.update_graph([[fc.L.range(self.train_losses), self.train_losses]])"
   ]
  },
  {
   "cell_type": "code",
   "execution_count": null,
   "id": "17863f35",
   "metadata": {},
   "outputs": [],
   "source": [
    "learn = Learner(get_model(), dls, 0.2, F.cross_entropy, cbs = [DeviceCB(), metrics, ProgressCB(plot=True)])"
   ]
  },
  {
   "cell_type": "code",
   "execution_count": null,
   "id": "7e3f4382",
   "metadata": {},
   "outputs": [
    {
     "data": {
      "text/html": [
       "\n",
       "<style>\n",
       "    /* Turns off some styling */\n",
       "    progress {\n",
       "        /* gets rid of default border in Firefox and Opera. */\n",
       "        border: none;\n",
       "        /* Needs to be in here for Safari polyfill so background images work as expected. */\n",
       "        background-size: auto;\n",
       "    }\n",
       "    progress:not([value]), progress:not([value])::-webkit-progress-bar {\n",
       "        background: repeating-linear-gradient(45deg, #7e7e7e, #7e7e7e 10px, #5c5c5c 10px, #5c5c5c 20px);\n",
       "    }\n",
       "    .progress-bar-interrupted, .progress-bar-interrupted::-webkit-progress-bar {\n",
       "        background: #F44336;\n",
       "    }\n",
       "</style>\n"
      ],
      "text/plain": [
       "<IPython.core.display.HTML object>"
      ]
     },
     "metadata": {},
     "output_type": "display_data"
    },
    {
     "data": {
      "text/html": [
       "{'MulticlassAccuracy': 0.6197333335876465, 'loss': 1.1581209294637045, 'epoch': 0, 'train': True}<p>{'MulticlassAccuracy': 0.697700023651123, 'loss': 0.7949536437988282, 'epoch': 0, 'train': False}<p>{'MulticlassAccuracy': 0.7442499995231628, 'loss': 0.7084229044596354, 'epoch': 1, 'train': True}<p>{'MulticlassAccuracy': 0.75, 'loss': 0.6609238891601562, 'epoch': 1, 'train': False}"
      ],
      "text/plain": [
       "<IPython.core.display.HTML object>"
      ]
     },
     "metadata": {},
     "output_type": "display_data"
    },
    {
     "data": {
      "image/png": "[encoded data removed]",
      "text/plain": [
       "<Figure size 600x400 with 1 Axes>"
      ]
     },
     "metadata": {},
     "output_type": "display_data"
    }
   ],
   "source": [
    "learn.fit(2)"
   ]
  },
  {
   "cell_type": "markdown",
   "id": "a1cd00a3",
   "metadata": {},
   "source": [
    "## TrainCB"
   ]
  },
  {
   "cell_type": "code",
   "execution_count": null,
   "id": "334ed707",
   "metadata": {},
   "outputs": [],
   "source": [
    "class TrainCB(Callback):\n",
    "    def predict(self): self.learn.preds = self.learn.model(self.learn.batch[0])\n",
    "    def get_loss(self): self.learn.loss = self.learn.loss_func(self.learn.preds, self.learn.batch[1])\n",
    "    def backward(self): self.learn.loss.backward()\n",
    "    def step(self): self.learn.opt.step()\n",
    "    def zero_grad(self): self.learn.opt.zero_grad()"
   ]
  },
  {
   "cell_type": "code",
   "execution_count": null,
   "id": "e6cc9767",
   "metadata": {},
   "outputs": [],
   "source": [
    "class Learner:\n",
    "    def __init__(self, model, dls, lr, loss_func, opt_func=SGD, cbs=[]):\n",
    "        fc.store_attr()\n",
    "        for cb in self.cbs: cb.learn = self\n",
    "    \n",
    "    def one_epoch(self, train):\n",
    "        self.model.train(train)\n",
    "        self.dl = dls.train if self.model.training else dls.valid\n",
    "        try:\n",
    "            self.callback('before_epoch')\n",
    "            for self.batch in self.dl:\n",
    "                try:\n",
    "                    self.callback('before_batch')\n",
    "                    self.predict()\n",
    "                    self.get_loss()\n",
    "                    if self.model.training:\n",
    "                        self.backward()\n",
    "                        self.step()\n",
    "                        self.zero_grad()\n",
    "                except CancelBatchException: pass\n",
    "                finally: self.callback('after_batch')\n",
    "        except CancelEpochException: pass\n",
    "        finally: self.callback('after_epoch')\n",
    "                \n",
    "    def fit(self, n_epochs):\n",
    "        try:\n",
    "            self.opt = self.opt_func(self.model.parameters(), self.lr)\n",
    "            self.n_epochs = n_epochs\n",
    "            self.epochs = range(self.n_epochs)\n",
    "            self.callback('before_fit')\n",
    "            for self.epoch in self.epochs:\n",
    "                self.one_epoch(True)\n",
    "                self.one_epoch(False)\n",
    "        except CancelFitException: pass\n",
    "        finally: self.callback('after_fit')\n",
    "    \n",
    "    def __getattr__(self, name):\n",
    "        if name in ['predict', 'get_loss', 'backward', 'step', 'zero_grad']: return partial(self.callback, name)\n",
    "        raise AttributeError(name)\n",
    "    \n",
    "    def callback(self, method_nm): run_cbs(self.cbs, method_nm)"
   ]
  },
  {
   "cell_type": "code",
   "execution_count": null,
   "id": "a63b9e6c",
   "metadata": {},
   "outputs": [],
   "source": [
    "learn = Learner(get_model(), dls, 0.2, F.cross_entropy, cbs = [DeviceCB(), TrainCB(), metrics, ProgressCB(plot=True)])"
   ]
  },
  {
   "cell_type": "code",
   "execution_count": null,
   "id": "2ffc3045",
   "metadata": {},
   "outputs": [
    {
     "data": {
      "text/html": [
       "\n",
       "<style>\n",
       "    /* Turns off some styling */\n",
       "    progress {\n",
       "        /* gets rid of default border in Firefox and Opera. */\n",
       "        border: none;\n",
       "        /* Needs to be in here for Safari polyfill so background images work as expected. */\n",
       "        background-size: auto;\n",
       "    }\n",
       "    progress:not([value]), progress:not([value])::-webkit-progress-bar {\n",
       "        background: repeating-linear-gradient(45deg, #7e7e7e, #7e7e7e 10px, #5c5c5c 10px, #5c5c5c 20px);\n",
       "    }\n",
       "    .progress-bar-interrupted, .progress-bar-interrupted::-webkit-progress-bar {\n",
       "        background: #F44336;\n",
       "    }\n",
       "</style>\n"
      ],
      "text/plain": [
       "<IPython.core.display.HTML object>"
      ]
     },
     "metadata": {},
     "output_type": "display_data"
    },
    {
     "data": {
      "text/html": [
       "{'MulticlassAccuracy': 0.6085000038146973, 'loss': 1.1542749842325846, 'epoch': 0, 'train': True}<p>{'MulticlassAccuracy': 0.6894999742507935, 'loss': 0.7970983459472656, 'epoch': 0, 'train': False}"
      ],
      "text/plain": [
       "<IPython.core.display.HTML object>"
      ]
     },
     "metadata": {},
     "output_type": "display_data"
    },
    {
     "data": {
      "image/png": "[encoded data removed]",
      "text/plain": [
       "<Figure size 600x400 with 1 Axes>"
      ]
     },
     "metadata": {},
     "output_type": "display_data"
    }
   ],
   "source": [
    "learn.fit(1)"
   ]
  },
  {
   "cell_type": "markdown",
   "id": "8d198e1d",
   "metadata": {},
   "source": [
    "## Learner\n",
    "> with context manager"
   ]
  },
  {
   "cell_type": "code",
   "execution_count": null,
   "id": "a4e0bccb",
   "metadata": {},
   "outputs": [],
   "source": [
    "class Learner:\n",
    "    def __init__(self, model, dls, lr, loss_func, opt_func=SGD, cbs = []):\n",
    "        fc.store_attr()\n",
    "        for cb in self.cbs: cb.learn = self\n",
    "    \n",
    "    @contextmanager\n",
    "    def context_mgr(self, method_nm):\n",
    "        try:\n",
    "            self.callback(f'before_{method_nm}')\n",
    "            yield\n",
    "        except globals()[f'Cancel{method_nm.title()}Exception']: pass\n",
    "        finally: self.callback(f'after_{method_nm}')\n",
    "\n",
    "    \n",
    "    def one_epoch(self, train):\n",
    "        self.model.train(train)\n",
    "        self.dl = dls.train if self.model.training else dls.valid\n",
    "        with self.context_mgr('epoch'):\n",
    "            for self.batch in self.dl:\n",
    "                with self.context_mgr('batch'):\n",
    "                    self.predict()\n",
    "                    self.get_loss()\n",
    "                    if self.model.training:\n",
    "                        self.backward()\n",
    "                        self.step()\n",
    "                        self.zero_grad()\n",
    "            \n",
    "        \n",
    "    def fit(self, n_epochs):\n",
    "        self.n_epochs = n_epochs\n",
    "        self.epochs = range(self.n_epochs)\n",
    "        self.opt = self.opt_func(self.model.parameters(), self.lr)\n",
    "        with self.context_mgr('fit'):\n",
    "            for self.epoch in self.epochs:\n",
    "                self.one_epoch(True)\n",
    "                self.one_epoch(False)\n",
    "    \n",
    "    def __getattr__(self, name):\n",
    "        if name in ['predict', 'get_loss', 'backward', 'step', 'zero_grad']: return partial(self.callback, name)\n",
    "        raise AttributeError(name)\n",
    "    \n",
    "    def callback(self, name): run_cbs(self.cbs, name)"
   ]
  },
  {
   "cell_type": "code",
   "execution_count": null,
   "id": "d434eaaa",
   "metadata": {},
   "outputs": [],
   "source": [
    "class TrainLearner(Learner):\n",
    "    def predict(self): self.preds = self.model(self.batch[0])\n",
    "    def get_loss(self): self.loss = self.loss_func(self.preds, self.batch[1])\n",
    "    def backward(self): self.loss.backward()\n",
    "    def step(self): self.opt.step()\n",
    "    def zero_grad(self): self.opt.zero_grad()"
   ]
  },
  {
   "cell_type": "code",
   "execution_count": null,
   "id": "6010db65",
   "metadata": {},
   "outputs": [],
   "source": [
    "class MomentumLearner(TrainLearner):\n",
    "    def __init__(self, model, dls, lr, loss_func, opt_func, cbs=[], mom=0.8):\n",
    "        self.mom = mom\n",
    "        super().__init__(model, dls, lr, loss_func, opt_func, cbs=cbs)\n",
    "    \n",
    "    def zero_grad(self):\n",
    "        with torch.no_grad():\n",
    "            for p in self.model.parameters(): p.grad *= self.mom"
   ]
  },
  {
   "cell_type": "code",
   "execution_count": null,
   "id": "49273718",
   "metadata": {},
   "outputs": [],
   "source": [
    "metrics = MetricCB(MulticlassAccuracy())\n",
    "learn = MomentumLearner(get_model(), dls, 0.2, F.cross_entropy, SGD, cbs=[DeviceCB(), metrics, ProgressCB(plot=True)])"
   ]
  },
  {
   "cell_type": "code",
   "execution_count": null,
   "id": "8f9d7eea",
   "metadata": {},
   "outputs": [
    {
     "data": {
      "text/html": [
       "\n",
       "<style>\n",
       "    /* Turns off some styling */\n",
       "    progress {\n",
       "        /* gets rid of default border in Firefox and Opera. */\n",
       "        border: none;\n",
       "        /* Needs to be in here for Safari polyfill so background images work as expected. */\n",
       "        background-size: auto;\n",
       "    }\n",
       "    progress:not([value]), progress:not([value])::-webkit-progress-bar {\n",
       "        background: repeating-linear-gradient(45deg, #7e7e7e, #7e7e7e 10px, #5c5c5c 10px, #5c5c5c 20px);\n",
       "    }\n",
       "    .progress-bar-interrupted, .progress-bar-interrupted::-webkit-progress-bar {\n",
       "        background: #F44336;\n",
       "    }\n",
       "</style>\n"
      ],
      "text/plain": [
       "<IPython.core.display.HTML object>"
      ]
     },
     "metadata": {},
     "output_type": "display_data"
    },
    {
     "data": {
      "text/html": [
       "{'MulticlassAccuracy': 0.6927666664123535, 'loss': 0.9006712158203125, 'epoch': 0, 'train': True}<p>{'MulticlassAccuracy': 0.7955999970436096, 'loss': 0.5712902252197266, 'epoch': 0, 'train': False}<p>{'MulticlassAccuracy': 0.8291166424751282, 'loss': 0.4836599126180013, 'epoch': 1, 'train': True}<p>{'MulticlassAccuracy': 0.8026000261306763, 'loss': 0.5856472045898438, 'epoch': 1, 'train': False}"
      ],
      "text/plain": [
       "<IPython.core.display.HTML object>"
      ]
     },
     "metadata": {},
     "output_type": "display_data"
    },
    {
     "data": {
      "image/png": "[encoded data removed]",
      "text/plain": [
       "<Figure size 600x400 with 1 Axes>"
      ]
     },
     "metadata": {},
     "output_type": "display_data"
    }
   ],
   "source": [
    "learn.fit(2)"
   ]
  },
  {
   "cell_type": "markdown",
   "id": "e5f54b8c",
   "metadata": {},
   "source": [
    "## LR Finder Callback"
   ]
  },
  {
   "cell_type": "code",
   "execution_count": null,
   "id": "de751cde",
   "metadata": {},
   "outputs": [],
   "source": [
    "op = SGD(model.parameters(), lr=0.2)"
   ]
  },
  {
   "cell_type": "code",
   "execution_count": null,
   "id": "f3e55c64",
   "metadata": {},
   "outputs": [
    {
     "data": {
      "text/plain": [
       "0.2"
      ]
     },
     "execution_count": null,
     "metadata": {},
     "output_type": "execute_result"
    }
   ],
   "source": [
    "op.param_groups[0]['lr']"
   ]
  },
  {
   "cell_type": "code",
   "execution_count": null,
   "id": "c7d6d255",
   "metadata": {},
   "outputs": [],
   "source": [
    "class LRFinderCB(Callback):\n",
    "    def __init__(self, gamma=1.3):\n",
    "        fc.store_attr()\n",
    "    \n",
    "    def before_fit(self):\n",
    "        self.lrs, self.losses = [], []\n",
    "        self.min = math.inf\n",
    "    \n",
    "    def after_batch(self):\n",
    "        if not self.learn.model.training: raise CancelEpochException()\n",
    "        self.losses.append(self.learn.loss.item())\n",
    "        self.lrs.append(self.learn.opt.param_groups[0]['lr'])\n",
    "        if self.learn.loss < self.min: self.min = self.learn.loss\n",
    "        if self.learn.loss > self.min * 3: raise CancelFitException()\n",
    "        for p in self.learn.opt.param_groups: p['lr'] *= self.gamma\n",
    "    \n",
    "    def after_fit(self):\n",
    "        plt.plot(self.lrs, self.losses)\n",
    "        plt.xscale('log')"
   ]
  },
  {
   "cell_type": "code",
   "execution_count": null,
   "id": "6687197e",
   "metadata": {},
   "outputs": [],
   "source": [
    "metrics = MetricCB(MulticlassAccuracy())\n",
    "learn = MomentumLearner(get_model(), dls, 0.2, F.cross_entropy, SGD, cbs=[DeviceCB(), LRFinderCB()])"
   ]
  },
  {
   "cell_type": "code",
   "execution_count": null,
   "id": "478b9dd1",
   "metadata": {},
   "outputs": [
    {
     "data": {
      "image/png": "[encoded data removed]",
      "text/plain": [
       "<Figure size 640x480 with 1 Axes>"
      ]
     },
     "metadata": {},
     "output_type": "display_data"
    }
   ],
   "source": [
    "learn.fit(1)"
   ]
  },
  {
   "cell_type": "markdown",
   "id": "4eb27327",
   "metadata": {},
   "source": [
    "## LR Finder Callback\n",
    "> With scheduler"
   ]
  },
  {
   "cell_type": "code",
   "execution_count": null,
   "id": "d98039a6",
   "metadata": {},
   "outputs": [],
   "source": [
    "class LRFinderCB(Callback):\n",
    "    def __init__(self, gamma=1.3):\n",
    "        fc.store_attr()\n",
    "    \n",
    "    def before_fit(self):\n",
    "        self.lrs, self.losses = [], []\n",
    "        self.min = math.inf\n",
    "        self.sched = ExponentialLR(self.learn.opt, gamma=self.gamma)\n",
    "    \n",
    "    def after_batch(self):\n",
    "        if not self.learn.model.training: raise CancelEpochException()\n",
    "        self.losses.append(self.learn.loss.item())\n",
    "        self.lrs.append(self.learn.opt.param_groups[0]['lr'])\n",
    "        if self.learn.loss < self.min: self.min = self.learn.loss\n",
    "        if self.learn.loss > self.min * 3: raise CancelFitException()\n",
    "        self.sched.step()\n",
    "    \n",
    "    def after_fit(self):\n",
    "        plt.plot(self.lrs, self.losses)\n",
    "        plt.xscale('log')"
   ]
  },
  {
   "cell_type": "code",
   "execution_count": null,
   "id": "749e3adf",
   "metadata": {},
   "outputs": [],
   "source": [
    "learn = MomentumLearner(get_model(), dls, 0.2, F.cross_entropy, SGD, cbs=[DeviceCB(), LRFinderCB()])"
   ]
  },
  {
   "cell_type": "code",
   "execution_count": null,
   "id": "1b620335",
   "metadata": {},
   "outputs": [
    {
     "data": {
      "image/png": "[encoded data removed]",
      "text/plain": [
       "<Figure size 640x480 with 1 Axes>"
      ]
     },
     "metadata": {},
     "output_type": "display_data"
    }
   ],
   "source": [
    "learn.fit(1)"
   ]
  },
  {
   "cell_type": "code",
   "execution_count": null,
   "id": "e8b029e9",
   "metadata": {},
   "outputs": [],
   "source": [
    "metrics = MetricCB(MulticlassAccuracy())\n",
    "learn = MomentumLearner(get_model(), dls, 0.5, F.cross_entropy, SGD, cbs=[DeviceCB(), metrics, ProgressCB(plot=True)])"
   ]
  },
  {
   "cell_type": "code",
   "execution_count": null,
   "id": "681fdad9",
   "metadata": {},
   "outputs": [
    {
     "data": {
      "text/html": [
       "\n",
       "<style>\n",
       "    /* Turns off some styling */\n",
       "    progress {\n",
       "        /* gets rid of default border in Firefox and Opera. */\n",
       "        border: none;\n",
       "        /* Needs to be in here for Safari polyfill so background images work as expected. */\n",
       "        background-size: auto;\n",
       "    }\n",
       "    progress:not([value]), progress:not([value])::-webkit-progress-bar {\n",
       "        background: repeating-linear-gradient(45deg, #7e7e7e, #7e7e7e 10px, #5c5c5c 10px, #5c5c5c 20px);\n",
       "    }\n",
       "    .progress-bar-interrupted, .progress-bar-interrupted::-webkit-progress-bar {\n",
       "        background: #F44336;\n",
       "    }\n",
       "</style>\n"
      ],
      "text/plain": [
       "<IPython.core.display.HTML object>"
      ]
     },
     "metadata": {},
     "output_type": "display_data"
    },
    {
     "data": {
      "text/html": [
       "{'MulticlassAccuracy': 0.6044666767120361, 'loss': 1.0995044606526694, 'epoch': 0, 'train': True}<p>{'MulticlassAccuracy': 0.7527999877929688, 'loss': 0.6285823181152344, 'epoch': 0, 'train': False}"
      ],
      "text/plain": [
       "<IPython.core.display.HTML object>"
      ]
     },
     "metadata": {},
     "output_type": "display_data"
    },
    {
     "data": {
      "image/png": "[encoded data removed]",
      "text/plain": [
       "<Figure size 600x400 with 1 Axes>"
      ]
     },
     "metadata": {},
     "output_type": "display_data"
    }
   ],
   "source": [
    "learn.fit(1)"
   ]
  },
  {
   "cell_type": "code",
   "execution_count": null,
   "id": "63a081f4",
   "metadata": {},
   "outputs": [],
   "source": []
  }
 ],
 "metadata": {
  "kernelspec": {
   "display_name": "fastai:Python",
   "language": "python",
   "name": "conda-env-fastai-py"
  },
  "language_info": {
   "codemirror_mode": {
    "name": "ipython",
    "version": 3
   },
   "file_extension": ".py",
   "mimetype": "text/x-python",
   "name": "python",
   "nbconvert_exporter": "python",
   "pygments_lexer": "ipython3",
   "version": "3.9.13"
  }
 },
 "nbformat": 4,
 "nbformat_minor": 5
}
