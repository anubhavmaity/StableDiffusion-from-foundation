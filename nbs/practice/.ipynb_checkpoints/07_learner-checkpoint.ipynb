{
 "cells": [
  {
   "cell_type": "markdown",
   "id": "50ebe26f",
   "metadata": {},
   "source": [
    "# Learner"
   ]
  },
  {
   "cell_type": "code",
   "execution_count": null,
   "id": "8e5896ea",
   "metadata": {},
   "outputs": [],
   "source": [
    "from datasets import load_dataset\n",
    "import torch\n",
    "import fastcore.all as fc\n",
    "import torchvision.transforms.functional as TF\n",
    "from minai.datasets import inplace, collate_dict\n",
    "from torch.utils.data import DataLoader\n",
    "from torch import optim, nn\n",
    "import torch.nn.functional as F"
   ]
  },
  {
   "cell_type": "code",
   "execution_count": null,
   "id": "d4550953",
   "metadata": {},
   "outputs": [],
   "source": [
    "dataset = load_dataset('fashion_mnist')"
   ]
  },
  {
   "cell_type": "code",
   "execution_count": null,
   "id": "40025390",
   "metadata": {},
   "outputs": [
    {
     "data": {
      "image/png": "[encoded data removed]",
      "text/plain": [
       "<PIL.PngImagePlugin.PngImageFile image mode=L size=28x28>"
      ]
     },
     "execution_count": null,
     "metadata": {},
     "output_type": "execute_result"
    }
   ],
   "source": [
    "bs = 1024\n",
    "x, y = 'image', 'label'\n",
    "dataset['train'][x][0]"
   ]
  },
  {
   "cell_type": "code",
   "execution_count": null,
   "id": "fa87a8cd",
   "metadata": {},
   "outputs": [
    {
     "data": {
      "text/plain": [
       "9"
      ]
     },
     "execution_count": null,
     "metadata": {},
     "output_type": "execute_result"
    }
   ],
   "source": [
    "dataset['train'][y][0]"
   ]
  },
  {
   "cell_type": "code",
   "execution_count": null,
   "id": "7f69526f",
   "metadata": {},
   "outputs": [
    {
     "data": {
      "text/plain": [
       "'Ankle boot'"
      ]
     },
     "execution_count": null,
     "metadata": {},
     "output_type": "execute_result"
    }
   ],
   "source": [
    "dataset['train'].features['label'].names[9]"
   ]
  },
  {
   "cell_type": "code",
   "execution_count": null,
   "id": "9220ca93",
   "metadata": {},
   "outputs": [
    {
     "data": {
      "text/plain": [
       "torch.Size([784])"
      ]
     },
     "execution_count": null,
     "metadata": {},
     "output_type": "execute_result"
    }
   ],
   "source": [
    "torch.flatten(TF.to_tensor(dataset['train'][x][0])).shape"
   ]
  },
  {
   "cell_type": "code",
   "execution_count": null,
   "id": "dd5d6050",
   "metadata": {},
   "outputs": [],
   "source": [
    "@inplace\n",
    "def transformi(b): b[x] = [torch.flatten(TF.to_tensor(o)) for o in b[x]]"
   ]
  },
  {
   "cell_type": "code",
   "execution_count": null,
   "id": "3fee94a0",
   "metadata": {},
   "outputs": [],
   "source": [
    "dsd = dataset.with_transform(transformi)"
   ]
  },
  {
   "cell_type": "code",
   "execution_count": null,
   "id": "2a0f18b4",
   "metadata": {},
   "outputs": [],
   "source": [
    "it = iter(dl)"
   ]
  },
  {
   "cell_type": "code",
   "execution_count": null,
   "id": "b0555173",
   "metadata": {},
   "outputs": [
    {
     "data": {
      "text/plain": [
       "(tensor([[0., 0., 0.,  ..., 0., 0., 0.],\n",
       "         [0., 0., 0.,  ..., 0., 0., 0.],\n",
       "         [0., 0., 0.,  ..., 0., 0., 0.],\n",
       "         ...,\n",
       "         [0., 0., 0.,  ..., 0., 0., 0.],\n",
       "         [0., 0., 0.,  ..., 0., 0., 0.],\n",
       "         [0., 0., 0.,  ..., 0., 0., 0.]]),\n",
       " tensor([9, 0, 0,  ..., 4, 2, 7]))"
      ]
     },
     "execution_count": null,
     "metadata": {},
     "output_type": "execute_result"
    }
   ],
   "source": [
    "next(it)"
   ]
  },
  {
   "cell_type": "code",
   "execution_count": null,
   "id": "2c40cda7",
   "metadata": {},
   "outputs": [],
   "source": [
    "class DataLoaders:\n",
    "    def __init__(self, dls):\n",
    "        self.train_dl, self.valid_dl = dls[:2]\n",
    "    \n",
    "    @classmethod\n",
    "    def from_dd(cls, dsd):\n",
    "        return cls([DataLoader(ds, batch_size=bs, collate_fn=collate_dict(ds)) for ds in dsd.values()])"
   ]
  },
  {
   "cell_type": "code",
   "execution_count": null,
   "id": "09c3b3e9",
   "metadata": {},
   "outputs": [],
   "source": [
    "dls = DataLoaders.from_dd(dsd)"
   ]
  },
  {
   "cell_type": "code",
   "execution_count": null,
   "id": "a0386cdb",
   "metadata": {},
   "outputs": [],
   "source": [
    "train_dl = dls.train_dl\n",
    "valid_dl = dls.valid_dl"
   ]
  },
  {
   "cell_type": "code",
   "execution_count": null,
   "id": "379b1376",
   "metadata": {},
   "outputs": [
    {
     "data": {
      "text/plain": [
       "(torch.Size([1024, 784]), torch.Size([1024]))"
      ]
     },
     "execution_count": null,
     "metadata": {},
     "output_type": "execute_result"
    }
   ],
   "source": [
    "it = iter(train_dl)\n",
    "xb, yb = next(it)\n",
    "xb.shape, yb.shape"
   ]
  },
  {
   "cell_type": "code",
   "execution_count": null,
   "id": "19dddee8",
   "metadata": {},
   "outputs": [
    {
     "data": {
      "text/plain": [
       "tensor(1)"
      ]
     },
     "execution_count": null,
     "metadata": {},
     "output_type": "execute_result"
    }
   ],
   "source": [
    "(torch.tensor([1, 1, 0, 1]) == torch.tensor([1, 0, 1, 0])).sum()"
   ]
  },
  {
   "cell_type": "code",
   "execution_count": null,
   "id": "efc5d314",
   "metadata": {},
   "outputs": [],
   "source": [
    "class Learner:\n",
    "    def __init__(self, model, train_dl, valid_dl, lr, opt_func, loss_func):\n",
    "        fc.store_attr()\n",
    "    \n",
    "    def one_batch(self):\n",
    "        self.preds = self.model(self.xb)\n",
    "        self.loss = self.loss_func(self.preds, self.yb)\n",
    "        self.loss.backward()\n",
    "        self.opt.step()\n",
    "        self.opt.zero_grad()\n",
    "        with torch.no_grad(): self.calc_stats()\n",
    "    \n",
    "    def calc_stats(self):\n",
    "        n = len(self.xb)\n",
    "        self.losses.append(self.loss * n)\n",
    "        self.ns.append(n)\n",
    "        self.accuracy.append((self.preds.argmax(-1) == self.yb).sum())\n",
    "        \n",
    "    def one_epoch(self, train):\n",
    "        self.model.training = train\n",
    "        self.losses = []\n",
    "        self.ns = []\n",
    "        self.accuracy = []\n",
    "        dl = train_dl if self.model.training else valid_dl\n",
    "        for self.xb, self.yb in dl:\n",
    "            self.one_batch()\n",
    "        print(f'Epoch:{self.epoch} Train:{self.model.training} Loss:{sum(self.losses)/sum(self.ns)} Accuracy: {sum(self.accuracy)/sum(self.ns)}')\n",
    "        \n",
    "    def fit(self, epochs):\n",
    "        self.opt = self.opt_func(self.model.parameters(), lr = self.lr)\n",
    "        for self.epoch in range(epochs):\n",
    "            self.one_epoch(True)\n",
    "            self.one_epoch(False)"
   ]
  },
  {
   "cell_type": "code",
   "execution_count": null,
   "id": "3cc99a7e",
   "metadata": {},
   "outputs": [],
   "source": [
    "def get_model(): return nn.Sequential(nn.Linear(784, 50), nn.ReLU(), nn.Linear(50, 10))\n",
    "learn = Learner(get_model(), train_dl, valid_dl, 0.2, optim.SGD, F.cross_entropy)"
   ]
  },
  {
   "cell_type": "code",
   "execution_count": null,
   "id": "9e9c5034",
   "metadata": {},
   "outputs": [
    {
     "name": "stdout",
     "output_type": "stream",
     "text": [
      "Epoch:0 Train:True Loss:1.170033574104309 Accuracy: 0.6148999929428101\n",
      "Epoch:0 Train:False Loss:0.7955995202064514 Accuracy: 0.7177000045776367\n"
     ]
    }
   ],
   "source": [
    "learn.fit(1)"
   ]
  },
  {
   "cell_type": "markdown",
   "id": "19a68cb5",
   "metadata": {},
   "source": [
    "## Callback"
   ]
  },
  {
   "cell_type": "code",
   "execution_count": null,
   "id": "1238e7d8",
   "metadata": {},
   "outputs": [],
   "source": [
    "class CancelEpochException: pass\n",
    "class CancelFitException: pass\n",
    "class CancelBatchException: pass"
   ]
  },
  {
   "cell_type": "code",
   "execution_count": null,
   "id": "7bda261d",
   "metadata": {},
   "outputs": [],
   "source": [
    "class Callback: order = 0"
   ]
  },
  {
   "cell_type": "code",
   "execution_count": null,
   "id": "bf734ea2",
   "metadata": {},
   "outputs": [],
   "source": [
    "class CompleteCallback(Callback):\n",
    "    def before_fit(self): self.batch = 0\n",
    "    def after_batch(self): self.batch += 1\n",
    "    def after_fit(self): print(f'Completed {self.batch}')"
   ]
  },
  {
   "cell_type": "code",
   "execution_count": null,
   "id": "7c1eed2b",
   "metadata": {},
   "outputs": [],
   "source": [
    "cbs = [CompleteCallback()]"
   ]
  },
  {
   "cell_type": "code",
   "execution_count": null,
   "id": "adfcaed4",
   "metadata": {},
   "outputs": [
    {
     "name": "stdout",
     "output_type": "stream",
     "text": [
      "Completed 0\n"
     ]
    }
   ],
   "source": [
    "getattr(cbs[0], 'before_fit')()\n",
    "getattr(cbs[0], 'after_fit')()"
   ]
  },
  {
   "cell_type": "code",
   "execution_count": null,
   "id": "9d1bb8a1",
   "metadata": {},
   "outputs": [],
   "source": [
    "def run_cbs(cbs, f:str):\n",
    "    for cb in sorted(cbs, key=lambda x: x.order):\n",
    "        method = getattr(cb, f)\n",
    "        if method: method()"
   ]
  },
  {
   "cell_type": "code",
   "execution_count": null,
   "id": "c6639fb6",
   "metadata": {},
   "outputs": [],
   "source": [
    "run_cbs(cbs, 'before_fit')"
   ]
  },
  {
   "cell_type": "code",
   "execution_count": null,
   "id": "dc2c8b3c",
   "metadata": {},
   "outputs": [
    {
     "name": "stdout",
     "output_type": "stream",
     "text": [
      "Completed 0\n"
     ]
    }
   ],
   "source": [
    "run_cbs(cbs, 'after_fit')"
   ]
  },
  {
   "cell_type": "code",
   "execution_count": null,
   "id": "196824be",
   "metadata": {},
   "outputs": [],
   "source": [
    "run_cbs(cbs, 'after_batch')"
   ]
  },
  {
   "cell_type": "code",
   "execution_count": null,
   "id": "fdb924ca",
   "metadata": {},
   "outputs": [
    {
     "name": "stdout",
     "output_type": "stream",
     "text": [
      "Completed 1\n"
     ]
    }
   ],
   "source": [
    "run_cbs(cbs, 'after_fit')"
   ]
  },
  {
   "cell_type": "code",
   "execution_count": null,
   "id": "7537476e",
   "metadata": {},
   "outputs": [],
   "source": [
    "class Learner:\n",
    "    def __init__(self, model, train_dl, valid_dl, lr, opt_func, loss_func, cbs=[]):\n",
    "        fc.store_attr()\n",
    "        for cb in self.cbs: cb.learn = self\n",
    "    \n",
    "    def one_batch(self):\n",
    "        try:\n",
    "            self.preds = self.model(self.xb)\n",
    "            self.loss = self.loss_func(self.preds, self.yb)\n",
    "            self.loss.backward()\n",
    "            self.opt.step()\n",
    "            self.opt.zero_grad()\n",
    "        except CancelBatchException: pass\n",
    "        \n",
    "    def one_epoch(self, train):\n",
    "        try:\n",
    "            callback('before_epoch')\n",
    "            self.model.training = train\n",
    "            dl = train_dl if self.model.training else valid_dl\n",
    "            for self.xb, self.yb in dl:\n",
    "                self.one_batch()\n",
    "        except CancelEpochException: pass\n",
    "        finally: callback('after_epoch')\n",
    "        \n",
    "    \n",
    "    def fit(self, epochs):\n",
    "        try:\n",
    "            callback('before_fit')\n",
    "            self.opt = self.opt_func(model.parameters(), lr = self.lr)\n",
    "            for self.epoch in range(epochs):\n",
    "                self.one_epoch(True)\n",
    "                self.one_epoch(False)\n",
    "        except CancelFitException: pass\n",
    "        finally: callback('after_fit')\n",
    "    \n",
    "    def callback(self, fn):\n",
    "        run_cbs(self.cbs, fn)"
   ]
  },
  {
   "cell_type": "code",
   "execution_count": null,
   "id": "9e84064d",
   "metadata": {},
   "outputs": [],
   "source": []
  }
 ],
 "metadata": {
  "kernelspec": {
   "display_name": "fastai",
   "language": "python",
   "name": "fastai"
  }
 },
 "nbformat": 4,
 "nbformat_minor": 5
}
