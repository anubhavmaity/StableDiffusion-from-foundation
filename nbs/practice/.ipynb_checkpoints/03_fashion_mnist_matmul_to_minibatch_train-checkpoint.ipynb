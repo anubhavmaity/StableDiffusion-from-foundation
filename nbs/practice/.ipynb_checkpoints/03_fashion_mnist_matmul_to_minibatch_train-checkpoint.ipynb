{
 "cells": [
  {
   "cell_type": "markdown",
   "id": "fe950b59",
   "metadata": {},
   "source": [
    "# Matrix Multiplication -> Minibatch Training"
   ]
  },
  {
   "cell_type": "markdown",
   "id": "c891019e",
   "metadata": {},
   "source": [
    "## Load Dataset"
   ]
  },
  {
   "cell_type": "code",
   "execution_count": null,
   "id": "0f45fe50",
   "metadata": {},
   "outputs": [],
   "source": [
    "import os\n",
    "import gzip\n",
    "import numpy as np\n",
    "from itertools import islice\n",
    "import torch\n",
    "from torch import tensor\n",
    "from matplotlib import pyplot as plt\n",
    "from fastcore.test import test_eq, test_close\n",
    "from numba import njit\n",
    "import pdb\n",
    "from torch import nn\n",
    "import torch.nn.functional as F"
   ]
  },
  {
   "cell_type": "code",
   "execution_count": null,
   "id": "d270f111",
   "metadata": {},
   "outputs": [],
   "source": [
    "def load_mnist(path, kind='train'):\n",
    "\n",
    "    \"\"\"Load MNIST data from `path`\"\"\"\n",
    "    labels_path = os.path.join(path,\n",
    "                               '%s-labels-idx1-ubyte.gz'\n",
    "                               % kind)\n",
    "    images_path = os.path.join(path,\n",
    "                               '%s-images-idx3-ubyte.gz'\n",
    "                               % kind)\n",
    "\n",
    "    with gzip.open(labels_path, 'rb') as lbpath:\n",
    "        labels = np.frombuffer(lbpath.read(), dtype=np.uint8,\n",
    "                               offset=8)\n",
    "\n",
    "    with gzip.open(images_path, 'rb') as imgpath:\n",
    "        images = np.frombuffer(imgpath.read(), dtype=np.uint8,\n",
    "                               offset=16).reshape(len(labels), 784)\n",
    "\n",
    "    return images, labels"
   ]
  },
  {
   "cell_type": "code",
   "execution_count": null,
   "id": "a7b95380",
   "metadata": {},
   "outputs": [],
   "source": [
    "# labels from fashion mnist dataset\n",
    "labels = ['T-shirt/top', \n",
    "          'Trouser',\n",
    "          'Pullover',\n",
    "          'Dress',\n",
    "          'Coat',\n",
    "          'Sandal',\n",
    "          'Shirt',\n",
    "          'Sneaker',\n",
    "          'Bag',\n",
    "          'Ankle boot'\n",
    "         ]"
   ]
  },
  {
   "cell_type": "code",
   "execution_count": null,
   "id": "c279c7e3",
   "metadata": {},
   "outputs": [],
   "source": [
    "x_train, y_train = load_mnist('../../data/fashion_mnist', kind='train')\n",
    "x_test, y_test = load_mnist('../../data/fashion_mnist', kind='t10k')\n",
    "\n",
    "x_train, x_test = x_train.astype('float32') / 255., x_test.astype('float32') / 255."
   ]
  },
  {
   "cell_type": "code",
   "execution_count": null,
   "id": "c8495ef7",
   "metadata": {},
   "outputs": [
    {
     "data": {
      "text/plain": [
       "(dtype('float32'), dtype('uint8'))"
      ]
     },
     "execution_count": null,
     "metadata": {},
     "output_type": "execute_result"
    }
   ],
   "source": [
    "x_train.dtype, y_train.dtype"
   ]
  },
  {
   "cell_type": "code",
   "execution_count": null,
   "id": "6586b3c7",
   "metadata": {},
   "outputs": [
    {
     "data": {
      "text/plain": [
       "((60000, 784), (10000, 784), (60000,), (10000,))"
      ]
     },
     "execution_count": null,
     "metadata": {},
     "output_type": "execute_result"
    }
   ],
   "source": [
    "x_train.shape, x_test.shape, y_train.shape, y_test.shape"
   ]
  },
  {
   "cell_type": "markdown",
   "id": "a11b6513",
   "metadata": {},
   "source": [
    "## `chunk`"
   ]
  },
  {
   "cell_type": "code",
   "execution_count": null,
   "id": "e5ecd9f1",
   "metadata": {},
   "outputs": [],
   "source": [
    "lst = list(x_train[0])"
   ]
  },
  {
   "cell_type": "code",
   "execution_count": null,
   "id": "541d90b2",
   "metadata": {},
   "outputs": [],
   "source": [
    "def chunks(array, bs):\n",
    "    for i in range(0, len(array), bs):yield array[i: i + bs]"
   ]
  },
  {
   "cell_type": "code",
   "execution_count": null,
   "id": "a1d68fe4",
   "metadata": {},
   "outputs": [],
   "source": [
    "vals = lst[300: 310]"
   ]
  },
  {
   "cell_type": "code",
   "execution_count": null,
   "id": "013e58db",
   "metadata": {},
   "outputs": [],
   "source": [
    "val_iter = iter(chunks(vals, 5))"
   ]
  },
  {
   "cell_type": "code",
   "execution_count": null,
   "id": "1261dd77",
   "metadata": {},
   "outputs": [
    {
     "data": {
      "text/plain": [
       "[0.8235294, 0.827451, 0.8352941, 0.8745098, 0.8627451]"
      ]
     },
     "execution_count": null,
     "metadata": {},
     "output_type": "execute_result"
    }
   ],
   "source": [
    "next(val_iter)"
   ]
  },
  {
   "cell_type": "code",
   "execution_count": null,
   "id": "af4a6e36",
   "metadata": {},
   "outputs": [
    {
     "data": {
      "text/plain": [
       "<matplotlib.image.AxesImage>"
      ]
     },
     "execution_count": null,
     "metadata": {},
     "output_type": "execute_result"
    },
    {
     "data": {
      "image/png": "[encoded data removed]",
      "text/plain": [
       "<Figure size 640x480 with 1 Axes>"
      ]
     },
     "metadata": {},
     "output_type": "display_data"
    }
   ],
   "source": [
    "plt.imshow(list(chunks(x_train[0], 28)))"
   ]
  },
  {
   "cell_type": "code",
   "execution_count": null,
   "id": "866d3387",
   "metadata": {},
   "outputs": [
    {
     "data": {
      "text/plain": [
       "'Ankle boot'"
      ]
     },
     "execution_count": null,
     "metadata": {},
     "output_type": "execute_result"
    }
   ],
   "source": [
    "labels[y_train[0]] # What is the above image?"
   ]
  },
  {
   "cell_type": "markdown",
   "id": "27ee064b",
   "metadata": {},
   "source": [
    "## `islice` (replacement of `chunk`)"
   ]
  },
  {
   "cell_type": "code",
   "execution_count": null,
   "id": "a0b45f76",
   "metadata": {},
   "outputs": [],
   "source": [
    "vals_slice = islice(vals, 5)"
   ]
  },
  {
   "cell_type": "code",
   "execution_count": null,
   "id": "be2370ba",
   "metadata": {},
   "outputs": [
    {
     "data": {
      "text/plain": [
       "[0.8235294, 0.827451, 0.8352941, 0.8745098, 0.8627451]"
      ]
     },
     "execution_count": null,
     "metadata": {},
     "output_type": "execute_result"
    }
   ],
   "source": [
    "list(vals_slice)"
   ]
  },
  {
   "cell_type": "code",
   "execution_count": null,
   "id": "9cdb92bd",
   "metadata": {},
   "outputs": [],
   "source": [
    "lst_iter = iter(lst)\n",
    "image = list(iter(lambda: list(islice(lst_iter, 28)), []))"
   ]
  },
  {
   "cell_type": "code",
   "execution_count": null,
   "id": "c587be2a",
   "metadata": {},
   "outputs": [
    {
     "data": {
      "text/plain": [
       "<matplotlib.image.AxesImage>"
      ]
     },
     "execution_count": null,
     "metadata": {},
     "output_type": "execute_result"
    },
    {
     "data": {
      "image/png": "[encoded data removed]",
      "text/plain": [
       "<Figure size 640x480 with 1 Axes>"
      ]
     },
     "metadata": {},
     "output_type": "display_data"
    }
   ],
   "source": [
    "plt.imshow(image)"
   ]
  },
  {
   "cell_type": "markdown",
   "id": "84e14110",
   "metadata": {},
   "source": [
    "## Tensor"
   ]
  },
  {
   "cell_type": "code",
   "execution_count": null,
   "id": "bbbefcb0",
   "metadata": {},
   "outputs": [],
   "source": [
    "class Matrix:\n",
    "    def __init__(self, xs):\n",
    "        self.xs = xs\n",
    "    def __getitem__(self, ids):\n",
    "        return self.xs[ids[0]][ids[1]]"
   ]
  },
  {
   "cell_type": "code",
   "execution_count": null,
   "id": "492a14a8",
   "metadata": {},
   "outputs": [],
   "source": [
    "m = Matrix(x_train)"
   ]
  },
  {
   "cell_type": "code",
   "execution_count": null,
   "id": "8b87a03e",
   "metadata": {},
   "outputs": [
    {
     "data": {
      "text/plain": [
       "0.5254902"
      ]
     },
     "execution_count": null,
     "metadata": {},
     "output_type": "execute_result"
    }
   ],
   "source": [
    "m[300, 301]"
   ]
  },
  {
   "cell_type": "code",
   "execution_count": null,
   "id": "a50a0f8e",
   "metadata": {},
   "outputs": [
    {
     "data": {
      "text/plain": [
       "tensor(2)"
      ]
     },
     "execution_count": null,
     "metadata": {},
     "output_type": "execute_result"
    }
   ],
   "source": [
    "a = tensor([[1, 2, 3], [4, 5, 6], [7, 8, 9]]); a[0, 1]"
   ]
  },
  {
   "cell_type": "markdown",
   "id": "700aca2f",
   "metadata": {},
   "source": [
    "## Matrix Multiplication: Brute Force"
   ]
  },
  {
   "cell_type": "code",
   "execution_count": null,
   "id": "36f61ab8",
   "metadata": {},
   "outputs": [],
   "source": [
    "x_train, x_test, y_train, y_test = map(tensor, (x_train, x_test, y_train, y_test))"
   ]
  },
  {
   "cell_type": "code",
   "execution_count": null,
   "id": "67258264",
   "metadata": {},
   "outputs": [],
   "source": [
    "def matmul(a, b):\n",
    "    ar, ac = a.shape\n",
    "    br, bc = b.shape\n",
    "    \n",
    "    res = torch.zeros(ar, bc)\n",
    "    \n",
    "    for i in range(ar):\n",
    "        for j in range(bc):\n",
    "            for k in range(ac):\n",
    "                res[i, j] += a[i, k] * b[k, j]\n",
    "    return res"
   ]
  },
  {
   "cell_type": "code",
   "execution_count": null,
   "id": "cb4439aa",
   "metadata": {},
   "outputs": [],
   "source": [
    "xs = x_test[:5]\n",
    "w = torch.randn(784, 10)\n",
    "res = matmul(xs, w)"
   ]
  },
  {
   "cell_type": "code",
   "execution_count": null,
   "id": "2864c0d7",
   "metadata": {},
   "outputs": [],
   "source": [
    "test_close(res, torch.matmul(xs, w), eps=1e-4)"
   ]
  },
  {
   "cell_type": "code",
   "execution_count": null,
   "id": "4a3ce8c7",
   "metadata": {},
   "outputs": [
    {
     "name": "stdout",
     "output_type": "stream",
     "text": [
      "CPU times: user 841 ms, sys: 12.1 ms, total: 853 ms\n",
      "Wall time: 902 ms\n"
     ]
    }
   ],
   "source": [
    "%time _=matmul(xs, w)"
   ]
  },
  {
   "cell_type": "markdown",
   "id": "fb52b7c3",
   "metadata": {},
   "source": [
    "## Matrix Multiplication: Numba"
   ]
  },
  {
   "cell_type": "code",
   "execution_count": null,
   "id": "6fa14ce5",
   "metadata": {},
   "outputs": [],
   "source": [
    "@njit\n",
    "def dot(a, b):\n",
    "    res = 0\n",
    "    for i in range(len(a)):\n",
    "        res += a[i] * b[i]\n",
    "    return res"
   ]
  },
  {
   "cell_type": "code",
   "execution_count": null,
   "id": "b1953333",
   "metadata": {},
   "outputs": [],
   "source": [
    "a = np.array([1, 2, 3])\n",
    "b = np.array([4, 5, 6])"
   ]
  },
  {
   "cell_type": "code",
   "execution_count": null,
   "id": "b5fe2b4f",
   "metadata": {},
   "outputs": [
    {
     "data": {
      "text/plain": [
       "32"
      ]
     },
     "execution_count": null,
     "metadata": {},
     "output_type": "execute_result"
    }
   ],
   "source": [
    "dot(a, b)"
   ]
  },
  {
   "cell_type": "code",
   "execution_count": null,
   "id": "a8810c68",
   "metadata": {},
   "outputs": [],
   "source": [
    "def matmul(a, b):\n",
    "    ar, ac = a.shape\n",
    "    br, bc = b.shape\n",
    "    res = torch.zeros(ar, bc)\n",
    "    for i in range(ar):\n",
    "        for j in range(bc):\n",
    "            res[i, j] = dot(a[i], b[:, j])\n",
    "    return res"
   ]
  },
  {
   "cell_type": "code",
   "execution_count": null,
   "id": "841b0eec",
   "metadata": {},
   "outputs": [],
   "source": [
    "res = matmul(xs.numpy(), w.numpy())"
   ]
  },
  {
   "cell_type": "code",
   "execution_count": null,
   "id": "67e5ae97",
   "metadata": {},
   "outputs": [],
   "source": [
    "test_close(res, torch.matmul(xs, w), eps=1e-4)"
   ]
  },
  {
   "cell_type": "code",
   "execution_count": null,
   "id": "44188adc",
   "metadata": {},
   "outputs": [
    {
     "name": "stdout",
     "output_type": "stream",
     "text": [
      "CPU times: user 1.54 ms, sys: 1.73 ms, total: 3.26 ms\n",
      "Wall time: 3.08 ms\n"
     ]
    }
   ],
   "source": [
    "%time _=matmul(xs.numpy(), w.numpy())"
   ]
  },
  {
   "cell_type": "markdown",
   "id": "fba8f180",
   "metadata": {},
   "source": [
    "## Matrix Multiplication: `einsum`"
   ]
  },
  {
   "cell_type": "code",
   "execution_count": null,
   "id": "525b01a1",
   "metadata": {},
   "outputs": [],
   "source": [
    "res = torch.einsum('ik,kj->ikj', xs, w)"
   ]
  },
  {
   "cell_type": "code",
   "execution_count": null,
   "id": "80b8157f",
   "metadata": {},
   "outputs": [
    {
     "data": {
      "text/plain": [
       "torch.Size([5, 784, 10])"
      ]
     },
     "execution_count": null,
     "metadata": {},
     "output_type": "execute_result"
    }
   ],
   "source": [
    "res.shape"
   ]
  },
  {
   "cell_type": "code",
   "execution_count": null,
   "id": "7f5da852",
   "metadata": {},
   "outputs": [
    {
     "data": {
      "text/plain": [
       "torch.Size([5, 10])"
      ]
     },
     "execution_count": null,
     "metadata": {},
     "output_type": "execute_result"
    }
   ],
   "source": [
    "res.sum(1).shape"
   ]
  },
  {
   "cell_type": "code",
   "execution_count": null,
   "id": "1d31ea0e",
   "metadata": {},
   "outputs": [],
   "source": [
    "test_close(res.sum(1), torch.matmul(xs, w), eps=1e-4)"
   ]
  },
  {
   "cell_type": "code",
   "execution_count": null,
   "id": "5f39996e",
   "metadata": {},
   "outputs": [],
   "source": [
    "res = torch.einsum('ik,kj->ij', xs, w)\n",
    "test_close(res, torch.matmul(xs, w), eps=1e-4)"
   ]
  },
  {
   "cell_type": "code",
   "execution_count": null,
   "id": "1dbfdc35",
   "metadata": {},
   "outputs": [
    {
     "name": "stdout",
     "output_type": "stream",
     "text": [
      "CPU times: user 666 µs, sys: 852 µs, total: 1.52 ms\n",
      "Wall time: 1.54 ms\n"
     ]
    }
   ],
   "source": [
    "%time _=torch.einsum('ik,kj->ij', xs, w)"
   ]
  },
  {
   "cell_type": "markdown",
   "id": "590c7184",
   "metadata": {},
   "source": [
    "## Matrix Multiplication: Element wise operation"
   ]
  },
  {
   "cell_type": "code",
   "execution_count": null,
   "id": "6bf1fd9a",
   "metadata": {},
   "outputs": [],
   "source": [
    "a = torch.tensor([1, 2, 3])\n",
    "b = torch.tensor([4, 5, 6])"
   ]
  },
  {
   "cell_type": "code",
   "execution_count": null,
   "id": "fc6914f6",
   "metadata": {},
   "outputs": [
    {
     "data": {
      "text/plain": [
       "tensor([ 4, 10, 18])"
      ]
     },
     "execution_count": null,
     "metadata": {},
     "output_type": "execute_result"
    }
   ],
   "source": [
    "a * b"
   ]
  },
  {
   "cell_type": "code",
   "execution_count": null,
   "id": "53c3ad0a",
   "metadata": {},
   "outputs": [],
   "source": [
    "def matmul(a, b):\n",
    "    ar, ac = a.shape\n",
    "    br, bc = b.shape\n",
    "    \n",
    "    res = torch.zeros(ar, bc)\n",
    "    \n",
    "    for i in range(ar):\n",
    "        for j in range(bc):\n",
    "            res[i, j] = (a[i, :] * b[:, j]).sum()\n",
    "    return res"
   ]
  },
  {
   "cell_type": "code",
   "execution_count": null,
   "id": "a77c7d12",
   "metadata": {},
   "outputs": [],
   "source": [
    "res = matmul(xs, w)"
   ]
  },
  {
   "cell_type": "code",
   "execution_count": null,
   "id": "aebb08e4",
   "metadata": {},
   "outputs": [],
   "source": [
    "test_close(res, torch.matmul(xs, w), eps=1e-4)"
   ]
  },
  {
   "cell_type": "code",
   "execution_count": null,
   "id": "03a18e6b",
   "metadata": {},
   "outputs": [
    {
     "name": "stdout",
     "output_type": "stream",
     "text": [
      "CPU times: user 3.03 ms, sys: 1.85 ms, total: 4.88 ms\n",
      "Wall time: 4.41 ms\n"
     ]
    }
   ],
   "source": [
    "%time _=matmul(xs, w)"
   ]
  },
  {
   "cell_type": "markdown",
   "id": "b43afc71",
   "metadata": {},
   "source": [
    "## Matrix Multiplication: Broadcasting"
   ]
  },
  {
   "cell_type": "code",
   "execution_count": null,
   "id": "dd3865bc",
   "metadata": {},
   "outputs": [],
   "source": [
    "a = torch.tensor([10, -6, 4])"
   ]
  },
  {
   "cell_type": "code",
   "execution_count": null,
   "id": "24ef50b7",
   "metadata": {},
   "outputs": [
    {
     "data": {
      "text/plain": [
       "tensor([ True, False,  True])"
      ]
     },
     "execution_count": null,
     "metadata": {},
     "output_type": "execute_result"
    }
   ],
   "source": [
    "a > 0 "
   ]
  },
  {
   "cell_type": "code",
   "execution_count": null,
   "id": "a6b8fb5d",
   "metadata": {},
   "outputs": [
    {
     "data": {
      "text/plain": [
       "tensor([11, -5,  5])"
      ]
     },
     "execution_count": null,
     "metadata": {},
     "output_type": "execute_result"
    }
   ],
   "source": [
    "a + 1"
   ]
  },
  {
   "cell_type": "code",
   "execution_count": null,
   "id": "74c47355",
   "metadata": {},
   "outputs": [],
   "source": [
    "m = torch.tensor([[10, 20, 30], [40, 50, 60], [70, 80, 90]])"
   ]
  },
  {
   "cell_type": "code",
   "execution_count": null,
   "id": "2ae5d712",
   "metadata": {},
   "outputs": [],
   "source": [
    "c = torch.tensor([1, 2, 3])"
   ]
  },
  {
   "cell_type": "code",
   "execution_count": null,
   "id": "63f6b51a",
   "metadata": {},
   "outputs": [
    {
     "data": {
      "text/plain": [
       "(torch.Size([3, 3]), torch.Size([3]))"
      ]
     },
     "execution_count": null,
     "metadata": {},
     "output_type": "execute_result"
    }
   ],
   "source": [
    "m.shape, c.shape"
   ]
  },
  {
   "cell_type": "code",
   "execution_count": null,
   "id": "4bae485b",
   "metadata": {},
   "outputs": [
    {
     "data": {
      "text/plain": [
       "tensor([[11, 22, 33],\n",
       "        [41, 52, 63],\n",
       "        [71, 82, 93]])"
      ]
     },
     "execution_count": null,
     "metadata": {},
     "output_type": "execute_result"
    }
   ],
   "source": [
    "m + c"
   ]
  },
  {
   "cell_type": "code",
   "execution_count": null,
   "id": "1033c24f",
   "metadata": {},
   "outputs": [
    {
     "data": {
      "text/plain": [
       "tensor([[11, 22, 33],\n",
       "        [41, 52, 63],\n",
       "        [71, 82, 93]])"
      ]
     },
     "execution_count": null,
     "metadata": {},
     "output_type": "execute_result"
    }
   ],
   "source": [
    "c + m"
   ]
  },
  {
   "cell_type": "code",
   "execution_count": null,
   "id": "cfea7274",
   "metadata": {},
   "outputs": [],
   "source": [
    "t = c.expand_as(m)"
   ]
  },
  {
   "cell_type": "code",
   "execution_count": null,
   "id": "207df299",
   "metadata": {},
   "outputs": [
    {
     "data": {
      "text/plain": [
       " 1\n",
       " 2\n",
       " 3\n",
       "[torch.storage._TypedStorage(dtype=torch.int64, device=cpu) of size 3]"
      ]
     },
     "execution_count": null,
     "metadata": {},
     "output_type": "execute_result"
    }
   ],
   "source": [
    "t.storage()"
   ]
  },
  {
   "cell_type": "code",
   "execution_count": null,
   "id": "e58def71",
   "metadata": {},
   "outputs": [
    {
     "data": {
      "text/plain": [
       "((0, 1), torch.Size([3, 3]))"
      ]
     },
     "execution_count": null,
     "metadata": {},
     "output_type": "execute_result"
    }
   ],
   "source": [
    "t.stride(), t.shape"
   ]
  },
  {
   "cell_type": "code",
   "execution_count": null,
   "id": "9fa8a593",
   "metadata": {},
   "outputs": [
    {
     "data": {
      "text/plain": [
       "torch.Size([10])"
      ]
     },
     "execution_count": null,
     "metadata": {},
     "output_type": "execute_result"
    }
   ],
   "source": [
    "(xs[0][..., None] * w).sum(0).shape"
   ]
  },
  {
   "cell_type": "code",
   "execution_count": null,
   "id": "925bf393",
   "metadata": {},
   "outputs": [],
   "source": [
    "def matmul(a, b):\n",
    "    ar, ac = a.shape\n",
    "    br, bc = b.shape\n",
    "    \n",
    "    res = torch.zeros(ar, bc)\n",
    "    for i in range(ar):\n",
    "        res[i] = (a[i, ..., None] * b).sum(0)\n",
    "    return res"
   ]
  },
  {
   "cell_type": "code",
   "execution_count": null,
   "id": "b6ae0622",
   "metadata": {},
   "outputs": [],
   "source": [
    "res = matmul(xs, w)"
   ]
  },
  {
   "cell_type": "code",
   "execution_count": null,
   "id": "ef03402a",
   "metadata": {},
   "outputs": [
    {
     "data": {
      "text/plain": [
       "torch.Size([5, 10])"
      ]
     },
     "execution_count": null,
     "metadata": {},
     "output_type": "execute_result"
    }
   ],
   "source": [
    "res.shape"
   ]
  },
  {
   "cell_type": "code",
   "execution_count": null,
   "id": "015b8985",
   "metadata": {},
   "outputs": [],
   "source": [
    "test_close(res, torch.matmul(xs, w))"
   ]
  },
  {
   "cell_type": "code",
   "execution_count": null,
   "id": "f811b0af",
   "metadata": {},
   "outputs": [
    {
     "name": "stdout",
     "output_type": "stream",
     "text": [
      "CPU times: user 1.6 ms, sys: 1.54 ms, total: 3.14 ms\n",
      "Wall time: 2.38 ms\n"
     ]
    }
   ],
   "source": [
    "%time _=matmul(xs, w)"
   ]
  },
  {
   "cell_type": "code",
   "execution_count": null,
   "id": "1ded83e1",
   "metadata": {},
   "outputs": [
    {
     "name": "stdout",
     "output_type": "stream",
     "text": [
      "CPU times: user 595 µs, sys: 638 µs, total: 1.23 ms\n",
      "Wall time: 886 µs\n"
     ]
    }
   ],
   "source": [
    "%time _=xs@w"
   ]
  },
  {
   "cell_type": "markdown",
   "id": "6c718248",
   "metadata": {},
   "source": [
    "## Linear"
   ]
  },
  {
   "cell_type": "code",
   "execution_count": null,
   "id": "0e616ba0",
   "metadata": {},
   "outputs": [],
   "source": [
    "def lin(x, w, b): return x@w + b"
   ]
  },
  {
   "cell_type": "code",
   "execution_count": null,
   "id": "a22f2c9a",
   "metadata": {},
   "outputs": [],
   "source": [
    "nh = 50\n",
    "w1 = torch.randn(784, nh)\n",
    "b1 = torch.zeros(nh)\n",
    "w2 = torch.randn(nh, 1)\n",
    "b2 = torch.zeros(1)"
   ]
  },
  {
   "cell_type": "code",
   "execution_count": null,
   "id": "72c00c93",
   "metadata": {},
   "outputs": [
    {
     "data": {
      "text/plain": [
       "torch.Size([5, 50])"
      ]
     },
     "execution_count": null,
     "metadata": {},
     "output_type": "execute_result"
    }
   ],
   "source": [
    "lin(xs, w1, b1).shape"
   ]
  },
  {
   "cell_type": "markdown",
   "id": "59689170",
   "metadata": {},
   "source": [
    "## Relu"
   ]
  },
  {
   "cell_type": "code",
   "execution_count": null,
   "id": "82cf9b7d",
   "metadata": {},
   "outputs": [],
   "source": [
    "def relu(a): return a.clamp_min(0)"
   ]
  },
  {
   "cell_type": "code",
   "execution_count": null,
   "id": "a550a337",
   "metadata": {},
   "outputs": [
    {
     "data": {
      "text/plain": [
       "tensor([10,  0,  8])"
      ]
     },
     "execution_count": null,
     "metadata": {},
     "output_type": "execute_result"
    }
   ],
   "source": [
    "z = torch.tensor([10, -6, 8]); relu(z)"
   ]
  },
  {
   "cell_type": "markdown",
   "id": "0f346fe8",
   "metadata": {},
   "source": [
    "## Forward"
   ]
  },
  {
   "cell_type": "code",
   "execution_count": null,
   "id": "cba8c30d",
   "metadata": {},
   "outputs": [],
   "source": [
    "def forward(x):\n",
    "    l1 = lin(x, w1, b1)\n",
    "    l2 = relu(l1)\n",
    "    return lin(l2, w2, b2)"
   ]
  },
  {
   "cell_type": "code",
   "execution_count": null,
   "id": "f3b0f126",
   "metadata": {},
   "outputs": [
    {
     "data": {
      "text/plain": [
       "torch.Size([5, 1])"
      ]
     },
     "execution_count": null,
     "metadata": {},
     "output_type": "execute_result"
    }
   ],
   "source": [
    "ys_pred = forward(xs); ys_pred.shape"
   ]
  },
  {
   "cell_type": "markdown",
   "id": "58fdfbdd",
   "metadata": {},
   "source": [
    "## MSE"
   ]
  },
  {
   "cell_type": "code",
   "execution_count": null,
   "id": "2953faee",
   "metadata": {},
   "outputs": [
    {
     "data": {
      "text/plain": [
       "torch.Size([5])"
      ]
     },
     "execution_count": null,
     "metadata": {},
     "output_type": "execute_result"
    }
   ],
   "source": [
    "ys_act = y_test[:5]; ys_act.shape"
   ]
  },
  {
   "cell_type": "code",
   "execution_count": null,
   "id": "ef0bfad6",
   "metadata": {},
   "outputs": [],
   "source": [
    "def mse(pred, act): return (pred[:, 0] - ys_act).pow(2).mean()"
   ]
  },
  {
   "cell_type": "code",
   "execution_count": null,
   "id": "fa2523b1",
   "metadata": {},
   "outputs": [
    {
     "data": {
      "text/plain": [
       "tensor(1433.1292)"
      ]
     },
     "execution_count": null,
     "metadata": {},
     "output_type": "execute_result"
    }
   ],
   "source": [
    "mse(ys_pred, ys_act)"
   ]
  },
  {
   "cell_type": "markdown",
   "id": "bd117fdd",
   "metadata": {},
   "source": [
    "## Forward & Backprop "
   ]
  },
  {
   "cell_type": "code",
   "execution_count": null,
   "id": "66cb57ad",
   "metadata": {},
   "outputs": [],
   "source": [
    "def lin_grad(inp, out, w, b):\n",
    "    inp.g =  out.g @ w.T\n",
    "    w.g = inp.T @ out.g\n",
    "    b.g = out.g.sum(0)"
   ]
  },
  {
   "cell_type": "code",
   "execution_count": null,
   "id": "7a78d71c",
   "metadata": {},
   "outputs": [],
   "source": [
    "def forward_backward(x, y):\n",
    "    l1 = lin(x, w1, b1)\n",
    "    l2 = relu(l1)\n",
    "    out = lin(l2, w2, b2)\n",
    "    loss = mse(out, y)\n",
    "    \n",
    "    out.g = 2 * (out[:, 0] - y).unsqueeze(-1) / x.shape[0]\n",
    "    lin_grad(l2, out, w2, b2)\n",
    "    l1.g = (l1 > 0).float() * l2.g\n",
    "    lin_grad(x, l1, w1, b1)"
   ]
  },
  {
   "cell_type": "code",
   "execution_count": null,
   "id": "78779bef",
   "metadata": {},
   "outputs": [],
   "source": [
    "forward_backward(xs, ys_act)"
   ]
  },
  {
   "cell_type": "code",
   "execution_count": null,
   "id": "8b9908d8",
   "metadata": {},
   "outputs": [],
   "source": [
    "def chck_grad(w1, b1, w2, b2): \n",
    "    return list(map(lambda x: x.g.clone(), (w1, b1, w2, b2)))"
   ]
  },
  {
   "cell_type": "code",
   "execution_count": null,
   "id": "0a045c49",
   "metadata": {},
   "outputs": [],
   "source": [
    "w1g, b1g, w2g, b2g = chck_grad(w1, b1, w2, b2)"
   ]
  },
  {
   "cell_type": "code",
   "execution_count": null,
   "id": "b4a436fc",
   "metadata": {},
   "outputs": [],
   "source": [
    "def make_grad(w1, b1, w2, b2): return list(map(lambda x: x.clone().requires_grad_(True), (w1, b1, w2, b2)))"
   ]
  },
  {
   "cell_type": "code",
   "execution_count": null,
   "id": "58e449a2",
   "metadata": {},
   "outputs": [],
   "source": [
    "w11, b11, w22, b22 = make_grad(w1, b1, w2, b2)"
   ]
  },
  {
   "cell_type": "code",
   "execution_count": null,
   "id": "dcb052a9",
   "metadata": {},
   "outputs": [],
   "source": [
    "def forward(x, y):\n",
    "    l1 = lin(x, w11, b11)\n",
    "    l2 = relu(l1)\n",
    "    out = lin(l2, w22, b22)\n",
    "    return mse(out, y)"
   ]
  },
  {
   "cell_type": "code",
   "execution_count": null,
   "id": "355e1b1c",
   "metadata": {},
   "outputs": [],
   "source": [
    "loss = forward(xs, ys_act)"
   ]
  },
  {
   "cell_type": "code",
   "execution_count": null,
   "id": "9a6e76fa",
   "metadata": {},
   "outputs": [],
   "source": [
    "loss.backward()"
   ]
  },
  {
   "cell_type": "code",
   "execution_count": null,
   "id": "05604d97",
   "metadata": {},
   "outputs": [],
   "source": [
    "for a, b in zip([w1g, b1g, w2g, b2g], [w11, b11, w22, b22]):\n",
    "    test_close(a, b.grad, eps=1e-4)"
   ]
  },
  {
   "cell_type": "markdown",
   "id": "8795ab53",
   "metadata": {},
   "source": [
    "## Layers as Classes"
   ]
  },
  {
   "cell_type": "code",
   "execution_count": null,
   "id": "ff9699fe",
   "metadata": {},
   "outputs": [],
   "source": [
    "class Linear:\n",
    "    def __init__(self, w, b):\n",
    "        self.w = w\n",
    "        self.b = b\n",
    "        \n",
    "    def __call__(self, inp):\n",
    "        self.inp = inp\n",
    "        self.out = inp @ self.w + self.b\n",
    "        return self.out\n",
    "    \n",
    "    def backward(self):\n",
    "        self.inp.g = self.out.g @ self.w.T\n",
    "        self.w.g = self.inp.T @ self.out.g\n",
    "        self.b.g = self.out.g.sum(0)"
   ]
  },
  {
   "cell_type": "code",
   "execution_count": null,
   "id": "190a1230",
   "metadata": {},
   "outputs": [],
   "source": [
    "class Relu:\n",
    "    def __call__(self, inp):\n",
    "        self.inp = inp\n",
    "        self.out = self.inp.clamp_min(0.)\n",
    "        return self.out\n",
    "\n",
    "    def backward(self):\n",
    "        self.inp.g = (self.inp > 0).float() * self.out.g"
   ]
  },
  {
   "cell_type": "code",
   "execution_count": null,
   "id": "3138927f",
   "metadata": {},
   "outputs": [],
   "source": [
    "class MSE:\n",
    "    def __call__(self, pred, act):\n",
    "        self.inp = pred\n",
    "        self.diff = (pred[:, 0] - act)\n",
    "        self.out =  self.diff.pow(2).mean()\n",
    "        return self.out\n",
    "    \n",
    "    def backward(self):\n",
    "        \n",
    "        self.inp.g = 2 * self.diff.unsqueeze(-1) / self.inp.shape[0]"
   ]
  },
  {
   "cell_type": "code",
   "execution_count": null,
   "id": "283e7e40",
   "metadata": {},
   "outputs": [],
   "source": [
    "class Model:\n",
    "    def __init__(self, w1, b1, w2, b2):\n",
    "        self.layers = [Linear(w1, b1), Relu(), Linear(w2, b2)]\n",
    "        self.loss = MSE()\n",
    "        \n",
    "    def __call__(self, x, y):\n",
    "        for layer in self.layers:\n",
    "            x = layer(x)\n",
    "        return self.loss(x, y)\n",
    "    \n",
    "    def backward(self):\n",
    "        self.loss.backward()\n",
    "        for l in reversed(self.layers):\n",
    "            l.backward()"
   ]
  },
  {
   "cell_type": "code",
   "execution_count": null,
   "id": "763f7aa9",
   "metadata": {},
   "outputs": [],
   "source": [
    "m = Model(w1, b1, w2, b2)"
   ]
  },
  {
   "cell_type": "code",
   "execution_count": null,
   "id": "b5bd1bbb",
   "metadata": {},
   "outputs": [],
   "source": [
    "loss = m(xs, ys_act)"
   ]
  },
  {
   "cell_type": "code",
   "execution_count": null,
   "id": "8dc22de9",
   "metadata": {},
   "outputs": [
    {
     "data": {
      "text/plain": [
       "tensor(1433.1292)"
      ]
     },
     "execution_count": null,
     "metadata": {},
     "output_type": "execute_result"
    }
   ],
   "source": [
    "loss"
   ]
  },
  {
   "cell_type": "code",
   "execution_count": null,
   "id": "425c5d99",
   "metadata": {},
   "outputs": [],
   "source": [
    "m.backward()"
   ]
  },
  {
   "cell_type": "code",
   "execution_count": null,
   "id": "4e0ebcb6",
   "metadata": {},
   "outputs": [],
   "source": [
    "test_close(m.layers[0].w.g, w1.g)\n",
    "test_close(m.layers[0].b.g, b1.g)\n",
    "test_close(m.layers[2].w.g, w2.g)\n",
    "test_close(m.layers[2].b.g, b2.g)"
   ]
  },
  {
   "cell_type": "markdown",
   "id": "0dcf2534",
   "metadata": {},
   "source": [
    "## Create `Module`"
   ]
  },
  {
   "cell_type": "code",
   "execution_count": null,
   "id": "b574fa2b",
   "metadata": {},
   "outputs": [],
   "source": [
    "class Module:\n",
    "    def __call__(self, *args):\n",
    "        print('hi')\n",
    "        self.args = args\n",
    "        self.out = self.forward(*self.args)\n",
    "        return self.out\n",
    "    def forward(self): raise Exception('Not implemented')\n",
    "    def bwd(self): raise Exception('Not implemented')\n",
    "    def backward(self): self.bwd(self.out, *self.args)"
   ]
  },
  {
   "cell_type": "code",
   "execution_count": null,
   "id": "bc255fb3",
   "metadata": {},
   "outputs": [],
   "source": [
    "class Linear(Module):\n",
    "    def __init__(self, w, b):\n",
    "        self.w = w\n",
    "        self.b = b\n",
    "        \n",
    "    def forward(self, inp):\n",
    "        return inp@self.w + self.b\n",
    "    \n",
    "    def bwd(self, out, inp):\n",
    "        inp.g = out.g @ self.w.T\n",
    "        self.w.g = inp.T @ out.g\n",
    "        self.b.g = out.g.sum(0)"
   ]
  },
  {
   "cell_type": "code",
   "execution_count": null,
   "id": "8c2c2bc7",
   "metadata": {},
   "outputs": [],
   "source": [
    "class Relu(Module):\n",
    "    def forward(self, inp):\n",
    "        return inp.clamp_min(0.)\n",
    "    def bwd(self, out, inp):\n",
    "        inp.g = (inp > 0) * out.g"
   ]
  },
  {
   "cell_type": "code",
   "execution_count": null,
   "id": "5793830e",
   "metadata": {},
   "outputs": [],
   "source": [
    "class Mse(Module):\n",
    "    def forward(self, pred, act):\n",
    "        print('calling mse')\n",
    "        self.diff = (pred[:, 0] - act)\n",
    "        return self.diff.pow(2).mean()\n",
    "    def bwd(self, out, inp, act):\n",
    "        inp.g = 2 * self.diff.unsqueeze(-1) / inp.shape[0]"
   ]
  },
  {
   "cell_type": "code",
   "execution_count": null,
   "id": "ac4a932a",
   "metadata": {},
   "outputs": [],
   "source": [
    "class Model(Module):\n",
    "    def __init__(self, w1, b1, w2, b2):\n",
    "        self.layers = [Linear(w1, b1), Relu(), Linear(w2, b2)]\n",
    "        self.loss = Mse()\n",
    "    def __call__(self, x, targ):\n",
    "        for l in self.layers: x = l(x)\n",
    "        return self.loss(x, targ)\n",
    "    \n",
    "    def backward(self):\n",
    "        self.loss.backward()\n",
    "        for l in reversed(self.layers): l.backward() "
   ]
  },
  {
   "cell_type": "code",
   "execution_count": null,
   "id": "8cbd14d9",
   "metadata": {},
   "outputs": [],
   "source": [
    "m = Model(w1, b1, w2, b2)"
   ]
  },
  {
   "cell_type": "code",
   "execution_count": null,
   "id": "d49aad9d",
   "metadata": {},
   "outputs": [
    {
     "name": "stdout",
     "output_type": "stream",
     "text": [
      "hi\n",
      "hi\n",
      "hi\n",
      "hi\n",
      "calling mse\n"
     ]
    },
    {
     "data": {
      "text/plain": [
       "tensor(1433.1292)"
      ]
     },
     "execution_count": null,
     "metadata": {},
     "output_type": "execute_result"
    }
   ],
   "source": [
    "m(xs, ys_act)"
   ]
  },
  {
   "cell_type": "code",
   "execution_count": null,
   "id": "50c15eb7",
   "metadata": {},
   "outputs": [],
   "source": [
    "m.backward()"
   ]
  },
  {
   "cell_type": "code",
   "execution_count": null,
   "id": "51da1aba",
   "metadata": {},
   "outputs": [],
   "source": [
    "test_close(w1.g, w1g, eps=1e-4)\n",
    "test_close(w2.g, w2g, eps=1e-4)\n",
    "test_close(b1.g, b1g, eps=1e-4)\n",
    "test_close(b2.g, b2g, eps=1e-4)"
   ]
  },
  {
   "cell_type": "markdown",
   "id": "d80eaadb",
   "metadata": {},
   "source": [
    "## Using Autograd"
   ]
  },
  {
   "cell_type": "code",
   "execution_count": null,
   "id": "44b811bd",
   "metadata": {},
   "outputs": [],
   "source": [
    "class Linear(nn.Module):\n",
    "    def __init__(self, w, b):\n",
    "        super().__init__()\n",
    "        self.w = w\n",
    "        self.b = b\n",
    "    def forward(self, x):\n",
    "        return x@self.w + self.b"
   ]
  },
  {
   "cell_type": "code",
   "execution_count": null,
   "id": "d0cebf24",
   "metadata": {},
   "outputs": [],
   "source": [
    "class Relu(nn.Module):\n",
    "    def __init__(self):\n",
    "        super().__init__()\n",
    "    def forward(self, x):\n",
    "        return x.clamp_min(0.)"
   ]
  },
  {
   "cell_type": "code",
   "execution_count": null,
   "id": "86767eb7",
   "metadata": {},
   "outputs": [],
   "source": [
    "class Mse(nn.Module):\n",
    "    def __init__(self):\n",
    "        super().__init__()\n",
    "    def forward(self, x, y):\n",
    "        return (x[:, 0] - y).pow(2).mean()"
   ]
  },
  {
   "cell_type": "code",
   "execution_count": null,
   "id": "5b71c7b8",
   "metadata": {},
   "outputs": [],
   "source": [
    "class Model(nn.Module):\n",
    "    def __init__(self, w1, b1, w2, b2):\n",
    "        super().__init__()\n",
    "        self.layers = [Linear(w1, b1), Relu(), Linear(w2, b2)]\n",
    "        self.loss = Mse()\n",
    "    def forward(self, x, y):\n",
    "        for l in self.layers: x = l(x)\n",
    "        return self.loss(x, y)"
   ]
  },
  {
   "cell_type": "code",
   "execution_count": null,
   "id": "1b50e483",
   "metadata": {},
   "outputs": [],
   "source": [
    "w11, b11, w22, b22 = make_grad(w1, b1, w2, b2)\n",
    "m = Model(w11, b11, w22, b22)"
   ]
  },
  {
   "cell_type": "code",
   "execution_count": null,
   "id": "679a2a62",
   "metadata": {},
   "outputs": [
    {
     "data": {
      "text/plain": [
       "tensor(1433.1292, grad_fn=<MeanBackward0>)"
      ]
     },
     "execution_count": null,
     "metadata": {},
     "output_type": "execute_result"
    }
   ],
   "source": [
    "loss = m(xs, ys_act);loss"
   ]
  },
  {
   "cell_type": "code",
   "execution_count": null,
   "id": "6e834076",
   "metadata": {},
   "outputs": [],
   "source": [
    "loss.backward()"
   ]
  },
  {
   "cell_type": "code",
   "execution_count": null,
   "id": "40e3d1e6",
   "metadata": {},
   "outputs": [],
   "source": [
    "test_close(w11.grad, w1.g, eps=1e-4)"
   ]
  },
  {
   "cell_type": "code",
   "execution_count": null,
   "id": "fc12ce21",
   "metadata": {},
   "outputs": [],
   "source": [
    "test_close(b11.grad, b1.g, eps=1e-4)"
   ]
  },
  {
   "cell_type": "code",
   "execution_count": null,
   "id": "142a5b66",
   "metadata": {},
   "outputs": [],
   "source": [
    "test_close(w22.grad, w2.g, eps=1e-4)"
   ]
  },
  {
   "cell_type": "code",
   "execution_count": null,
   "id": "0b2d42cd",
   "metadata": {},
   "outputs": [],
   "source": [
    "test_close(b22.grad, b2.g, eps=1e-4)"
   ]
  },
  {
   "cell_type": "markdown",
   "id": "33dee2ba",
   "metadata": {},
   "source": [
    "## Log Cross Entropy"
   ]
  },
  {
   "cell_type": "code",
   "execution_count": null,
   "id": "a3456bfe",
   "metadata": {},
   "outputs": [
    {
     "data": {
      "text/plain": [
       "torch.nn.modules.activation.ReLU"
      ]
     },
     "execution_count": null,
     "metadata": {},
     "output_type": "execute_result"
    }
   ],
   "source": [
    "nn.ReLU"
   ]
  },
  {
   "cell_type": "code",
   "execution_count": null,
   "id": "39182aaa",
   "metadata": {},
   "outputs": [],
   "source": [
    "class Model(nn.Module):\n",
    "    def __init__(self, n_in, nh, n_out):\n",
    "        super().__init__()\n",
    "        self.layers = [nn.Linear(n_in, nh), nn.ReLU(), nn.Linear(nh, n_out)]\n",
    "    def forward(self, x):\n",
    "        for layer in self.layers: x = layer(x)\n",
    "        return x"
   ]
  },
  {
   "cell_type": "code",
   "execution_count": null,
   "id": "d25a46fd",
   "metadata": {},
   "outputs": [],
   "source": [
    "m = Model(784, 50, 10)\n",
    "out = m(xs)"
   ]
  },
  {
   "cell_type": "code",
   "execution_count": null,
   "id": "a18ca637",
   "metadata": {},
   "outputs": [
    {
     "data": {
      "text/plain": [
       "torch.Size([5, 10])"
      ]
     },
     "execution_count": null,
     "metadata": {},
     "output_type": "execute_result"
    }
   ],
   "source": [
    "out.shape"
   ]
  },
  {
   "cell_type": "code",
   "execution_count": null,
   "id": "ef6b0959",
   "metadata": {},
   "outputs": [
    {
     "data": {
      "text/plain": [
       "tensor([[ 0.0852, -0.1359, -0.0131, -0.1842, -0.0087,  0.0179,  0.0840, -0.2077,\n",
       "          0.1928, -0.0751],\n",
       "        [ 0.1801, -0.1427, -0.0762, -0.0666,  0.0103, -0.0312,  0.0918, -0.2366,\n",
       "         -0.0247, -0.0776],\n",
       "        [ 0.0098, -0.1274, -0.1620, -0.1563,  0.1329,  0.0614,  0.1385, -0.1689,\n",
       "          0.1120, -0.1059],\n",
       "        [ 0.0170, -0.1368, -0.1818, -0.2085,  0.0729,  0.0038,  0.1303, -0.1866,\n",
       "          0.0717, -0.1421],\n",
       "        [ 0.1636, -0.1494, -0.0735, -0.1637, -0.0222, -0.0264,  0.0235, -0.1320,\n",
       "          0.0283, -0.1920]], grad_fn=<AddmmBackward0>)"
      ]
     },
     "execution_count": null,
     "metadata": {},
     "output_type": "execute_result"
    }
   ],
   "source": [
    "out"
   ]
  },
  {
   "cell_type": "code",
   "execution_count": null,
   "id": "778e544a",
   "metadata": {},
   "outputs": [],
   "source": [
    "def log_softmax(x):\n",
    "    return x - x.exp().sum(-1, keepdim=True).log()"
   ]
  },
  {
   "cell_type": "code",
   "execution_count": null,
   "id": "654157ce",
   "metadata": {},
   "outputs": [
    {
     "data": {
      "text/plain": [
       "tensor([[-2.2003, -2.4214, -2.2985, -2.4696, -2.2941, -2.2676, -2.2015, -2.4932,\n",
       "         -2.0927, -2.3605],\n",
       "        [-2.0912, -2.4140, -2.3475, -2.3379, -2.2611, -2.3025, -2.1796, -2.5079,\n",
       "         -2.2961, -2.3490],\n",
       "        [-2.2739, -2.4111, -2.4457, -2.4400, -2.1507, -2.2223, -2.1451, -2.4526,\n",
       "         -2.1717, -2.3896],\n",
       "        [-2.2369, -2.3907, -2.4358, -2.4624, -2.1811, -2.2501, -2.1237, -2.4405,\n",
       "         -2.1822, -2.3961],\n",
       "        [-2.0901, -2.4032, -2.3273, -2.4174, -2.2760, -2.2801, -2.2302, -2.3857,\n",
       "         -2.2255, -2.4457]], grad_fn=<SubBackward0>)"
      ]
     },
     "execution_count": null,
     "metadata": {},
     "output_type": "execute_result"
    }
   ],
   "source": [
    "log_softmax(out)"
   ]
  },
  {
   "cell_type": "code",
   "execution_count": null,
   "id": "01dede8c",
   "metadata": {},
   "outputs": [
    {
     "name": "stderr",
     "output_type": "stream",
     "text": [
      "/var/folders/wh/7kgzwj895cb622q6m52_0v3r0000gn/T/ipykernel_9597/410582909.py:1: UserWarning: Implicit dimension choice for log_softmax has been deprecated. Change the call to include dim=X as an argument.\n",
      "  test_close(log_softmax(out), F.log_softmax(out), eps=1e-4)\n"
     ]
    }
   ],
   "source": [
    "test_close(log_softmax(out), F.log_softmax(out), eps=1e-4)"
   ]
  },
  {
   "cell_type": "code",
   "execution_count": null,
   "id": "e79080d0",
   "metadata": {},
   "outputs": [],
   "source": [
    "def logsumexp(x):\n",
    "    a = torch.max(x, -1, keepdim=True).values\n",
    "    return a.squeeze(-1) + (x-a).exp().sum(-1).log()"
   ]
  },
  {
   "cell_type": "code",
   "execution_count": null,
   "id": "5d19c3cf",
   "metadata": {},
   "outputs": [],
   "source": [
    "test_close(logsumexp(out), torch.logsumexp(out, -1))"
   ]
  },
  {
   "cell_type": "code",
   "execution_count": null,
   "id": "a0b42656",
   "metadata": {},
   "outputs": [],
   "source": [
    "def cross_entropy(x, y):\n",
    "    return -F.log_softmax(x)[range(len(y)), y.long()].mean()"
   ]
  },
  {
   "cell_type": "code",
   "execution_count": null,
   "id": "31ede398",
   "metadata": {},
   "outputs": [
    {
     "name": "stderr",
     "output_type": "stream",
     "text": [
      "/var/folders/wh/7kgzwj895cb622q6m52_0v3r0000gn/T/ipykernel_9597/4108778016.py:2: UserWarning: Implicit dimension choice for log_softmax has been deprecated. Change the call to include dim=X as an argument.\n",
      "  return -F.log_softmax(x)[range(len(y)), y.long()].mean()\n"
     ]
    },
    {
     "data": {
      "text/plain": [
       "tensor(2.3480, grad_fn=<NegBackward0>)"
      ]
     },
     "execution_count": null,
     "metadata": {},
     "output_type": "execute_result"
    }
   ],
   "source": [
    "cross_entropy(out, ys_act)"
   ]
  },
  {
   "cell_type": "code",
   "execution_count": null,
   "id": "6b39776f",
   "metadata": {},
   "outputs": [
    {
     "name": "stderr",
     "output_type": "stream",
     "text": [
      "/var/folders/wh/7kgzwj895cb622q6m52_0v3r0000gn/T/ipykernel_9597/4108778016.py:2: UserWarning: Implicit dimension choice for log_softmax has been deprecated. Change the call to include dim=X as an argument.\n",
      "  return -F.log_softmax(x)[range(len(y)), y.long()].mean()\n"
     ]
    }
   ],
   "source": [
    "test_close(cross_entropy(out, ys_act), F.cross_entropy(out, ys_act))"
   ]
  },
  {
   "cell_type": "markdown",
   "id": "34878056",
   "metadata": {},
   "source": [
    "## Train loop"
   ]
  },
  {
   "cell_type": "code",
   "execution_count": null,
   "id": "ab586c4d",
   "metadata": {},
   "outputs": [],
   "source": [
    "def accuracy(logits, y):\n",
    "    return (logits.max(-1) == y).mean()"
   ]
  },
  {
   "cell_type": "code",
   "execution_count": null,
   "id": "dcc4ee74",
   "metadata": {},
   "outputs": [],
   "source": [
    "def train(epoch, bs=32, lr=0.01):\n",
    "    for i in range(epoch):\n",
    "        for j in range(len(x_train)):\n",
    "            s = slice(j, j + bs)\n",
    "            xb, yb = x_train[s], y_train[s]\n",
    "            \n",
    "            logits = m(xb)\n",
    "            loss = F.cross_entropy(y_pred, yb)\n",
    "            loss.backward()\n",
    "            if i == 0: print('accuracy ', accuracy(logits, yb))\n",
    "\n",
    "            with torch.no_grad():\n",
    "                for layer in m.layers:\n",
    "                    if hasattr(layer, 'weight'):\n",
    "                        layer.weight -= lr * layer.weight.grad\n",
    "                        layer.bias -= lr * layer.bias.grad"
   ]
  },
  {
   "cell_type": "code",
   "execution_count": null,
   "id": "2e976b66",
   "metadata": {},
   "outputs": [
    {
     "ename": "NameError",
     "evalue": "name 'logits' is not defined",
     "output_type": "error",
     "traceback": [
      "\u001b[0;31m---------------------------------------------------------------------------\u001b[0m",
      "\u001b[0;31mNameError\u001b[0m                                 Traceback (most recent call last)",
      "Cell \u001b[0;32mIn [281], line 1\u001b[0m\n\u001b[0;32m----> 1\u001b[0m train(\u001b[38;5;241m1\u001b[39m)\n",
      "Cell \u001b[0;32mIn [280], line 10\u001b[0m, in \u001b[0;36mtrain\u001b[0;34m(epoch, bs, lr)\u001b[0m\n\u001b[1;32m      8\u001b[0m loss \u001b[38;5;241m=\u001b[39m F\u001b[38;5;241m.\u001b[39mcross_entropy(y_pred, yb)\n\u001b[1;32m      9\u001b[0m loss\u001b[38;5;241m.\u001b[39mbackward()\n\u001b[0;32m---> 10\u001b[0m \u001b[38;5;28;01mif\u001b[39;00m i \u001b[38;5;241m==\u001b[39m \u001b[38;5;241m0\u001b[39m: \u001b[38;5;28mprint\u001b[39m(\u001b[38;5;124m'\u001b[39m\u001b[38;5;124maccuracy \u001b[39m\u001b[38;5;124m'\u001b[39m, accuracy(\u001b[43mlogits\u001b[49m, yb))\n\u001b[1;32m     12\u001b[0m \u001b[38;5;28;01mwith\u001b[39;00m torch\u001b[38;5;241m.\u001b[39mno_grad():\n\u001b[1;32m     13\u001b[0m     \u001b[38;5;28;01mfor\u001b[39;00m layer \u001b[38;5;129;01min\u001b[39;00m m\u001b[38;5;241m.\u001b[39mlayers:\n",
      "\u001b[0;31mNameError\u001b[0m: name 'logits' is not defined"
     ]
    }
   ],
   "source": [
    "train(1)"
   ]
  },
  {
   "cell_type": "code",
   "execution_count": null,
   "id": "595b3f73",
   "metadata": {},
   "outputs": [],
   "source": []
  }
 ],
 "metadata": {
  "kernelspec": {
   "display_name": "fastai",
   "language": "python",
   "name": "fastai"
  }
 },
 "nbformat": 4,
 "nbformat_minor": 5
}
