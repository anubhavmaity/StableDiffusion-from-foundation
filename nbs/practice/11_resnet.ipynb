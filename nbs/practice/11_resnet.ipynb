{
 "cells": [
  {
   "cell_type": "code",
   "execution_count": 1,
   "id": "0b95111c-eba4-43bd-8800-5a3ecb36d793",
   "metadata": {
    "tags": []
   },
   "outputs": [
    {
     "name": "stderr",
     "output_type": "stream",
     "text": [
      "/home/studio-lab-user/.conda/envs/fastai/lib/python3.9/site-packages/deeplake/util/check_latest_version.py:32: UserWarning: A newer version of deeplake (3.9.3) is available. It's recommended that you update to the latest version using `pip install -U deeplake`.\n",
      "  warnings.warn(\n"
     ]
    }
   ],
   "source": [
    "from functools import partial\n",
    "import fastcore.all as fc\n",
    "from IPython.display import Markdown\n",
    "\n",
    "from datasets import load_dataset\n",
    "\n",
    "from torch import nn\n",
    "from torch import optim\n",
    "from torch.nn import init\n",
    "import torch.nn.functional as F\n",
    "from torcheval.metrics import MulticlassAccuracy\n",
    "import torchvision.transforms.functional as TF\n",
    "from torch.optim import lr_scheduler\n",
    "\n",
    "from minai.learner import inplace, DataLoaders, TrainLearner, MetricsCB, ProgressCB, DeviceCB, SingleBatchCB, Learner\n",
    "from minai.init import init_weights, get_model, conv, GeneralRelu, set_seed\n",
    "from minai.activations import ActivationStats, Hooks\n",
    "from minai.sgd import BatchSchedCB"
   ]
  },
  {
   "cell_type": "code",
   "execution_count": 2,
   "id": "99fab447-7ecf-4342-abd0-15d7c1bc1991",
   "metadata": {
    "tags": []
   },
   "outputs": [
    {
     "data": {
      "text/plain": [
       "DatasetDict({\n",
       "    train: Dataset({\n",
       "        features: ['image', 'label'],\n",
       "        num_rows: 60000\n",
       "    })\n",
       "    test: Dataset({\n",
       "        features: ['image', 'label'],\n",
       "        num_rows: 10000\n",
       "    })\n",
       "})"
      ]
     },
     "execution_count": 2,
     "metadata": {},
     "output_type": "execute_result"
    }
   ],
   "source": [
    "bs = 1024\n",
    "x, y = 'image', 'label'\n",
    "ds = load_dataset('fashion_mnist')\n",
    "ds"
   ]
  },
  {
   "cell_type": "code",
   "execution_count": 3,
   "id": "adde81c3-f7e3-4a8a-af84-974541a57088",
   "metadata": {
    "tags": []
   },
   "outputs": [],
   "source": [
    "@inplace\n",
    "def transformi(b): b[x] = [TF.to_tensor(o) for o in b[x]]"
   ]
  },
  {
   "cell_type": "code",
   "execution_count": 4,
   "id": "0f8c4213-ec50-4f59-ad1f-5f4f7b389f6f",
   "metadata": {
    "tags": []
   },
   "outputs": [
    {
     "data": {
      "text/plain": [
       "DatasetDict({\n",
       "    train: Dataset({\n",
       "        features: ['image', 'label'],\n",
       "        num_rows: 60000\n",
       "    })\n",
       "    test: Dataset({\n",
       "        features: ['image', 'label'],\n",
       "        num_rows: 10000\n",
       "    })\n",
       "})"
      ]
     },
     "execution_count": 4,
     "metadata": {},
     "output_type": "execute_result"
    }
   ],
   "source": [
    "dsd = ds.with_transform(transformi)\n",
    "dsd"
   ]
  },
  {
   "cell_type": "code",
   "execution_count": 5,
   "id": "595d4341-c25c-40f7-bdf3-cd72e77a12b3",
   "metadata": {
    "tags": []
   },
   "outputs": [],
   "source": [
    "dls = DataLoaders.from_dd(dsd, batch_size=bs)"
   ]
  },
  {
   "cell_type": "code",
   "execution_count": 6,
   "id": "0a69b013-7a60-4d3e-9c09-43fba9fa7c55",
   "metadata": {
    "tags": []
   },
   "outputs": [],
   "source": [
    "metrics = MetricsCB(accuracy=MulticlassAccuracy())\n",
    "act_gr = partial(GeneralRelu, leak=0.1, sub=0.4)\n",
    "astats = ActivationStats(mod_filter=fc.risinstance(GeneralRelu))\n",
    "cbs = [DeviceCB(), metrics, ProgressCB(plot=True), astats]\n",
    "iw = partial(init_weights, leaky=0.1)"
   ]
  },
  {
   "cell_type": "markdown",
   "id": "2d4e800d-b851-42f7-bdd7-5b05e9b1577b",
   "metadata": {},
   "source": [
    "## Going Deeper"
   ]
  },
  {
   "cell_type": "code",
   "execution_count": 7,
   "id": "40faa2fa-64af-485e-8e57-bd378270211a",
   "metadata": {
    "tags": []
   },
   "outputs": [],
   "source": [
    "def get_model(act=act_gr, nfs=(8, 16, 32, 64, 128), stride=1, norm=nn.BatchNorm2d):\n",
    "    layers = [conv(1, 8, stride=stride, act=act, norm=norm)]\n",
    "    layers += [conv(nfs[i], nfs[i+1], act=act, norm=norm) for i in range(len(nfs) - 1)]\n",
    "    layers += [conv(nfs[-1], 10, act=None)]\n",
    "    return nn.Sequential(*layers, nn.Flatten())"
   ]
  },
  {
   "cell_type": "code",
   "execution_count": 8,
   "id": "c170d2ec-584b-40d2-b717-c3c6e8fab558",
   "metadata": {
    "tags": []
   },
   "outputs": [],
   "source": [
    "xb, yb = next(iter(dls.train))"
   ]
  },
  {
   "cell_type": "code",
   "execution_count": 9,
   "id": "1971a268-a837-4d36-83ba-b274170ccb6f",
   "metadata": {
    "tags": []
   },
   "outputs": [],
   "source": [
    "model = get_model().apply(iw)"
   ]
  },
  {
   "cell_type": "code",
   "execution_count": 10,
   "id": "452b2b37-ab71-4616-a4a4-3d6f75e44559",
   "metadata": {
    "tags": []
   },
   "outputs": [
    {
     "name": "stdout",
     "output_type": "stream",
     "text": [
      "Sequential torch.Size([1024, 1, 28, 28]) torch.Size([1024, 8, 28, 28])\n",
      "Sequential torch.Size([1024, 8, 28, 28]) torch.Size([1024, 16, 14, 14])\n",
      "Sequential torch.Size([1024, 16, 14, 14]) torch.Size([1024, 32, 7, 7])\n",
      "Sequential torch.Size([1024, 32, 7, 7]) torch.Size([1024, 64, 4, 4])\n",
      "Sequential torch.Size([1024, 64, 4, 4]) torch.Size([1024, 128, 2, 2])\n",
      "Sequential torch.Size([1024, 128, 2, 2]) torch.Size([1024, 10, 1, 1])\n",
      "Flatten torch.Size([1024, 10, 1, 1]) torch.Size([1024, 10])\n"
     ]
    }
   ],
   "source": [
    "def _print_shape(hook, mod, inp, outp): print(type(mod).__name__, inp[0].shape, outp.shape)\n",
    "learn = TrainLearner(model, dls, F.cross_entropy, [DeviceCB(), SingleBatchCB()], lr=1e-5, opt_func=optim.AdamW)\n",
    "with Hooks(model, _print_shape): learn.fit(1)"
   ]
  },
  {
   "cell_type": "code",
   "execution_count": 11,
   "id": "11a2fbd3-6051-4a33-93ab-5c3e1705e895",
   "metadata": {
    "tags": []
   },
   "outputs": [
    {
     "data": {
      "text/plain": [
       "72"
      ]
     },
     "execution_count": 11,
     "metadata": {},
     "output_type": "execute_result"
    }
   ],
   "source": [
    "list(learn.model[0].parameters())[0].numel()"
   ]
  },
  {
   "cell_type": "code",
   "execution_count": 12,
   "id": "de719a3b-d8ec-41a4-a43a-e260da7635da",
   "metadata": {
    "tags": []
   },
   "outputs": [
    {
     "data": {
      "image/png": "[encoded data removed]",
      "text/plain": [
       "<Figure size 640x480 with 1 Axes>"
      ]
     },
     "metadata": {},
     "output_type": "display_data"
    }
   ],
   "source": [
    "TrainLearner(get_model().apply(iw), dls, F.cross_entropy, [DeviceCB(), metrics], lr=1e-4, opt_func=optim.AdamW).lr_find()"
   ]
  },
  {
   "cell_type": "code",
   "execution_count": 13,
   "id": "3dacda66-c06c-46d3-b974-768d4ce0050a",
   "metadata": {
    "tags": []
   },
   "outputs": [
    {
     "data": {
      "text/html": [
       "\n",
       "<style>\n",
       "    /* Turns off some styling */\n",
       "    progress {\n",
       "        /* gets rid of default border in Firefox and Opera. */\n",
       "        border: none;\n",
       "        /* Needs to be in here for Safari polyfill so background images work as expected. */\n",
       "        background-size: auto;\n",
       "    }\n",
       "    progress:not([value]), progress:not([value])::-webkit-progress-bar {\n",
       "        background: repeating-linear-gradient(45deg, #7e7e7e, #7e7e7e 10px, #5c5c5c 10px, #5c5c5c 20px);\n",
       "    }\n",
       "    .progress-bar-interrupted, .progress-bar-interrupted::-webkit-progress-bar {\n",
       "        background: #F44336;\n",
       "    }\n",
       "</style>\n"
      ],
      "text/plain": [
       "<IPython.core.display.HTML object>"
      ]
     },
     "metadata": {},
     "output_type": "display_data"
    },
    {
     "data": {
      "text/html": [
       "<table border=\"1\" class=\"dataframe\">\n",
       "  <thead>\n",
       "    <tr style=\"text-align: left;\">\n",
       "      <th>accuracy</th>\n",
       "      <th>loss</th>\n",
       "      <th>epoch</th>\n",
       "      <th>train</th>\n",
       "    </tr>\n",
       "  </thead>\n",
       "  <tbody>\n",
       "    <tr>\n",
       "      <td> 0.825</td>\n",
       "      <td> 0.482</td>\n",
       "      <td>0</td>\n",
       "      <td>True</td>\n",
       "    </tr>\n",
       "    <tr>\n",
       "      <td> 0.868</td>\n",
       "      <td> 0.365</td>\n",
       "      <td>0</td>\n",
       "      <td>False</td>\n",
       "    </tr>\n",
       "  </tbody>\n",
       "</table>"
      ],
      "text/plain": [
       "<IPython.core.display.HTML object>"
      ]
     },
     "metadata": {},
     "output_type": "display_data"
    },
    {
     "data": {
      "image/png": "[encoded data removed]",
      "text/plain": [
       "<Figure size 600x400 with 1 Axes>"
      ]
     },
     "metadata": {},
     "output_type": "display_data"
    }
   ],
   "source": [
    "learn = TrainLearner(model, dls, F.cross_entropy, cbs=cbs, lr=6e-3, opt_func=optim.AdamW)\n",
    "learn.fit(1)"
   ]
  },
  {
   "cell_type": "code",
   "execution_count": 14,
   "id": "022af2fc-cc0b-400d-98e5-02ae5f6be027",
   "metadata": {
    "tags": []
   },
   "outputs": [],
   "source": [
    "@fc.patch\n",
    "def summary(self:Learner):\n",
    "    res = '|Layer|Input Shape|Output Shape|# of params|\\n|--|--|--|--|\\n'\n",
    "    total_params = 0\n",
    "    \n",
    "    def _f(hook, mod, inp, outp):\n",
    "        nonlocal res, total_params\n",
    "        num_params = sum(o.numel() for o in mod.parameters())\n",
    "        total_params += num_params\n",
    "        res += f'|{type(mod).__name__}|{tuple(inp[0].shape)}|{tuple(outp.shape)}|{num_params}|\\n'\n",
    "    \n",
    "    with Hooks(self.model, _f): self.fit(1, train=False, cbs=[DeviceCB(), SingleBatchCB()], lr=self.lr)\n",
    "    print('Total params', total_params)\n",
    "    if fc.IN_NOTEBOOK:\n",
    "        return Markdown(res)\n",
    "    else:\n",
    "        print(res)"
   ]
  },
  {
   "cell_type": "code",
   "execution_count": 15,
   "id": "c061215e-75fb-450c-8a42-7da49b450007",
   "metadata": {},
   "outputs": [
    {
     "name": "stdout",
     "output_type": "stream",
     "text": [
      "Total params 110266\n"
     ]
    },
    {
     "data": {
      "text/markdown": [
       "|Layer|Input Shape|Output Shape|# of params|\n",
       "|--|--|--|--|\n",
       "|Sequential|(1024, 1, 28, 28)|(1024, 8, 28, 28)|96|\n",
       "|Sequential|(1024, 8, 28, 28)|(1024, 16, 14, 14)|1200|\n",
       "|Sequential|(1024, 16, 14, 14)|(1024, 32, 7, 7)|4704|\n",
       "|Sequential|(1024, 32, 7, 7)|(1024, 64, 4, 4)|18624|\n",
       "|Sequential|(1024, 64, 4, 4)|(1024, 128, 2, 2)|74112|\n",
       "|Sequential|(1024, 128, 2, 2)|(1024, 10, 1, 1)|11530|\n",
       "|Flatten|(1024, 10, 1, 1)|(1024, 10)|0|\n"
      ],
      "text/plain": [
       "<IPython.core.display.Markdown object>"
      ]
     },
     "execution_count": 15,
     "metadata": {},
     "output_type": "execute_result"
    }
   ],
   "source": [
    "TrainLearner(get_model().apply(iw), dls, F.cross_entropy, [DeviceCB(), metrics], lr=1e-4, opt_func=optim.AdamW).summary()"
   ]
  },
  {
   "cell_type": "markdown",
   "id": "4eeafdb3-af5f-452f-a733-215ba8cce96b",
   "metadata": {},
   "source": [
    "## ResBlock"
   ]
  },
  {
   "cell_type": "code",
   "execution_count": 16,
   "id": "f67714c0-cea6-4039-ba02-db93185770f4",
   "metadata": {
    "tags": []
   },
   "outputs": [],
   "source": [
    "class GlobalAvgPool(nn.Module):\n",
    "    def __init__(self):\n",
    "        super().__init__()\n",
    "    def forward(self, x):\n",
    "        return x.mean((-2, -1))"
   ]
  },
  {
   "cell_type": "code",
   "execution_count": 17,
   "id": "ceaa2659-f36c-43d9-b601-79a70eab3163",
   "metadata": {
    "tags": []
   },
   "outputs": [],
   "source": [
    "def conv_block(ni, nf, ks=3, stride=2, act=act_gr, norm=nn.BatchNorm2d):\n",
    "    conv2 = conv(nf, nf, stride=stride, act=None, norm=norm)\n",
    "    init.zeros_(conv2[1].weight)\n",
    "    conv1 = conv(ni, nf, stride=1, act=act_gr, norm=norm)\n",
    "    return nn.Sequential(conv1, conv2)"
   ]
  },
  {
   "cell_type": "code",
   "execution_count": 18,
   "id": "7d9d39a3-f232-49c9-9c29-9df74080f826",
   "metadata": {
    "tags": []
   },
   "outputs": [],
   "source": [
    "class ResBlock(nn.Module):\n",
    "    def __init__(self, ni, nf, ks=3, stride=2, act=act_gr, norm=nn.BatchNorm2d):\n",
    "        super().__init__()\n",
    "        self.conv_block = conv_block(ni, nf, ks=ks, stride=stride, act=act_gr, norm=norm)\n",
    "        self.idconv = fc.noop if ni ==nf else conv(ni, nf, ks=1, stride=1, act=None) \n",
    "        self.pool = fc.noop if stride == 1 else nn.AvgPool2d(2, ceil_mode=True)\n",
    "        self.act = act()\n",
    "        \n",
    "    def forward(self, x):\n",
    "        return self.act(self.conv_block(x) + self.idconv(self.pool(x)))"
   ]
  },
  {
   "cell_type": "code",
   "execution_count": 19,
   "id": "c6bedb63-1b13-4e20-82cd-f0ff74374c60",
   "metadata": {
    "tags": []
   },
   "outputs": [],
   "source": [
    "def get_model(act=act_gr, nfs=(8, 16, 32, 64, 128, 256), stride=1, norm=nn.BatchNorm2d):\n",
    "    layers = [ResBlock(1, 8, stride=1, act=act, norm=norm)]\n",
    "    layers += [ResBlock(nfs[i], nfs[i+1]) for i in range(len(nfs) - 1)]\n",
    "    layers += [nn.Flatten(), nn.Linear(nfs[-1], 10), nn.BatchNorm1d(10)]\n",
    "    return nn.Sequential(*layers)"
   ]
  },
  {
   "cell_type": "code",
   "execution_count": 20,
   "id": "76f97650-f0cc-45c2-be64-474e2b879e4c",
   "metadata": {
    "tags": []
   },
   "outputs": [
    {
     "data": {
      "text/plain": [
       "torch.Size([1024, 10])"
      ]
     },
     "execution_count": 20,
     "metadata": {},
     "output_type": "execute_result"
    }
   ],
   "source": [
    "get_model()(xb).shape"
   ]
  },
  {
   "cell_type": "code",
   "execution_count": 21,
   "id": "ca8b825b-c045-487d-8137-2aded115c7d6",
   "metadata": {
    "tags": []
   },
   "outputs": [
    {
     "name": "stdout",
     "output_type": "stream",
     "text": [
      "Total params 1228918\n"
     ]
    },
    {
     "data": {
      "text/markdown": [
       "|Layer|Input Shape|Output Shape|# of params|\n",
       "|--|--|--|--|\n",
       "|ResBlock|(1024, 1, 28, 28)|(1024, 8, 28, 28)|712|\n",
       "|ResBlock|(1024, 8, 28, 28)|(1024, 16, 14, 14)|3696|\n",
       "|ResBlock|(1024, 16, 14, 14)|(1024, 32, 7, 7)|14560|\n",
       "|ResBlock|(1024, 32, 7, 7)|(1024, 64, 4, 4)|57792|\n",
       "|ResBlock|(1024, 64, 4, 4)|(1024, 128, 2, 2)|230272|\n",
       "|ResBlock|(1024, 128, 2, 2)|(1024, 256, 1, 1)|919296|\n",
       "|Flatten|(1024, 256, 1, 1)|(1024, 256)|0|\n",
       "|Linear|(1024, 256)|(1024, 10)|2570|\n",
       "|BatchNorm1d|(1024, 10)|(1024, 10)|20|\n"
      ],
      "text/plain": [
       "<IPython.core.display.Markdown object>"
      ]
     },
     "execution_count": 21,
     "metadata": {},
     "output_type": "execute_result"
    }
   ],
   "source": [
    "TrainLearner(get_model().apply(iw), dls, F.cross_entropy, [DeviceCB(), metrics], lr=1e-4, opt_func=optim.AdamW).summary()"
   ]
  },
  {
   "cell_type": "code",
   "execution_count": 22,
   "id": "8c64f19a-50bf-4d9e-9442-d105e0e9667f",
   "metadata": {
    "tags": []
   },
   "outputs": [
    {
     "data": {
      "image/png": "[encoded data removed]",
      "text/plain": [
       "<Figure size 640x480 with 1 Axes>"
      ]
     },
     "metadata": {},
     "output_type": "display_data"
    }
   ],
   "source": [
    "TrainLearner(get_model().apply(iw), dls, F.cross_entropy, [DeviceCB(), metrics], lr=1e-4, opt_func=optim.AdamW).lr_find()"
   ]
  },
  {
   "cell_type": "code",
   "execution_count": 27,
   "id": "3ffb0ffa-34e1-4590-af06-0fde09aa4442",
   "metadata": {
    "tags": []
   },
   "outputs": [
    {
     "data": {
      "text/html": [
       "\n",
       "<style>\n",
       "    /* Turns off some styling */\n",
       "    progress {\n",
       "        /* gets rid of default border in Firefox and Opera. */\n",
       "        border: none;\n",
       "        /* Needs to be in here for Safari polyfill so background images work as expected. */\n",
       "        background-size: auto;\n",
       "    }\n",
       "    progress:not([value]), progress:not([value])::-webkit-progress-bar {\n",
       "        background: repeating-linear-gradient(45deg, #7e7e7e, #7e7e7e 10px, #5c5c5c 10px, #5c5c5c 20px);\n",
       "    }\n",
       "    .progress-bar-interrupted, .progress-bar-interrupted::-webkit-progress-bar {\n",
       "        background: #F44336;\n",
       "    }\n",
       "</style>\n"
      ],
      "text/plain": [
       "<IPython.core.display.HTML object>"
      ]
     },
     "metadata": {},
     "output_type": "display_data"
    },
    {
     "data": {
      "text/html": [
       "<table border=\"1\" class=\"dataframe\">\n",
       "  <thead>\n",
       "    <tr style=\"text-align: left;\">\n",
       "      <th>accuracy</th>\n",
       "      <th>loss</th>\n",
       "      <th>epoch</th>\n",
       "      <th>train</th>\n",
       "    </tr>\n",
       "  </thead>\n",
       "  <tbody>\n",
       "    <tr>\n",
       "      <td> 0.689</td>\n",
       "      <td> 1.056</td>\n",
       "      <td>0</td>\n",
       "      <td>True</td>\n",
       "    </tr>\n",
       "    <tr>\n",
       "      <td> 0.728</td>\n",
       "      <td> 1.259</td>\n",
       "      <td>0</td>\n",
       "      <td>False</td>\n",
       "    </tr>\n",
       "    <tr>\n",
       "      <td> 0.872</td>\n",
       "      <td> 0.419</td>\n",
       "      <td>1</td>\n",
       "      <td>True</td>\n",
       "    </tr>\n",
       "    <tr>\n",
       "      <td> 0.713</td>\n",
       "      <td> 0.937</td>\n",
       "      <td>1</td>\n",
       "      <td>False</td>\n",
       "    </tr>\n",
       "    <tr>\n",
       "      <td> 0.896</td>\n",
       "      <td> 0.309</td>\n",
       "      <td>2</td>\n",
       "      <td>True</td>\n",
       "    </tr>\n",
       "    <tr>\n",
       "      <td> 0.878</td>\n",
       "      <td> 0.350</td>\n",
       "      <td>2</td>\n",
       "      <td>False</td>\n",
       "    </tr>\n",
       "    <tr>\n",
       "      <td> 0.916</td>\n",
       "      <td> 0.247</td>\n",
       "      <td>3</td>\n",
       "      <td>True</td>\n",
       "    </tr>\n",
       "    <tr>\n",
       "      <td> 0.895</td>\n",
       "      <td> 0.309</td>\n",
       "      <td>3</td>\n",
       "      <td>False</td>\n",
       "    </tr>\n",
       "    <tr>\n",
       "      <td> 0.932</td>\n",
       "      <td> 0.204</td>\n",
       "      <td>4</td>\n",
       "      <td>True</td>\n",
       "    </tr>\n",
       "    <tr>\n",
       "      <td> 0.917</td>\n",
       "      <td> 0.239</td>\n",
       "      <td>4</td>\n",
       "      <td>False</td>\n",
       "    </tr>\n",
       "  </tbody>\n",
       "</table>"
      ],
      "text/plain": [
       "<IPython.core.display.HTML object>"
      ]
     },
     "metadata": {},
     "output_type": "display_data"
    },
    {
     "data": {
      "image/png": "[encoded data removed]",
      "text/plain": [
       "<Figure size 600x400 with 1 Axes>"
      ]
     },
     "metadata": {},
     "output_type": "display_data"
    }
   ],
   "source": [
    "set_seed(42)\n",
    "epochs = 5\n",
    "sched = partial(lr_scheduler.OneCycleLR, max_lr=2e-2, total_steps=len(dls.train)*epochs)\n",
    "xtra_cbs = [BatchSchedCB(sched)]\n",
    "learn = TrainLearner(get_model().apply(iw), dls, F.cross_entropy, cbs = cbs + xtra_cbs, lr=1e-3, opt_func=optim.AdamW)\n",
    "learn.fit(5)"
   ]
  },
  {
   "cell_type": "code",
   "execution_count": null,
   "id": "6c4f3d16-1990-426f-88de-30001ed21c61",
   "metadata": {},
   "outputs": [],
   "source": []
  }
 ],
 "metadata": {
  "kernelspec": {
   "display_name": "fastai:Python",
   "language": "python",
   "name": "conda-env-fastai-py"
  },
  "language_info": {
   "codemirror_mode": {
    "name": "ipython",
    "version": 3
   },
   "file_extension": ".py",
   "mimetype": "text/x-python",
   "name": "python",
   "nbconvert_exporter": "python",
   "pygments_lexer": "ipython3",
   "version": "3.9.13"
  }
 },
 "nbformat": 4,
 "nbformat_minor": 5
}
