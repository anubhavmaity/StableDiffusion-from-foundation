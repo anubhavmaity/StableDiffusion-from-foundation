{
 "cells": [
  {
   "cell_type": "markdown",
   "id": "aaa31ce4",
   "metadata": {},
   "source": [
    "# Matrix Multiplication from foundations"
   ]
  },
  {
   "cell_type": "markdown",
   "id": "8c4a77e9",
   "metadata": {},
   "source": [
    "## Get Data"
   ]
  },
  {
   "cell_type": "code",
   "execution_count": null,
   "id": "6e4049d0",
   "metadata": {},
   "outputs": [],
   "source": [
    "import pickle, gzip, os\n",
    "from pathlib import Path\n",
    "import json, torch\n",
    "from itertools import islice\n",
    "from torch import tensor\n",
    "import random\n",
    "from matplotlib import pyplot as plt\n",
    "from fastcore.test import test_close\n",
    "from numba import njit\n",
    "import numpy as np\n",
    "import math"
   ]
  },
  {
   "cell_type": "code",
   "execution_count": null,
   "id": "Q20vH4riCHb-",
   "metadata": {},
   "outputs": [],
   "source": [
    "if 'google.colab' in str(get_ipython()):\n",
    "  path = Path('fashion_mnist/')\n",
    "else:\n",
    "  path = Path('../../data/fashion_mnist/')"
   ]
  },
  {
   "cell_type": "code",
   "execution_count": null,
   "id": "80d8e86e",
   "metadata": {},
   "outputs": [
    {
     "data": {
      "text/plain": [
       "['t10k-images-idx3-ubyte.gz',\n",
       " 'train-labels-idx1-ubyte.gz',\n",
       " 'train-images-idx3-ubyte.gz',\n",
       " 't10k-labels-idx1-ubyte.gz']"
      ]
     },
     "execution_count": null,
     "metadata": {},
     "output_type": "execute_result"
    }
   ],
   "source": [
    "os.listdir(path)"
   ]
  },
  {
   "cell_type": "code",
   "execution_count": null,
   "id": "06f88dca",
   "metadata": {},
   "outputs": [],
   "source": [
    "# taken from https://github.com/zalandoresearch/fashion-mnist/blob/master/utils/mnist_reader.py\n",
    "def load_mnist(path, kind='train'):\n",
    "    import os\n",
    "    import gzip\n",
    "    import numpy as np\n",
    "\n",
    "    \"\"\"Load MNIST data from `path`\"\"\"\n",
    "    labels_path = os.path.join(path,\n",
    "                               '%s-labels-idx1-ubyte.gz'\n",
    "                               % kind)\n",
    "    images_path = os.path.join(path,\n",
    "                               '%s-images-idx3-ubyte.gz'\n",
    "                               % kind)\n",
    "\n",
    "    with gzip.open(labels_path, 'rb') as lbpath:\n",
    "        labels = np.frombuffer(lbpath.read(), dtype=np.uint8,\n",
    "                               offset=8)\n",
    "\n",
    "    with gzip.open(images_path, 'rb') as imgpath:\n",
    "        images = np.frombuffer(imgpath.read(), dtype=np.uint8,\n",
    "                               offset=16).reshape(len(labels), 784)\n",
    "\n",
    "    return images, labels"
   ]
  },
  {
   "cell_type": "code",
   "execution_count": null,
   "id": "882e81a5",
   "metadata": {},
   "outputs": [],
   "source": [
    "class_mapping = [\n",
    "    \"T-shirt/top\",\n",
    "    \"Trouser\",\n",
    "    \"Pullover\",\n",
    "    \"Dress\",\n",
    "    \"Coat\",\n",
    "    \"Sandal\",\n",
    "    \"Shirt\",\n",
    "    \"Sneaker\",\n",
    "    \"Bag\",\n",
    "    \"Ankle boot\"\n",
    "]"
   ]
  },
  {
   "cell_type": "code",
   "execution_count": null,
   "id": "a04f4b50",
   "metadata": {},
   "outputs": [],
   "source": [
    "X_train, Y_train = load_mnist(path)\n",
    "X_test, Y_test = load_mnist(path, 't10k')\n",
    "\n",
    "X_train = X_train / 255.\n",
    "X_test = X_test / 255."
   ]
  },
  {
   "cell_type": "code",
   "execution_count": null,
   "id": "4a86c0a9",
   "metadata": {},
   "outputs": [
    {
     "data": {
      "text/plain": [
       "dtype('float64')"
      ]
     },
     "execution_count": null,
     "metadata": {},
     "output_type": "execute_result"
    }
   ],
   "source": [
    "X_train.dtype"
   ]
  },
  {
   "cell_type": "code",
   "execution_count": null,
   "id": "97413120",
   "metadata": {},
   "outputs": [
    {
     "data": {
      "text/plain": [
       "((60000, 784), (60000,), (10000, 784), (10000,))"
      ]
     },
     "execution_count": null,
     "metadata": {},
     "output_type": "execute_result"
    }
   ],
   "source": [
    "X_train.shape, Y_train.shape, X_test.shape, Y_test.shape"
   ]
  },
  {
   "cell_type": "code",
   "execution_count": null,
   "id": "b49bb17f",
   "metadata": {},
   "outputs": [
    {
     "data": {
      "text/plain": [
       "[0.0,\n",
       " 0.0,\n",
       " 0.0,\n",
       " 0.0,\n",
       " 0.0,\n",
       " 0.0,\n",
       " 0.0,\n",
       " 0.00392156862745098,\n",
       " 0.0,\n",
       " 0.27058823529411763]"
      ]
     },
     "execution_count": null,
     "metadata": {},
     "output_type": "execute_result"
    }
   ],
   "source": [
    "lst1 = list(X_train[0])\n",
    "vals = lst1[200: 210]\n",
    "vals"
   ]
  },
  {
   "cell_type": "code",
   "execution_count": null,
   "id": "330ca27f",
   "metadata": {},
   "outputs": [],
   "source": [
    "vals_iter = iter(vals)"
   ]
  },
  {
   "cell_type": "code",
   "execution_count": null,
   "id": "7230291f",
   "metadata": {},
   "outputs": [
    {
     "data": {
      "text/plain": [
       "0.0"
      ]
     },
     "execution_count": null,
     "metadata": {},
     "output_type": "execute_result"
    }
   ],
   "source": [
    "next(vals_iter)"
   ]
  },
  {
   "cell_type": "code",
   "execution_count": null,
   "id": "92793080",
   "metadata": {},
   "outputs": [],
   "source": [
    "def chunks(lst, sz):\n",
    "    for i in range(0, len(lst), sz):\n",
    "        yield lst[i: i + sz]"
   ]
  },
  {
   "cell_type": "code",
   "execution_count": null,
   "id": "264bcf87",
   "metadata": {},
   "outputs": [],
   "source": [
    "vals_chunks = chunks(vals, 5)"
   ]
  },
  {
   "cell_type": "code",
   "execution_count": null,
   "id": "0eb76300",
   "metadata": {},
   "outputs": [
    {
     "data": {
      "text/plain": [
       "[0.0, 0.0, 0.0, 0.0, 0.0]"
      ]
     },
     "execution_count": null,
     "metadata": {},
     "output_type": "execute_result"
    }
   ],
   "source": [
    "next(vals_chunks)"
   ]
  },
  {
   "cell_type": "code",
   "execution_count": null,
   "id": "f4757c5c",
   "metadata": {},
   "outputs": [
    {
     "data": {
      "text/plain": [
       "[0.0, 0.0, 0.00392156862745098, 0.0, 0.27058823529411763]"
      ]
     },
     "execution_count": null,
     "metadata": {},
     "output_type": "execute_result"
    }
   ],
   "source": [
    "next(vals_chunks)"
   ]
  },
  {
   "cell_type": "code",
   "execution_count": null,
   "id": "38a556b3",
   "metadata": {},
   "outputs": [
    {
     "data": {
      "text/plain": [
       "<matplotlib.image.AxesImage>"
      ]
     },
     "execution_count": null,
     "metadata": {},
     "output_type": "execute_result"
    },
    {
     "data": {
      "image/png": "[encoded data removed]",
      "text/plain": [
       "<Figure size 640x480 with 1 Axes>"
      ]
     },
     "metadata": {},
     "output_type": "display_data"
    }
   ],
   "source": [
    "plt.imshow(list(chunks(lst1, 28)))"
   ]
  },
  {
   "cell_type": "code",
   "execution_count": null,
   "id": "b0b5817b",
   "metadata": {},
   "outputs": [
    {
     "data": {
      "text/plain": [
       "(9, 'Ankle boot')"
      ]
     },
     "execution_count": null,
     "metadata": {},
     "output_type": "execute_result"
    }
   ],
   "source": [
    "Y_train[0], class_mapping[Y_train[0]]"
   ]
  },
  {
   "cell_type": "code",
   "execution_count": null,
   "id": "664ed6d2",
   "metadata": {},
   "outputs": [],
   "source": [
    "vals_iter = iter(vals)"
   ]
  },
  {
   "cell_type": "code",
   "execution_count": null,
   "id": "9e794fb8",
   "metadata": {},
   "outputs": [
    {
     "data": {
      "text/plain": [
       "[0.0, 0.0, 0.0, 0.0, 0.0]"
      ]
     },
     "execution_count": null,
     "metadata": {},
     "output_type": "execute_result"
    }
   ],
   "source": [
    "list(islice(vals_iter, 5))"
   ]
  },
  {
   "cell_type": "code",
   "execution_count": null,
   "id": "7b73d705",
   "metadata": {},
   "outputs": [],
   "source": [
    "it = iter(lst1)"
   ]
  },
  {
   "cell_type": "code",
   "execution_count": null,
   "id": "addbe4d5",
   "metadata": {},
   "outputs": [
    {
     "data": {
      "text/plain": [
       "<matplotlib.image.AxesImage>"
      ]
     },
     "execution_count": null,
     "metadata": {},
     "output_type": "execute_result"
    },
    {
     "data": {
      "image/png": "[encoded data removed]",
      "text/plain": [
       "<Figure size 640x480 with 1 Axes>"
      ]
     },
     "metadata": {},
     "output_type": "display_data"
    }
   ],
   "source": [
    "plt.imshow(list(iter(lambda: list(islice(it, 28)), [])))"
   ]
  },
  {
   "cell_type": "markdown",
   "id": "f2294d6e",
   "metadata": {},
   "source": [
    "## Random Number"
   ]
  },
  {
   "cell_type": "code",
   "execution_count": null,
   "id": "642d1c95",
   "metadata": {},
   "outputs": [],
   "source": [
    "rnd_state = None\n",
    "\n",
    "def seed(x):\n",
    "    global rnd_state\n",
    "    x, a = divmod(x, 30326)\n",
    "    x, b = divmod(x, 30327)\n",
    "    x, c = divmod(x, 30328)\n",
    "    rnd_state = int(a) + 1, int(b) + 1, int(c) + 1"
   ]
  },
  {
   "cell_type": "code",
   "execution_count": null,
   "id": "ad6a6c5e",
   "metadata": {},
   "outputs": [],
   "source": [
    "def rand():\n",
    "    global rnd_state\n",
    "    a, b, c = rnd_state\n",
    "    x = (172 * a) % 30327\n",
    "    y = (171 * b) % 30328\n",
    "    z = (170 * c) % 30329\n",
    "    rnd_state = x, y, z\n",
    "\n",
    "    return (x / 30327 + y / 30328 + z / 30329) % 1.0"
   ]
  },
  {
   "cell_type": "code",
   "execution_count": null,
   "id": "ace8ce1f",
   "metadata": {},
   "outputs": [],
   "source": [
    "seed(879828)"
   ]
  },
  {
   "cell_type": "code",
   "execution_count": null,
   "id": "f7926713",
   "metadata": {},
   "outputs": [
    {
     "data": {
      "text/plain": [
       "(0.3015735034453595, 0.6902815800191595, 0.8979090043518492)"
      ]
     },
     "execution_count": null,
     "metadata": {},
     "output_type": "execute_result"
    }
   ],
   "source": [
    "rand(), rand(), rand()"
   ]
  },
  {
   "cell_type": "code",
   "execution_count": null,
   "id": "40b86aef",
   "metadata": {},
   "outputs": [
    {
     "data": {
      "text/plain": [
       "[<matplotlib.lines.Line2D>]"
      ]
     },
     "execution_count": null,
     "metadata": {},
     "output_type": "execute_result"
    },
    {
     "data": {
      "image/png": "[encoded data removed]",
      "text/plain": [
       "<Figure size 640x480 with 1 Axes>"
      ]
     },
     "metadata": {},
     "output_type": "display_data"
    }
   ],
   "source": [
    "plt.plot([rand() for _ in range(50)])"
   ]
  },
  {
   "cell_type": "code",
   "execution_count": null,
   "id": "156e63af",
   "metadata": {},
   "outputs": [
    {
     "data": {
      "text/plain": [
       "(array([ 9911., 10047.,  9879.,  9924., 10184.,  9979.,  9943., 10164.,\n",
       "        10059.,  9910.]),\n",
       " array([5.26005285e-06, 1.00004091e-01, 2.00002923e-01, 3.00001754e-01,\n",
       "        4.00000585e-01, 4.99999417e-01, 5.99998248e-01, 6.99997079e-01,\n",
       "        7.99995911e-01, 8.99994742e-01, 9.99993573e-01]),\n",
       " <BarContainer object of 10 artists>)"
      ]
     },
     "execution_count": null,
     "metadata": {},
     "output_type": "execute_result"
    },
    {
     "data": {
      "image/png": "[encoded data removed]",
      "text/plain": [
       "<Figure size 640x480 with 1 Axes>"
      ]
     },
     "metadata": {},
     "output_type": "display_data"
    }
   ],
   "source": [
    "plt.hist([rand() for _ in range(100_000)])"
   ]
  },
  {
   "cell_type": "code",
   "execution_count": null,
   "id": "c1578c0f",
   "metadata": {},
   "outputs": [
    {
     "name": "stdout",
     "output_type": "stream",
     "text": [
      "In parent 0.9651230962275226\n"
     ]
    }
   ],
   "source": [
    "if os.fork(): print(f'In parent {rand()}')\n",
    "else:\n",
    "    print(f'In child {rand()}')\n",
    "    os._exit(os.EX_OK)"
   ]
  },
  {
   "cell_type": "code",
   "execution_count": null,
   "id": "6feede1c",
   "metadata": {},
   "outputs": [
    {
     "name": "stdout",
     "output_type": "stream",
     "text": [
      "In parent tensor([0.1955])\n",
      "In child tensor([0.1955])\n"
     ]
    }
   ],
   "source": [
    "if os.fork(): print(f'In parent {torch.rand(1)}')\n",
    "else:\n",
    "    print(f'In child {torch.rand(1)}')\n",
    "    os._exit(os.EX_OK)"
   ]
  },
  {
   "cell_type": "code",
   "execution_count": null,
   "id": "c466b9b0",
   "metadata": {},
   "outputs": [
    {
     "name": "stdout",
     "output_type": "stream",
     "text": [
      "In parent 0.1996222936679456\n",
      "In child 0.5101572296608223\n"
     ]
    }
   ],
   "source": [
    "if os.fork(): print(f'In parent {random.random()}')\n",
    "else:\n",
    "    print(f'In child {random.random()}')\n",
    "    os._exit(os.EX_OK)"
   ]
  },
  {
   "cell_type": "markdown",
   "id": "41732f80",
   "metadata": {},
   "source": [
    "## Matrix and Tensor"
   ]
  },
  {
   "cell_type": "code",
   "execution_count": null,
   "id": "867de2b8",
   "metadata": {},
   "outputs": [
    {
     "data": {
      "text/plain": [
       "0.6823529411764706"
      ]
     },
     "execution_count": null,
     "metadata": {},
     "output_type": "execute_result"
    }
   ],
   "source": [
    "X_train[100][121]"
   ]
  },
  {
   "cell_type": "code",
   "execution_count": null,
   "id": "da905b0c",
   "metadata": {},
   "outputs": [],
   "source": [
    "class Matrix:\n",
    "    def __init__(self, xs):\n",
    "        self.xs = xs\n",
    "    def __getitem__(self, idxs):\n",
    "        return self.xs[idxs[0]][idxs[1]]"
   ]
  },
  {
   "cell_type": "code",
   "execution_count": null,
   "id": "5d6441cc",
   "metadata": {},
   "outputs": [],
   "source": [
    "m = Matrix(X_train)"
   ]
  },
  {
   "cell_type": "code",
   "execution_count": null,
   "id": "ae9e2533",
   "metadata": {},
   "outputs": [
    {
     "data": {
      "text/plain": [
       "0.6823529411764706"
      ]
     },
     "execution_count": null,
     "metadata": {},
     "output_type": "execute_result"
    }
   ],
   "source": [
    "m[100, 121]"
   ]
  },
  {
   "cell_type": "code",
   "execution_count": null,
   "id": "30a84950",
   "metadata": {},
   "outputs": [
    {
     "data": {
      "text/plain": [
       "tensor(0.6824, dtype=torch.float64)"
      ]
     },
     "execution_count": null,
     "metadata": {},
     "output_type": "execute_result"
    }
   ],
   "source": [
    "imgs = tensor(X_train); imgs[100][121]"
   ]
  },
  {
   "cell_type": "code",
   "execution_count": null,
   "id": "ce9eeb34",
   "metadata": {},
   "outputs": [
    {
     "data": {
      "text/plain": [
       "torch.float64"
      ]
     },
     "execution_count": null,
     "metadata": {},
     "output_type": "execute_result"
    }
   ],
   "source": [
    "imgs.dtype"
   ]
  },
  {
   "cell_type": "code",
   "execution_count": null,
   "id": "a9141134",
   "metadata": {},
   "outputs": [],
   "source": [
    "imgs = imgs.reshape(-1, 28, 28)"
   ]
  },
  {
   "cell_type": "code",
   "execution_count": null,
   "id": "457eba83",
   "metadata": {},
   "outputs": [
    {
     "data": {
      "text/plain": [
       "<matplotlib.image.AxesImage>"
      ]
     },
     "execution_count": null,
     "metadata": {},
     "output_type": "execute_result"
    },
    {
     "data": {
      "image/png": "[encoded data removed]",
      "text/plain": [
       "<Figure size 640x480 with 1 Axes>"
      ]
     },
     "metadata": {},
     "output_type": "display_data"
    }
   ],
   "source": [
    "plt.imshow(imgs[4])"
   ]
  },
  {
   "cell_type": "code",
   "execution_count": null,
   "id": "6112272f",
   "metadata": {},
   "outputs": [
    {
     "data": {
      "text/plain": [
       "'T-shirt/top'"
      ]
     },
     "execution_count": null,
     "metadata": {},
     "output_type": "execute_result"
    }
   ],
   "source": [
    "class_mapping[Y_train[4]]"
   ]
  },
  {
   "cell_type": "code",
   "execution_count": null,
   "id": "b0b93126",
   "metadata": {},
   "outputs": [
    {
     "name": "stdout",
     "output_type": "stream",
     "text": [
      "5.96 ms ± 2.05 ms per loop (mean ± std. dev. of 7 runs, 10 loops each)\n"
     ]
    }
   ],
   "source": [
    "%timeit -n 10 list(chunks([rand() for _ in range(7840)], 10))"
   ]
  },
  {
   "cell_type": "code",
   "execution_count": null,
   "id": "eca373c0",
   "metadata": {},
   "outputs": [
    {
     "name": "stdout",
     "output_type": "stream",
     "text": [
      "134 µs ± 29.1 µs per loop (mean ± std. dev. of 7 runs, 10 loops each)\n"
     ]
    }
   ],
   "source": [
    "%timeit -n 10 torch.randn(784, 10)"
   ]
  },
  {
   "cell_type": "markdown",
   "id": "6e5652e0",
   "metadata": {},
   "source": [
    "## Matrix Multiplication"
   ]
  },
  {
   "cell_type": "code",
   "execution_count": null,
   "id": "0a7ccce2",
   "metadata": {},
   "outputs": [
    {
     "data": {
      "text/plain": [
       "array([[0., 0., 0., ..., 0., 0., 0.],\n",
       "       [0., 0., 0., ..., 0., 0., 0.],\n",
       "       [0., 0., 0., ..., 0., 0., 0.],\n",
       "       [0., 0., 0., ..., 0., 0., 0.],\n",
       "       [0., 0., 0., ..., 0., 0., 0.]])"
      ]
     },
     "execution_count": null,
     "metadata": {},
     "output_type": "execute_result"
    }
   ],
   "source": [
    "m1 = X_train[:5]; m1"
   ]
  },
  {
   "cell_type": "code",
   "execution_count": null,
   "id": "53557003",
   "metadata": {},
   "outputs": [
    {
     "data": {
      "text/plain": [
       "torch.Size([784, 10])"
      ]
     },
     "execution_count": null,
     "metadata": {},
     "output_type": "execute_result"
    }
   ],
   "source": [
    "m2 = torch.randn(784, 10); m2.shape"
   ]
  },
  {
   "cell_type": "code",
   "execution_count": null,
   "id": "6b5c2cfb",
   "metadata": {},
   "outputs": [],
   "source": [
    "ar, ac = m1.shape\n",
    "br, bc = m2.shape\n",
    "\n",
    "c = torch.zeros(ar, bc)\n",
    "\n",
    "for i in range(ar):\n",
    "    for j in range(bc):\n",
    "        for k in range(ac):\n",
    "            c[i, j] += (m1[i, k] * m2[k, j])\n"
   ]
  },
  {
   "cell_type": "code",
   "execution_count": null,
   "id": "be4a1dad",
   "metadata": {},
   "outputs": [
    {
     "data": {
      "text/plain": [
       "torch.Size([5, 10])"
      ]
     },
     "execution_count": null,
     "metadata": {},
     "output_type": "execute_result"
    }
   ],
   "source": [
    "c.shape"
   ]
  },
  {
   "cell_type": "code",
   "execution_count": null,
   "id": "358c1908",
   "metadata": {},
   "outputs": [],
   "source": [
    "def matmul(a, b):\n",
    "    ar, ac = m1.shape\n",
    "    br, bc = m2.shape\n",
    "\n",
    "    c = torch.zeros(ar, bc)\n",
    "\n",
    "    for i in range(ar):\n",
    "        for j in range(bc):\n",
    "            for k in range(ac):\n",
    "                c[i, j] += (m1[i, k] * m2[k, j])\n",
    "\n",
    "    return c"
   ]
  },
  {
   "cell_type": "code",
   "execution_count": null,
   "id": "46d6a5e7",
   "metadata": {},
   "outputs": [
    {
     "data": {
      "text/plain": [
       "torch.Size([5, 10])"
      ]
     },
     "execution_count": null,
     "metadata": {},
     "output_type": "execute_result"
    }
   ],
   "source": [
    "t = matmul(m1, m2); t.shape"
   ]
  },
  {
   "cell_type": "code",
   "execution_count": null,
   "id": "efbeadb5",
   "metadata": {},
   "outputs": [
    {
     "name": "stdout",
     "output_type": "stream",
     "text": [
      "CPU times: user 989 ms, sys: 2.23 ms, total: 991 ms\n",
      "Wall time: 997 ms\n"
     ]
    }
   ],
   "source": [
    "%time _=matmul(m1, m2)"
   ]
  },
  {
   "cell_type": "code",
   "execution_count": null,
   "id": "8b2114d9",
   "metadata": {},
   "outputs": [
    {
     "data": {
      "text/plain": [
       "39200"
      ]
     },
     "execution_count": null,
     "metadata": {},
     "output_type": "execute_result"
    }
   ],
   "source": [
    "5*10*784"
   ]
  },
  {
   "cell_type": "markdown",
   "id": "8073a27b",
   "metadata": {},
   "source": [
    "## Matrix Multiplication using numba"
   ]
  },
  {
   "cell_type": "code",
   "execution_count": null,
   "id": "955a1552",
   "metadata": {},
   "outputs": [],
   "source": [
    "@njit\n",
    "def dot(a, b):\n",
    "    res = 0\n",
    "    for i in range(len(a)):\n",
    "        res += a[i] * b[i]\n",
    "    return res"
   ]
  },
  {
   "cell_type": "code",
   "execution_count": null,
   "id": "771914a1",
   "metadata": {},
   "outputs": [],
   "source": [
    "a = np.array([1, 2, 3])\n",
    "b = np.array([4, 5, 6])"
   ]
  },
  {
   "cell_type": "code",
   "execution_count": null,
   "id": "5565aef8",
   "metadata": {},
   "outputs": [
    {
     "name": "stdout",
     "output_type": "stream",
     "text": [
      "CPU times: user 440 ms, sys: 153 ms, total: 593 ms\n",
      "Wall time: 614 ms\n"
     ]
    },
    {
     "data": {
      "text/plain": [
       "32"
      ]
     },
     "execution_count": null,
     "metadata": {},
     "output_type": "execute_result"
    }
   ],
   "source": [
    "%time dot(a, b)"
   ]
  },
  {
   "cell_type": "code",
   "execution_count": null,
   "id": "08402e65",
   "metadata": {},
   "outputs": [
    {
     "name": "stdout",
     "output_type": "stream",
     "text": [
      "CPU times: user 10 µs, sys: 2 µs, total: 12 µs\n",
      "Wall time: 14.8 µs\n"
     ]
    },
    {
     "data": {
      "text/plain": [
       "32"
      ]
     },
     "execution_count": null,
     "metadata": {},
     "output_type": "execute_result"
    }
   ],
   "source": [
    "%time dot(a, b)"
   ]
  },
  {
   "cell_type": "code",
   "execution_count": null,
   "id": "8879530a",
   "metadata": {},
   "outputs": [
    {
     "data": {
      "text/plain": [
       "(784,)"
      ]
     },
     "execution_count": null,
     "metadata": {},
     "output_type": "execute_result"
    }
   ],
   "source": [
    "m1[0, :].shape"
   ]
  },
  {
   "cell_type": "code",
   "execution_count": null,
   "id": "2bfaae6b",
   "metadata": {},
   "outputs": [
    {
     "data": {
      "text/plain": [
       "torch.Size([784])"
      ]
     },
     "execution_count": null,
     "metadata": {},
     "output_type": "execute_result"
    }
   ],
   "source": [
    "m2[:, 0].shape"
   ]
  },
  {
   "cell_type": "code",
   "execution_count": null,
   "id": "42c78951",
   "metadata": {},
   "outputs": [],
   "source": [
    "def matmul(a, b):\n",
    "    ar, ac = a.shape\n",
    "    br, bc = b.shape\n",
    "    c = torch.zeros(ar, bc)\n",
    "    for i in range(ar):\n",
    "        for j in range(bc):\n",
    "            c[i, j] = dot(a[i,:], b[:, j])\n",
    "    return c"
   ]
  },
  {
   "cell_type": "code",
   "execution_count": null,
   "id": "7f94ec4b",
   "metadata": {},
   "outputs": [
    {
     "name": "stdout",
     "output_type": "stream",
     "text": [
      "CPU times: user 87.9 ms, sys: 0 ns, total: 87.9 ms\n",
      "Wall time: 93.8 ms\n"
     ]
    }
   ],
   "source": [
    "%time _=matmul(m1, m2.numpy())"
   ]
  },
  {
   "cell_type": "code",
   "execution_count": null,
   "id": "570045db",
   "metadata": {},
   "outputs": [],
   "source": [
    "test_close(t, matmul(m1, m2.numpy()), eps=1e-4)"
   ]
  },
  {
   "cell_type": "markdown",
   "id": "24e31ae8",
   "metadata": {},
   "source": [
    "## Matrix Multiplication using element wise operation"
   ]
  },
  {
   "cell_type": "code",
   "execution_count": null,
   "id": "bb81a1c5",
   "metadata": {},
   "outputs": [],
   "source": [
    "m1 = torch.tensor(m1).float()"
   ]
  },
  {
   "cell_type": "code",
   "execution_count": null,
   "id": "58a13a01",
   "metadata": {},
   "outputs": [
    {
     "data": {
      "text/plain": [
       "(torch.Size([784]), torch.Size([784]))"
      ]
     },
     "execution_count": null,
     "metadata": {},
     "output_type": "execute_result"
    }
   ],
   "source": [
    "m1[0, :].shape, m2[:, 0].shape"
   ]
  },
  {
   "cell_type": "code",
   "execution_count": null,
   "id": "d272de9e",
   "metadata": {},
   "outputs": [],
   "source": [
    "def matmul(a, b):\n",
    "    ar, ac = a.shape\n",
    "    br, bc = b.shape\n",
    "    c = torch.zeros(ar, bc)\n",
    "    for i in range(ar):\n",
    "        for j in range(bc):\n",
    "            c[i, j] = (a[i, :] * b[:, j]).sum()\n",
    "    return c"
   ]
  },
  {
   "cell_type": "code",
   "execution_count": null,
   "id": "04be53cf",
   "metadata": {},
   "outputs": [
    {
     "name": "stdout",
     "output_type": "stream",
     "text": [
      "CPU times: user 3.18 ms, sys: 31 µs, total: 3.21 ms\n",
      "Wall time: 6.33 ms\n"
     ]
    }
   ],
   "source": [
    "%time _=matmul(m1, m2)"
   ]
  },
  {
   "cell_type": "code",
   "execution_count": null,
   "id": "7c1f1dd3",
   "metadata": {},
   "outputs": [],
   "source": [
    "test_close(t, matmul(m1, m2), eps=1e-4)"
   ]
  },
  {
   "cell_type": "code",
   "execution_count": null,
   "id": "9b94c37f",
   "metadata": {},
   "outputs": [],
   "source": [
    "def matmul(a, b):\n",
    "    ar, ac = a.shape\n",
    "    br, bc = b.shape\n",
    "    c = torch.zeros(ar, bc)\n",
    "    for i in range(ar):\n",
    "        for j in range(bc):\n",
    "            c[i, j] = torch.dot(a[i, :], b[:, j])\n",
    "    return c"
   ]
  },
  {
   "cell_type": "code",
   "execution_count": null,
   "id": "03a068e2",
   "metadata": {},
   "outputs": [
    {
     "name": "stdout",
     "output_type": "stream",
     "text": [
      "CPU times: user 2.86 ms, sys: 0 ns, total: 2.86 ms\n",
      "Wall time: 2.79 ms\n"
     ]
    }
   ],
   "source": [
    "%time _=matmul(m1, m2)"
   ]
  },
  {
   "cell_type": "code",
   "execution_count": null,
   "id": "54e1efc7",
   "metadata": {},
   "outputs": [],
   "source": [
    "test_close(t, matmul(m1, m2), eps=1e-4)"
   ]
  },
  {
   "cell_type": "markdown",
   "id": "b46e3142",
   "metadata": {},
   "source": [
    "## Matrix Multiplication using broadcasting"
   ]
  },
  {
   "cell_type": "code",
   "execution_count": null,
   "id": "1d9bf4ad",
   "metadata": {},
   "outputs": [
    {
     "data": {
      "text/plain": [
       "tensor([10, 20, 30])"
      ]
     },
     "execution_count": null,
     "metadata": {},
     "output_type": "execute_result"
    }
   ],
   "source": [
    "c = tensor([10, 20, 30]); c"
   ]
  },
  {
   "cell_type": "code",
   "execution_count": null,
   "id": "a5002f43",
   "metadata": {},
   "outputs": [],
   "source": [
    "m = torch.tensor([[1, 2, 3], [4, 5, 6], [7, 8, 9]])"
   ]
  },
  {
   "cell_type": "code",
   "execution_count": null,
   "id": "b433436b",
   "metadata": {},
   "outputs": [
    {
     "data": {
      "text/plain": [
       "torch.Size([3, 3])"
      ]
     },
     "execution_count": null,
     "metadata": {},
     "output_type": "execute_result"
    }
   ],
   "source": [
    "t1 = c.expand_as(m); t1.shape"
   ]
  },
  {
   "cell_type": "code",
   "execution_count": null,
   "id": "dc3dc1d9",
   "metadata": {},
   "outputs": [
    {
     "data": {
      "text/plain": [
       "((0, 1), torch.Size([3, 3]))"
      ]
     },
     "execution_count": null,
     "metadata": {},
     "output_type": "execute_result"
    }
   ],
   "source": [
    "t1.stride(), t1.shape"
   ]
  },
  {
   "cell_type": "code",
   "execution_count": null,
   "id": "d71314a0",
   "metadata": {},
   "outputs": [
    {
     "name": "stderr",
     "output_type": "stream",
     "text": [
      "<ipython-input-78-31bc4245dceb>:1: UserWarning: TypedStorage is deprecated. It will be removed in the future and UntypedStorage will be the only storage class. This should only matter to you if you are using storages directly.  To access UntypedStorage directly, use tensor.untyped_storage() instead of tensor.storage()\n",
      "  t1.storage()\n"
     ]
    },
    {
     "data": {
      "text/plain": [
       " 10\n",
       " 20\n",
       " 30\n",
       "[torch.storage.TypedStorage(dtype=torch.int64, device=cpu) of size 3]"
      ]
     },
     "execution_count": null,
     "metadata": {},
     "output_type": "execute_result"
    }
   ],
   "source": [
    "t1.storage()"
   ]
  },
  {
   "cell_type": "code",
   "execution_count": null,
   "id": "0a2eb2ad",
   "metadata": {},
   "outputs": [
    {
     "data": {
      "text/plain": [
       "tensor([[0., 0., 0.,  ..., 0., 0., 0.],\n",
       "        [0., 0., 0.,  ..., 0., 0., 0.],\n",
       "        [0., 0., 0.,  ..., 0., 0., 0.],\n",
       "        [0., 0., 0.,  ..., 0., 0., 0.],\n",
       "        [0., 0., 0.,  ..., 0., 0., 0.]])"
      ]
     },
     "execution_count": null,
     "metadata": {},
     "output_type": "execute_result"
    }
   ],
   "source": [
    "m1"
   ]
  },
  {
   "cell_type": "code",
   "execution_count": null,
   "id": "e29e1261",
   "metadata": {},
   "outputs": [
    {
     "data": {
      "text/plain": [
       "torch.Size([784])"
      ]
     },
     "execution_count": null,
     "metadata": {},
     "output_type": "execute_result"
    }
   ],
   "source": [
    "m1[0].shape"
   ]
  },
  {
   "cell_type": "code",
   "execution_count": null,
   "id": "c8bc4356",
   "metadata": {},
   "outputs": [
    {
     "data": {
      "text/plain": [
       "torch.Size([784])"
      ]
     },
     "execution_count": null,
     "metadata": {},
     "output_type": "execute_result"
    }
   ],
   "source": [
    "m1[0, :].shape"
   ]
  },
  {
   "cell_type": "code",
   "execution_count": null,
   "id": "bd11350b",
   "metadata": {},
   "outputs": [
    {
     "data": {
      "text/plain": [
       "torch.Size([784, 1])"
      ]
     },
     "execution_count": null,
     "metadata": {},
     "output_type": "execute_result"
    }
   ],
   "source": [
    "m1[0, :, None].shape"
   ]
  },
  {
   "cell_type": "code",
   "execution_count": null,
   "id": "ec53d387",
   "metadata": {},
   "outputs": [
    {
     "data": {
      "text/plain": [
       "torch.Size([784, 10])"
      ]
     },
     "execution_count": null,
     "metadata": {},
     "output_type": "execute_result"
    }
   ],
   "source": [
    "m2.shape"
   ]
  },
  {
   "cell_type": "code",
   "execution_count": null,
   "id": "671b089b",
   "metadata": {},
   "outputs": [
    {
     "data": {
      "text/plain": [
       "torch.Size([784, 10])"
      ]
     },
     "execution_count": null,
     "metadata": {},
     "output_type": "execute_result"
    }
   ],
   "source": [
    "(m1[0, :, None] * m2).shape"
   ]
  },
  {
   "cell_type": "code",
   "execution_count": null,
   "id": "0252fee4",
   "metadata": {},
   "outputs": [
    {
     "data": {
      "text/plain": [
       "torch.Size([10])"
      ]
     },
     "execution_count": null,
     "metadata": {},
     "output_type": "execute_result"
    }
   ],
   "source": [
    "(m1[0, :, None] * m2).sum(axis=0).shape"
   ]
  },
  {
   "cell_type": "code",
   "execution_count": null,
   "id": "99f23d26",
   "metadata": {},
   "outputs": [],
   "source": [
    "def matmul(a, b):\n",
    "    ar, ac = a.shape\n",
    "    br, bc = b.shape\n",
    "\n",
    "    c = torch.zeros(ar, bc)\n",
    "    for i in range(ar):\n",
    "        c[i] = (m1[i, :, None] * m2).sum(axis=0)\n",
    "    return c"
   ]
  },
  {
   "cell_type": "code",
   "execution_count": null,
   "id": "511ac0b6",
   "metadata": {},
   "outputs": [],
   "source": [
    "test_close(t, matmul(m1, m2), eps=1e-4)"
   ]
  },
  {
   "cell_type": "code",
   "execution_count": null,
   "id": "72b635ee",
   "metadata": {},
   "outputs": [
    {
     "name": "stdout",
     "output_type": "stream",
     "text": [
      "CPU times: user 323 µs, sys: 0 ns, total: 323 µs\n",
      "Wall time: 330 µs\n"
     ]
    }
   ],
   "source": [
    "%time _=matmul(m1, m2)"
   ]
  },
  {
   "cell_type": "markdown",
   "id": "25783ca8",
   "metadata": {},
   "source": [
    "## Using matmul"
   ]
  },
  {
   "cell_type": "code",
   "execution_count": null,
   "id": "988a8afb",
   "metadata": {},
   "outputs": [],
   "source": [
    "test_close(t, m1 @ m2, eps=1e-4)"
   ]
  },
  {
   "cell_type": "code",
   "execution_count": null,
   "id": "267e7e0d",
   "metadata": {},
   "outputs": [
    {
     "name": "stdout",
     "output_type": "stream",
     "text": [
      "CPU times: user 38 µs, sys: 7 µs, total: 45 µs\n",
      "Wall time: 48.6 µs\n"
     ]
    }
   ],
   "source": [
    "%time _=m1@m2"
   ]
  },
  {
   "cell_type": "code",
   "execution_count": null,
   "id": "95609508",
   "metadata": {},
   "outputs": [],
   "source": [
    "test_close(t, torch.matmul(m1, m2), eps=1e-4)"
   ]
  },
  {
   "cell_type": "code",
   "execution_count": null,
   "id": "cf823954",
   "metadata": {},
   "outputs": [
    {
     "name": "stdout",
     "output_type": "stream",
     "text": [
      "CPU times: user 43 µs, sys: 0 ns, total: 43 µs\n",
      "Wall time: 45.8 µs\n"
     ]
    }
   ],
   "source": [
    "%time _=torch.matmul(m1, m2)"
   ]
  },
  {
   "cell_type": "code",
   "execution_count": null,
   "id": "5cb90627",
   "metadata": {},
   "outputs": [
    {
     "name": "stdout",
     "output_type": "stream",
     "text": [
      "CPU times: user 28.5 ms, sys: 34.1 ms, total: 62.5 ms\n",
      "Wall time: 70 ms\n"
     ]
    }
   ],
   "source": [
    "%time _=torch.matmul(torch.tensor(X_test).float(), m2)"
   ]
  },
  {
   "cell_type": "code",
   "execution_count": null,
   "id": "e10a126c",
   "metadata": {},
   "outputs": [
    {
     "name": "stdout",
     "output_type": "stream",
     "text": [
      "CPU times: user 1.31 ms, sys: 0 ns, total: 1.31 ms\n",
      "Wall time: 2.03 ms\n"
     ]
    }
   ],
   "source": [
    "%time _=matmul(m1, m2)"
   ]
  },
  {
   "cell_type": "markdown",
   "id": "2e694bcf",
   "metadata": {},
   "source": [
    "## Einstein Summation"
   ]
  },
  {
   "cell_type": "code",
   "execution_count": null,
   "id": "4299100c",
   "metadata": {},
   "outputs": [
    {
     "data": {
      "text/plain": [
       "(torch.Size([5, 784]), torch.Size([784, 10]))"
      ]
     },
     "execution_count": null,
     "metadata": {},
     "output_type": "execute_result"
    }
   ],
   "source": [
    "m1.shape, m2.shape"
   ]
  },
  {
   "cell_type": "code",
   "execution_count": null,
   "id": "eb6610c3",
   "metadata": {},
   "outputs": [
    {
     "data": {
      "text/plain": [
       "torch.Size([5, 784, 10])"
      ]
     },
     "execution_count": null,
     "metadata": {},
     "output_type": "execute_result"
    }
   ],
   "source": [
    "mr = torch.einsum('ik,kj->ikj', m1, m2); mr.shape"
   ]
  },
  {
   "cell_type": "code",
   "execution_count": null,
   "id": "a31f5670",
   "metadata": {},
   "outputs": [],
   "source": [
    "torch.set_printoptions(precision=2, linewidth=14, sci_mode=False)"
   ]
  },
  {
   "cell_type": "code",
   "execution_count": null,
   "id": "fa550efc",
   "metadata": {},
   "outputs": [
    {
     "data": {
      "text/plain": [
       "tensor([[  5.97,\n",
       "         -26.21,\n",
       "         -19.14,\n",
       "          11.53,\n",
       "          30.43,\n",
       "           5.51,\n",
       "         -10.37,\n",
       "          -3.66,\n",
       "           6.63,\n",
       "         -18.34],\n",
       "        [  4.37,\n",
       "         -24.84,\n",
       "         -12.90,\n",
       "          15.05,\n",
       "          26.32,\n",
       "           6.76,\n",
       "          -5.28,\n",
       "         -13.98,\n",
       "          20.55,\n",
       "         -20.79],\n",
       "        [ -3.20,\n",
       "         -10.03,\n",
       "           0.13,\n",
       "          11.45,\n",
       "           6.50,\n",
       "           1.72,\n",
       "          -2.58,\n",
       "           0.95,\n",
       "           6.77,\n",
       "          -6.72],\n",
       "        [ -0.12,\n",
       "          -1.54,\n",
       "          -3.97,\n",
       "          13.97,\n",
       "          12.62,\n",
       "          -1.87,\n",
       "          -3.98,\n",
       "          -3.59,\n",
       "           7.12,\n",
       "          -8.40],\n",
       "        [-10.83,\n",
       "         -16.76,\n",
       "         -12.78,\n",
       "          10.36,\n",
       "          24.11,\n",
       "          15.64,\n",
       "          -8.89,\n",
       "           1.78,\n",
       "           3.56,\n",
       "         -11.24]])"
      ]
     },
     "execution_count": null,
     "metadata": {},
     "output_type": "execute_result"
    }
   ],
   "source": [
    "mr.sum(1)"
   ]
  },
  {
   "cell_type": "code",
   "execution_count": null,
   "id": "21796419",
   "metadata": {},
   "outputs": [
    {
     "data": {
      "text/plain": [
       "torch.Size([5, 10])"
      ]
     },
     "execution_count": null,
     "metadata": {},
     "output_type": "execute_result"
    }
   ],
   "source": [
    "mr = torch.einsum('ik,kj->ij', m1, m2); mr.shape"
   ]
  },
  {
   "cell_type": "code",
   "execution_count": null,
   "id": "8b43850f",
   "metadata": {},
   "outputs": [],
   "source": [
    "test_close(t, mr, eps=1e-4)"
   ]
  },
  {
   "cell_type": "code",
   "execution_count": null,
   "id": "8448c611",
   "metadata": {},
   "outputs": [
    {
     "name": "stdout",
     "output_type": "stream",
     "text": [
      "CPU times: user 795 µs, sys: 0 ns, total: 795 µs\n",
      "Wall time: 652 µs\n"
     ]
    }
   ],
   "source": [
    "%time _=torch.einsum('ik,kj->ij', m1, m2)"
   ]
  },
  {
   "cell_type": "markdown",
   "id": "77e11aa2",
   "metadata": {},
   "source": [
    "### pytorch op"
   ]
  },
  {
   "cell_type": "code",
   "execution_count": null,
   "id": "418f7f29",
   "metadata": {},
   "outputs": [],
   "source": [
    "test_close(t, m1@m2, eps=1e-4)"
   ]
  },
  {
   "cell_type": "code",
   "execution_count": null,
   "id": "67126b98",
   "metadata": {},
   "outputs": [],
   "source": [
    "test_close(t, torch.matmul(m1, m2), eps=1e-4)"
   ]
  },
  {
   "cell_type": "code",
   "execution_count": null,
   "id": "407f778c",
   "metadata": {},
   "outputs": [
    {
     "name": "stdout",
     "output_type": "stream",
     "text": [
      "CPU times: user 39 µs, sys: 7 µs, total: 46 µs\n",
      "Wall time: 50.1 µs\n"
     ]
    }
   ],
   "source": [
    "%time _=torch.matmul(m1, m2)"
   ]
  },
  {
   "cell_type": "markdown",
   "id": "2ca3d5c4",
   "metadata": {},
   "source": [
    "## CUDA"
   ]
  },
  {
   "cell_type": "code",
   "execution_count": null,
   "id": "5a81db0f",
   "metadata": {},
   "outputs": [],
   "source": [
    "def matmul(grid, a, b, c):\n",
    "    i, j = grid\n",
    "    if i < c.shape[0] and j < c.shape[1]:\n",
    "        temp = 0\n",
    "        for k in range(a.shape[1]):\n",
    "            temp += a[i, k] * b[k, j]\n",
    "        c[i, j] = temp"
   ]
  },
  {
   "cell_type": "code",
   "execution_count": null,
   "id": "3a696268",
   "metadata": {},
   "outputs": [
    {
     "data": {
      "text/plain": [
       "tensor([[5.97,\n",
       "         0.00,\n",
       "         0.00,\n",
       "         0.00,\n",
       "         0.00,\n",
       "         0.00,\n",
       "         0.00,\n",
       "         0.00,\n",
       "         0.00,\n",
       "         0.00],\n",
       "        [0.00,\n",
       "         0.00,\n",
       "         0.00,\n",
       "         0.00,\n",
       "         0.00,\n",
       "         0.00,\n",
       "         0.00,\n",
       "         0.00,\n",
       "         0.00,\n",
       "         0.00],\n",
       "        [0.00,\n",
       "         0.00,\n",
       "         0.00,\n",
       "         0.00,\n",
       "         0.00,\n",
       "         0.00,\n",
       "         0.00,\n",
       "         0.00,\n",
       "         0.00,\n",
       "         0.00],\n",
       "        [0.00,\n",
       "         0.00,\n",
       "         0.00,\n",
       "         0.00,\n",
       "         0.00,\n",
       "         0.00,\n",
       "         0.00,\n",
       "         0.00,\n",
       "         0.00,\n",
       "         0.00],\n",
       "        [0.00,\n",
       "         0.00,\n",
       "         0.00,\n",
       "         0.00,\n",
       "         0.00,\n",
       "         0.00,\n",
       "         0.00,\n",
       "         0.00,\n",
       "         0.00,\n",
       "         0.00]])"
      ]
     },
     "execution_count": null,
     "metadata": {},
     "output_type": "execute_result"
    }
   ],
   "source": [
    "ar, ac = m1.shape\n",
    "br, bc = m2.shape\n",
    "r = torch.zeros(ar, bc)\n",
    "matmul((0, 0), m1, m2, r)\n",
    "r"
   ]
  },
  {
   "cell_type": "code",
   "execution_count": null,
   "id": "6e898b78",
   "metadata": {},
   "outputs": [],
   "source": [
    "def launch_kernel(kernel, grid_x, grid_y, *args, **kwards):\n",
    "    for i in range(grid_x):\n",
    "        for j in range(grid_y):\n",
    "            kernel((i, j), *args)"
   ]
  },
  {
   "cell_type": "code",
   "execution_count": null,
   "id": "6ad3233b",
   "metadata": {},
   "outputs": [
    {
     "data": {
      "text/plain": [
       "tensor([[  5.97,\n",
       "         -26.21,\n",
       "         -19.14,\n",
       "          11.53,\n",
       "          30.43,\n",
       "           5.51,\n",
       "         -10.37,\n",
       "          -3.66,\n",
       "           6.63,\n",
       "         -18.34],\n",
       "        [  4.37,\n",
       "         -24.84,\n",
       "         -12.90,\n",
       "          15.05,\n",
       "          26.32,\n",
       "           6.76,\n",
       "          -5.28,\n",
       "         -13.98,\n",
       "          20.55,\n",
       "         -20.79],\n",
       "        [ -3.20,\n",
       "         -10.03,\n",
       "           0.13,\n",
       "          11.45,\n",
       "           6.50,\n",
       "           1.72,\n",
       "          -2.58,\n",
       "           0.95,\n",
       "           6.77,\n",
       "          -6.72],\n",
       "        [ -0.12,\n",
       "          -1.54,\n",
       "          -3.97,\n",
       "          13.97,\n",
       "          12.62,\n",
       "          -1.87,\n",
       "          -3.98,\n",
       "          -3.59,\n",
       "           7.12,\n",
       "          -8.40],\n",
       "        [-10.83,\n",
       "         -16.76,\n",
       "         -12.78,\n",
       "          10.36,\n",
       "          24.11,\n",
       "          15.64,\n",
       "          -8.89,\n",
       "           1.78,\n",
       "           3.56,\n",
       "         -11.24]])"
      ]
     },
     "execution_count": null,
     "metadata": {},
     "output_type": "execute_result"
    }
   ],
   "source": [
    "grid_x = ar\n",
    "grid_y = bc\n",
    "r = torch.zeros(ar, bc)\n",
    "launch_kernel(matmul, grid_x, grid_y, m1, m2, r)\n",
    "r"
   ]
  },
  {
   "cell_type": "code",
   "execution_count": null,
   "id": "87765689",
   "metadata": {},
   "outputs": [],
   "source": [
    "test_close(t, r, eps=1e-4)"
   ]
  },
  {
   "cell_type": "code",
   "execution_count": null,
   "id": "HMSnnJbADcca",
   "metadata": {},
   "outputs": [],
   "source": [
    "from numba import cuda"
   ]
  },
  {
   "cell_type": "code",
   "execution_count": null,
   "id": "49ce21c6",
   "metadata": {},
   "outputs": [],
   "source": [
    "TPB = 16\n",
    "rr, rc = r.shape\n",
    "blockspergrid = (math.ceil(rr / TPB), math.ceil(rc / TPB))"
   ]
  },
  {
   "cell_type": "code",
   "execution_count": null,
   "id": "zxk8Wh0uC8t0",
   "metadata": {},
   "outputs": [],
   "source": [
    "@cuda.jit\n",
    "def matmul(a, b, c):\n",
    "  i, j = cuda.grid(2)\n",
    "  if i < c.shape[0] and j < c.shape[1]:\n",
    "    tmp = 0.\n",
    "    for k in range(a.shape[1]):\n",
    "      tmp += a[i, k] * b[k, j]\n",
    "    c[i, j] = tmp"
   ]
  },
  {
   "cell_type": "code",
   "execution_count": null,
   "id": "-01Ed-U-D5Jy",
   "metadata": {},
   "outputs": [],
   "source": [
    "r = np.zeros((rr, rc))\n",
    "m1 = m1.numpy()\n",
    "m2 = m2.numpy()\n",
    "m1g, m2g, rg = map(cuda.to_device, (m1, m2, r))"
   ]
  },
  {
   "cell_type": "code",
   "execution_count": null,
   "id": "cJiPcdsiDavd",
   "metadata": {},
   "outputs": [
    {
     "name": "stderr",
     "output_type": "stream",
     "text": [
      "/usr/local/lib/python3.10/dist-packages/numba/cuda/cudadrv/devicearray.py:886: NumbaPerformanceWarning: Host array used in CUDA kernel will incur copy overhead to/from device.\n",
      "  warn(NumbaPerformanceWarning(msg))\n"
     ]
    }
   ],
   "source": [
    "matmul[blockspergrid, (TPB, TPB)](m1, m2, rg)"
   ]
  },
  {
   "cell_type": "code",
   "execution_count": null,
   "id": "c4HZCzt8DnPl",
   "metadata": {},
   "outputs": [
    {
     "data": {
      "text/plain": [
       "(5, 10)"
      ]
     },
     "execution_count": null,
     "metadata": {},
     "output_type": "execute_result"
    }
   ],
   "source": [
    "r = rg.copy_to_host(); r.shape"
   ]
  },
  {
   "cell_type": "code",
   "execution_count": null,
   "id": "JCc9NvlfEZR4",
   "metadata": {},
   "outputs": [],
   "source": [
    "test_close(t, r, eps=1e-4)"
   ]
  },
  {
   "cell_type": "code",
   "execution_count": null,
   "id": "KLnmJ3grEnGf",
   "metadata": {},
   "outputs": [
    {
     "name": "stdout",
     "output_type": "stream",
     "text": [
      "CPU times: user 3.34 ms, sys: 56 µs, total: 3.4 ms\n",
      "Wall time: 3.11 ms\n"
     ]
    }
   ],
   "source": [
    "%time _=matmul[blockspergrid, (TPB, TPB)](m1, m2, rg)"
   ]
  },
  {
   "cell_type": "code",
   "execution_count": null,
   "id": "uV0B8z4KFAxl",
   "metadata": {},
   "outputs": [],
   "source": [
    "m1, m2 = map(torch.tensor, (m1, m2))"
   ]
  },
  {
   "cell_type": "code",
   "execution_count": null,
   "id": "DyGDdrQJEv_j",
   "metadata": {},
   "outputs": [
    {
     "name": "stdout",
     "output_type": "stream",
     "text": [
      "CPU times: user 573 µs, sys: 0 ns, total: 573 µs\n",
      "Wall time: 411 µs\n"
     ]
    }
   ],
   "source": [
    "%time _=(m1@m2).cpu()"
   ]
  },
  {
   "cell_type": "code",
   "execution_count": null,
   "id": "LNANnnuBE1o0",
   "metadata": {},
   "outputs": [],
   "source": []
  }
 ],
 "metadata": {
  "kernelspec": {
   "display_name": "fastai",
   "language": "python",
   "name": "fastai"
  }
 },
 "nbformat": 4,
 "nbformat_minor": 5
}
