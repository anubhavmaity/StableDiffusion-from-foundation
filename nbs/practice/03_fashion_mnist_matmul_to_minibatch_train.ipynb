{
 "cells": [
  {
   "cell_type": "markdown",
   "id": "8efe3853",
   "metadata": {},
   "source": [
    "# Matrix Multiplication -> Minibatch Training"
   ]
  },
  {
   "cell_type": "markdown",
   "id": "ac81d277",
   "metadata": {},
   "source": [
    "## Load Dataset"
   ]
  },
  {
   "cell_type": "code",
   "execution_count": null,
   "id": "07339b77",
   "metadata": {},
   "outputs": [],
   "source": [
    "import os\n",
    "import gzip\n",
    "import numpy as np\n",
    "from itertools import islice\n",
    "import torch\n",
    "from torch import tensor\n",
    "from matplotlib import pyplot as plt\n",
    "from fastcore.test import test_eq, test_close\n",
    "from numba import njit\n",
    "import pdb\n",
    "from torch import nn\n",
    "import torch.nn.functional as F"
   ]
  },
  {
   "cell_type": "code",
   "execution_count": null,
   "id": "26a1e02c",
   "metadata": {},
   "outputs": [],
   "source": [
    "def load_mnist(path, kind='train'):\n",
    "\n",
    "    \"\"\"Load MNIST data from `path`\"\"\"\n",
    "    labels_path = os.path.join(path,\n",
    "                               '%s-labels-idx1-ubyte.gz'\n",
    "                               % kind)\n",
    "    images_path = os.path.join(path,\n",
    "                               '%s-images-idx3-ubyte.gz'\n",
    "                               % kind)\n",
    "\n",
    "    with gzip.open(labels_path, 'rb') as lbpath:\n",
    "        labels = np.frombuffer(lbpath.read(), dtype=np.uint8,\n",
    "                               offset=8)\n",
    "\n",
    "    with gzip.open(images_path, 'rb') as imgpath:\n",
    "        images = np.frombuffer(imgpath.read(), dtype=np.uint8,\n",
    "                               offset=16).reshape(len(labels), 784)\n",
    "\n",
    "    return images, labels"
   ]
  },
  {
   "cell_type": "code",
   "execution_count": null,
   "id": "6776188e",
   "metadata": {},
   "outputs": [],
   "source": [
    "# labels from fashion mnist dataset\n",
    "labels = ['T-shirt/top', \n",
    "          'Trouser',\n",
    "          'Pullover',\n",
    "          'Dress',\n",
    "          'Coat',\n",
    "          'Sandal',\n",
    "          'Shirt',\n",
    "          'Sneaker',\n",
    "          'Bag',\n",
    "          'Ankle boot'\n",
    "         ]"
   ]
  },
  {
   "cell_type": "code",
   "execution_count": null,
   "id": "9d6b664c",
   "metadata": {},
   "outputs": [],
   "source": [
    "x_train, y_train = load_mnist('../../data/fashion_mnist', kind='train')\n",
    "x_test, y_test = load_mnist('../../data/fashion_mnist', kind='t10k')\n",
    "\n",
    "x_train, x_test = x_train.astype('float32') / 255., x_test.astype('float32') / 255."
   ]
  },
  {
   "cell_type": "code",
   "execution_count": null,
   "id": "6799d9c5",
   "metadata": {},
   "outputs": [
    {
     "data": {
      "text/plain": [
       "(dtype('float32'), dtype('uint8'))"
      ]
     },
     "execution_count": null,
     "metadata": {},
     "output_type": "execute_result"
    }
   ],
   "source": [
    "x_train.dtype, y_train.dtype"
   ]
  },
  {
   "cell_type": "code",
   "execution_count": null,
   "id": "dd8203aa",
   "metadata": {},
   "outputs": [
    {
     "data": {
      "text/plain": [
       "((60000, 784), (10000, 784), (60000,), (10000,))"
      ]
     },
     "execution_count": null,
     "metadata": {},
     "output_type": "execute_result"
    }
   ],
   "source": [
    "x_train.shape, x_test.shape, y_train.shape, y_test.shape"
   ]
  },
  {
   "cell_type": "markdown",
   "id": "a77581bb",
   "metadata": {},
   "source": [
    "## `chunk`"
   ]
  },
  {
   "cell_type": "code",
   "execution_count": null,
   "id": "b65fb5fb",
   "metadata": {},
   "outputs": [],
   "source": [
    "lst = list(x_train[0])"
   ]
  },
  {
   "cell_type": "code",
   "execution_count": null,
   "id": "8e55e574",
   "metadata": {},
   "outputs": [],
   "source": [
    "def chunks(array, bs):\n",
    "    for i in range(0, len(array), bs):yield array[i: i + bs]"
   ]
  },
  {
   "cell_type": "code",
   "execution_count": null,
   "id": "4446325e",
   "metadata": {},
   "outputs": [],
   "source": [
    "vals = lst[300: 310]"
   ]
  },
  {
   "cell_type": "code",
   "execution_count": null,
   "id": "86587569",
   "metadata": {},
   "outputs": [],
   "source": [
    "val_iter = iter(chunks(vals, 5))"
   ]
  },
  {
   "cell_type": "code",
   "execution_count": null,
   "id": "af918b3f",
   "metadata": {},
   "outputs": [
    {
     "data": {
      "text/plain": [
       "[0.8235294, 0.827451, 0.8352941, 0.8745098, 0.8627451]"
      ]
     },
     "execution_count": null,
     "metadata": {},
     "output_type": "execute_result"
    }
   ],
   "source": [
    "next(val_iter)"
   ]
  },
  {
   "cell_type": "code",
   "execution_count": null,
   "id": "0ae05f8a",
   "metadata": {},
   "outputs": [
    {
     "data": {
      "text/plain": [
       "<matplotlib.image.AxesImage>"
      ]
     },
     "execution_count": null,
     "metadata": {},
     "output_type": "execute_result"
    },
    {
     "data": {
      "image/png": "[encoded data removed]",
      "text/plain": [
       "<Figure size 640x480 with 1 Axes>"
      ]
     },
     "metadata": {},
     "output_type": "display_data"
    }
   ],
   "source": [
    "plt.imshow(list(chunks(x_train[0], 28)))"
   ]
  },
  {
   "cell_type": "code",
   "execution_count": null,
   "id": "1a89506d",
   "metadata": {},
   "outputs": [
    {
     "data": {
      "text/plain": [
       "'Ankle boot'"
      ]
     },
     "execution_count": null,
     "metadata": {},
     "output_type": "execute_result"
    }
   ],
   "source": [
    "labels[y_train[0]] # What is the above image?"
   ]
  },
  {
   "cell_type": "markdown",
   "id": "81fb402b",
   "metadata": {},
   "source": [
    "## `islice` (replacement of `chunk`)"
   ]
  },
  {
   "cell_type": "code",
   "execution_count": null,
   "id": "70225b4f",
   "metadata": {},
   "outputs": [],
   "source": [
    "vals_slice = islice(vals, 5)"
   ]
  },
  {
   "cell_type": "code",
   "execution_count": null,
   "id": "333e0572",
   "metadata": {},
   "outputs": [
    {
     "data": {
      "text/plain": [
       "[0.8235294, 0.827451, 0.8352941, 0.8745098, 0.8627451]"
      ]
     },
     "execution_count": null,
     "metadata": {},
     "output_type": "execute_result"
    }
   ],
   "source": [
    "list(vals_slice)"
   ]
  },
  {
   "cell_type": "code",
   "execution_count": null,
   "id": "367b3f74",
   "metadata": {},
   "outputs": [],
   "source": [
    "lst_iter = iter(lst)\n",
    "image = list(iter(lambda: list(islice(lst_iter, 28)), []))"
   ]
  },
  {
   "cell_type": "code",
   "execution_count": null,
   "id": "6b83c2dd",
   "metadata": {},
   "outputs": [
    {
     "data": {
      "text/plain": [
       "<matplotlib.image.AxesImage>"
      ]
     },
     "execution_count": null,
     "metadata": {},
     "output_type": "execute_result"
    },
    {
     "data": {
      "image/png": "[encoded data removed]",
      "text/plain": [
       "<Figure size 640x480 with 1 Axes>"
      ]
     },
     "metadata": {},
     "output_type": "display_data"
    }
   ],
   "source": [
    "plt.imshow(image)"
   ]
  },
  {
   "cell_type": "markdown",
   "id": "9c26378b",
   "metadata": {},
   "source": [
    "## Tensor"
   ]
  },
  {
   "cell_type": "code",
   "execution_count": null,
   "id": "a4977815",
   "metadata": {},
   "outputs": [],
   "source": [
    "class Matrix:\n",
    "    def __init__(self, xs):\n",
    "        self.xs = xs\n",
    "    def __getitem__(self, ids):\n",
    "        return self.xs[ids[0]][ids[1]]"
   ]
  },
  {
   "cell_type": "code",
   "execution_count": null,
   "id": "b8072494",
   "metadata": {},
   "outputs": [],
   "source": [
    "m = Matrix(x_train)"
   ]
  },
  {
   "cell_type": "code",
   "execution_count": null,
   "id": "57aecfe4",
   "metadata": {},
   "outputs": [
    {
     "data": {
      "text/plain": [
       "0.5254902"
      ]
     },
     "execution_count": null,
     "metadata": {},
     "output_type": "execute_result"
    }
   ],
   "source": [
    "m[300, 301]"
   ]
  },
  {
   "cell_type": "code",
   "execution_count": null,
   "id": "298c56c5",
   "metadata": {},
   "outputs": [
    {
     "data": {
      "text/plain": [
       "tensor(2)"
      ]
     },
     "execution_count": null,
     "metadata": {},
     "output_type": "execute_result"
    }
   ],
   "source": [
    "a = tensor([[1, 2, 3], [4, 5, 6], [7, 8, 9]]); a[0, 1]"
   ]
  },
  {
   "cell_type": "markdown",
   "id": "0291db7c",
   "metadata": {},
   "source": [
    "## Matrix Multiplication: Brute Force"
   ]
  },
  {
   "cell_type": "code",
   "execution_count": null,
   "id": "5cd4e7c9",
   "metadata": {},
   "outputs": [],
   "source": [
    "x_train, x_test, y_train, y_test = map(tensor, (x_train, x_test, y_train, y_test))"
   ]
  },
  {
   "cell_type": "code",
   "execution_count": null,
   "id": "161dbcec",
   "metadata": {},
   "outputs": [],
   "source": [
    "def matmul(a, b):\n",
    "    ar, ac = a.shape\n",
    "    br, bc = b.shape\n",
    "    \n",
    "    res = torch.zeros(ar, bc)\n",
    "    \n",
    "    for i in range(ar):\n",
    "        for j in range(bc):\n",
    "            for k in range(ac):\n",
    "                res[i, j] += a[i, k] * b[k, j]\n",
    "    return res"
   ]
  },
  {
   "cell_type": "code",
   "execution_count": null,
   "id": "5cad801f",
   "metadata": {},
   "outputs": [],
   "source": [
    "xs = x_test[:5]\n",
    "w = torch.randn(784, 10)\n",
    "res = matmul(xs, w)"
   ]
  },
  {
   "cell_type": "code",
   "execution_count": null,
   "id": "9132f303",
   "metadata": {},
   "outputs": [],
   "source": [
    "test_close(res, torch.matmul(xs, w), eps=1e-4)"
   ]
  },
  {
   "cell_type": "code",
   "execution_count": null,
   "id": "2cd79b76",
   "metadata": {},
   "outputs": [
    {
     "name": "stdout",
     "output_type": "stream",
     "text": [
      "CPU times: user 1.08 s, sys: 33.9 ms, total: 1.11 s\n",
      "Wall time: 1.37 s\n"
     ]
    }
   ],
   "source": [
    "%time _=matmul(xs, w)"
   ]
  },
  {
   "cell_type": "markdown",
   "id": "02e0aa20",
   "metadata": {},
   "source": [
    "## Matrix Multiplication: Numba"
   ]
  },
  {
   "cell_type": "code",
   "execution_count": null,
   "id": "833518ab",
   "metadata": {},
   "outputs": [],
   "source": [
    "@njit\n",
    "def dot(a, b):\n",
    "    res = 0\n",
    "    for i in range(len(a)):\n",
    "        res += a[i] * b[i]\n",
    "    return res"
   ]
  },
  {
   "cell_type": "code",
   "execution_count": null,
   "id": "4f25b8db",
   "metadata": {},
   "outputs": [],
   "source": [
    "a = np.array([1, 2, 3])\n",
    "b = np.array([4, 5, 6])"
   ]
  },
  {
   "cell_type": "code",
   "execution_count": null,
   "id": "c91e4c0b",
   "metadata": {},
   "outputs": [
    {
     "data": {
      "text/plain": [
       "32"
      ]
     },
     "execution_count": null,
     "metadata": {},
     "output_type": "execute_result"
    }
   ],
   "source": [
    "dot(a, b)"
   ]
  },
  {
   "cell_type": "code",
   "execution_count": null,
   "id": "4052c43e",
   "metadata": {},
   "outputs": [],
   "source": [
    "def matmul(a, b):\n",
    "    ar, ac = a.shape\n",
    "    br, bc = b.shape\n",
    "    res = torch.zeros(ar, bc)\n",
    "    for i in range(ar):\n",
    "        for j in range(bc):\n",
    "            res[i, j] = dot(a[i], b[:, j])\n",
    "    return res"
   ]
  },
  {
   "cell_type": "code",
   "execution_count": null,
   "id": "ca8f22ac",
   "metadata": {},
   "outputs": [],
   "source": [
    "res = matmul(xs.numpy(), w.numpy())"
   ]
  },
  {
   "cell_type": "code",
   "execution_count": null,
   "id": "0ca92463",
   "metadata": {},
   "outputs": [],
   "source": [
    "test_close(res, torch.matmul(xs, w), eps=1e-4)"
   ]
  },
  {
   "cell_type": "code",
   "execution_count": null,
   "id": "f9e57c58",
   "metadata": {},
   "outputs": [
    {
     "name": "stdout",
     "output_type": "stream",
     "text": [
      "CPU times: user 581 µs, sys: 29 µs, total: 610 µs\n",
      "Wall time: 592 µs\n"
     ]
    }
   ],
   "source": [
    "%time _=matmul(xs.numpy(), w.numpy())"
   ]
  },
  {
   "cell_type": "markdown",
   "id": "c7edcad8",
   "metadata": {},
   "source": [
    "## Matrix Multiplication: `einsum`"
   ]
  },
  {
   "cell_type": "code",
   "execution_count": null,
   "id": "5285d1c7",
   "metadata": {},
   "outputs": [],
   "source": [
    "res = torch.einsum('ik,kj->ikj', xs, w)"
   ]
  },
  {
   "cell_type": "code",
   "execution_count": null,
   "id": "70e84916",
   "metadata": {},
   "outputs": [
    {
     "data": {
      "text/plain": [
       "torch.Size([5, 784, 10])"
      ]
     },
     "execution_count": null,
     "metadata": {},
     "output_type": "execute_result"
    }
   ],
   "source": [
    "res.shape"
   ]
  },
  {
   "cell_type": "code",
   "execution_count": null,
   "id": "426a195e",
   "metadata": {},
   "outputs": [
    {
     "data": {
      "text/plain": [
       "torch.Size([5, 10])"
      ]
     },
     "execution_count": null,
     "metadata": {},
     "output_type": "execute_result"
    }
   ],
   "source": [
    "res.sum(1).shape"
   ]
  },
  {
   "cell_type": "code",
   "execution_count": null,
   "id": "74ab2688",
   "metadata": {},
   "outputs": [],
   "source": [
    "test_close(res.sum(1), torch.matmul(xs, w), eps=1e-4)"
   ]
  },
  {
   "cell_type": "code",
   "execution_count": null,
   "id": "bea34a11",
   "metadata": {},
   "outputs": [],
   "source": [
    "res = torch.einsum('ik,kj->ij', xs, w)\n",
    "test_close(res, torch.matmul(xs, w), eps=1e-4)"
   ]
  },
  {
   "cell_type": "code",
   "execution_count": null,
   "id": "6f9d01fb",
   "metadata": {},
   "outputs": [
    {
     "name": "stdout",
     "output_type": "stream",
     "text": [
      "CPU times: user 611 µs, sys: 272 µs, total: 883 µs\n",
      "Wall time: 560 µs\n"
     ]
    }
   ],
   "source": [
    "%time _=torch.einsum('ik,kj->ij', xs, w)"
   ]
  },
  {
   "cell_type": "markdown",
   "id": "138fa3ae",
   "metadata": {},
   "source": [
    "## Matrix Multiplication: Element wise operation"
   ]
  },
  {
   "cell_type": "code",
   "execution_count": null,
   "id": "dc0a62d7",
   "metadata": {},
   "outputs": [],
   "source": [
    "a = torch.tensor([1, 2, 3])\n",
    "b = torch.tensor([4, 5, 6])"
   ]
  },
  {
   "cell_type": "code",
   "execution_count": null,
   "id": "8370b91d",
   "metadata": {},
   "outputs": [
    {
     "data": {
      "text/plain": [
       "tensor([ 4, 10, 18])"
      ]
     },
     "execution_count": null,
     "metadata": {},
     "output_type": "execute_result"
    }
   ],
   "source": [
    "a * b"
   ]
  },
  {
   "cell_type": "code",
   "execution_count": null,
   "id": "40e1fcdc",
   "metadata": {},
   "outputs": [],
   "source": [
    "def matmul(a, b):\n",
    "    ar, ac = a.shape\n",
    "    br, bc = b.shape\n",
    "    \n",
    "    res = torch.zeros(ar, bc)\n",
    "    \n",
    "    for i in range(ar):\n",
    "        for j in range(bc):\n",
    "            res[i, j] = (a[i, :] * b[:, j]).sum()\n",
    "    return res"
   ]
  },
  {
   "cell_type": "code",
   "execution_count": null,
   "id": "50c12908",
   "metadata": {},
   "outputs": [],
   "source": [
    "res = matmul(xs, w)"
   ]
  },
  {
   "cell_type": "code",
   "execution_count": null,
   "id": "ced362dc",
   "metadata": {},
   "outputs": [],
   "source": [
    "test_close(res, torch.matmul(xs, w), eps=1e-4)"
   ]
  },
  {
   "cell_type": "code",
   "execution_count": null,
   "id": "70b351d1",
   "metadata": {},
   "outputs": [
    {
     "name": "stdout",
     "output_type": "stream",
     "text": [
      "CPU times: user 2.61 ms, sys: 1.73 ms, total: 4.35 ms\n",
      "Wall time: 3.24 ms\n"
     ]
    }
   ],
   "source": [
    "%time _=matmul(xs, w)"
   ]
  },
  {
   "cell_type": "markdown",
   "id": "e4d69ff2",
   "metadata": {},
   "source": [
    "## Matrix Multiplication: Broadcasting"
   ]
  },
  {
   "cell_type": "code",
   "execution_count": null,
   "id": "a1a8b602",
   "metadata": {},
   "outputs": [],
   "source": [
    "a = torch.tensor([10, -6, 4])"
   ]
  },
  {
   "cell_type": "code",
   "execution_count": null,
   "id": "822fb4fe",
   "metadata": {},
   "outputs": [
    {
     "data": {
      "text/plain": [
       "tensor([ True, False,  True])"
      ]
     },
     "execution_count": null,
     "metadata": {},
     "output_type": "execute_result"
    }
   ],
   "source": [
    "a > 0 "
   ]
  },
  {
   "cell_type": "code",
   "execution_count": null,
   "id": "e7ec0c99",
   "metadata": {},
   "outputs": [
    {
     "data": {
      "text/plain": [
       "tensor([11, -5,  5])"
      ]
     },
     "execution_count": null,
     "metadata": {},
     "output_type": "execute_result"
    }
   ],
   "source": [
    "a + 1"
   ]
  },
  {
   "cell_type": "code",
   "execution_count": null,
   "id": "15af674e",
   "metadata": {},
   "outputs": [],
   "source": [
    "m = torch.tensor([[10, 20, 30], [40, 50, 60], [70, 80, 90]])"
   ]
  },
  {
   "cell_type": "code",
   "execution_count": null,
   "id": "75eefc4d",
   "metadata": {},
   "outputs": [],
   "source": [
    "c = torch.tensor([1, 2, 3])"
   ]
  },
  {
   "cell_type": "code",
   "execution_count": null,
   "id": "a4318f12",
   "metadata": {},
   "outputs": [
    {
     "data": {
      "text/plain": [
       "(torch.Size([3, 3]), torch.Size([3]))"
      ]
     },
     "execution_count": null,
     "metadata": {},
     "output_type": "execute_result"
    }
   ],
   "source": [
    "m.shape, c.shape"
   ]
  },
  {
   "cell_type": "code",
   "execution_count": null,
   "id": "5b4b3aef",
   "metadata": {},
   "outputs": [
    {
     "data": {
      "text/plain": [
       "tensor([[11, 22, 33],\n",
       "        [41, 52, 63],\n",
       "        [71, 82, 93]])"
      ]
     },
     "execution_count": null,
     "metadata": {},
     "output_type": "execute_result"
    }
   ],
   "source": [
    "m + c"
   ]
  },
  {
   "cell_type": "code",
   "execution_count": null,
   "id": "367ac6d2",
   "metadata": {},
   "outputs": [
    {
     "data": {
      "text/plain": [
       "tensor([[11, 22, 33],\n",
       "        [41, 52, 63],\n",
       "        [71, 82, 93]])"
      ]
     },
     "execution_count": null,
     "metadata": {},
     "output_type": "execute_result"
    }
   ],
   "source": [
    "c + m"
   ]
  },
  {
   "cell_type": "code",
   "execution_count": null,
   "id": "adeacdd2",
   "metadata": {},
   "outputs": [],
   "source": [
    "t = c.expand_as(m)"
   ]
  },
  {
   "cell_type": "code",
   "execution_count": null,
   "id": "af72c4c7",
   "metadata": {},
   "outputs": [
    {
     "data": {
      "text/plain": [
       " 1\n",
       " 2\n",
       " 3\n",
       "[torch.storage._TypedStorage(dtype=torch.int64, device=cpu) of size 3]"
      ]
     },
     "execution_count": null,
     "metadata": {},
     "output_type": "execute_result"
    }
   ],
   "source": [
    "t.storage()"
   ]
  },
  {
   "cell_type": "code",
   "execution_count": null,
   "id": "02351f27",
   "metadata": {},
   "outputs": [
    {
     "data": {
      "text/plain": [
       "((0, 1), torch.Size([3, 3]))"
      ]
     },
     "execution_count": null,
     "metadata": {},
     "output_type": "execute_result"
    }
   ],
   "source": [
    "t.stride(), t.shape"
   ]
  },
  {
   "cell_type": "code",
   "execution_count": null,
   "id": "07aa5518",
   "metadata": {},
   "outputs": [
    {
     "data": {
      "text/plain": [
       "torch.Size([10])"
      ]
     },
     "execution_count": null,
     "metadata": {},
     "output_type": "execute_result"
    }
   ],
   "source": [
    "(xs[0][..., None] * w).sum(0).shape"
   ]
  },
  {
   "cell_type": "code",
   "execution_count": null,
   "id": "34677ece",
   "metadata": {},
   "outputs": [],
   "source": [
    "def matmul(a, b):\n",
    "    ar, ac = a.shape\n",
    "    br, bc = b.shape\n",
    "    \n",
    "    res = torch.zeros(ar, bc)\n",
    "    for i in range(ar):\n",
    "        res[i] = (a[i, ..., None] * b).sum(0)\n",
    "    return res"
   ]
  },
  {
   "cell_type": "code",
   "execution_count": null,
   "id": "721ca324",
   "metadata": {},
   "outputs": [],
   "source": [
    "res = matmul(xs, w)"
   ]
  },
  {
   "cell_type": "code",
   "execution_count": null,
   "id": "f4329e9d",
   "metadata": {},
   "outputs": [
    {
     "data": {
      "text/plain": [
       "torch.Size([5, 10])"
      ]
     },
     "execution_count": null,
     "metadata": {},
     "output_type": "execute_result"
    }
   ],
   "source": [
    "res.shape"
   ]
  },
  {
   "cell_type": "code",
   "execution_count": null,
   "id": "c820708b",
   "metadata": {},
   "outputs": [],
   "source": [
    "test_close(res, torch.matmul(xs, w))"
   ]
  },
  {
   "cell_type": "code",
   "execution_count": null,
   "id": "d7de0a6a",
   "metadata": {},
   "outputs": [
    {
     "name": "stdout",
     "output_type": "stream",
     "text": [
      "CPU times: user 1.57 ms, sys: 956 µs, total: 2.52 ms\n",
      "Wall time: 4.39 ms\n"
     ]
    }
   ],
   "source": [
    "%time _=matmul(xs, w)"
   ]
  },
  {
   "cell_type": "code",
   "execution_count": null,
   "id": "730393cf",
   "metadata": {},
   "outputs": [
    {
     "name": "stdout",
     "output_type": "stream",
     "text": [
      "CPU times: user 107 µs, sys: 322 µs, total: 429 µs\n",
      "Wall time: 3.19 ms\n"
     ]
    }
   ],
   "source": [
    "%time _=xs@w"
   ]
  },
  {
   "cell_type": "markdown",
   "id": "f2e0ccb0",
   "metadata": {},
   "source": [
    "## Linear"
   ]
  },
  {
   "cell_type": "code",
   "execution_count": null,
   "id": "319745bc",
   "metadata": {},
   "outputs": [],
   "source": [
    "def lin(x, w, b): return x@w + b"
   ]
  },
  {
   "cell_type": "code",
   "execution_count": null,
   "id": "ff9ca4ad",
   "metadata": {},
   "outputs": [],
   "source": [
    "nh = 50\n",
    "w1 = torch.randn(784, nh)\n",
    "b1 = torch.zeros(nh)\n",
    "w2 = torch.randn(nh, 1)\n",
    "b2 = torch.zeros(1)"
   ]
  },
  {
   "cell_type": "code",
   "execution_count": null,
   "id": "bd380f1e",
   "metadata": {},
   "outputs": [
    {
     "data": {
      "text/plain": [
       "torch.Size([5, 50])"
      ]
     },
     "execution_count": null,
     "metadata": {},
     "output_type": "execute_result"
    }
   ],
   "source": [
    "lin(xs, w1, b1).shape"
   ]
  },
  {
   "cell_type": "markdown",
   "id": "f66ae3ec",
   "metadata": {},
   "source": [
    "## Relu"
   ]
  },
  {
   "cell_type": "code",
   "execution_count": null,
   "id": "c7983e60",
   "metadata": {},
   "outputs": [],
   "source": [
    "def relu(a): return a.clamp_min(0)"
   ]
  },
  {
   "cell_type": "code",
   "execution_count": null,
   "id": "8b582720",
   "metadata": {},
   "outputs": [
    {
     "data": {
      "text/plain": [
       "tensor([10,  0,  8])"
      ]
     },
     "execution_count": null,
     "metadata": {},
     "output_type": "execute_result"
    }
   ],
   "source": [
    "z = torch.tensor([10, -6, 8]); relu(z)"
   ]
  },
  {
   "cell_type": "markdown",
   "id": "390d7ad8",
   "metadata": {},
   "source": [
    "## Forward"
   ]
  },
  {
   "cell_type": "code",
   "execution_count": null,
   "id": "ddece5ed",
   "metadata": {},
   "outputs": [],
   "source": [
    "def forward(x):\n",
    "    l1 = lin(x, w1, b1)\n",
    "    l2 = relu(l1)\n",
    "    return lin(l2, w2, b2)"
   ]
  },
  {
   "cell_type": "code",
   "execution_count": null,
   "id": "9cbaf074",
   "metadata": {},
   "outputs": [
    {
     "data": {
      "text/plain": [
       "torch.Size([5, 1])"
      ]
     },
     "execution_count": null,
     "metadata": {},
     "output_type": "execute_result"
    }
   ],
   "source": [
    "ys_pred = forward(xs); ys_pred.shape"
   ]
  },
  {
   "cell_type": "markdown",
   "id": "a5393fab",
   "metadata": {},
   "source": [
    "## MSE"
   ]
  },
  {
   "cell_type": "code",
   "execution_count": null,
   "id": "3e1930c0",
   "metadata": {},
   "outputs": [
    {
     "data": {
      "text/plain": [
       "torch.Size([5])"
      ]
     },
     "execution_count": null,
     "metadata": {},
     "output_type": "execute_result"
    }
   ],
   "source": [
    "ys_act = y_test[:5]; ys_act.shape"
   ]
  },
  {
   "cell_type": "code",
   "execution_count": null,
   "id": "21ab9f7a",
   "metadata": {},
   "outputs": [],
   "source": [
    "def mse(pred, act): return (pred[:, 0] - ys_act).pow(2).mean()"
   ]
  },
  {
   "cell_type": "code",
   "execution_count": null,
   "id": "40626fa9",
   "metadata": {},
   "outputs": [
    {
     "data": {
      "text/plain": [
       "tensor(6151.3032)"
      ]
     },
     "execution_count": null,
     "metadata": {},
     "output_type": "execute_result"
    }
   ],
   "source": [
    "mse(ys_pred, ys_act)"
   ]
  },
  {
   "cell_type": "markdown",
   "id": "ad49514c",
   "metadata": {},
   "source": [
    "## Forward & Backprop "
   ]
  },
  {
   "cell_type": "code",
   "execution_count": null,
   "id": "32158915",
   "metadata": {},
   "outputs": [],
   "source": [
    "def lin_grad(inp, out, w, b):\n",
    "    inp.g =  out.g @ w.T\n",
    "    w.g = inp.T @ out.g\n",
    "    b.g = out.g.sum(0)"
   ]
  },
  {
   "cell_type": "code",
   "execution_count": null,
   "id": "695a9dd1",
   "metadata": {},
   "outputs": [],
   "source": [
    "def forward_backward(x, y):\n",
    "    l1 = lin(x, w1, b1)\n",
    "    l2 = relu(l1)\n",
    "    out = lin(l2, w2, b2)\n",
    "    loss = mse(out, y)\n",
    "    \n",
    "    out.g = 2 * (out[:, 0] - y).unsqueeze(-1) / x.shape[0]\n",
    "    lin_grad(l2, out, w2, b2)\n",
    "    l1.g = (l1 > 0).float() * l2.g\n",
    "    lin_grad(x, l1, w1, b1)"
   ]
  },
  {
   "cell_type": "code",
   "execution_count": null,
   "id": "b198c5b1",
   "metadata": {},
   "outputs": [],
   "source": [
    "forward_backward(xs, ys_act)"
   ]
  },
  {
   "cell_type": "code",
   "execution_count": null,
   "id": "a4c43eb4",
   "metadata": {},
   "outputs": [],
   "source": [
    "def chck_grad(w1, b1, w2, b2): \n",
    "    return list(map(lambda x: x.g.clone(), (w1, b1, w2, b2)))"
   ]
  },
  {
   "cell_type": "code",
   "execution_count": null,
   "id": "be7983ad",
   "metadata": {},
   "outputs": [],
   "source": [
    "w1g, b1g, w2g, b2g = chck_grad(w1, b1, w2, b2)"
   ]
  },
  {
   "cell_type": "code",
   "execution_count": null,
   "id": "d2d1d6aa",
   "metadata": {},
   "outputs": [],
   "source": [
    "def make_grad(w1, b1, w2, b2): return list(map(lambda x: x.clone().requires_grad_(True), (w1, b1, w2, b2)))"
   ]
  },
  {
   "cell_type": "code",
   "execution_count": null,
   "id": "f9ce6ad4",
   "metadata": {},
   "outputs": [],
   "source": [
    "w11, b11, w22, b22 = make_grad(w1, b1, w2, b2)"
   ]
  },
  {
   "cell_type": "code",
   "execution_count": null,
   "id": "0a449f33",
   "metadata": {},
   "outputs": [],
   "source": [
    "def forward(x, y):\n",
    "    l1 = lin(x, w11, b11)\n",
    "    l2 = relu(l1)\n",
    "    out = lin(l2, w22, b22)\n",
    "    return mse(out, y)"
   ]
  },
  {
   "cell_type": "code",
   "execution_count": null,
   "id": "e6b3caa1",
   "metadata": {},
   "outputs": [],
   "source": [
    "loss = forward(xs, ys_act)"
   ]
  },
  {
   "cell_type": "code",
   "execution_count": null,
   "id": "39e92818",
   "metadata": {},
   "outputs": [],
   "source": [
    "loss.backward()"
   ]
  },
  {
   "cell_type": "code",
   "execution_count": null,
   "id": "25604d51",
   "metadata": {},
   "outputs": [],
   "source": [
    "for a, b in zip([w1g, b1g, w2g, b2g], [w11, b11, w22, b22]):\n",
    "    test_close(a, b.grad, eps=1e-4)"
   ]
  },
  {
   "cell_type": "markdown",
   "id": "78233e14",
   "metadata": {},
   "source": [
    "## Layers as Classes"
   ]
  },
  {
   "cell_type": "code",
   "execution_count": null,
   "id": "e77cddc7",
   "metadata": {},
   "outputs": [],
   "source": [
    "class Linear:\n",
    "    def __init__(self, w, b):\n",
    "        self.w = w\n",
    "        self.b = b\n",
    "        \n",
    "    def __call__(self, inp):\n",
    "        self.inp = inp\n",
    "        self.out = inp @ self.w + self.b\n",
    "        return self.out\n",
    "    \n",
    "    def backward(self):\n",
    "        self.inp.g = self.out.g @ self.w.T\n",
    "        self.w.g = self.inp.T @ self.out.g\n",
    "        self.b.g = self.out.g.sum(0)"
   ]
  },
  {
   "cell_type": "code",
   "execution_count": null,
   "id": "eaeef804",
   "metadata": {},
   "outputs": [],
   "source": [
    "class Relu:\n",
    "    def __call__(self, inp):\n",
    "        self.inp = inp\n",
    "        self.out = self.inp.clamp_min(0.)\n",
    "        return self.out\n",
    "\n",
    "    def backward(self):\n",
    "        self.inp.g = (self.inp > 0).float() * self.out.g"
   ]
  },
  {
   "cell_type": "code",
   "execution_count": null,
   "id": "345dc930",
   "metadata": {},
   "outputs": [],
   "source": [
    "class MSE:\n",
    "    def __call__(self, pred, act):\n",
    "        self.inp = pred\n",
    "        self.diff = (pred[:, 0] - act)\n",
    "        self.out =  self.diff.pow(2).mean()\n",
    "        return self.out\n",
    "    \n",
    "    def backward(self):\n",
    "        \n",
    "        self.inp.g = 2 * self.diff.unsqueeze(-1) / self.inp.shape[0]"
   ]
  },
  {
   "cell_type": "code",
   "execution_count": null,
   "id": "d600d183",
   "metadata": {},
   "outputs": [],
   "source": [
    "class Model:\n",
    "    def __init__(self, w1, b1, w2, b2):\n",
    "        self.layers = [Linear(w1, b1), Relu(), Linear(w2, b2)]\n",
    "        self.loss = MSE()\n",
    "        \n",
    "    def __call__(self, x, y):\n",
    "        for layer in self.layers:\n",
    "            x = layer(x)\n",
    "        return self.loss(x, y)\n",
    "    \n",
    "    def backward(self):\n",
    "        self.loss.backward()\n",
    "        for l in reversed(self.layers):\n",
    "            l.backward()"
   ]
  },
  {
   "cell_type": "code",
   "execution_count": null,
   "id": "8fc6b615",
   "metadata": {},
   "outputs": [],
   "source": [
    "m = Model(w1, b1, w2, b2)"
   ]
  },
  {
   "cell_type": "code",
   "execution_count": null,
   "id": "c5936e7e",
   "metadata": {},
   "outputs": [],
   "source": [
    "loss = m(xs, ys_act)"
   ]
  },
  {
   "cell_type": "code",
   "execution_count": null,
   "id": "e86d3c82",
   "metadata": {},
   "outputs": [
    {
     "data": {
      "text/plain": [
       "tensor(6151.3032)"
      ]
     },
     "execution_count": null,
     "metadata": {},
     "output_type": "execute_result"
    }
   ],
   "source": [
    "loss"
   ]
  },
  {
   "cell_type": "code",
   "execution_count": null,
   "id": "000cd7e2",
   "metadata": {},
   "outputs": [],
   "source": [
    "m.backward()"
   ]
  },
  {
   "cell_type": "code",
   "execution_count": null,
   "id": "88bddc9a",
   "metadata": {},
   "outputs": [],
   "source": [
    "test_close(m.layers[0].w.g, w1.g)\n",
    "test_close(m.layers[0].b.g, b1.g)\n",
    "test_close(m.layers[2].w.g, w2.g)\n",
    "test_close(m.layers[2].b.g, b2.g)"
   ]
  },
  {
   "cell_type": "markdown",
   "id": "6be5debf",
   "metadata": {},
   "source": [
    "## Create `Module`"
   ]
  },
  {
   "cell_type": "code",
   "execution_count": null,
   "id": "8a5be9dd",
   "metadata": {},
   "outputs": [],
   "source": [
    "class Module:\n",
    "    def __call__(self, *args):\n",
    "        print('hi')\n",
    "        self.args = args\n",
    "        self.out = self.forward(*self.args)\n",
    "        return self.out\n",
    "    def forward(self): raise Exception('Not implemented')\n",
    "    def bwd(self): raise Exception('Not implemented')\n",
    "    def backward(self): self.bwd(self.out, *self.args)"
   ]
  },
  {
   "cell_type": "code",
   "execution_count": null,
   "id": "72938b87",
   "metadata": {},
   "outputs": [],
   "source": [
    "class Linear(Module):\n",
    "    def __init__(self, w, b):\n",
    "        self.w = w\n",
    "        self.b = b\n",
    "        \n",
    "    def forward(self, inp):\n",
    "        return inp@self.w + self.b\n",
    "    \n",
    "    def bwd(self, out, inp):\n",
    "        inp.g = out.g @ self.w.T\n",
    "        self.w.g = inp.T @ out.g\n",
    "        self.b.g = out.g.sum(0)"
   ]
  },
  {
   "cell_type": "code",
   "execution_count": null,
   "id": "275f889e",
   "metadata": {},
   "outputs": [],
   "source": [
    "class Relu(Module):\n",
    "    def forward(self, inp):\n",
    "        return inp.clamp_min(0.)\n",
    "    def bwd(self, out, inp):\n",
    "        inp.g = (inp > 0) * out.g"
   ]
  },
  {
   "cell_type": "code",
   "execution_count": null,
   "id": "8b328fb9",
   "metadata": {},
   "outputs": [],
   "source": [
    "class Mse(Module):\n",
    "    def forward(self, pred, act):\n",
    "        print('calling mse')\n",
    "        self.diff = (pred[:, 0] - act)\n",
    "        return self.diff.pow(2).mean()\n",
    "    def bwd(self, out, inp, act):\n",
    "        inp.g = 2 * self.diff.unsqueeze(-1) / inp.shape[0]"
   ]
  },
  {
   "cell_type": "code",
   "execution_count": null,
   "id": "199eb71d",
   "metadata": {},
   "outputs": [],
   "source": [
    "class Model(Module):\n",
    "    def __init__(self, w1, b1, w2, b2):\n",
    "        self.layers = [Linear(w1, b1), Relu(), Linear(w2, b2)]\n",
    "        self.loss = Mse()\n",
    "    def __call__(self, x, targ):\n",
    "        for l in self.layers: x = l(x)\n",
    "        return self.loss(x, targ)\n",
    "    \n",
    "    def backward(self):\n",
    "        self.loss.backward()\n",
    "        for l in reversed(self.layers): l.backward() "
   ]
  },
  {
   "cell_type": "code",
   "execution_count": null,
   "id": "f14999b5",
   "metadata": {},
   "outputs": [],
   "source": [
    "m = Model(w1, b1, w2, b2)"
   ]
  },
  {
   "cell_type": "code",
   "execution_count": null,
   "id": "efaf054e",
   "metadata": {},
   "outputs": [
    {
     "name": "stdout",
     "output_type": "stream",
     "text": [
      "hi\n",
      "hi\n",
      "hi\n",
      "hi\n",
      "calling mse\n"
     ]
    },
    {
     "data": {
      "text/plain": [
       "tensor(6151.3032)"
      ]
     },
     "execution_count": null,
     "metadata": {},
     "output_type": "execute_result"
    }
   ],
   "source": [
    "m(xs, ys_act)"
   ]
  },
  {
   "cell_type": "code",
   "execution_count": null,
   "id": "2c2eea9f",
   "metadata": {},
   "outputs": [],
   "source": [
    "m.backward()"
   ]
  },
  {
   "cell_type": "code",
   "execution_count": null,
   "id": "ac3cb295",
   "metadata": {},
   "outputs": [],
   "source": [
    "test_close(w1.g, w1g, eps=1e-4)\n",
    "test_close(w2.g, w2g, eps=1e-4)\n",
    "test_close(b1.g, b1g, eps=1e-4)\n",
    "test_close(b2.g, b2g, eps=1e-4)"
   ]
  },
  {
   "cell_type": "markdown",
   "id": "a7084e8a",
   "metadata": {},
   "source": [
    "## Using Autograd"
   ]
  },
  {
   "cell_type": "code",
   "execution_count": null,
   "id": "a3ce154d",
   "metadata": {},
   "outputs": [],
   "source": [
    "class Linear(nn.Module):\n",
    "    def __init__(self, w, b):\n",
    "        super().__init__()\n",
    "        self.w = w\n",
    "        self.b = b\n",
    "    def forward(self, x):\n",
    "        return x@self.w + self.b"
   ]
  },
  {
   "cell_type": "code",
   "execution_count": null,
   "id": "0052b12c",
   "metadata": {},
   "outputs": [],
   "source": [
    "class Relu(nn.Module):\n",
    "    def __init__(self):\n",
    "        super().__init__()\n",
    "    def forward(self, x):\n",
    "        return x.clamp_min(0.)"
   ]
  },
  {
   "cell_type": "code",
   "execution_count": null,
   "id": "fcfa3e1e",
   "metadata": {},
   "outputs": [],
   "source": [
    "class Mse(nn.Module):\n",
    "    def __init__(self):\n",
    "        super().__init__()\n",
    "    def forward(self, x, y):\n",
    "        return (x[:, 0] - y).pow(2).mean()"
   ]
  },
  {
   "cell_type": "code",
   "execution_count": null,
   "id": "33d3e9df",
   "metadata": {},
   "outputs": [],
   "source": [
    "class Model(nn.Module):\n",
    "    def __init__(self, w1, b1, w2, b2):\n",
    "        super().__init__()\n",
    "        self.layers = [Linear(w1, b1), Relu(), Linear(w2, b2)]\n",
    "        self.loss = Mse()\n",
    "    def forward(self, x, y):\n",
    "        for l in self.layers: x = l(x)\n",
    "        return self.loss(x, y)"
   ]
  },
  {
   "cell_type": "code",
   "execution_count": null,
   "id": "fd46815f",
   "metadata": {},
   "outputs": [],
   "source": [
    "w11, b11, w22, b22 = make_grad(w1, b1, w2, b2)\n",
    "m = Model(w11, b11, w22, b22)"
   ]
  },
  {
   "cell_type": "code",
   "execution_count": null,
   "id": "173282e7",
   "metadata": {},
   "outputs": [
    {
     "data": {
      "text/plain": [
       "tensor(6151.3032, grad_fn=<MeanBackward0>)"
      ]
     },
     "execution_count": null,
     "metadata": {},
     "output_type": "execute_result"
    }
   ],
   "source": [
    "loss = m(xs, ys_act);loss"
   ]
  },
  {
   "cell_type": "code",
   "execution_count": null,
   "id": "fa74d1c5",
   "metadata": {},
   "outputs": [],
   "source": [
    "loss.backward()"
   ]
  },
  {
   "cell_type": "code",
   "execution_count": null,
   "id": "b7ec8d2c",
   "metadata": {},
   "outputs": [],
   "source": [
    "test_close(w11.grad, w1.g, eps=1e-4)"
   ]
  },
  {
   "cell_type": "code",
   "execution_count": null,
   "id": "f4574b03",
   "metadata": {},
   "outputs": [],
   "source": [
    "test_close(b11.grad, b1.g, eps=1e-4)"
   ]
  },
  {
   "cell_type": "code",
   "execution_count": null,
   "id": "7f116e3c",
   "metadata": {},
   "outputs": [],
   "source": [
    "test_close(w22.grad, w2.g, eps=1e-4)"
   ]
  },
  {
   "cell_type": "code",
   "execution_count": null,
   "id": "ff43d67d",
   "metadata": {},
   "outputs": [],
   "source": [
    "test_close(b22.grad, b2.g, eps=1e-4)"
   ]
  },
  {
   "cell_type": "markdown",
   "id": "2c855680",
   "metadata": {},
   "source": [
    "## Log Cross Entropy"
   ]
  },
  {
   "cell_type": "code",
   "execution_count": null,
   "id": "8f5b122f",
   "metadata": {},
   "outputs": [
    {
     "data": {
      "text/plain": [
       "torch.nn.modules.activation.ReLU"
      ]
     },
     "execution_count": null,
     "metadata": {},
     "output_type": "execute_result"
    }
   ],
   "source": [
    "nn.ReLU"
   ]
  },
  {
   "cell_type": "code",
   "execution_count": null,
   "id": "b88c352c",
   "metadata": {},
   "outputs": [],
   "source": [
    "class Model(nn.Module):\n",
    "    def __init__(self, n_in, nh, n_out):\n",
    "        super().__init__()\n",
    "        self.layers = [nn.Linear(n_in, nh), nn.ReLU(), nn.Linear(nh, n_out)]\n",
    "    def forward(self, x):\n",
    "        for layer in self.layers: x = layer(x)\n",
    "        return x"
   ]
  },
  {
   "cell_type": "code",
   "execution_count": null,
   "id": "dc99d9f6",
   "metadata": {},
   "outputs": [],
   "source": [
    "m = Model(784, 50, 10)\n",
    "out = m(xs)"
   ]
  },
  {
   "cell_type": "code",
   "execution_count": null,
   "id": "fc30fd04",
   "metadata": {},
   "outputs": [
    {
     "data": {
      "text/plain": [
       "torch.Size([5, 10])"
      ]
     },
     "execution_count": null,
     "metadata": {},
     "output_type": "execute_result"
    }
   ],
   "source": [
    "out.shape"
   ]
  },
  {
   "cell_type": "code",
   "execution_count": null,
   "id": "a3ed19f0",
   "metadata": {},
   "outputs": [
    {
     "data": {
      "text/plain": [
       "tensor([[-0.0445,  0.1940,  0.0292,  0.1249,  0.1164,  0.0496, -0.1825, -0.0041,\n",
       "          0.0614,  0.0912],\n",
       "        [ 0.0737,  0.4485, -0.2514,  0.2538,  0.1230,  0.1385, -0.3754, -0.0579,\n",
       "          0.2001,  0.0246],\n",
       "        [-0.0267,  0.1692, -0.0193, -0.0120,  0.0912,  0.1883, -0.2609, -0.0418,\n",
       "          0.2150,  0.0883],\n",
       "        [-0.0202,  0.1561, -0.0754,  0.1079,  0.0813,  0.1236, -0.2494, -0.0053,\n",
       "          0.0730,  0.0779],\n",
       "        [-0.0351,  0.2461, -0.1211,  0.1446,  0.0907,  0.1414, -0.2308, -0.0573,\n",
       "          0.1844,  0.0430]], grad_fn=<AddmmBackward0>)"
      ]
     },
     "execution_count": null,
     "metadata": {},
     "output_type": "execute_result"
    }
   ],
   "source": [
    "out"
   ]
  },
  {
   "cell_type": "code",
   "execution_count": null,
   "id": "816e9ceb",
   "metadata": {},
   "outputs": [],
   "source": [
    "def log_softmax(x):\n",
    "    return x - x.exp().sum(-1, keepdim=True).log()"
   ]
  },
  {
   "cell_type": "code",
   "execution_count": null,
   "id": "fa410134",
   "metadata": {},
   "outputs": [
    {
     "data": {
      "text/plain": [
       "tensor([[-2.3954, -2.1569, -2.3218, -2.2260, -2.2346, -2.3013, -2.5335, -2.3550,\n",
       "         -2.2896, -2.2597],\n",
       "        [-2.3119, -1.9371, -2.6370, -2.1318, -2.2626, -2.2471, -2.7610, -2.4435,\n",
       "         -2.1855, -2.3610],\n",
       "        [-2.3772, -2.1814, -2.3699, -2.3625, -2.2594, -2.1622, -2.6114, -2.3923,\n",
       "         -2.1355, -2.2622],\n",
       "        [-2.3559, -2.1797, -2.4112, -2.2278, -2.2545, -2.2121, -2.5851, -2.3411,\n",
       "         -2.2627, -2.2579],\n",
       "        [-2.3881, -2.1070, -2.4741, -2.2085, -2.2623, -2.2116, -2.5838, -2.4103,\n",
       "         -2.1687, -2.3101]], grad_fn=<SubBackward0>)"
      ]
     },
     "execution_count": null,
     "metadata": {},
     "output_type": "execute_result"
    }
   ],
   "source": [
    "log_softmax(out)"
   ]
  },
  {
   "cell_type": "code",
   "execution_count": null,
   "id": "8e2aca78",
   "metadata": {},
   "outputs": [
    {
     "name": "stderr",
     "output_type": "stream",
     "text": [
      "/var/folders/wh/7kgzwj895cb622q6m52_0v3r0000gn/T/ipykernel_29006/410582909.py:1: UserWarning: Implicit dimension choice for log_softmax has been deprecated. Change the call to include dim=X as an argument.\n",
      "  test_close(log_softmax(out), F.log_softmax(out), eps=1e-4)\n"
     ]
    }
   ],
   "source": [
    "test_close(log_softmax(out), F.log_softmax(out), eps=1e-4)"
   ]
  },
  {
   "cell_type": "code",
   "execution_count": null,
   "id": "4f203453",
   "metadata": {},
   "outputs": [],
   "source": [
    "def logsumexp(x):\n",
    "    a = torch.max(x, -1, keepdim=True).values\n",
    "    return a.squeeze(-1) + (x-a).exp().sum(-1).log()"
   ]
  },
  {
   "cell_type": "code",
   "execution_count": null,
   "id": "d4d5357a",
   "metadata": {},
   "outputs": [],
   "source": [
    "test_close(logsumexp(out), torch.logsumexp(out, -1))"
   ]
  },
  {
   "cell_type": "code",
   "execution_count": null,
   "id": "7b881a3a",
   "metadata": {},
   "outputs": [],
   "source": [
    "def cross_entropy(x, y):\n",
    "    return -F.log_softmax(x)[range(len(y)), y.long()].mean()"
   ]
  },
  {
   "cell_type": "code",
   "execution_count": null,
   "id": "3a311da6",
   "metadata": {},
   "outputs": [
    {
     "name": "stderr",
     "output_type": "stream",
     "text": [
      "/var/folders/wh/7kgzwj895cb622q6m52_0v3r0000gn/T/ipykernel_29006/4108778016.py:2: UserWarning: Implicit dimension choice for log_softmax has been deprecated. Change the call to include dim=X as an argument.\n",
      "  return -F.log_softmax(x)[range(len(y)), y.long()].mean()\n"
     ]
    },
    {
     "data": {
      "text/plain": [
       "tensor(2.3683, grad_fn=<NegBackward0>)"
      ]
     },
     "execution_count": null,
     "metadata": {},
     "output_type": "execute_result"
    }
   ],
   "source": [
    "cross_entropy(out, ys_act)"
   ]
  },
  {
   "cell_type": "code",
   "execution_count": null,
   "id": "05bdf8bc",
   "metadata": {},
   "outputs": [
    {
     "name": "stderr",
     "output_type": "stream",
     "text": [
      "/var/folders/wh/7kgzwj895cb622q6m52_0v3r0000gn/T/ipykernel_29006/4108778016.py:2: UserWarning: Implicit dimension choice for log_softmax has been deprecated. Change the call to include dim=X as an argument.\n",
      "  return -F.log_softmax(x)[range(len(y)), y.long()].mean()\n"
     ]
    }
   ],
   "source": [
    "test_close(cross_entropy(out, ys_act), F.cross_entropy(out, ys_act))"
   ]
  },
  {
   "cell_type": "markdown",
   "id": "41bb692a",
   "metadata": {},
   "source": [
    "## Train loop"
   ]
  },
  {
   "cell_type": "code",
   "execution_count": null,
   "id": "cfdd25b2",
   "metadata": {},
   "outputs": [],
   "source": [
    "def accuracy(logits, y):\n",
    "    return (logits.argmax(-1) == y).float().mean()"
   ]
  },
  {
   "cell_type": "code",
   "execution_count": null,
   "id": "c57e3d21",
   "metadata": {},
   "outputs": [],
   "source": [
    "m = Model(784, 50, 10)"
   ]
  },
  {
   "cell_type": "code",
   "execution_count": null,
   "id": "43832ef7",
   "metadata": {},
   "outputs": [],
   "source": [
    "def train(epoch, bs=32, lr=0.05):\n",
    "    for i in range(epoch):\n",
    "        for j in range(len(x_train)):\n",
    "            s = slice(j, j + bs)\n",
    "            xb, yb = x_train[s], y_train[s]\n",
    "            \n",
    "            logits = m(xb)\n",
    "            loss = F.cross_entropy(logits, yb)\n",
    "            loss.backward()\n",
    "            if j == 0: print('loss ', loss.item(), 'accuracy ', accuracy(logits, yb))\n",
    "\n",
    "            with torch.no_grad():\n",
    "                for layer in m.layers:\n",
    "                    if hasattr(layer, 'weight'):\n",
    "                        layer.weight -= lr * layer.weight.grad\n",
    "                        layer.bias -= lr * layer.bias.grad\n",
    "                        layer.weight.grad.zero_()\n",
    "                        layer.bias.grad.zero_()"
   ]
  },
  {
   "cell_type": "code",
   "execution_count": null,
   "id": "0ef09caa",
   "metadata": {},
   "outputs": [
    {
     "name": "stdout",
     "output_type": "stream",
     "text": [
      "loss  2.273808240890503 accuracy  tensor(0.1562)\n",
      "loss  0.7899407744407654 accuracy  tensor(0.8438)\n",
      "loss  0.6727467775344849 accuracy  tensor(0.8750)\n"
     ]
    }
   ],
   "source": [
    "train(3)"
   ]
  },
  {
   "cell_type": "code",
   "execution_count": null,
   "id": "114864ec",
   "metadata": {},
   "outputs": [
    {
     "data": {
      "text/plain": [
       "(tensor(0.8396), tensor(0.8206))"
      ]
     },
     "execution_count": null,
     "metadata": {},
     "output_type": "execute_result"
    }
   ],
   "source": [
    "accuracy(m(x_train), y_train), accuracy(m(x_test), y_test)"
   ]
  },
  {
   "cell_type": "code",
   "execution_count": null,
   "id": "4ef922a7",
   "metadata": {},
   "outputs": [
    {
     "data": {
      "text/plain": [
       "(tensor(0.7391, grad_fn=<NllLossBackward0>),\n",
       " tensor(0.9352, grad_fn=<NllLossBackward0>))"
      ]
     },
     "execution_count": null,
     "metadata": {},
     "output_type": "execute_result"
    }
   ],
   "source": [
    "F.cross_entropy(m(x_train), y_train), F.cross_entropy(m(x_test), y_test)"
   ]
  },
  {
   "cell_type": "code",
   "execution_count": null,
   "id": "eef36544",
   "metadata": {},
   "outputs": [],
   "source": []
  }
 ],
 "metadata": {
  "kernelspec": {
   "display_name": "fastai",
   "language": "python",
   "name": "fastai"
  }
 },
 "nbformat": 4,
 "nbformat_minor": 5
}
