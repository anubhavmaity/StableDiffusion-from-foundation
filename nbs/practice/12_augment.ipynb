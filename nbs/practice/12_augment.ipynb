{
 "cells": [
  {
   "cell_type": "code",
   "execution_count": 1,
   "id": "42671cd3-9c50-4249-bebf-aba4bc3154fd",
   "metadata": {
    "tags": []
   },
   "outputs": [
    {
     "name": "stderr",
     "output_type": "stream",
     "text": [
      "/home/studio-lab-user/.conda/envs/fastai/lib/python3.9/site-packages/deeplake/util/check_latest_version.py:32: UserWarning: A newer version of deeplake (3.9.5) is available. It's recommended that you update to the latest version using `pip install -U deeplake`.\n",
      "  warnings.warn(\n"
     ]
    }
   ],
   "source": [
    "import random\n",
    "from functools import partial\n",
    "import fastcore.all as fc\n",
    "from datasets import load_dataset\n",
    "from IPython.display import Markdown\n",
    "\n",
    "import torch\n",
    "from torch import nn, optim\n",
    "from torch.nn import init\n",
    "from torch.optim import lr_scheduler\n",
    "import torch.nn.functional as F\n",
    "from torcheval.metrics import MulticlassAccuracy\n",
    "from torchvision import transforms\n",
    "import torchvision.transforms.functional as TF\n",
    "\n",
    "from minai.datasets import inplace, show_images\n",
    "from minai.learner import DataLoaders, MetricsCB, ProgressCB, DeviceCB, TrainLearner, Learner, SingleBatchCB, Callback\n",
    "from minai.resnet import ResBlock\n",
    "from minai.init import GeneralRelu, init_weights, set_seed, conv, BatchTransformCB\n",
    "from minai.activations import ActivationStats, Hooks\n",
    "from minai.sgd import BatchSchedCB\n",
    "set_seed(42)"
   ]
  },
  {
   "cell_type": "code",
   "execution_count": 2,
   "id": "f9dd230c-33e2-457a-9cbe-7b2444f25e43",
   "metadata": {
    "tags": []
   },
   "outputs": [],
   "source": [
    "bs=1024\n",
    "xm, xs = 0.28, 0.35\n",
    "\n",
    "x, y = 'image', 'label'\n",
    "\n",
    "@inplace\n",
    "def transformi(b): b[x] = [(TF.to_tensor(o) - xm)/xs for o in b[x]]\n",
    "\n",
    "ds = load_dataset('fashion_mnist')\n",
    "dsd = ds.with_transform(transformi)\n",
    "dls = DataLoaders.from_dd(dsd, batch_size=bs)"
   ]
  },
  {
   "cell_type": "code",
   "execution_count": 3,
   "id": "47f7074e-6b1c-4e96-9a82-6d27aad9970f",
   "metadata": {
    "tags": []
   },
   "outputs": [
    {
     "data": {
      "image/png": "[encoded data removed]",
      "text/plain": [
       "<Figure size 600x600 with 16 Axes>"
      ]
     },
     "metadata": {},
     "output_type": "display_data"
    }
   ],
   "source": [
    "xb, yb = next(iter(dls.train))\n",
    "show_images(xb[:16], imsize=1.5)"
   ]
  },
  {
   "cell_type": "code",
   "execution_count": 4,
   "id": "0754cf13-f982-4788-8105-af90af930216",
   "metadata": {
    "tags": []
   },
   "outputs": [],
   "source": [
    "metrics = MetricsCB(accuracy=MulticlassAccuracy())\n",
    "astats = ActivationStats(mod_filter=fc.risinstance(GeneralRelu))\n",
    "cbs = [DeviceCB(), metrics, astats, ProgressCB(plot=True)]\n",
    "act_gr = partial(GeneralRelu, leak=0.1, sub=0.4)\n",
    "iw = partial(init_weights, leaky=0.1)"
   ]
  },
  {
   "cell_type": "code",
   "execution_count": 5,
   "id": "709cd852-2222-4cca-b3d9-0534a7c1a0c4",
   "metadata": {
    "tags": []
   },
   "outputs": [],
   "source": [
    "def get_model(act=act_gr, nfs=[16, 32, 64, 128, 256, 512], norm=nn.BatchNorm2d):\n",
    "    layers = [ResBlock(1, nfs[0], stride=1, ks=5, act=act, norm=norm)]\n",
    "    layers += [ResBlock(nfs[i], nfs[i+1], stride=2, act=act, norm=norm) for i in range(len(nfs) - 1)]\n",
    "    layers += [nn.Flatten(), nn.Linear(nfs[-1], 10, bias=False), nn.BatchNorm1d(10)]\n",
    "    return nn.Sequential(*layers)"
   ]
  },
  {
   "cell_type": "code",
   "execution_count": 6,
   "id": "8c8f6ad5-f09c-492f-9bc3-3c2a4455f783",
   "metadata": {
    "tags": []
   },
   "outputs": [],
   "source": [
    "def _flops(x, h, w):\n",
    "    if x.dim() < 3: return x.numel()\n",
    "    if x.dim() == 4: return x.numel() * h * w\n",
    "    raise Exception()\n",
    "    \n",
    "@fc.patch\n",
    "def summary(self:Learner):\n",
    "    res = '|Layer|Input Shape|Output Shape|Number of params|MFlops|\\n|--|--|--|--|--|\\n'\n",
    "    total_params = 0\n",
    "    total_flops = 0\n",
    "    def _f(hook, mod, inp, outp):\n",
    "        nonlocal res, total_params, total_flops\n",
    "        num_params = sum(o.numel() for o in mod.parameters())\n",
    "        total_params += num_params\n",
    "        *_,h, w = outp.shape\n",
    "        num_flops = sum(_flops(o, h, w) for o in mod.parameters())/1e6\n",
    "        res += f'|{type(mod).__name__}|{tuple(inp[0].shape)}|{tuple(outp.shape)}|{num_params}|{num_flops:.1f}|\\n'\n",
    "        total_flops += num_flops\n",
    "    with Hooks(self.model, _f) as hook: self.fit(1, train=False, cbs=SingleBatchCB(), lr=1e-3)\n",
    "    print('Total Params: ', total_params)\n",
    "    print(f'Total Flops: {total_flops:.1f}')\n",
    "    if fc.IN_NOTEBOOK:\n",
    "        return Markdown(res)\n",
    "    else:\n",
    "        print(res)"
   ]
  },
  {
   "cell_type": "code",
   "execution_count": 7,
   "id": "2710590f-8aa1-4caa-8a35-3bd927d10d7f",
   "metadata": {
    "tags": []
   },
   "outputs": [],
   "source": [
    "epochs=5\n",
    "lr = 1e-2"
   ]
  },
  {
   "cell_type": "code",
   "execution_count": 7,
   "id": "a972674b-9781-4308-8bc8-77b5333b2f5e",
   "metadata": {
    "tags": []
   },
   "outputs": [
    {
     "name": "stdout",
     "output_type": "stream",
     "text": [
      "Total Params:  4903556\n",
      "Total Flops: 22.0\n"
     ]
    },
    {
     "data": {
      "text/markdown": [
       "|Layer|Input Shape|Output Shape|Number of params|MFlops|\n",
       "|--|--|--|--|--|\n",
       "|ResBlock|(1024, 1, 28, 28)|(1024, 16, 28, 28)|6864|5.3|\n",
       "|ResBlock|(1024, 16, 28, 28)|(1024, 32, 14, 14)|14432|2.8|\n",
       "|ResBlock|(1024, 32, 14, 14)|(1024, 64, 7, 7)|57536|2.8|\n",
       "|ResBlock|(1024, 64, 7, 7)|(1024, 128, 4, 4)|229760|3.7|\n",
       "|ResBlock|(1024, 128, 4, 4)|(1024, 256, 2, 2)|918272|3.7|\n",
       "|ResBlock|(1024, 256, 2, 2)|(1024, 512, 1, 1)|3671552|3.7|\n",
       "|Flatten|(1024, 512, 1, 1)|(1024, 512)|0|0.0|\n",
       "|Linear|(1024, 512)|(1024, 10)|5120|0.0|\n",
       "|BatchNorm1d|(1024, 10)|(1024, 10)|20|0.0|\n"
      ],
      "text/plain": [
       "<IPython.core.display.Markdown object>"
      ]
     },
     "execution_count": 7,
     "metadata": {},
     "output_type": "execute_result"
    }
   ],
   "source": [
    "TrainLearner(get_model().apply(iw), dls, F.cross_entropy, cbs=DeviceCB()).summary()"
   ]
  },
  {
   "cell_type": "code",
   "execution_count": 8,
   "id": "b1543271-6459-4332-9a6c-9624a8f167ea",
   "metadata": {
    "tags": []
   },
   "outputs": [
    {
     "data": {
      "text/html": [
       "\n",
       "<style>\n",
       "    /* Turns off some styling */\n",
       "    progress {\n",
       "        /* gets rid of default border in Firefox and Opera. */\n",
       "        border: none;\n",
       "        /* Needs to be in here for Safari polyfill so background images work as expected. */\n",
       "        background-size: auto;\n",
       "    }\n",
       "    progress:not([value]), progress:not([value])::-webkit-progress-bar {\n",
       "        background: repeating-linear-gradient(45deg, #7e7e7e, #7e7e7e 10px, #5c5c5c 10px, #5c5c5c 20px);\n",
       "    }\n",
       "    .progress-bar-interrupted, .progress-bar-interrupted::-webkit-progress-bar {\n",
       "        background: #F44336;\n",
       "    }\n",
       "</style>\n"
      ],
      "text/plain": [
       "<IPython.core.display.HTML object>"
      ]
     },
     "metadata": {},
     "output_type": "display_data"
    },
    {
     "data": {
      "text/html": [
       "<table border=\"1\" class=\"dataframe\">\n",
       "  <thead>\n",
       "    <tr style=\"text-align: left;\">\n",
       "      <th>accuracy</th>\n",
       "      <th>loss</th>\n",
       "      <th>epoch</th>\n",
       "      <th>train</th>\n",
       "    </tr>\n",
       "  </thead>\n",
       "  <tbody>\n",
       "    <tr>\n",
       "      <td> 0.793</td>\n",
       "      <td> 0.803</td>\n",
       "      <td>0</td>\n",
       "      <td>True</td>\n",
       "    </tr>\n",
       "    <tr>\n",
       "      <td> 0.848</td>\n",
       "      <td> 0.485</td>\n",
       "      <td>0</td>\n",
       "      <td>False</td>\n",
       "    </tr>\n",
       "    <tr>\n",
       "      <td> 0.888</td>\n",
       "      <td> 0.410</td>\n",
       "      <td>1</td>\n",
       "      <td>True</td>\n",
       "    </tr>\n",
       "    <tr>\n",
       "      <td> 0.861</td>\n",
       "      <td> 0.439</td>\n",
       "      <td>1</td>\n",
       "      <td>False</td>\n",
       "    </tr>\n",
       "    <tr>\n",
       "      <td> 0.914</td>\n",
       "      <td> 0.285</td>\n",
       "      <td>2</td>\n",
       "      <td>True</td>\n",
       "    </tr>\n",
       "    <tr>\n",
       "      <td> 0.911</td>\n",
       "      <td> 0.276</td>\n",
       "      <td>2</td>\n",
       "      <td>False</td>\n",
       "    </tr>\n",
       "    <tr>\n",
       "      <td> 0.937</td>\n",
       "      <td> 0.212</td>\n",
       "      <td>3</td>\n",
       "      <td>True</td>\n",
       "    </tr>\n",
       "    <tr>\n",
       "      <td> 0.919</td>\n",
       "      <td> 0.269</td>\n",
       "      <td>3</td>\n",
       "      <td>False</td>\n",
       "    </tr>\n",
       "    <tr>\n",
       "      <td> 0.958</td>\n",
       "      <td> 0.152</td>\n",
       "      <td>4</td>\n",
       "      <td>True</td>\n",
       "    </tr>\n",
       "    <tr>\n",
       "      <td> 0.927</td>\n",
       "      <td> 0.238</td>\n",
       "      <td>4</td>\n",
       "      <td>False</td>\n",
       "    </tr>\n",
       "  </tbody>\n",
       "</table>"
      ],
      "text/plain": [
       "<IPython.core.display.HTML object>"
      ]
     },
     "metadata": {},
     "output_type": "display_data"
    },
    {
     "data": {
      "image/png": "[encoded data removed]",
      "text/plain": [
       "<Figure size 600x400 with 1 Axes>"
      ]
     },
     "metadata": {},
     "output_type": "display_data"
    }
   ],
   "source": [
    "set_seed(42)\n",
    "sched = partial(lr_scheduler.OneCycleLR, max_lr=lr, total_steps=len(dls.train)*epochs)\n",
    "xtra = [BatchSchedCB(sched)]\n",
    "learn = TrainLearner(get_model().apply(iw), dls, F.cross_entropy, lr=lr, cbs=cbs + xtra, opt_func=optim.AdamW)\n",
    "learn.fit(epochs)"
   ]
  },
  {
   "cell_type": "code",
   "execution_count": 8,
   "id": "7bcd9a59-977f-4541-a867-f4229612a287",
   "metadata": {
    "tags": []
   },
   "outputs": [],
   "source": [
    "class GlobalAvgPool(nn.Module):\n",
    "    def forward(self, x):\n",
    "        return x.mean((-2, -1))"
   ]
  },
  {
   "cell_type": "code",
   "execution_count": 10,
   "id": "f0be2158-bad8-460f-ab3c-a3ea7a784875",
   "metadata": {},
   "outputs": [],
   "source": [
    "def get_model2(act=act_gr, nfs=[16, 32, 64, 128, 256], norm=nn.BatchNorm2d):\n",
    "    layers = [ResBlock(1, nfs[0], stride=1, ks=5, act=act, norm=norm)]\n",
    "    layers += [ResBlock(nfs[i], nfs[i+1], stride=2, act=act, norm=norm) for i in range(len(nfs) - 1)]\n",
    "    layers += [ResBlock(256, 512, act=act, norm=norm), GlobalAvgPool()]\n",
    "    layers += [nn.Linear(512, 10, bias=False), nn.BatchNorm1d(10)]\n",
    "    return nn.Sequential(*layers)"
   ]
  },
  {
   "cell_type": "code",
   "execution_count": 11,
   "id": "676e172a-2485-4e4e-96d5-d985e74dbf48",
   "metadata": {
    "tags": []
   },
   "outputs": [
    {
     "name": "stdout",
     "output_type": "stream",
     "text": [
      "Total Params:  4903556\n",
      "Total Flops: 33.0\n"
     ]
    },
    {
     "data": {
      "text/markdown": [
       "|Layer|Input Shape|Output Shape|Number of params|MFlops|\n",
       "|--|--|--|--|--|\n",
       "|ResBlock|(1024, 1, 28, 28)|(1024, 16, 28, 28)|6864|5.3|\n",
       "|ResBlock|(1024, 16, 28, 28)|(1024, 32, 14, 14)|14432|2.8|\n",
       "|ResBlock|(1024, 32, 14, 14)|(1024, 64, 7, 7)|57536|2.8|\n",
       "|ResBlock|(1024, 64, 7, 7)|(1024, 128, 4, 4)|229760|3.7|\n",
       "|ResBlock|(1024, 128, 4, 4)|(1024, 256, 2, 2)|918272|3.7|\n",
       "|ResBlock|(1024, 256, 2, 2)|(1024, 512, 2, 2)|3671552|14.7|\n",
       "|GlobalAvgPool|(1024, 512, 2, 2)|(1024, 512)|0|0.0|\n",
       "|Linear|(1024, 512)|(1024, 10)|5120|0.0|\n",
       "|BatchNorm1d|(1024, 10)|(1024, 10)|20|0.0|\n"
      ],
      "text/plain": [
       "<IPython.core.display.Markdown object>"
      ]
     },
     "execution_count": 11,
     "metadata": {},
     "output_type": "execute_result"
    }
   ],
   "source": [
    "TrainLearner(get_model2().apply(iw), dls, F.cross_entropy, cbs=DeviceCB()).summary()"
   ]
  },
  {
   "cell_type": "code",
   "execution_count": 23,
   "id": "4590063b-7025-47e7-a0c0-7ef1f9d6dcfa",
   "metadata": {
    "tags": []
   },
   "outputs": [
    {
     "data": {
      "image/png": "[encoded data removed]",
      "text/plain": [
       "<Figure size 640x480 with 1 Axes>"
      ]
     },
     "metadata": {},
     "output_type": "display_data"
    }
   ],
   "source": [
    "set_seed(42)\n",
    "learn = TrainLearner(get_model2().apply(iw), dls, F.cross_entropy, lr=lr, cbs=DeviceCB(), opt_func=optim.AdamW).lr_find(start_lr=1e-4)"
   ]
  },
  {
   "cell_type": "code",
   "execution_count": 24,
   "id": "dea3ca88-b5be-4979-9369-d41a95ea6a30",
   "metadata": {
    "tags": []
   },
   "outputs": [
    {
     "data": {
      "text/html": [
       "\n",
       "<style>\n",
       "    /* Turns off some styling */\n",
       "    progress {\n",
       "        /* gets rid of default border in Firefox and Opera. */\n",
       "        border: none;\n",
       "        /* Needs to be in here for Safari polyfill so background images work as expected. */\n",
       "        background-size: auto;\n",
       "    }\n",
       "    progress:not([value]), progress:not([value])::-webkit-progress-bar {\n",
       "        background: repeating-linear-gradient(45deg, #7e7e7e, #7e7e7e 10px, #5c5c5c 10px, #5c5c5c 20px);\n",
       "    }\n",
       "    .progress-bar-interrupted, .progress-bar-interrupted::-webkit-progress-bar {\n",
       "        background: #F44336;\n",
       "    }\n",
       "</style>\n"
      ],
      "text/plain": [
       "<IPython.core.display.HTML object>"
      ]
     },
     "metadata": {},
     "output_type": "display_data"
    },
    {
     "data": {
      "text/html": [
       "<table border=\"1\" class=\"dataframe\">\n",
       "  <thead>\n",
       "    <tr style=\"text-align: left;\">\n",
       "      <th>accuracy</th>\n",
       "      <th>loss</th>\n",
       "      <th>epoch</th>\n",
       "      <th>train</th>\n",
       "    </tr>\n",
       "  </thead>\n",
       "  <tbody>\n",
       "    <tr>\n",
       "      <td> 0.784</td>\n",
       "      <td> 0.823</td>\n",
       "      <td>0</td>\n",
       "      <td>True</td>\n",
       "    </tr>\n",
       "    <tr>\n",
       "      <td> 0.837</td>\n",
       "      <td> 0.502</td>\n",
       "      <td>0</td>\n",
       "      <td>False</td>\n",
       "    </tr>\n",
       "    <tr>\n",
       "      <td> 0.886</td>\n",
       "      <td> 0.419</td>\n",
       "      <td>1</td>\n",
       "      <td>True</td>\n",
       "    </tr>\n",
       "    <tr>\n",
       "      <td> 0.867</td>\n",
       "      <td> 0.386</td>\n",
       "      <td>1</td>\n",
       "      <td>False</td>\n",
       "    </tr>\n",
       "    <tr>\n",
       "      <td> 0.913</td>\n",
       "      <td> 0.291</td>\n",
       "      <td>2</td>\n",
       "      <td>True</td>\n",
       "    </tr>\n",
       "    <tr>\n",
       "      <td> 0.908</td>\n",
       "      <td> 0.281</td>\n",
       "      <td>2</td>\n",
       "      <td>False</td>\n",
       "    </tr>\n",
       "    <tr>\n",
       "      <td> 0.936</td>\n",
       "      <td> 0.215</td>\n",
       "      <td>3</td>\n",
       "      <td>True</td>\n",
       "    </tr>\n",
       "    <tr>\n",
       "      <td> 0.919</td>\n",
       "      <td> 0.260</td>\n",
       "      <td>3</td>\n",
       "      <td>False</td>\n",
       "    </tr>\n",
       "    <tr>\n",
       "      <td> 0.957</td>\n",
       "      <td> 0.153</td>\n",
       "      <td>4</td>\n",
       "      <td>True</td>\n",
       "    </tr>\n",
       "    <tr>\n",
       "      <td> 0.925</td>\n",
       "      <td> 0.238</td>\n",
       "      <td>4</td>\n",
       "      <td>False</td>\n",
       "    </tr>\n",
       "  </tbody>\n",
       "</table>"
      ],
      "text/plain": [
       "<IPython.core.display.HTML object>"
      ]
     },
     "metadata": {},
     "output_type": "display_data"
    },
    {
     "data": {
      "image/png": "[encoded data removed]",
      "text/plain": [
       "<Figure size 600x400 with 1 Axes>"
      ]
     },
     "metadata": {},
     "output_type": "display_data"
    }
   ],
   "source": [
    "set_seed(42)\n",
    "epochs=5\n",
    "lr = 1e-2\n",
    "sched = partial(lr_scheduler.OneCycleLR, max_lr=lr, total_steps=len(dls.train)*epochs)\n",
    "xtra = [BatchSchedCB(sched)]\n",
    "learn = TrainLearner(get_model2().apply(iw), dls, F.cross_entropy, lr=lr, cbs=cbs + xtra, opt_func=optim.AdamW)\n",
    "learn.fit(epochs)"
   ]
  },
  {
   "cell_type": "code",
   "execution_count": 14,
   "id": "1ee147fa-0dfb-4ca1-ac74-63b8d50a23a4",
   "metadata": {
    "tags": []
   },
   "outputs": [],
   "source": [
    "def get_model3(act=act_gr, nfs=[16, 32, 64, 128, 256], norm=nn.BatchNorm2d):\n",
    "    layers = [ResBlock(1, nfs[0], stride=1, ks=5, act=act, norm=norm)]\n",
    "    layers += [ResBlock(nfs[i], nfs[i+1], stride=2, act=act, norm=norm) for i in range(len(nfs) - 1)]\n",
    "    layers += [GlobalAvgPool(), nn.Linear(nfs[-1], 10, bias=False), nn.BatchNorm1d(10)]\n",
    "    return nn.Sequential(*layers)"
   ]
  },
  {
   "cell_type": "code",
   "execution_count": 15,
   "id": "2b90561c-5bd7-47a6-a3f0-54b078adfa2d",
   "metadata": {
    "tags": []
   },
   "outputs": [
    {
     "name": "stdout",
     "output_type": "stream",
     "text": [
      "Total Params:  1229444\n",
      "Total Flops: 18.3\n"
     ]
    },
    {
     "data": {
      "text/markdown": [
       "|Layer|Input Shape|Output Shape|Number of params|MFlops|\n",
       "|--|--|--|--|--|\n",
       "|ResBlock|(1024, 1, 28, 28)|(1024, 16, 28, 28)|6864|5.3|\n",
       "|ResBlock|(1024, 16, 28, 28)|(1024, 32, 14, 14)|14432|2.8|\n",
       "|ResBlock|(1024, 32, 14, 14)|(1024, 64, 7, 7)|57536|2.8|\n",
       "|ResBlock|(1024, 64, 7, 7)|(1024, 128, 4, 4)|229760|3.7|\n",
       "|ResBlock|(1024, 128, 4, 4)|(1024, 256, 2, 2)|918272|3.7|\n",
       "|GlobalAvgPool|(1024, 256, 2, 2)|(1024, 256)|0|0.0|\n",
       "|Linear|(1024, 256)|(1024, 10)|2560|0.0|\n",
       "|BatchNorm1d|(1024, 10)|(1024, 10)|20|0.0|\n"
      ],
      "text/plain": [
       "<IPython.core.display.Markdown object>"
      ]
     },
     "execution_count": 15,
     "metadata": {},
     "output_type": "execute_result"
    }
   ],
   "source": [
    "TrainLearner(get_model3().apply(iw), dls, F.cross_entropy, lr=lr, cbs=DeviceCB(), opt_func=optim.AdamW).summary()"
   ]
  },
  {
   "cell_type": "code",
   "execution_count": 16,
   "id": "f8dc7ba4-4ee4-4c27-b133-d7cf632c5f80",
   "metadata": {
    "tags": []
   },
   "outputs": [
    {
     "data": {
      "text/html": [
       "\n",
       "<style>\n",
       "    /* Turns off some styling */\n",
       "    progress {\n",
       "        /* gets rid of default border in Firefox and Opera. */\n",
       "        border: none;\n",
       "        /* Needs to be in here for Safari polyfill so background images work as expected. */\n",
       "        background-size: auto;\n",
       "    }\n",
       "    progress:not([value]), progress:not([value])::-webkit-progress-bar {\n",
       "        background: repeating-linear-gradient(45deg, #7e7e7e, #7e7e7e 10px, #5c5c5c 10px, #5c5c5c 20px);\n",
       "    }\n",
       "    .progress-bar-interrupted, .progress-bar-interrupted::-webkit-progress-bar {\n",
       "        background: #F44336;\n",
       "    }\n",
       "</style>\n"
      ],
      "text/plain": [
       "<IPython.core.display.HTML object>"
      ]
     },
     "metadata": {},
     "output_type": "display_data"
    },
    {
     "data": {
      "text/html": [
       "<table border=\"1\" class=\"dataframe\">\n",
       "  <thead>\n",
       "    <tr style=\"text-align: left;\">\n",
       "      <th>accuracy</th>\n",
       "      <th>loss</th>\n",
       "      <th>epoch</th>\n",
       "      <th>train</th>\n",
       "    </tr>\n",
       "  </thead>\n",
       "  <tbody>\n",
       "    <tr>\n",
       "      <td> 0.784</td>\n",
       "      <td> 0.823</td>\n",
       "      <td>0</td>\n",
       "      <td>True</td>\n",
       "    </tr>\n",
       "    <tr>\n",
       "      <td> 0.837</td>\n",
       "      <td> 0.502</td>\n",
       "      <td>0</td>\n",
       "      <td>False</td>\n",
       "    </tr>\n",
       "    <tr>\n",
       "      <td> 0.886</td>\n",
       "      <td> 0.419</td>\n",
       "      <td>1</td>\n",
       "      <td>True</td>\n",
       "    </tr>\n",
       "    <tr>\n",
       "      <td> 0.867</td>\n",
       "      <td> 0.386</td>\n",
       "      <td>1</td>\n",
       "      <td>False</td>\n",
       "    </tr>\n",
       "    <tr>\n",
       "      <td> 0.913</td>\n",
       "      <td> 0.291</td>\n",
       "      <td>2</td>\n",
       "      <td>True</td>\n",
       "    </tr>\n",
       "    <tr>\n",
       "      <td> 0.908</td>\n",
       "      <td> 0.281</td>\n",
       "      <td>2</td>\n",
       "      <td>False</td>\n",
       "    </tr>\n",
       "    <tr>\n",
       "      <td> 0.936</td>\n",
       "      <td> 0.215</td>\n",
       "      <td>3</td>\n",
       "      <td>True</td>\n",
       "    </tr>\n",
       "    <tr>\n",
       "      <td> 0.919</td>\n",
       "      <td> 0.260</td>\n",
       "      <td>3</td>\n",
       "      <td>False</td>\n",
       "    </tr>\n",
       "    <tr>\n",
       "      <td> 0.957</td>\n",
       "      <td> 0.153</td>\n",
       "      <td>4</td>\n",
       "      <td>True</td>\n",
       "    </tr>\n",
       "    <tr>\n",
       "      <td> 0.925</td>\n",
       "      <td> 0.238</td>\n",
       "      <td>4</td>\n",
       "      <td>False</td>\n",
       "    </tr>\n",
       "  </tbody>\n",
       "</table>"
      ],
      "text/plain": [
       "<IPython.core.display.HTML object>"
      ]
     },
     "metadata": {},
     "output_type": "display_data"
    },
    {
     "data": {
      "image/png": "[encoded data removed]",
      "text/plain": [
       "<Figure size 600x400 with 1 Axes>"
      ]
     },
     "metadata": {},
     "output_type": "display_data"
    }
   ],
   "source": [
    "set_seed(42)\n",
    "sched = partial(lr_scheduler.OneCycleLR, max_lr=lr, total_steps=len(dls.train)*epochs)\n",
    "xtra = [BatchSchedCB(sched)]\n",
    "learn = TrainLearner(get_model3().apply(iw), dls, F.cross_entropy, lr=lr, cbs=cbs + xtra, opt_func=optim.AdamW)\n",
    "learn.fit(epochs)"
   ]
  },
  {
   "cell_type": "code",
   "execution_count": 9,
   "id": "34e14de4-2a47-4d18-bd36-1a1a20792478",
   "metadata": {},
   "outputs": [],
   "source": [
    "def get_model4(act=act_gr, nfs=[16, 32, 64, 128, 256], norm=nn.BatchNorm2d):\n",
    "    layers = [conv(1, nfs[0], stride=1, ks=5, act=act, norm=norm)]\n",
    "    layers += [ResBlock(nfs[i], nfs[i+1], stride=2, act=act, norm=norm) for i in range(len(nfs) - 1)]\n",
    "    layers += [GlobalAvgPool(), nn.Linear(nfs[-1], 10, bias=False), nn.BatchNorm1d(10)]\n",
    "    return nn.Sequential(*layers)"
   ]
  },
  {
   "cell_type": "code",
   "execution_count": 20,
   "id": "9977f5cf-db5e-415d-911d-3da3fd9a54ab",
   "metadata": {
    "tags": []
   },
   "outputs": [
    {
     "name": "stdout",
     "output_type": "stream",
     "text": [
      "Total Params:  1223028\n",
      "Total Flops: 13.3\n"
     ]
    },
    {
     "data": {
      "text/markdown": [
       "|Layer|Input Shape|Output Shape|Number of params|MFlops|\n",
       "|--|--|--|--|--|\n",
       "|Sequential|(1024, 1, 28, 28)|(1024, 16, 28, 28)|448|0.3|\n",
       "|ResBlock|(1024, 16, 28, 28)|(1024, 32, 14, 14)|14432|2.8|\n",
       "|ResBlock|(1024, 32, 14, 14)|(1024, 64, 7, 7)|57536|2.8|\n",
       "|ResBlock|(1024, 64, 7, 7)|(1024, 128, 4, 4)|229760|3.7|\n",
       "|ResBlock|(1024, 128, 4, 4)|(1024, 256, 2, 2)|918272|3.7|\n",
       "|GlobalAvgPool|(1024, 256, 2, 2)|(1024, 256)|0|0.0|\n",
       "|Linear|(1024, 256)|(1024, 10)|2560|0.0|\n",
       "|BatchNorm1d|(1024, 10)|(1024, 10)|20|0.0|\n"
      ],
      "text/plain": [
       "<IPython.core.display.Markdown object>"
      ]
     },
     "execution_count": 20,
     "metadata": {},
     "output_type": "execute_result"
    }
   ],
   "source": [
    "TrainLearner(get_model4().apply(iw), dls, F.cross_entropy, lr=lr, cbs=DeviceCB(), opt_func=optim.AdamW).summary()"
   ]
  },
  {
   "cell_type": "code",
   "execution_count": 25,
   "id": "f409cae7-66fd-4554-9283-18b48948ef0c",
   "metadata": {
    "tags": []
   },
   "outputs": [
    {
     "data": {
      "text/html": [
       "\n",
       "<style>\n",
       "    /* Turns off some styling */\n",
       "    progress {\n",
       "        /* gets rid of default border in Firefox and Opera. */\n",
       "        border: none;\n",
       "        /* Needs to be in here for Safari polyfill so background images work as expected. */\n",
       "        background-size: auto;\n",
       "    }\n",
       "    progress:not([value]), progress:not([value])::-webkit-progress-bar {\n",
       "        background: repeating-linear-gradient(45deg, #7e7e7e, #7e7e7e 10px, #5c5c5c 10px, #5c5c5c 20px);\n",
       "    }\n",
       "    .progress-bar-interrupted, .progress-bar-interrupted::-webkit-progress-bar {\n",
       "        background: #F44336;\n",
       "    }\n",
       "</style>\n"
      ],
      "text/plain": [
       "<IPython.core.display.HTML object>"
      ]
     },
     "metadata": {},
     "output_type": "display_data"
    },
    {
     "data": {
      "text/html": [
       "<table border=\"1\" class=\"dataframe\">\n",
       "  <thead>\n",
       "    <tr style=\"text-align: left;\">\n",
       "      <th>accuracy</th>\n",
       "      <th>loss</th>\n",
       "      <th>epoch</th>\n",
       "      <th>train</th>\n",
       "    </tr>\n",
       "  </thead>\n",
       "  <tbody>\n",
       "    <tr>\n",
       "      <td> 0.793</td>\n",
       "      <td> 0.812</td>\n",
       "      <td>0</td>\n",
       "      <td>True</td>\n",
       "    </tr>\n",
       "    <tr>\n",
       "      <td> 0.855</td>\n",
       "      <td> 0.528</td>\n",
       "      <td>0</td>\n",
       "      <td>False</td>\n",
       "    </tr>\n",
       "    <tr>\n",
       "      <td> 0.893</td>\n",
       "      <td> 0.404</td>\n",
       "      <td>1</td>\n",
       "      <td>True</td>\n",
       "    </tr>\n",
       "    <tr>\n",
       "      <td> 0.841</td>\n",
       "      <td> 0.471</td>\n",
       "      <td>1</td>\n",
       "      <td>False</td>\n",
       "    </tr>\n",
       "    <tr>\n",
       "      <td> 0.915</td>\n",
       "      <td> 0.288</td>\n",
       "      <td>2</td>\n",
       "      <td>True</td>\n",
       "    </tr>\n",
       "    <tr>\n",
       "      <td> 0.904</td>\n",
       "      <td> 0.295</td>\n",
       "      <td>2</td>\n",
       "      <td>False</td>\n",
       "    </tr>\n",
       "    <tr>\n",
       "      <td> 0.937</td>\n",
       "      <td> 0.214</td>\n",
       "      <td>3</td>\n",
       "      <td>True</td>\n",
       "    </tr>\n",
       "    <tr>\n",
       "      <td> 0.916</td>\n",
       "      <td> 0.282</td>\n",
       "      <td>3</td>\n",
       "      <td>False</td>\n",
       "    </tr>\n",
       "    <tr>\n",
       "      <td> 0.958</td>\n",
       "      <td> 0.157</td>\n",
       "      <td>4</td>\n",
       "      <td>True</td>\n",
       "    </tr>\n",
       "    <tr>\n",
       "      <td> 0.923</td>\n",
       "      <td> 0.245</td>\n",
       "      <td>4</td>\n",
       "      <td>False</td>\n",
       "    </tr>\n",
       "  </tbody>\n",
       "</table>"
      ],
      "text/plain": [
       "<IPython.core.display.HTML object>"
      ]
     },
     "metadata": {},
     "output_type": "display_data"
    },
    {
     "data": {
      "image/png": "[encoded data removed]",
      "text/plain": [
       "<Figure size 600x400 with 1 Axes>"
      ]
     },
     "metadata": {},
     "output_type": "display_data"
    }
   ],
   "source": [
    "set_seed(42)\n",
    "sched = partial(lr_scheduler.OneCycleLR, max_lr=lr, total_steps=len(dls.train)*epochs)\n",
    "xtra = [BatchSchedCB(sched)]\n",
    "learn = TrainLearner(get_model4().apply(iw), dls, F.cross_entropy, lr=lr, cbs=cbs + xtra, opt_func=optim.AdamW)\n",
    "learn.fit(epochs)"
   ]
  },
  {
   "cell_type": "markdown",
   "id": "c683f140-f70d-48c9-b3fb-e1ec7e1e91de",
   "metadata": {},
   "source": [
    "## Train for longer"
   ]
  },
  {
   "cell_type": "code",
   "execution_count": 26,
   "id": "deb4066a-d04d-444c-9f74-ed1552dd67c4",
   "metadata": {
    "tags": []
   },
   "outputs": [
    {
     "data": {
      "text/html": [
       "\n",
       "<style>\n",
       "    /* Turns off some styling */\n",
       "    progress {\n",
       "        /* gets rid of default border in Firefox and Opera. */\n",
       "        border: none;\n",
       "        /* Needs to be in here for Safari polyfill so background images work as expected. */\n",
       "        background-size: auto;\n",
       "    }\n",
       "    progress:not([value]), progress:not([value])::-webkit-progress-bar {\n",
       "        background: repeating-linear-gradient(45deg, #7e7e7e, #7e7e7e 10px, #5c5c5c 10px, #5c5c5c 20px);\n",
       "    }\n",
       "    .progress-bar-interrupted, .progress-bar-interrupted::-webkit-progress-bar {\n",
       "        background: #F44336;\n",
       "    }\n",
       "</style>\n"
      ],
      "text/plain": [
       "<IPython.core.display.HTML object>"
      ]
     },
     "metadata": {},
     "output_type": "display_data"
    },
    {
     "data": {
      "text/html": [
       "<table border=\"1\" class=\"dataframe\">\n",
       "  <thead>\n",
       "    <tr style=\"text-align: left;\">\n",
       "      <th>accuracy</th>\n",
       "      <th>loss</th>\n",
       "      <th>epoch</th>\n",
       "      <th>train</th>\n",
       "    </tr>\n",
       "  </thead>\n",
       "  <tbody>\n",
       "    <tr>\n",
       "      <td> 0.775</td>\n",
       "      <td> 0.882</td>\n",
       "      <td>0</td>\n",
       "      <td>True</td>\n",
       "    </tr>\n",
       "    <tr>\n",
       "      <td> 0.850</td>\n",
       "      <td> 0.614</td>\n",
       "      <td>0</td>\n",
       "      <td>False</td>\n",
       "    </tr>\n",
       "    <tr>\n",
       "      <td> 0.885</td>\n",
       "      <td> 0.544</td>\n",
       "      <td>1</td>\n",
       "      <td>True</td>\n",
       "    </tr>\n",
       "    <tr>\n",
       "      <td> 0.886</td>\n",
       "      <td> 0.469</td>\n",
       "      <td>1</td>\n",
       "      <td>False</td>\n",
       "    </tr>\n",
       "    <tr>\n",
       "      <td> 0.905</td>\n",
       "      <td> 0.419</td>\n",
       "      <td>2</td>\n",
       "      <td>True</td>\n",
       "    </tr>\n",
       "    <tr>\n",
       "      <td> 0.890</td>\n",
       "      <td> 0.382</td>\n",
       "      <td>2</td>\n",
       "      <td>False</td>\n",
       "    </tr>\n",
       "    <tr>\n",
       "      <td> 0.915</td>\n",
       "      <td> 0.328</td>\n",
       "      <td>3</td>\n",
       "      <td>True</td>\n",
       "    </tr>\n",
       "    <tr>\n",
       "      <td> 0.901</td>\n",
       "      <td> 0.300</td>\n",
       "      <td>3</td>\n",
       "      <td>False</td>\n",
       "    </tr>\n",
       "    <tr>\n",
       "      <td> 0.918</td>\n",
       "      <td> 0.280</td>\n",
       "      <td>4</td>\n",
       "      <td>True</td>\n",
       "    </tr>\n",
       "    <tr>\n",
       "      <td> 0.879</td>\n",
       "      <td> 0.362</td>\n",
       "      <td>4</td>\n",
       "      <td>False</td>\n",
       "    </tr>\n",
       "    <tr>\n",
       "      <td> 0.926</td>\n",
       "      <td> 0.241</td>\n",
       "      <td>5</td>\n",
       "      <td>True</td>\n",
       "    </tr>\n",
       "    <tr>\n",
       "      <td> 0.899</td>\n",
       "      <td> 0.302</td>\n",
       "      <td>5</td>\n",
       "      <td>False</td>\n",
       "    </tr>\n",
       "    <tr>\n",
       "      <td> 0.934</td>\n",
       "      <td> 0.209</td>\n",
       "      <td>6</td>\n",
       "      <td>True</td>\n",
       "    </tr>\n",
       "    <tr>\n",
       "      <td> 0.904</td>\n",
       "      <td> 0.283</td>\n",
       "      <td>6</td>\n",
       "      <td>False</td>\n",
       "    </tr>\n",
       "    <tr>\n",
       "      <td> 0.941</td>\n",
       "      <td> 0.181</td>\n",
       "      <td>7</td>\n",
       "      <td>True</td>\n",
       "    </tr>\n",
       "    <tr>\n",
       "      <td> 0.900</td>\n",
       "      <td> 0.324</td>\n",
       "      <td>7</td>\n",
       "      <td>False</td>\n",
       "    </tr>\n",
       "    <tr>\n",
       "      <td> 0.950</td>\n",
       "      <td> 0.157</td>\n",
       "      <td>8</td>\n",
       "      <td>True</td>\n",
       "    </tr>\n",
       "    <tr>\n",
       "      <td> 0.908</td>\n",
       "      <td> 0.286</td>\n",
       "      <td>8</td>\n",
       "      <td>False</td>\n",
       "    </tr>\n",
       "    <tr>\n",
       "      <td> 0.956</td>\n",
       "      <td> 0.136</td>\n",
       "      <td>9</td>\n",
       "      <td>True</td>\n",
       "    </tr>\n",
       "    <tr>\n",
       "      <td> 0.908</td>\n",
       "      <td> 0.291</td>\n",
       "      <td>9</td>\n",
       "      <td>False</td>\n",
       "    </tr>\n",
       "    <tr>\n",
       "      <td> 0.963</td>\n",
       "      <td> 0.113</td>\n",
       "      <td>10</td>\n",
       "      <td>True</td>\n",
       "    </tr>\n",
       "    <tr>\n",
       "      <td> 0.915</td>\n",
       "      <td> 0.272</td>\n",
       "      <td>10</td>\n",
       "      <td>False</td>\n",
       "    </tr>\n",
       "    <tr>\n",
       "      <td> 0.972</td>\n",
       "      <td> 0.089</td>\n",
       "      <td>11</td>\n",
       "      <td>True</td>\n",
       "    </tr>\n",
       "    <tr>\n",
       "      <td> 0.911</td>\n",
       "      <td> 0.307</td>\n",
       "      <td>11</td>\n",
       "      <td>False</td>\n",
       "    </tr>\n",
       "    <tr>\n",
       "      <td> 0.976</td>\n",
       "      <td> 0.079</td>\n",
       "      <td>12</td>\n",
       "      <td>True</td>\n",
       "    </tr>\n",
       "    <tr>\n",
       "      <td> 0.915</td>\n",
       "      <td> 0.301</td>\n",
       "      <td>12</td>\n",
       "      <td>False</td>\n",
       "    </tr>\n",
       "    <tr>\n",
       "      <td> 0.981</td>\n",
       "      <td> 0.062</td>\n",
       "      <td>13</td>\n",
       "      <td>True</td>\n",
       "    </tr>\n",
       "    <tr>\n",
       "      <td> 0.916</td>\n",
       "      <td> 0.292</td>\n",
       "      <td>13</td>\n",
       "      <td>False</td>\n",
       "    </tr>\n",
       "    <tr>\n",
       "      <td> 0.989</td>\n",
       "      <td> 0.043</td>\n",
       "      <td>14</td>\n",
       "      <td>True</td>\n",
       "    </tr>\n",
       "    <tr>\n",
       "      <td> 0.917</td>\n",
       "      <td> 0.293</td>\n",
       "      <td>14</td>\n",
       "      <td>False</td>\n",
       "    </tr>\n",
       "    <tr>\n",
       "      <td> 0.994</td>\n",
       "      <td> 0.028</td>\n",
       "      <td>15</td>\n",
       "      <td>True</td>\n",
       "    </tr>\n",
       "    <tr>\n",
       "      <td> 0.927</td>\n",
       "      <td> 0.267</td>\n",
       "      <td>15</td>\n",
       "      <td>False</td>\n",
       "    </tr>\n",
       "    <tr>\n",
       "      <td> 0.998</td>\n",
       "      <td> 0.016</td>\n",
       "      <td>16</td>\n",
       "      <td>True</td>\n",
       "    </tr>\n",
       "    <tr>\n",
       "      <td> 0.925</td>\n",
       "      <td> 0.276</td>\n",
       "      <td>16</td>\n",
       "      <td>False</td>\n",
       "    </tr>\n",
       "    <tr>\n",
       "      <td> 1.000</td>\n",
       "      <td> 0.010</td>\n",
       "      <td>17</td>\n",
       "      <td>True</td>\n",
       "    </tr>\n",
       "    <tr>\n",
       "      <td> 0.928</td>\n",
       "      <td> 0.271</td>\n",
       "      <td>17</td>\n",
       "      <td>False</td>\n",
       "    </tr>\n",
       "    <tr>\n",
       "      <td> 1.000</td>\n",
       "      <td> 0.009</td>\n",
       "      <td>18</td>\n",
       "      <td>True</td>\n",
       "    </tr>\n",
       "    <tr>\n",
       "      <td> 0.928</td>\n",
       "      <td> 0.272</td>\n",
       "      <td>18</td>\n",
       "      <td>False</td>\n",
       "    </tr>\n",
       "    <tr>\n",
       "      <td> 1.000</td>\n",
       "      <td> 0.009</td>\n",
       "      <td>19</td>\n",
       "      <td>True</td>\n",
       "    </tr>\n",
       "    <tr>\n",
       "      <td> 0.927</td>\n",
       "      <td> 0.272</td>\n",
       "      <td>19</td>\n",
       "      <td>False</td>\n",
       "    </tr>\n",
       "  </tbody>\n",
       "</table>"
      ],
      "text/plain": [
       "<IPython.core.display.HTML object>"
      ]
     },
     "metadata": {},
     "output_type": "display_data"
    },
    {
     "data": {
      "image/png": "[encoded data removed]",
      "text/plain": [
       "<Figure size 600x400 with 1 Axes>"
      ]
     },
     "metadata": {},
     "output_type": "display_data"
    }
   ],
   "source": [
    "set_seed(42)\n",
    "epochs = 20\n",
    "sched = partial(lr_scheduler.OneCycleLR, max_lr=lr, total_steps=len(dls.train)*epochs)\n",
    "xtra = [BatchSchedCB(sched)]\n",
    "learn = TrainLearner(get_model4().apply(iw), dls, F.cross_entropy, lr=lr, cbs=cbs + xtra, opt_func=optim.AdamW)\n",
    "learn.fit(epochs)"
   ]
  },
  {
   "cell_type": "markdown",
   "id": "4fc314c0-c6e0-43a0-953c-861dcf53cce9",
   "metadata": {},
   "source": [
    "## Data Augmentation"
   ]
  },
  {
   "cell_type": "code",
   "execution_count": 10,
   "id": "f7a0ac85-2318-435e-bb8c-5cf60f04427e",
   "metadata": {
    "tags": []
   },
   "outputs": [],
   "source": [
    "set_seed(42)\n",
    "tfms = nn.Sequential(transforms.RandomCrop(28, padding=1),\n",
    "                     transforms.RandomHorizontalFlip(p=0.5))\n",
    "\n",
    "def f(batch, tfm_x=fc.noop, tfm_y=fc.noop): return tfm_x(batch[0]), tfm_y(batch[1])\n",
    "sched = partial(lr_scheduler.OneCycleLR, max_lr=lr, total_steps=len(dls.train)*epochs)\n",
    "xtra = [DeviceCB(), BatchSchedCB(sched), BatchTransformCB(partial(f, tfm_x=tfms), on_val=False), SingleBatchCB()]"
   ]
  },
  {
   "cell_type": "code",
   "execution_count": 11,
   "id": "03d9fbb9-db68-4f1d-8809-8f996ae1fa42",
   "metadata": {
    "tags": []
   },
   "outputs": [],
   "source": [
    "xb, yb = next(iter(dls.train))"
   ]
  },
  {
   "cell_type": "code",
   "execution_count": 12,
   "id": "81617830-9593-4ee6-ae1b-fb31d29bbc24",
   "metadata": {
    "tags": []
   },
   "outputs": [
    {
     "data": {
      "image/png": "[encoded data removed]",
      "text/plain": [
       "<Figure size 1200x1200 with 16 Axes>"
      ]
     },
     "metadata": {},
     "output_type": "display_data"
    }
   ],
   "source": [
    "show_images(xb[:16])"
   ]
  },
  {
   "cell_type": "code",
   "execution_count": 59,
   "id": "c5e26488-be11-401b-b281-7a01db827853",
   "metadata": {
    "tags": []
   },
   "outputs": [],
   "source": [
    "learn = TrainLearner(get_model4().apply(iw), dls, F.cross_entropy, lr=lr, cbs= xtra, opt_func=optim.AdamW)\n",
    "learn.fit(1)"
   ]
  },
  {
   "cell_type": "code",
   "execution_count": 60,
   "id": "5a611a8a-22c6-4b8c-9b6b-7d5e17e696ab",
   "metadata": {
    "tags": []
   },
   "outputs": [],
   "source": [
    "xb, yb = learn.batch"
   ]
  },
  {
   "cell_type": "code",
   "execution_count": 61,
   "id": "3d53fc3c-0048-40d5-8bfc-926739e51af2",
   "metadata": {
    "tags": []
   },
   "outputs": [
    {
     "data": {
      "image/png": "[encoded data removed]",
      "text/plain": [
       "<Figure size 1200x1200 with 16 Axes>"
      ]
     },
     "metadata": {},
     "output_type": "display_data"
    }
   ],
   "source": [
    "show_images(xb[:16])"
   ]
  },
  {
   "cell_type": "code",
   "execution_count": null,
   "id": "5721f515-7029-4ee5-8070-dce1580450e5",
   "metadata": {
    "tags": []
   },
   "outputs": [
    {
     "data": {
      "text/html": [
       "\n",
       "<style>\n",
       "    /* Turns off some styling */\n",
       "    progress {\n",
       "        /* gets rid of default border in Firefox and Opera. */\n",
       "        border: none;\n",
       "        /* Needs to be in here for Safari polyfill so background images work as expected. */\n",
       "        background-size: auto;\n",
       "    }\n",
       "    progress:not([value]), progress:not([value])::-webkit-progress-bar {\n",
       "        background: repeating-linear-gradient(45deg, #7e7e7e, #7e7e7e 10px, #5c5c5c 10px, #5c5c5c 20px);\n",
       "    }\n",
       "    .progress-bar-interrupted, .progress-bar-interrupted::-webkit-progress-bar {\n",
       "        background: #F44336;\n",
       "    }\n",
       "</style>\n"
      ],
      "text/plain": [
       "<IPython.core.display.HTML object>"
      ]
     },
     "metadata": {},
     "output_type": "display_data"
    },
    {
     "data": {
      "text/html": [
       "<table border=\"1\" class=\"dataframe\">\n",
       "  <thead>\n",
       "    <tr style=\"text-align: left;\">\n",
       "      <th>accuracy</th>\n",
       "      <th>loss</th>\n",
       "      <th>epoch</th>\n",
       "      <th>train</th>\n",
       "    </tr>\n",
       "  </thead>\n",
       "  <tbody>\n",
       "    <tr>\n",
       "      <td> 0.720</td>\n",
       "      <td> 1.023</td>\n",
       "      <td>0</td>\n",
       "      <td>True</td>\n",
       "    </tr>\n",
       "    <tr>\n",
       "      <td> 0.805</td>\n",
       "      <td> 0.682</td>\n",
       "      <td>0</td>\n",
       "      <td>False</td>\n",
       "    </tr>\n",
       "    <tr>\n",
       "      <td> 0.840</td>\n",
       "      <td> 0.659</td>\n",
       "      <td>1</td>\n",
       "      <td>True</td>\n",
       "    </tr>\n",
       "    <tr>\n",
       "      <td> 0.825</td>\n",
       "      <td> 0.574</td>\n",
       "      <td>1</td>\n",
       "      <td>False</td>\n",
       "    </tr>\n",
       "    <tr>\n",
       "      <td> 0.867</td>\n",
       "      <td> 0.518</td>\n",
       "      <td>2</td>\n",
       "      <td>True</td>\n",
       "    </tr>\n",
       "    <tr>\n",
       "      <td> 0.869</td>\n",
       "      <td> 0.413</td>\n",
       "      <td>2</td>\n",
       "      <td>False</td>\n",
       "    </tr>\n",
       "    <tr>\n",
       "      <td> 0.882</td>\n",
       "      <td> 0.417</td>\n",
       "      <td>3</td>\n",
       "      <td>True</td>\n",
       "    </tr>\n",
       "    <tr>\n",
       "      <td> 0.839</td>\n",
       "      <td> 0.474</td>\n",
       "      <td>3</td>\n",
       "      <td>False</td>\n",
       "    </tr>\n",
       "    <tr>\n",
       "      <td> 0.882</td>\n",
       "      <td> 0.374</td>\n",
       "      <td>4</td>\n",
       "      <td>True</td>\n",
       "    </tr>\n",
       "    <tr>\n",
       "      <td> 0.881</td>\n",
       "      <td> 0.337</td>\n",
       "      <td>4</td>\n",
       "      <td>False</td>\n",
       "    </tr>\n",
       "    <tr>\n",
       "      <td> 0.893</td>\n",
       "      <td> 0.326</td>\n",
       "      <td>5</td>\n",
       "      <td>True</td>\n",
       "    </tr>\n",
       "    <tr>\n",
       "      <td> 0.893</td>\n",
       "      <td> 0.298</td>\n",
       "      <td>5</td>\n",
       "      <td>False</td>\n",
       "    </tr>\n",
       "    <tr>\n",
       "      <td> 0.903</td>\n",
       "      <td> 0.292</td>\n",
       "      <td>6</td>\n",
       "      <td>True</td>\n",
       "    </tr>\n",
       "    <tr>\n",
       "      <td> 0.891</td>\n",
       "      <td> 0.312</td>\n",
       "      <td>6</td>\n",
       "      <td>False</td>\n",
       "    </tr>\n",
       "    <tr>\n",
       "      <td> 0.908</td>\n",
       "      <td> 0.271</td>\n",
       "      <td>7</td>\n",
       "      <td>True</td>\n",
       "    </tr>\n",
       "    <tr>\n",
       "      <td> 0.905</td>\n",
       "      <td> 0.269</td>\n",
       "      <td>7</td>\n",
       "      <td>False</td>\n",
       "    </tr>\n",
       "    <tr>\n",
       "      <td> 0.915</td>\n",
       "      <td> 0.248</td>\n",
       "      <td>8</td>\n",
       "      <td>True</td>\n",
       "    </tr>\n",
       "    <tr>\n",
       "      <td> 0.909</td>\n",
       "      <td> 0.256</td>\n",
       "      <td>8</td>\n",
       "      <td>False</td>\n",
       "    </tr>\n",
       "    <tr>\n",
       "      <td> 0.917</td>\n",
       "      <td> 0.235</td>\n",
       "      <td>9</td>\n",
       "      <td>True</td>\n",
       "    </tr>\n",
       "    <tr>\n",
       "      <td> 0.895</td>\n",
       "      <td> 0.286</td>\n",
       "      <td>9</td>\n",
       "      <td>False</td>\n",
       "    </tr>\n",
       "    <tr>\n",
       "      <td> 0.925</td>\n",
       "      <td> 0.215</td>\n",
       "      <td>10</td>\n",
       "      <td>True</td>\n",
       "    </tr>\n",
       "    <tr>\n",
       "      <td> 0.920</td>\n",
       "      <td> 0.231</td>\n",
       "      <td>10</td>\n",
       "      <td>False</td>\n",
       "    </tr>\n",
       "    <tr>\n",
       "      <td> 0.930</td>\n",
       "      <td> 0.201</td>\n",
       "      <td>11</td>\n",
       "      <td>True</td>\n",
       "    </tr>\n",
       "    <tr>\n",
       "      <td> 0.916</td>\n",
       "      <td> 0.239</td>\n",
       "      <td>11</td>\n",
       "      <td>False</td>\n",
       "    </tr>\n",
       "    <tr>\n",
       "      <td> 0.936</td>\n",
       "      <td> 0.183</td>\n",
       "      <td>12</td>\n",
       "      <td>True</td>\n",
       "    </tr>\n",
       "    <tr>\n",
       "      <td> 0.923</td>\n",
       "      <td> 0.220</td>\n",
       "      <td>12</td>\n",
       "      <td>False</td>\n",
       "    </tr>\n",
       "    <tr>\n",
       "      <td> 0.939</td>\n",
       "      <td> 0.177</td>\n",
       "      <td>13</td>\n",
       "      <td>True</td>\n",
       "    </tr>\n",
       "    <tr>\n",
       "      <td> 0.926</td>\n",
       "      <td> 0.212</td>\n",
       "      <td>13</td>\n",
       "      <td>False</td>\n",
       "    </tr>\n",
       "    <tr>\n",
       "      <td> 0.944</td>\n",
       "      <td> 0.160</td>\n",
       "      <td>14</td>\n",
       "      <td>True</td>\n",
       "    </tr>\n",
       "    <tr>\n",
       "      <td> 0.929</td>\n",
       "      <td> 0.203</td>\n",
       "      <td>14</td>\n",
       "      <td>False</td>\n",
       "    </tr>\n",
       "    <tr>\n",
       "      <td> 0.950</td>\n",
       "      <td> 0.145</td>\n",
       "      <td>15</td>\n",
       "      <td>True</td>\n",
       "    </tr>\n",
       "    <tr>\n",
       "      <td> 0.934</td>\n",
       "      <td> 0.196</td>\n",
       "      <td>15</td>\n",
       "      <td>False</td>\n",
       "    </tr>\n",
       "    <tr>\n",
       "      <td> 0.959</td>\n",
       "      <td> 0.124</td>\n",
       "      <td>16</td>\n",
       "      <td>True</td>\n",
       "    </tr>\n",
       "    <tr>\n",
       "      <td> 0.934</td>\n",
       "      <td> 0.188</td>\n",
       "      <td>16</td>\n",
       "      <td>False</td>\n",
       "    </tr>\n",
       "    <tr>\n",
       "      <td> 0.957</td>\n",
       "      <td> 0.126</td>\n",
       "      <td>17</td>\n",
       "      <td>True</td>\n",
       "    </tr>\n",
       "    <tr>\n",
       "      <td> 0.937</td>\n",
       "      <td> 0.186</td>\n",
       "      <td>17</td>\n",
       "      <td>False</td>\n",
       "    </tr>\n",
       "    <tr>\n",
       "      <td> 0.961</td>\n",
       "      <td> 0.115</td>\n",
       "      <td>18</td>\n",
       "      <td>True</td>\n",
       "    </tr>\n",
       "    <tr>\n",
       "      <td> 0.937</td>\n",
       "      <td> 0.185</td>\n",
       "      <td>18</td>\n",
       "      <td>False</td>\n",
       "    </tr>\n",
       "    <tr>\n",
       "      <td> 0.964</td>\n",
       "      <td> 0.112</td>\n",
       "      <td>19</td>\n",
       "      <td>True</td>\n",
       "    </tr>\n",
       "    <tr>\n",
       "      <td> 0.937</td>\n",
       "      <td> 0.184</td>\n",
       "      <td>19</td>\n",
       "      <td>False</td>\n",
       "    </tr>\n",
       "  </tbody>\n",
       "</table>"
      ],
      "text/plain": [
       "<IPython.core.display.HTML object>"
      ]
     },
     "metadata": {},
     "output_type": "display_data"
    },
    {
     "data": {
      "image/png": "[encoded data removed]",
      "text/plain": [
       "<Figure size 600x400 with 1 Axes>"
      ]
     },
     "metadata": {},
     "output_type": "display_data"
    }
   ],
   "source": [
    "set_seed(42)\n",
    "epochs = 20\n",
    "sched = partial(lr_scheduler.OneCycleLR, max_lr=lr, total_steps=len(dls.train)*epochs)\n",
    "xtra = [DeviceCB(), BatchSchedCB(sched), BatchTransformCB(partial(f, tfm_x=tfms), on_val=False)]\n",
    "learn = TrainLearner(get_model4().apply(iw), dls, F.cross_entropy, lr=lr, cbs= cbs + xtra, opt_func=optim.AdamW)\n",
    "learn.fit(epochs)"
   ]
  },
  {
   "cell_type": "code",
   "execution_count": 73,
   "id": "414f0d2e-7047-4aaf-a076-76f85c41e92b",
   "metadata": {
    "tags": []
   },
   "outputs": [],
   "source": [
    "path = fc.Path('models')\n",
    "path.mkdir(exist_ok=True)\n",
    "torch.save(learn.model, path/'fmnist_aug.pkl')"
   ]
  },
  {
   "cell_type": "markdown",
   "id": "bb3f2932-a851-450f-83f7-0e97b3b341ee",
   "metadata": {},
   "source": [
    "## TTA"
   ]
  },
  {
   "cell_type": "code",
   "execution_count": 19,
   "id": "3254f57d-2716-4f68-847f-1538adb532cf",
   "metadata": {
    "tags": []
   },
   "outputs": [],
   "source": [
    "path = fc.Path('models')\n",
    "model = torch.load(path/'fmnist_aug.pkl')"
   ]
  },
  {
   "cell_type": "code",
   "execution_count": 20,
   "id": "c29fce3a-33aa-4216-99a8-989ce0299187",
   "metadata": {
    "tags": []
   },
   "outputs": [],
   "source": [
    "class CapturePreds(Callback):\n",
    "    def __init__(self):\n",
    "        self.all_preds = []\n",
    "        self.all_actual = []\n",
    "    \n",
    "    def after_batch(self, learn):\n",
    "        self.all_preds.extend(learn.preds)\n",
    "        self.all_actual.extend(learn.batch[1])"
   ]
  },
  {
   "cell_type": "code",
   "execution_count": 22,
   "id": "085f96f1-067c-462b-8e86-d408624874bd",
   "metadata": {
    "tags": []
   },
   "outputs": [
    {
     "data": {
      "text/html": [
       "\n",
       "<style>\n",
       "    /* Turns off some styling */\n",
       "    progress {\n",
       "        /* gets rid of default border in Firefox and Opera. */\n",
       "        border: none;\n",
       "        /* Needs to be in here for Safari polyfill so background images work as expected. */\n",
       "        background-size: auto;\n",
       "    }\n",
       "    progress:not([value]), progress:not([value])::-webkit-progress-bar {\n",
       "        background: repeating-linear-gradient(45deg, #7e7e7e, #7e7e7e 10px, #5c5c5c 10px, #5c5c5c 20px);\n",
       "    }\n",
       "    .progress-bar-interrupted, .progress-bar-interrupted::-webkit-progress-bar {\n",
       "        background: #F44336;\n",
       "    }\n",
       "</style>\n"
      ],
      "text/plain": [
       "<IPython.core.display.HTML object>"
      ]
     },
     "metadata": {},
     "output_type": "display_data"
    },
    {
     "data": {
      "text/html": [
       "<table border=\"1\" class=\"dataframe\">\n",
       "  <thead>\n",
       "    <tr style=\"text-align: left;\">\n",
       "      <th>accuracy</th>\n",
       "      <th>loss</th>\n",
       "      <th>epoch</th>\n",
       "      <th>train</th>\n",
       "    </tr>\n",
       "  </thead>\n",
       "  <tbody>\n",
       "    <tr>\n",
       "      <td> 0.937</td>\n",
       "      <td> 0.184</td>\n",
       "      <td>0</td>\n",
       "      <td>False</td>\n",
       "    </tr>\n",
       "  </tbody>\n",
       "</table>"
      ],
      "text/plain": [
       "<IPython.core.display.HTML object>"
      ]
     },
     "metadata": {},
     "output_type": "display_data"
    }
   ],
   "source": [
    "set_seed(64)\n",
    "cp1 = CapturePreds()\n",
    "TrainLearner(model, dls, F.cross_entropy, cbs=[DeviceCB(), cp1, metrics, ProgressCB(plot=True)]).fit(1, train=False)"
   ]
  },
  {
   "cell_type": "code",
   "execution_count": 23,
   "id": "beadab34-7b4f-4e87-8214-d96abde61fb8",
   "metadata": {
    "tags": []
   },
   "outputs": [
    {
     "data": {
      "text/plain": [
       "torch.Size([10000, 10])"
      ]
     },
     "execution_count": 23,
     "metadata": {},
     "output_type": "execute_result"
    }
   ],
   "source": [
    "cp1_preds = torch.stack(cp1.all_preds, dim=0); cp1_preds.shape"
   ]
  },
  {
   "cell_type": "code",
   "execution_count": 24,
   "id": "7a206ac1-2fae-4e86-8b0f-f26960cb94f1",
   "metadata": {
    "tags": []
   },
   "outputs": [
    {
     "data": {
      "text/plain": [
       "torch.Size([10000])"
      ]
     },
     "execution_count": 24,
     "metadata": {},
     "output_type": "execute_result"
    }
   ],
   "source": [
    "cp1_actual = torch.stack(cp1.all_actual, dim=0); cp1_actual.shape"
   ]
  },
  {
   "cell_type": "code",
   "execution_count": 26,
   "id": "9ce1576f-b90a-4001-8d3b-f6db402a5bf9",
   "metadata": {
    "tags": []
   },
   "outputs": [
    {
     "data": {
      "text/html": [
       "\n",
       "<style>\n",
       "    /* Turns off some styling */\n",
       "    progress {\n",
       "        /* gets rid of default border in Firefox and Opera. */\n",
       "        border: none;\n",
       "        /* Needs to be in here for Safari polyfill so background images work as expected. */\n",
       "        background-size: auto;\n",
       "    }\n",
       "    progress:not([value]), progress:not([value])::-webkit-progress-bar {\n",
       "        background: repeating-linear-gradient(45deg, #7e7e7e, #7e7e7e 10px, #5c5c5c 10px, #5c5c5c 20px);\n",
       "    }\n",
       "    .progress-bar-interrupted, .progress-bar-interrupted::-webkit-progress-bar {\n",
       "        background: #F44336;\n",
       "    }\n",
       "</style>\n"
      ],
      "text/plain": [
       "<IPython.core.display.HTML object>"
      ]
     },
     "metadata": {},
     "output_type": "display_data"
    },
    {
     "data": {
      "text/html": [
       "<table border=\"1\" class=\"dataframe\">\n",
       "  <thead>\n",
       "    <tr style=\"text-align: left;\">\n",
       "      <th>accuracy</th>\n",
       "      <th>loss</th>\n",
       "      <th>epoch</th>\n",
       "      <th>train</th>\n",
       "    </tr>\n",
       "  </thead>\n",
       "  <tbody>\n",
       "    <tr>\n",
       "      <td> 0.932</td>\n",
       "      <td> 0.195</td>\n",
       "      <td>0</td>\n",
       "      <td>False</td>\n",
       "    </tr>\n",
       "  </tbody>\n",
       "</table>"
      ],
      "text/plain": [
       "<IPython.core.display.HTML object>"
      ]
     },
     "metadata": {},
     "output_type": "display_data"
    }
   ],
   "source": [
    "cp2 = CapturePreds()\n",
    "TrainLearner(model, dls, F.cross_entropy, cbs=[DeviceCB(), cp2, BatchTransformCB(partial(f, tfm_x=tfms), on_train=False), metrics, ProgressCB(plot=True)]).fit(1, train=False)"
   ]
  },
  {
   "cell_type": "code",
   "execution_count": 27,
   "id": "223dc780-e06e-45d9-914e-1dabf85fb3d5",
   "metadata": {
    "tags": []
   },
   "outputs": [
    {
     "data": {
      "text/plain": [
       "torch.Size([10000, 10])"
      ]
     },
     "execution_count": 27,
     "metadata": {},
     "output_type": "execute_result"
    }
   ],
   "source": [
    "cp2_preds = torch.stack(cp2.all_preds, dim=0); cp2_preds.shape"
   ]
  },
  {
   "cell_type": "code",
   "execution_count": 28,
   "id": "5ceb50a3-3655-45fe-af14-8807b4efe1d9",
   "metadata": {
    "tags": []
   },
   "outputs": [],
   "source": [
    "aggregated_preds = torch.stack((cp1_preds, cp2_preds)).mean(0).argmax(-1)"
   ]
  },
  {
   "cell_type": "code",
   "execution_count": 29,
   "id": "ac6b0657-9157-4451-8fc0-1d3e897b65ea",
   "metadata": {
    "tags": []
   },
   "outputs": [
    {
     "data": {
      "text/plain": [
       "0.9388999938964844"
      ]
     },
     "execution_count": 29,
     "metadata": {},
     "output_type": "execute_result"
    }
   ],
   "source": [
    "(aggregated_preds == cp1_actual).float().mean().item()"
   ]
  },
  {
   "cell_type": "markdown",
   "id": "4e2b6da7-fe9b-4cd3-a758-86179182d26b",
   "metadata": {},
   "source": [
    "## Random Erase"
   ]
  },
  {
   "cell_type": "code",
   "execution_count": 50,
   "id": "5a5e7419-15a2-4b4d-b611-6b0ab2938dc7",
   "metadata": {
    "tags": []
   },
   "outputs": [
    {
     "data": {
      "text/plain": [
       "(tensor(0.01), tensor(1.01))"
      ]
     },
     "execution_count": 50,
     "metadata": {},
     "output_type": "execute_result"
    }
   ],
   "source": [
    "xb, yb = next(iter(dls.train))\n",
    "xb.mean(), xb.std()"
   ]
  },
  {
   "cell_type": "code",
   "execution_count": 105,
   "id": "ce10cab6-bcb8-4b86-9492-9f7e5a180822",
   "metadata": {
    "tags": []
   },
   "outputs": [
    {
     "data": {
      "text/plain": [
       "(2.057142972946167, -0.800000011920929)"
      ]
     },
     "execution_count": 105,
     "metadata": {},
     "output_type": "execute_result"
    }
   ],
   "source": [
    "x_max, x_min = xb.max().item(), xb.min().item()\n",
    "x_max, x_min"
   ]
  },
  {
   "cell_type": "code",
   "execution_count": 31,
   "id": "6d2d65d0-0ce5-4384-b4c7-f50fe98d22f7",
   "metadata": {
    "tags": []
   },
   "outputs": [],
   "source": [
    "img = xb[0][0]"
   ]
  },
  {
   "cell_type": "code",
   "execution_count": 24,
   "id": "9ec892f0-03c3-4187-a61d-4fd317eb6654",
   "metadata": {
    "tags": []
   },
   "outputs": [],
   "source": [
    "pct=0.2\n",
    "szx = int(pct * xb.shape[-1])\n",
    "szy = int(pct * xb.shape[-2])\n",
    "stx = int(random.random() * (1 - pct) * xb.shape[-1])\n",
    "sty = int(random.random() * (1 - pct) * xb.shape[-2])"
   ]
  },
  {
   "cell_type": "code",
   "execution_count": 33,
   "id": "4e316cf0-1d1e-4df5-9470-ee2f9d5a2fde",
   "metadata": {},
   "outputs": [
    {
     "data": {
      "text/plain": [
       "(5, 5, 10, 14)"
      ]
     },
     "execution_count": 33,
     "metadata": {},
     "output_type": "execute_result"
    }
   ],
   "source": [
    "szx, szy, stx, sty"
   ]
  },
  {
   "cell_type": "code",
   "execution_count": 46,
   "id": "c98805ef-a9b4-4368-bf36-6f93283bda29",
   "metadata": {
    "tags": []
   },
   "outputs": [
    {
     "data": {
      "image/png": "[encoded data removed]",
      "text/plain": [
       "<Figure size 600x600 with 16 Axes>"
      ]
     },
     "metadata": {},
     "output_type": "display_data"
    }
   ],
   "source": [
    "show_images(xb[:16], imsize=1.5)"
   ]
  },
  {
   "cell_type": "code",
   "execution_count": 47,
   "id": "c07c826b-11b2-49f6-977b-d1939fbafd6d",
   "metadata": {
    "tags": []
   },
   "outputs": [],
   "source": [
    "init.normal_(xb[:, :, stx:stx+szx, sty: sty+ szy], mean = xm, std = xs);"
   ]
  },
  {
   "cell_type": "code",
   "execution_count": 48,
   "id": "7fe07e85-e7a6-474f-8e9e-809d4048dc3c",
   "metadata": {
    "tags": []
   },
   "outputs": [
    {
     "data": {
      "image/png": "[encoded data removed]",
      "text/plain": [
       "<Figure size 600x600 with 16 Axes>"
      ]
     },
     "metadata": {},
     "output_type": "display_data"
    }
   ],
   "source": [
    "show_images(xb[:16], imsize=1.5)"
   ]
  },
  {
   "cell_type": "code",
   "execution_count": 119,
   "id": "83e7812d-a01e-421f-b3a2-9f9e559ed72f",
   "metadata": {
    "tags": []
   },
   "outputs": [],
   "source": [
    "def _rand_erase(xb):\n",
    "    szx = int(pct * xb.shape[-1])\n",
    "    szy = int(pct * xb.shape[-2])\n",
    "    stx = int(random.random() * (1 - pct) * xb.shape[-1])\n",
    "    sty = int(random.random() * (1 - pct) * xb.shape[-2])\n",
    "    init.normal_(xb[:, :, stx:stx+szx, sty: sty+ szy], mean = xm, std = xs)\n",
    "    xb.clamp_(x_min, x_max)"
   ]
  },
  {
   "cell_type": "code",
   "execution_count": 120,
   "id": "a4f2e4e5-7b21-48a0-a95e-6875f23d3b94",
   "metadata": {
    "tags": []
   },
   "outputs": [],
   "source": [
    "_rand_erase(xb)"
   ]
  },
  {
   "cell_type": "code",
   "execution_count": 121,
   "id": "c4a8527a-569a-4350-bf76-16a91a49fa93",
   "metadata": {
    "tags": []
   },
   "outputs": [
    {
     "data": {
      "image/png": "[encoded data removed]",
      "text/plain": [
       "<Figure size 600x600 with 16 Axes>"
      ]
     },
     "metadata": {},
     "output_type": "display_data"
    }
   ],
   "source": [
    "show_images(xb[:16], imsize=1.5)"
   ]
  },
  {
   "cell_type": "code",
   "execution_count": 122,
   "id": "a176cfa2-bd76-4287-bffa-a2001a5e326d",
   "metadata": {
    "tags": []
   },
   "outputs": [
    {
     "data": {
      "text/plain": [
       "4"
      ]
     },
     "execution_count": 122,
     "metadata": {},
     "output_type": "execute_result"
    }
   ],
   "source": [
    "random.randint(0, 4)"
   ]
  },
  {
   "cell_type": "code",
   "execution_count": 134,
   "id": "318fb56e-13f1-4d6b-86de-763ebc243e05",
   "metadata": {
    "tags": []
   },
   "outputs": [],
   "source": [
    "def rand_erase(xb, max_n=4):\n",
    "    n = random.randint(0, max_n)\n",
    "    for i in range(n): _rand_erase(xb)"
   ]
  },
  {
   "cell_type": "code",
   "execution_count": 135,
   "id": "7413e526-e503-4acc-b42d-98d46af6570a",
   "metadata": {
    "tags": []
   },
   "outputs": [],
   "source": [
    "class RandomErase(nn.Module):\n",
    "    def __init__(self, max_n=4):\n",
    "        super().__init__()\n",
    "        fc.store_attr()\n",
    "    def forward(self, x):\n",
    "        rand_erase(x, self.max_n)\n",
    "        return x"
   ]
  },
  {
   "cell_type": "code",
   "execution_count": 136,
   "id": "a5af094b-9d1c-4122-bec6-7e97a25e8a51",
   "metadata": {
    "tags": []
   },
   "outputs": [],
   "source": [
    "tfms = nn.Sequential(transforms.RandomCrop(28, padding=1),\n",
    "                     transforms.RandomHorizontalFlip(p=0.5),\n",
    "                     RandomErase()\n",
    "                    )"
   ]
  },
  {
   "cell_type": "code",
   "execution_count": 137,
   "id": "15fe7aeb-4b37-4d72-bf5c-55aeae12a1df",
   "metadata": {
    "tags": []
   },
   "outputs": [],
   "source": [
    "set_seed(42)\n",
    "learn = TrainLearner(get_model4().apply(iw), dls, F.cross_entropy, cbs=[], lr=lr, opt_func=optim.AdamW)\n",
    "tfmb = BatchTransformCB(partial(f, tfm_x=tfms))\n",
    "learn.fit(1, train=False, cbs=[DeviceCB(), tfmb, SingleBatchCB()])"
   ]
  },
  {
   "cell_type": "code",
   "execution_count": 138,
   "id": "149e2212-28c5-4da3-add0-33ec6e8763e1",
   "metadata": {
    "tags": []
   },
   "outputs": [
    {
     "data": {
      "image/png": "[encoded data removed]",
      "text/plain": [
       "<Figure size 600x600 with 16 Axes>"
      ]
     },
     "metadata": {},
     "output_type": "display_data"
    }
   ],
   "source": [
    "show_images(learn.batch[0][:16], imsize=1.5)"
   ]
  },
  {
   "cell_type": "code",
   "execution_count": 139,
   "id": "c5432319-aa76-4c01-834d-514551dadb07",
   "metadata": {
    "tags": []
   },
   "outputs": [
    {
     "data": {
      "text/html": [
       "\n",
       "<style>\n",
       "    /* Turns off some styling */\n",
       "    progress {\n",
       "        /* gets rid of default border in Firefox and Opera. */\n",
       "        border: none;\n",
       "        /* Needs to be in here for Safari polyfill so background images work as expected. */\n",
       "        background-size: auto;\n",
       "    }\n",
       "    progress:not([value]), progress:not([value])::-webkit-progress-bar {\n",
       "        background: repeating-linear-gradient(45deg, #7e7e7e, #7e7e7e 10px, #5c5c5c 10px, #5c5c5c 20px);\n",
       "    }\n",
       "    .progress-bar-interrupted, .progress-bar-interrupted::-webkit-progress-bar {\n",
       "        background: #F44336;\n",
       "    }\n",
       "</style>\n"
      ],
      "text/plain": [
       "<IPython.core.display.HTML object>"
      ]
     },
     "metadata": {},
     "output_type": "display_data"
    },
    {
     "data": {
      "text/html": [
       "<table border=\"1\" class=\"dataframe\">\n",
       "  <thead>\n",
       "    <tr style=\"text-align: left;\">\n",
       "      <th>accuracy</th>\n",
       "      <th>loss</th>\n",
       "      <th>epoch</th>\n",
       "      <th>train</th>\n",
       "    </tr>\n",
       "  </thead>\n",
       "  <tbody>\n",
       "    <tr>\n",
       "      <td> 0.705</td>\n",
       "      <td> 1.061</td>\n",
       "      <td>0</td>\n",
       "      <td>True</td>\n",
       "    </tr>\n",
       "    <tr>\n",
       "      <td> 0.793</td>\n",
       "      <td> 0.692</td>\n",
       "      <td>0</td>\n",
       "      <td>False</td>\n",
       "    </tr>\n",
       "    <tr>\n",
       "      <td> 0.817</td>\n",
       "      <td> 0.721</td>\n",
       "      <td>1</td>\n",
       "      <td>True</td>\n",
       "    </tr>\n",
       "    <tr>\n",
       "      <td> 0.817</td>\n",
       "      <td> 0.598</td>\n",
       "      <td>1</td>\n",
       "      <td>False</td>\n",
       "    </tr>\n",
       "    <tr>\n",
       "      <td> 0.844</td>\n",
       "      <td> 0.585</td>\n",
       "      <td>2</td>\n",
       "      <td>True</td>\n",
       "    </tr>\n",
       "    <tr>\n",
       "      <td> 0.862</td>\n",
       "      <td> 0.437</td>\n",
       "      <td>2</td>\n",
       "      <td>False</td>\n",
       "    </tr>\n",
       "    <tr>\n",
       "      <td> 0.857</td>\n",
       "      <td> 0.486</td>\n",
       "      <td>3</td>\n",
       "      <td>True</td>\n",
       "    </tr>\n",
       "    <tr>\n",
       "      <td> 0.866</td>\n",
       "      <td> 0.399</td>\n",
       "      <td>3</td>\n",
       "      <td>False</td>\n",
       "    </tr>\n",
       "    <tr>\n",
       "      <td> 0.867</td>\n",
       "      <td> 0.418</td>\n",
       "      <td>4</td>\n",
       "      <td>True</td>\n",
       "    </tr>\n",
       "    <tr>\n",
       "      <td> 0.860</td>\n",
       "      <td> 0.418</td>\n",
       "      <td>4</td>\n",
       "      <td>False</td>\n",
       "    </tr>\n",
       "    <tr>\n",
       "      <td> 0.871</td>\n",
       "      <td> 0.387</td>\n",
       "      <td>5</td>\n",
       "      <td>True</td>\n",
       "    </tr>\n",
       "    <tr>\n",
       "      <td> 0.868</td>\n",
       "      <td> 0.389</td>\n",
       "      <td>5</td>\n",
       "      <td>False</td>\n",
       "    </tr>\n",
       "    <tr>\n",
       "      <td> 0.883</td>\n",
       "      <td> 0.347</td>\n",
       "      <td>6</td>\n",
       "      <td>True</td>\n",
       "    </tr>\n",
       "    <tr>\n",
       "      <td> 0.823</td>\n",
       "      <td> 0.474</td>\n",
       "      <td>6</td>\n",
       "      <td>False</td>\n",
       "    </tr>\n",
       "    <tr>\n",
       "      <td> 0.886</td>\n",
       "      <td> 0.327</td>\n",
       "      <td>7</td>\n",
       "      <td>True</td>\n",
       "    </tr>\n",
       "    <tr>\n",
       "      <td> 0.895</td>\n",
       "      <td> 0.299</td>\n",
       "      <td>7</td>\n",
       "      <td>False</td>\n",
       "    </tr>\n",
       "    <tr>\n",
       "      <td> 0.903</td>\n",
       "      <td> 0.280</td>\n",
       "      <td>8</td>\n",
       "      <td>True</td>\n",
       "    </tr>\n",
       "    <tr>\n",
       "      <td> 0.902</td>\n",
       "      <td> 0.276</td>\n",
       "      <td>8</td>\n",
       "      <td>False</td>\n",
       "    </tr>\n",
       "    <tr>\n",
       "      <td> 0.902</td>\n",
       "      <td> 0.277</td>\n",
       "      <td>9</td>\n",
       "      <td>True</td>\n",
       "    </tr>\n",
       "    <tr>\n",
       "      <td> 0.907</td>\n",
       "      <td> 0.255</td>\n",
       "      <td>9</td>\n",
       "      <td>False</td>\n",
       "    </tr>\n",
       "    <tr>\n",
       "      <td> 0.910</td>\n",
       "      <td> 0.256</td>\n",
       "      <td>10</td>\n",
       "      <td>True</td>\n",
       "    </tr>\n",
       "    <tr>\n",
       "      <td> 0.915</td>\n",
       "      <td> 0.241</td>\n",
       "      <td>10</td>\n",
       "      <td>False</td>\n",
       "    </tr>\n",
       "    <tr>\n",
       "      <td> 0.914</td>\n",
       "      <td> 0.240</td>\n",
       "      <td>11</td>\n",
       "      <td>True</td>\n",
       "    </tr>\n",
       "    <tr>\n",
       "      <td> 0.918</td>\n",
       "      <td> 0.237</td>\n",
       "      <td>11</td>\n",
       "      <td>False</td>\n",
       "    </tr>\n",
       "    <tr>\n",
       "      <td> 0.919</td>\n",
       "      <td> 0.232</td>\n",
       "      <td>12</td>\n",
       "      <td>True</td>\n",
       "    </tr>\n",
       "    <tr>\n",
       "      <td> 0.924</td>\n",
       "      <td> 0.216</td>\n",
       "      <td>12</td>\n",
       "      <td>False</td>\n",
       "    </tr>\n",
       "    <tr>\n",
       "      <td> 0.920</td>\n",
       "      <td> 0.224</td>\n",
       "      <td>13</td>\n",
       "      <td>True</td>\n",
       "    </tr>\n",
       "    <tr>\n",
       "      <td> 0.924</td>\n",
       "      <td> 0.210</td>\n",
       "      <td>13</td>\n",
       "      <td>False</td>\n",
       "    </tr>\n",
       "    <tr>\n",
       "      <td> 0.927</td>\n",
       "      <td> 0.204</td>\n",
       "      <td>14</td>\n",
       "      <td>True</td>\n",
       "    </tr>\n",
       "    <tr>\n",
       "      <td> 0.926</td>\n",
       "      <td> 0.201</td>\n",
       "      <td>14</td>\n",
       "      <td>False</td>\n",
       "    </tr>\n",
       "    <tr>\n",
       "      <td> 0.932</td>\n",
       "      <td> 0.191</td>\n",
       "      <td>15</td>\n",
       "      <td>True</td>\n",
       "    </tr>\n",
       "    <tr>\n",
       "      <td> 0.930</td>\n",
       "      <td> 0.197</td>\n",
       "      <td>15</td>\n",
       "      <td>False</td>\n",
       "    </tr>\n",
       "    <tr>\n",
       "      <td> 0.939</td>\n",
       "      <td> 0.175</td>\n",
       "      <td>16</td>\n",
       "      <td>True</td>\n",
       "    </tr>\n",
       "    <tr>\n",
       "      <td> 0.932</td>\n",
       "      <td> 0.191</td>\n",
       "      <td>16</td>\n",
       "      <td>False</td>\n",
       "    </tr>\n",
       "    <tr>\n",
       "      <td> 0.938</td>\n",
       "      <td> 0.176</td>\n",
       "      <td>17</td>\n",
       "      <td>True</td>\n",
       "    </tr>\n",
       "    <tr>\n",
       "      <td> 0.932</td>\n",
       "      <td> 0.190</td>\n",
       "      <td>17</td>\n",
       "      <td>False</td>\n",
       "    </tr>\n",
       "    <tr>\n",
       "      <td> 0.941</td>\n",
       "      <td> 0.168</td>\n",
       "      <td>18</td>\n",
       "      <td>True</td>\n",
       "    </tr>\n",
       "    <tr>\n",
       "      <td> 0.934</td>\n",
       "      <td> 0.185</td>\n",
       "      <td>18</td>\n",
       "      <td>False</td>\n",
       "    </tr>\n",
       "    <tr>\n",
       "      <td> 0.942</td>\n",
       "      <td> 0.164</td>\n",
       "      <td>19</td>\n",
       "      <td>True</td>\n",
       "    </tr>\n",
       "    <tr>\n",
       "      <td> 0.934</td>\n",
       "      <td> 0.186</td>\n",
       "      <td>19</td>\n",
       "      <td>False</td>\n",
       "    </tr>\n",
       "  </tbody>\n",
       "</table>"
      ],
      "text/plain": [
       "<IPython.core.display.HTML object>"
      ]
     },
     "metadata": {},
     "output_type": "display_data"
    },
    {
     "data": {
      "image/png": "[encoded data removed]",
      "text/plain": [
       "<Figure size 600x400 with 1 Axes>"
      ]
     },
     "metadata": {},
     "output_type": "display_data"
    }
   ],
   "source": [
    "set_seed(42)\n",
    "epochs = 20\n",
    "sched = partial(lr_scheduler.OneCycleLR, max_lr=lr, total_steps=len(dls.train)*epochs)\n",
    "xtra = [DeviceCB(), BatchSchedCB(sched), BatchTransformCB(partial(f, tfm_x=tfms), on_val=False)]\n",
    "learn = TrainLearner(get_model4().apply(iw), dls, F.cross_entropy, lr=lr, cbs= cbs + xtra, opt_func=optim.AdamW)\n",
    "learn.fit(epochs)"
   ]
  },
  {
   "cell_type": "code",
   "execution_count": null,
   "id": "f3ac7e81-d3df-4532-8c31-4a7efd1bdada",
   "metadata": {
    "tags": []
   },
   "outputs": [],
   "source": [
    "path = fc.Path('models')\n",
    "path.mkdir(exist_ok=True)\n",
    "torch.save(learn.model, path/'fmnist_random_erase.pkl')"
   ]
  },
  {
   "cell_type": "markdown",
   "id": "eb9675ab-a697-41e3-93db-1519f7e1a705",
   "metadata": {},
   "source": [
    "## Random Copy"
   ]
  },
  {
   "cell_type": "code",
   "execution_count": 27,
   "id": "419f972a-2157-4c84-aa78-999dcca9e948",
   "metadata": {
    "tags": []
   },
   "outputs": [],
   "source": [
    "def _rand_copy(xb):\n",
    "    szx = int(pct * xb.shape[-1])\n",
    "    szy = int(pct * xb.shape[-2])\n",
    "    # origin\n",
    "    stxo = int(random.random() * (1 - pct) * xb.shape[-1])\n",
    "    styo = int(random.random() * (1 - pct) * xb.shape[-2])\n",
    "    # dst\n",
    "    stxd = int(random.random() * (1 - pct) * xb.shape[-1])\n",
    "    styd = int(random.random() * (1 - pct) * xb.shape[-2])\n",
    "    xb[:, :, stxd:stxd+szx, styd:styd+szy] = xb[:, :, stxo:stxo+szx, styo:styo+szy]"
   ]
  },
  {
   "cell_type": "code",
   "execution_count": 33,
   "id": "adb52001-0999-4ff9-be14-70d3d6c13bf7",
   "metadata": {
    "tags": []
   },
   "outputs": [],
   "source": [
    "def rand_copy(xb, max_n=4):\n",
    "    n = random.randint(0, max_n)\n",
    "    for i in range(n): _rand_copy(xb)"
   ]
  },
  {
   "cell_type": "code",
   "execution_count": 34,
   "id": "30d7c6b6-aa83-45e4-a958-d9b0b61d5311",
   "metadata": {
    "tags": []
   },
   "outputs": [],
   "source": [
    "class RandomCopy(nn.Module):\n",
    "    def __init__(self, max_n=4):\n",
    "        super().__init__()\n",
    "        fc.store_attr()\n",
    "    def forward(self, x):\n",
    "        rand_copy(x, self.max_n)\n",
    "        return x"
   ]
  },
  {
   "cell_type": "code",
   "execution_count": 35,
   "id": "6a83a550-db33-4e89-b4e1-fc0ea25f913d",
   "metadata": {
    "tags": []
   },
   "outputs": [],
   "source": [
    "tfms = nn.Sequential(transforms.RandomCrop(28, padding=1),\n",
    "                     transforms.RandomHorizontalFlip(p=0.5),\n",
    "                     RandomCopy()\n",
    "                    )"
   ]
  },
  {
   "cell_type": "code",
   "execution_count": 36,
   "id": "d6e4f32b-636e-4abe-b359-fc6ec5195e8f",
   "metadata": {
    "tags": []
   },
   "outputs": [],
   "source": [
    "set_seed(42)\n",
    "learn = TrainLearner(get_model4().apply(iw), dls, F.cross_entropy, cbs=[], lr=lr, opt_func=optim.AdamW)\n",
    "tfmb = BatchTransformCB(partial(f, tfm_x=tfms))\n",
    "learn.fit(1, train=False, cbs=[DeviceCB(), tfmb, SingleBatchCB()])"
   ]
  },
  {
   "cell_type": "code",
   "execution_count": 37,
   "id": "3bb9a330-e4dd-4683-9089-f84c946fc9a0",
   "metadata": {
    "tags": []
   },
   "outputs": [
    {
     "data": {
      "image/png": "[encoded data removed]",
      "text/plain": [
       "<Figure size 600x600 with 16 Axes>"
      ]
     },
     "metadata": {},
     "output_type": "display_data"
    }
   ],
   "source": [
    "show_images(learn.batch[0][:16], imsize=1.5)"
   ]
  },
  {
   "cell_type": "code",
   "execution_count": null,
   "id": "1a5e1342-752b-4d32-88e4-ef5ab54ae00e",
   "metadata": {
    "tags": []
   },
   "outputs": [
    {
     "data": {
      "text/html": [
       "\n",
       "<style>\n",
       "    /* Turns off some styling */\n",
       "    progress {\n",
       "        /* gets rid of default border in Firefox and Opera. */\n",
       "        border: none;\n",
       "        /* Needs to be in here for Safari polyfill so background images work as expected. */\n",
       "        background-size: auto;\n",
       "    }\n",
       "    progress:not([value]), progress:not([value])::-webkit-progress-bar {\n",
       "        background: repeating-linear-gradient(45deg, #7e7e7e, #7e7e7e 10px, #5c5c5c 10px, #5c5c5c 20px);\n",
       "    }\n",
       "    .progress-bar-interrupted, .progress-bar-interrupted::-webkit-progress-bar {\n",
       "        background: #F44336;\n",
       "    }\n",
       "</style>\n"
      ],
      "text/plain": [
       "<IPython.core.display.HTML object>"
      ]
     },
     "metadata": {},
     "output_type": "display_data"
    },
    {
     "data": {
      "text/html": [
       "\n",
       "    <div>\n",
       "      <progress value='15' class='' max='20' style='width:300px; height:20px; vertical-align: middle;'></progress>\n",
       "      75.00% [15/20 51:59&lt;17:19]\n",
       "    </div>\n",
       "    \n",
       "<table border=\"1\" class=\"dataframe\">\n",
       "  <thead>\n",
       "    <tr style=\"text-align: left;\">\n",
       "      <th>accuracy</th>\n",
       "      <th>loss</th>\n",
       "      <th>epoch</th>\n",
       "      <th>train</th>\n",
       "    </tr>\n",
       "  </thead>\n",
       "  <tbody>\n",
       "    <tr>\n",
       "      <td> 0.704</td>\n",
       "      <td> 1.068</td>\n",
       "      <td>0</td>\n",
       "      <td>True</td>\n",
       "    </tr>\n",
       "    <tr>\n",
       "      <td> 0.795</td>\n",
       "      <td> 0.658</td>\n",
       "      <td>0</td>\n",
       "      <td>False</td>\n",
       "    </tr>\n",
       "    <tr>\n",
       "      <td> 0.808</td>\n",
       "      <td> 0.746</td>\n",
       "      <td>1</td>\n",
       "      <td>True</td>\n",
       "    </tr>\n",
       "    <tr>\n",
       "      <td> 0.835</td>\n",
       "      <td> 0.537</td>\n",
       "      <td>1</td>\n",
       "      <td>False</td>\n",
       "    </tr>\n",
       "    <tr>\n",
       "      <td> 0.838</td>\n",
       "      <td> 0.598</td>\n",
       "      <td>2</td>\n",
       "      <td>True</td>\n",
       "    </tr>\n",
       "    <tr>\n",
       "      <td> 0.848</td>\n",
       "      <td> 0.465</td>\n",
       "      <td>2</td>\n",
       "      <td>False</td>\n",
       "    </tr>\n",
       "    <tr>\n",
       "      <td> 0.839</td>\n",
       "      <td> 0.538</td>\n",
       "      <td>3</td>\n",
       "      <td>True</td>\n",
       "    </tr>\n",
       "    <tr>\n",
       "      <td> 0.846</td>\n",
       "      <td> 0.464</td>\n",
       "      <td>3</td>\n",
       "      <td>False</td>\n",
       "    </tr>\n",
       "    <tr>\n",
       "      <td> 0.850</td>\n",
       "      <td> 0.467</td>\n",
       "      <td>4</td>\n",
       "      <td>True</td>\n",
       "    </tr>\n",
       "    <tr>\n",
       "      <td> 0.836</td>\n",
       "      <td> 0.508</td>\n",
       "      <td>4</td>\n",
       "      <td>False</td>\n",
       "    </tr>\n",
       "    <tr>\n",
       "      <td> 0.862</td>\n",
       "      <td> 0.410</td>\n",
       "      <td>5</td>\n",
       "      <td>True</td>\n",
       "    </tr>\n",
       "    <tr>\n",
       "      <td> 0.862</td>\n",
       "      <td> 0.396</td>\n",
       "      <td>5</td>\n",
       "      <td>False</td>\n",
       "    </tr>\n",
       "    <tr>\n",
       "      <td> 0.874</td>\n",
       "      <td> 0.370</td>\n",
       "      <td>6</td>\n",
       "      <td>True</td>\n",
       "    </tr>\n",
       "    <tr>\n",
       "      <td> 0.874</td>\n",
       "      <td> 0.337</td>\n",
       "      <td>6</td>\n",
       "      <td>False</td>\n",
       "    </tr>\n",
       "    <tr>\n",
       "      <td> 0.884</td>\n",
       "      <td> 0.336</td>\n",
       "      <td>7</td>\n",
       "      <td>True</td>\n",
       "    </tr>\n",
       "    <tr>\n",
       "      <td> 0.887</td>\n",
       "      <td> 0.328</td>\n",
       "      <td>7</td>\n",
       "      <td>False</td>\n",
       "    </tr>\n",
       "    <tr>\n",
       "      <td> 0.894</td>\n",
       "      <td> 0.305</td>\n",
       "      <td>8</td>\n",
       "      <td>True</td>\n",
       "    </tr>\n",
       "    <tr>\n",
       "      <td> 0.888</td>\n",
       "      <td> 0.327</td>\n",
       "      <td>8</td>\n",
       "      <td>False</td>\n",
       "    </tr>\n",
       "    <tr>\n",
       "      <td> 0.895</td>\n",
       "      <td> 0.299</td>\n",
       "      <td>9</td>\n",
       "      <td>True</td>\n",
       "    </tr>\n",
       "    <tr>\n",
       "      <td> 0.893</td>\n",
       "      <td> 0.296</td>\n",
       "      <td>9</td>\n",
       "      <td>False</td>\n",
       "    </tr>\n",
       "    <tr>\n",
       "      <td> 0.901</td>\n",
       "      <td> 0.280</td>\n",
       "      <td>10</td>\n",
       "      <td>True</td>\n",
       "    </tr>\n",
       "    <tr>\n",
       "      <td> 0.911</td>\n",
       "      <td> 0.252</td>\n",
       "      <td>10</td>\n",
       "      <td>False</td>\n",
       "    </tr>\n",
       "    <tr>\n",
       "      <td> 0.908</td>\n",
       "      <td> 0.259</td>\n",
       "      <td>11</td>\n",
       "      <td>True</td>\n",
       "    </tr>\n",
       "    <tr>\n",
       "      <td> 0.906</td>\n",
       "      <td> 0.262</td>\n",
       "      <td>11</td>\n",
       "      <td>False</td>\n",
       "    </tr>\n",
       "    <tr>\n",
       "      <td> 0.913</td>\n",
       "      <td> 0.245</td>\n",
       "      <td>12</td>\n",
       "      <td>True</td>\n",
       "    </tr>\n",
       "    <tr>\n",
       "      <td> 0.923</td>\n",
       "      <td> 0.216</td>\n",
       "      <td>12</td>\n",
       "      <td>False</td>\n",
       "    </tr>\n",
       "    <tr>\n",
       "      <td> 0.917</td>\n",
       "      <td> 0.237</td>\n",
       "      <td>13</td>\n",
       "      <td>True</td>\n",
       "    </tr>\n",
       "    <tr>\n",
       "      <td> 0.922</td>\n",
       "      <td> 0.216</td>\n",
       "      <td>13</td>\n",
       "      <td>False</td>\n",
       "    </tr>\n",
       "    <tr>\n",
       "      <td> 0.926</td>\n",
       "      <td> 0.210</td>\n",
       "      <td>14</td>\n",
       "      <td>True</td>\n",
       "    </tr>\n",
       "    <tr>\n",
       "      <td> 0.923</td>\n",
       "      <td> 0.209</td>\n",
       "      <td>14</td>\n",
       "      <td>False</td>\n",
       "    </tr>\n",
       "  </tbody>\n",
       "</table><p>\n",
       "\n",
       "    <div>\n",
       "      <progress value='17' class='' max='59' style='width:300px; height:20px; vertical-align: middle;'></progress>\n",
       "      28.81% [17/59 00:57&lt;02:21 0.228]\n",
       "    </div>\n",
       "    "
      ],
      "text/plain": [
       "<IPython.core.display.HTML object>"
      ]
     },
     "metadata": {},
     "output_type": "display_data"
    },
    {
     "data": {
      "image/png": "[encoded data removed]",
      "text/plain": [
       "<Figure size 600x400 with 1 Axes>"
      ]
     },
     "metadata": {},
     "output_type": "display_data"
    }
   ],
   "source": [
    "set_seed(42)\n",
    "epochs = 20\n",
    "sched = partial(lr_scheduler.OneCycleLR, max_lr=lr, total_steps=len(dls.train)*epochs)\n",
    "xtra = [DeviceCB(), BatchSchedCB(sched), BatchTransformCB(partial(f, tfm_x=tfms), on_val=False)]\n",
    "learn = TrainLearner(get_model4().apply(iw), dls, F.cross_entropy, lr=lr, cbs= cbs + xtra, opt_func=optim.AdamW)\n",
    "learn.fit(epochs)"
   ]
  },
  {
   "cell_type": "code",
   "execution_count": null,
   "id": "4b78eef1-bb8d-4349-a08b-80aedbf9a6f7",
   "metadata": {
    "tags": []
   },
   "outputs": [],
   "source": [
    "path = fc.Path('models')\n",
    "path.mkdir(exist_ok=True)\n",
    "torch.save(learn.model, path/'fmnist_random_copy.pkl')"
   ]
  },
  {
   "cell_type": "code",
   "execution_count": 42,
   "id": "866b2b18-ad02-48f2-8a8c-e648ba505332",
   "metadata": {},
   "outputs": [
    {
     "data": {
      "text/html": [
       "\n",
       "<style>\n",
       "    /* Turns off some styling */\n",
       "    progress {\n",
       "        /* gets rid of default border in Firefox and Opera. */\n",
       "        border: none;\n",
       "        /* Needs to be in here for Safari polyfill so background images work as expected. */\n",
       "        background-size: auto;\n",
       "    }\n",
       "    progress:not([value]), progress:not([value])::-webkit-progress-bar {\n",
       "        background: repeating-linear-gradient(45deg, #7e7e7e, #7e7e7e 10px, #5c5c5c 10px, #5c5c5c 20px);\n",
       "    }\n",
       "    .progress-bar-interrupted, .progress-bar-interrupted::-webkit-progress-bar {\n",
       "        background: #F44336;\n",
       "    }\n",
       "</style>\n"
      ],
      "text/plain": [
       "<IPython.core.display.HTML object>"
      ]
     },
     "metadata": {},
     "output_type": "display_data"
    },
    {
     "data": {
      "text/html": [
       "<table border=\"1\" class=\"dataframe\">\n",
       "  <thead>\n",
       "    <tr style=\"text-align: left;\">\n",
       "      <th>accuracy</th>\n",
       "      <th>loss</th>\n",
       "      <th>epoch</th>\n",
       "      <th>train</th>\n",
       "    </tr>\n",
       "  </thead>\n",
       "  <tbody>\n",
       "    <tr>\n",
       "      <td> 0.934</td>\n",
       "      <td> 0.184</td>\n",
       "      <td>0</td>\n",
       "      <td>False</td>\n",
       "    </tr>\n",
       "  </tbody>\n",
       "</table>"
      ],
      "text/plain": [
       "<IPython.core.display.HTML object>"
      ]
     },
     "metadata": {},
     "output_type": "display_data"
    }
   ],
   "source": [
    "TrainLearner(learn.model, dls, F.cross_entropy, cbs=[DeviceCB(), metrics, ProgressCB(plot=True)]).fit(1, train=False)"
   ]
  },
  {
   "cell_type": "code",
   "execution_count": 43,
   "id": "33812602-0f09-4089-9320-6515886cfea7",
   "metadata": {
    "tags": []
   },
   "outputs": [],
   "source": [
    "tfms = nn.Sequential(transforms.RandomCrop(28, padding=1),\n",
    "                     transforms.RandomHorizontalFlip(p=0.5),\n",
    "                     RandomErase(),\n",
    "                     RandomCopy()\n",
    "                    )"
   ]
  },
  {
   "cell_type": "code",
   "execution_count": null,
   "id": "c5bdafe2-2081-4ae3-8586-b7579119760c",
   "metadata": {
    "tags": []
   },
   "outputs": [
    {
     "data": {
      "text/html": [
       "\n",
       "<style>\n",
       "    /* Turns off some styling */\n",
       "    progress {\n",
       "        /* gets rid of default border in Firefox and Opera. */\n",
       "        border: none;\n",
       "        /* Needs to be in here for Safari polyfill so background images work as expected. */\n",
       "        background-size: auto;\n",
       "    }\n",
       "    progress:not([value]), progress:not([value])::-webkit-progress-bar {\n",
       "        background: repeating-linear-gradient(45deg, #7e7e7e, #7e7e7e 10px, #5c5c5c 10px, #5c5c5c 20px);\n",
       "    }\n",
       "    .progress-bar-interrupted, .progress-bar-interrupted::-webkit-progress-bar {\n",
       "        background: #F44336;\n",
       "    }\n",
       "</style>\n"
      ],
      "text/plain": [
       "<IPython.core.display.HTML object>"
      ]
     },
     "metadata": {},
     "output_type": "display_data"
    },
    {
     "data": {
      "text/html": [
       "<table border=\"1\" class=\"dataframe\">\n",
       "  <thead>\n",
       "    <tr style=\"text-align: left;\">\n",
       "      <th>accuracy</th>\n",
       "      <th>loss</th>\n",
       "      <th>epoch</th>\n",
       "      <th>train</th>\n",
       "    </tr>\n",
       "  </thead>\n",
       "  <tbody>\n",
       "    <tr>\n",
       "      <td> 0.679</td>\n",
       "      <td> 1.134</td>\n",
       "      <td>0</td>\n",
       "      <td>True</td>\n",
       "    </tr>\n",
       "    <tr>\n",
       "      <td> 0.767</td>\n",
       "      <td> 0.703</td>\n",
       "      <td>0</td>\n",
       "      <td>False</td>\n",
       "    </tr>\n",
       "    <tr>\n",
       "      <td> 0.786</td>\n",
       "      <td> 0.807</td>\n",
       "      <td>1</td>\n",
       "      <td>True</td>\n",
       "    </tr>\n",
       "    <tr>\n",
       "      <td> 0.808</td>\n",
       "      <td> 0.593</td>\n",
       "      <td>1</td>\n",
       "      <td>False</td>\n",
       "    </tr>\n",
       "    <tr>\n",
       "      <td> 0.819</td>\n",
       "      <td> 0.677</td>\n",
       "      <td>2</td>\n",
       "      <td>True</td>\n",
       "    </tr>\n",
       "    <tr>\n",
       "      <td> 0.830</td>\n",
       "      <td> 0.519</td>\n",
       "      <td>2</td>\n",
       "      <td>False</td>\n",
       "    </tr>\n",
       "    <tr>\n",
       "      <td> 0.826</td>\n",
       "      <td> 0.592</td>\n",
       "      <td>3</td>\n",
       "      <td>True</td>\n",
       "    </tr>\n",
       "    <tr>\n",
       "      <td> 0.836</td>\n",
       "      <td> 0.467</td>\n",
       "      <td>3</td>\n",
       "      <td>False</td>\n",
       "    </tr>\n",
       "    <tr>\n",
       "      <td> 0.820</td>\n",
       "      <td> 0.567</td>\n",
       "      <td>4</td>\n",
       "      <td>True</td>\n",
       "    </tr>\n",
       "    <tr>\n",
       "      <td> 0.840</td>\n",
       "      <td> 0.478</td>\n",
       "      <td>4</td>\n",
       "      <td>False</td>\n",
       "    </tr>\n",
       "    <tr>\n",
       "      <td> 0.830</td>\n",
       "      <td> 0.511</td>\n",
       "      <td>5</td>\n",
       "      <td>True</td>\n",
       "    </tr>\n",
       "    <tr>\n",
       "      <td> 0.855</td>\n",
       "      <td> 0.429</td>\n",
       "      <td>5</td>\n",
       "      <td>False</td>\n",
       "    </tr>\n",
       "    <tr>\n",
       "      <td> 0.850</td>\n",
       "      <td> 0.445</td>\n",
       "      <td>6</td>\n",
       "      <td>True</td>\n",
       "    </tr>\n",
       "    <tr>\n",
       "      <td> 0.868</td>\n",
       "      <td> 0.377</td>\n",
       "      <td>6</td>\n",
       "      <td>False</td>\n",
       "    </tr>\n",
       "    <tr>\n",
       "      <td> 0.855</td>\n",
       "      <td> 0.417</td>\n",
       "      <td>7</td>\n",
       "      <td>True</td>\n",
       "    </tr>\n",
       "    <tr>\n",
       "      <td> 0.860</td>\n",
       "      <td> 0.406</td>\n",
       "      <td>7</td>\n",
       "      <td>False</td>\n",
       "    </tr>\n",
       "    <tr>\n",
       "      <td> 0.868</td>\n",
       "      <td> 0.380</td>\n",
       "      <td>8</td>\n",
       "      <td>True</td>\n",
       "    </tr>\n",
       "    <tr>\n",
       "      <td> 0.824</td>\n",
       "      <td> 0.515</td>\n",
       "      <td>8</td>\n",
       "      <td>False</td>\n",
       "    </tr>\n",
       "    <tr>\n",
       "      <td> 0.869</td>\n",
       "      <td> 0.372</td>\n",
       "      <td>9</td>\n",
       "      <td>True</td>\n",
       "    </tr>\n",
       "    <tr>\n",
       "      <td> 0.871</td>\n",
       "      <td> 0.364</td>\n",
       "      <td>9</td>\n",
       "      <td>False</td>\n",
       "    </tr>\n",
       "    <tr>\n",
       "      <td> 0.882</td>\n",
       "      <td> 0.335</td>\n",
       "      <td>10</td>\n",
       "      <td>True</td>\n",
       "    </tr>\n",
       "    <tr>\n",
       "      <td> 0.890</td>\n",
       "      <td> 0.309</td>\n",
       "      <td>10</td>\n",
       "      <td>False</td>\n",
       "    </tr>\n",
       "    <tr>\n",
       "      <td> 0.893</td>\n",
       "      <td> 0.305</td>\n",
       "      <td>11</td>\n",
       "      <td>True</td>\n",
       "    </tr>\n",
       "    <tr>\n",
       "      <td> 0.891</td>\n",
       "      <td> 0.314</td>\n",
       "      <td>11</td>\n",
       "      <td>False</td>\n",
       "    </tr>\n",
       "    <tr>\n",
       "      <td> 0.894</td>\n",
       "      <td> 0.298</td>\n",
       "      <td>12</td>\n",
       "      <td>True</td>\n",
       "    </tr>\n",
       "    <tr>\n",
       "      <td> 0.876</td>\n",
       "      <td> 0.343</td>\n",
       "      <td>12</td>\n",
       "      <td>False</td>\n",
       "    </tr>\n",
       "    <tr>\n",
       "      <td> 0.892</td>\n",
       "      <td> 0.302</td>\n",
       "      <td>13</td>\n",
       "      <td>True</td>\n",
       "    </tr>\n",
       "    <tr>\n",
       "      <td> 0.899</td>\n",
       "      <td> 0.286</td>\n",
       "      <td>13</td>\n",
       "      <td>False</td>\n",
       "    </tr>\n",
       "    <tr>\n",
       "      <td> 0.901</td>\n",
       "      <td> 0.277</td>\n",
       "      <td>14</td>\n",
       "      <td>True</td>\n",
       "    </tr>\n",
       "    <tr>\n",
       "      <td> 0.896</td>\n",
       "      <td> 0.299</td>\n",
       "      <td>14</td>\n",
       "      <td>False</td>\n",
       "    </tr>\n",
       "    <tr>\n",
       "      <td> 0.901</td>\n",
       "      <td> 0.276</td>\n",
       "      <td>15</td>\n",
       "      <td>True</td>\n",
       "    </tr>\n",
       "    <tr>\n",
       "      <td> 0.907</td>\n",
       "      <td> 0.255</td>\n",
       "      <td>15</td>\n",
       "      <td>False</td>\n",
       "    </tr>\n",
       "    <tr>\n",
       "      <td> 0.911</td>\n",
       "      <td> 0.248</td>\n",
       "      <td>16</td>\n",
       "      <td>True</td>\n",
       "    </tr>\n",
       "    <tr>\n",
       "      <td> 0.922</td>\n",
       "      <td> 0.219</td>\n",
       "      <td>16</td>\n",
       "      <td>False</td>\n",
       "    </tr>\n",
       "    <tr>\n",
       "      <td> 0.910</td>\n",
       "      <td> 0.251</td>\n",
       "      <td>17</td>\n",
       "      <td>True</td>\n",
       "    </tr>\n",
       "    <tr>\n",
       "      <td> 0.922</td>\n",
       "      <td> 0.224</td>\n",
       "      <td>17</td>\n",
       "      <td>False</td>\n",
       "    </tr>\n",
       "    <tr>\n",
       "      <td> 0.917</td>\n",
       "      <td> 0.231</td>\n",
       "      <td>18</td>\n",
       "      <td>True</td>\n",
       "    </tr>\n",
       "    <tr>\n",
       "      <td> 0.926</td>\n",
       "      <td> 0.203</td>\n",
       "      <td>18</td>\n",
       "      <td>False</td>\n",
       "    </tr>\n",
       "    <tr>\n",
       "      <td> 0.919</td>\n",
       "      <td> 0.229</td>\n",
       "      <td>19</td>\n",
       "      <td>True</td>\n",
       "    </tr>\n",
       "    <tr>\n",
       "      <td> 0.926</td>\n",
       "      <td> 0.204</td>\n",
       "      <td>19</td>\n",
       "      <td>False</td>\n",
       "    </tr>\n",
       "    <tr>\n",
       "      <td> 0.921</td>\n",
       "      <td> 0.223</td>\n",
       "      <td>20</td>\n",
       "      <td>True</td>\n",
       "    </tr>\n",
       "    <tr>\n",
       "      <td> 0.929</td>\n",
       "      <td> 0.200</td>\n",
       "      <td>20</td>\n",
       "      <td>False</td>\n",
       "    </tr>\n",
       "    <tr>\n",
       "      <td> 0.921</td>\n",
       "      <td> 0.220</td>\n",
       "      <td>21</td>\n",
       "      <td>True</td>\n",
       "    </tr>\n",
       "    <tr>\n",
       "      <td> 0.931</td>\n",
       "      <td> 0.199</td>\n",
       "      <td>21</td>\n",
       "      <td>False</td>\n",
       "    </tr>\n",
       "    <tr>\n",
       "      <td> 0.926</td>\n",
       "      <td> 0.207</td>\n",
       "      <td>22</td>\n",
       "      <td>True</td>\n",
       "    </tr>\n",
       "    <tr>\n",
       "      <td> 0.933</td>\n",
       "      <td> 0.190</td>\n",
       "      <td>22</td>\n",
       "      <td>False</td>\n",
       "    </tr>\n",
       "    <tr>\n",
       "      <td> 0.926</td>\n",
       "      <td> 0.207</td>\n",
       "      <td>23</td>\n",
       "      <td>True</td>\n",
       "    </tr>\n",
       "    <tr>\n",
       "      <td> 0.934</td>\n",
       "      <td> 0.192</td>\n",
       "      <td>23</td>\n",
       "      <td>False</td>\n",
       "    </tr>\n",
       "    <tr>\n",
       "      <td> 0.924</td>\n",
       "      <td> 0.210</td>\n",
       "      <td>24</td>\n",
       "      <td>True</td>\n",
       "    </tr>\n",
       "    <tr>\n",
       "      <td> 0.934</td>\n",
       "      <td> 0.192</td>\n",
       "      <td>24</td>\n",
       "      <td>False</td>\n",
       "    </tr>\n",
       "  </tbody>\n",
       "</table>"
      ],
      "text/plain": [
       "<IPython.core.display.HTML object>"
      ]
     },
     "metadata": {},
     "output_type": "display_data"
    },
    {
     "data": {
      "image/png": "[encoded data removed]",
      "text/plain": [
       "<Figure size 600x400 with 1 Axes>"
      ]
     },
     "metadata": {},
     "output_type": "display_data"
    }
   ],
   "source": [
    "set_seed(42)\n",
    "epochs = 25\n",
    "sched = partial(lr_scheduler.OneCycleLR, max_lr=lr, total_steps=len(dls.train)*epochs)\n",
    "xtra = [DeviceCB(), BatchSchedCB(sched), BatchTransformCB(partial(f, tfm_x=tfms), on_val=False)]\n",
    "learn = TrainLearner(get_model4().apply(iw), dls, F.cross_entropy, lr=lr, cbs= cbs + xtra, opt_func=optim.AdamW)\n",
    "learn.fit(epochs)"
   ]
  },
  {
   "cell_type": "code",
   "execution_count": 45,
   "id": "53e874ca-e4cf-4410-9585-2d7e96217eaf",
   "metadata": {
    "tags": []
   },
   "outputs": [],
   "source": [
    "path = fc.Path('models')\n",
    "path.mkdir(exist_ok=True)\n",
    "torch.save(learn.model, path/'fmnist_random_copy_erase.pkl')"
   ]
  },
  {
   "cell_type": "markdown",
   "id": "c6354c21-0c2e-4937-8946-030dffdc313e",
   "metadata": {},
   "source": [
    "## Ensemble"
   ]
  },
  {
   "cell_type": "code",
   "execution_count": null,
   "id": "e9d67233-e186-4d34-a361-bcedcd41d91f",
   "metadata": {},
   "outputs": [],
   "source": []
  }
 ],
 "metadata": {
  "kernelspec": {
   "display_name": "fastai:Python",
   "language": "python",
   "name": "conda-env-fastai-py"
  },
  "language_info": {
   "codemirror_mode": {
    "name": "ipython",
    "version": 3
   },
   "file_extension": ".py",
   "mimetype": "text/x-python",
   "name": "python",
   "nbconvert_exporter": "python",
   "pygments_lexer": "ipython3",
   "version": "3.9.13"
  }
 },
 "nbformat": 4,
 "nbformat_minor": 5
}
