{
 "cells": [
  {
   "cell_type": "markdown",
   "id": "cf8490e8",
   "metadata": {},
   "source": [
    "# Minibatch Training KMNIST Practice"
   ]
  },
  {
   "cell_type": "code",
   "execution_count": null,
   "id": "ccee09d7",
   "metadata": {},
   "outputs": [
    {
     "name": "stderr",
     "output_type": "stream",
     "text": [
      "/Users/anubhavmaity/mambaforge/envs/fastai/lib/python3.9/site-packages/tqdm/auto.py:22: TqdmWarning: IProgress not found. Please update jupyter and ipywidgets. See https://ipywidgets.readthedocs.io/en/stable/user_install.html\n",
      "  from .autonotebook import tqdm as notebook_tqdm\n"
     ]
    }
   ],
   "source": [
    "import numpy\n",
    "import torch\n",
    "from torch import nn\n",
    "from torch.nn import functional as F\n",
    "import torchvision\n",
    "from fastcore.all import test_close\n",
    "from sklearn.metrics import accuracy_score"
   ]
  },
  {
   "cell_type": "code",
   "execution_count": null,
   "id": "d8536894",
   "metadata": {},
   "outputs": [
    {
     "data": {
      "text/plain": [
       "<torch._C.Generator>"
      ]
     },
     "execution_count": null,
     "metadata": {},
     "output_type": "execute_result"
    }
   ],
   "source": [
    "torch.manual_seed(42)"
   ]
  },
  {
   "cell_type": "markdown",
   "id": "1384ebb9",
   "metadata": {},
   "source": [
    "## Load Datasets"
   ]
  },
  {
   "cell_type": "code",
   "execution_count": null,
   "id": "852bde48",
   "metadata": {},
   "outputs": [
    {
     "name": "stderr",
     "output_type": "stream",
     "text": [
      "/Users/anubhavmaity/mambaforge/envs/fastai/lib/python3.9/site-packages/torchvision/datasets/mnist.py:75: UserWarning: train_data has been renamed data\n",
      "  warnings.warn(\"train_data has been renamed data\")\n",
      "/Users/anubhavmaity/mambaforge/envs/fastai/lib/python3.9/site-packages/torchvision/datasets/mnist.py:65: UserWarning: train_labels has been renamed targets\n",
      "  warnings.warn(\"train_labels has been renamed targets\")\n"
     ]
    }
   ],
   "source": [
    "data = torchvision.datasets.KMNIST('data', train=True)\n",
    "x_train, y_train = data.train_data.flatten(1).float()/255., data.train_labels"
   ]
  },
  {
   "cell_type": "code",
   "execution_count": null,
   "id": "56a55962",
   "metadata": {},
   "outputs": [
    {
     "data": {
      "text/plain": [
       "(torch.Size([60000, 784]), torch.Size([60000]))"
      ]
     },
     "execution_count": null,
     "metadata": {},
     "output_type": "execute_result"
    }
   ],
   "source": [
    "x_train.shape, y_train.shape"
   ]
  },
  {
   "cell_type": "markdown",
   "id": "933569fb",
   "metadata": {},
   "source": [
    "## Create Model"
   ]
  },
  {
   "cell_type": "code",
   "execution_count": null,
   "id": "6acd5e9e",
   "metadata": {},
   "outputs": [],
   "source": [
    "class Model(nn.Module):\n",
    "    def __init__(self, n_in, nh, n_out):\n",
    "        super().__init__()\n",
    "        self.layers = [nn.Linear(n_in, nh), nn.ReLU(), nn.Linear(nh, n_out)]\n",
    "    def forward(self, x):\n",
    "        for layer in self.layers: x = layer(x)\n",
    "        return x"
   ]
  },
  {
   "cell_type": "code",
   "execution_count": null,
   "id": "1bd6e6a2",
   "metadata": {},
   "outputs": [],
   "source": [
    "m = Model(784, 50, 10)"
   ]
  },
  {
   "cell_type": "code",
   "execution_count": null,
   "id": "f900b9df",
   "metadata": {},
   "outputs": [],
   "source": [
    "y_pred = m(x_train)"
   ]
  },
  {
   "cell_type": "code",
   "execution_count": null,
   "id": "10041ddd",
   "metadata": {},
   "outputs": [
    {
     "data": {
      "text/plain": [
       "torch.Size([60000, 10])"
      ]
     },
     "execution_count": null,
     "metadata": {},
     "output_type": "execute_result"
    }
   ],
   "source": [
    "y_pred.shape"
   ]
  },
  {
   "cell_type": "markdown",
   "id": "32c63312",
   "metadata": {},
   "source": [
    "## Implement softmax"
   ]
  },
  {
   "cell_type": "code",
   "execution_count": null,
   "id": "8ed1b87f",
   "metadata": {},
   "outputs": [
    {
     "data": {
      "text/plain": [
       "torch.Size([60000, 10])"
      ]
     },
     "execution_count": null,
     "metadata": {},
     "output_type": "execute_result"
    }
   ],
   "source": [
    "y_pred.exp().shape"
   ]
  },
  {
   "cell_type": "code",
   "execution_count": null,
   "id": "1d18e393",
   "metadata": {},
   "outputs": [
    {
     "data": {
      "text/plain": [
       "torch.Size([60000, 1])"
      ]
     },
     "execution_count": null,
     "metadata": {},
     "output_type": "execute_result"
    }
   ],
   "source": [
    "y_pred.exp().sum(1, keepdim=True).shape"
   ]
  },
  {
   "cell_type": "code",
   "execution_count": null,
   "id": "6eebc62d",
   "metadata": {},
   "outputs": [
    {
     "data": {
      "text/plain": [
       "torch.Size([60000, 10])"
      ]
     },
     "execution_count": null,
     "metadata": {},
     "output_type": "execute_result"
    }
   ],
   "source": [
    "y_softmax = y_pred.exp() / y_pred.exp().sum(1, keepdim=True)\n",
    "y_softmax.shape"
   ]
  },
  {
   "cell_type": "code",
   "execution_count": null,
   "id": "9f30f207",
   "metadata": {},
   "outputs": [
    {
     "data": {
      "text/plain": [
       "tensor([[0.0951, 0.0932, 0.1246,  ..., 0.0844, 0.0867, 0.1105],\n",
       "        [0.0922, 0.0960, 0.1259,  ..., 0.0819, 0.0778, 0.1145],\n",
       "        [0.0943, 0.0839, 0.1426,  ..., 0.0848, 0.0856, 0.1192],\n",
       "        ...,\n",
       "        [0.0915, 0.0916, 0.1299,  ..., 0.0888, 0.0856, 0.0903],\n",
       "        [0.0860, 0.1066, 0.1084,  ..., 0.0892, 0.0855, 0.1209],\n",
       "        [0.1006, 0.1091, 0.1240,  ..., 0.0880, 0.0868, 0.1014]],\n",
       "       grad_fn=<DivBackward0>)"
      ]
     },
     "execution_count": null,
     "metadata": {},
     "output_type": "execute_result"
    }
   ],
   "source": [
    "y_softmax"
   ]
  },
  {
   "cell_type": "markdown",
   "id": "6ff692ce",
   "metadata": {},
   "source": [
    "## Implement Log Softmax"
   ]
  },
  {
   "cell_type": "code",
   "execution_count": null,
   "id": "d144c157",
   "metadata": {},
   "outputs": [],
   "source": [
    "def log_softmax(y_pred):\n",
    "    return y_pred - y_pred.exp().sum(-1, keepdim=True).log()"
   ]
  },
  {
   "cell_type": "code",
   "execution_count": null,
   "id": "ec45260f",
   "metadata": {},
   "outputs": [
    {
     "data": {
      "text/plain": [
       "tensor([[-2.3524, -2.3727, -2.0824,  ..., -2.4723, -2.4457, -2.2029],\n",
       "        [-2.3834, -2.3435, -2.0719,  ..., -2.5020, -2.5533, -2.1676],\n",
       "        [-2.3608, -2.4776, -1.9477,  ..., -2.4673, -2.4581, -2.1268],\n",
       "        ...,\n",
       "        [-2.3919, -2.3899, -2.0412,  ..., -2.4209, -2.4583, -2.4046],\n",
       "        [-2.4536, -2.2385, -2.2215,  ..., -2.4164, -2.4594, -2.1125],\n",
       "        [-2.2971, -2.2155, -2.0872,  ..., -2.4302, -2.4436, -2.2886]],\n",
       "       grad_fn=<SubBackward0>)"
      ]
     },
     "execution_count": null,
     "metadata": {},
     "output_type": "execute_result"
    }
   ],
   "source": [
    "log_softmax(y_pred)"
   ]
  },
  {
   "cell_type": "markdown",
   "id": "a497935e",
   "metadata": {},
   "source": [
    "There are infinite values "
   ]
  },
  {
   "cell_type": "markdown",
   "id": "2118578f",
   "metadata": {},
   "source": [
    "## Implement Log Softmax with `LogExp` trick"
   ]
  },
  {
   "cell_type": "code",
   "execution_count": null,
   "id": "f45a705c",
   "metadata": {},
   "outputs": [
    {
     "data": {
      "text/plain": [
       "torch.Size([60000, 1])"
      ]
     },
     "execution_count": null,
     "metadata": {},
     "output_type": "execute_result"
    }
   ],
   "source": [
    "y_pred.max(-1, keepdim=True).values.shape"
   ]
  },
  {
   "cell_type": "code",
   "execution_count": null,
   "id": "aba910b4",
   "metadata": {},
   "outputs": [],
   "source": [
    "def logexp(y_pred):\n",
    "    max_val = y_pred.max(-1, keepdim=True).values\n",
    "    return max_val + (y_pred - max_val).exp().sum(-1, keepdim=True).log()"
   ]
  },
  {
   "cell_type": "code",
   "execution_count": null,
   "id": "1b6bb180",
   "metadata": {},
   "outputs": [
    {
     "data": {
      "text/plain": [
       "torch.Size([60000, 1])"
      ]
     },
     "execution_count": null,
     "metadata": {},
     "output_type": "execute_result"
    }
   ],
   "source": [
    "logexp(y_pred).shape"
   ]
  },
  {
   "cell_type": "code",
   "execution_count": null,
   "id": "bd3b9f24",
   "metadata": {},
   "outputs": [
    {
     "data": {
      "text/plain": [
       "torch.Size([60000])"
      ]
     },
     "execution_count": null,
     "metadata": {},
     "output_type": "execute_result"
    }
   ],
   "source": [
    "y_pred.logsumexp(-1).shape"
   ]
  },
  {
   "cell_type": "code",
   "execution_count": null,
   "id": "a3203755",
   "metadata": {},
   "outputs": [],
   "source": [
    "test_close(logexp(y_pred), y_pred.logsumexp(-1, keepdim=True))"
   ]
  },
  {
   "cell_type": "code",
   "execution_count": null,
   "id": "7cb18a99",
   "metadata": {},
   "outputs": [],
   "source": [
    "def log_softmax(y_pred):\n",
    "    return y_pred - logexp(y_pred)"
   ]
  },
  {
   "cell_type": "code",
   "execution_count": null,
   "id": "8c2d4279",
   "metadata": {},
   "outputs": [
    {
     "data": {
      "text/plain": [
       "tensor([[-2.3524, -2.3727, -2.0824,  ..., -2.4723, -2.4457, -2.2029],\n",
       "        [-2.3834, -2.3435, -2.0719,  ..., -2.5020, -2.5533, -2.1676],\n",
       "        [-2.3608, -2.4776, -1.9477,  ..., -2.4673, -2.4581, -2.1268],\n",
       "        ...,\n",
       "        [-2.3919, -2.3899, -2.0412,  ..., -2.4209, -2.4583, -2.4046],\n",
       "        [-2.4536, -2.2385, -2.2215,  ..., -2.4164, -2.4594, -2.1125],\n",
       "        [-2.2971, -2.2155, -2.0872,  ..., -2.4302, -2.4436, -2.2886]],\n",
       "       grad_fn=<SubBackward0>)"
      ]
     },
     "execution_count": null,
     "metadata": {},
     "output_type": "execute_result"
    }
   ],
   "source": [
    "log_softmax(y_pred)"
   ]
  },
  {
   "cell_type": "markdown",
   "id": "52ec60d9",
   "metadata": {},
   "source": [
    "No infinite values, because of the `LogExp` trick"
   ]
  },
  {
   "cell_type": "code",
   "execution_count": null,
   "id": "b9765d07",
   "metadata": {},
   "outputs": [],
   "source": [
    "test_close(log_softmax(y_pred), y_pred.log_softmax(-1), eps=0.0001)"
   ]
  },
  {
   "cell_type": "markdown",
   "id": "0d3b84e2",
   "metadata": {},
   "source": [
    "## Implement Cross Entropy"
   ]
  },
  {
   "cell_type": "code",
   "execution_count": null,
   "id": "ac23799b",
   "metadata": {},
   "outputs": [
    {
     "data": {
      "text/plain": [
       "(torch.Size([60000, 10]), torch.Size([60000]))"
      ]
     },
     "execution_count": null,
     "metadata": {},
     "output_type": "execute_result"
    }
   ],
   "source": [
    "y_pred.log_softmax(-1).shape, y_train.shape"
   ]
  },
  {
   "cell_type": "code",
   "execution_count": null,
   "id": "0718e76a",
   "metadata": {},
   "outputs": [],
   "source": [
    "def cross_entropy(y_pred, y_train):\n",
    "    return - y_pred.log_softmax(-1)[range(y_train.shape[0]), y_train].mean()"
   ]
  },
  {
   "cell_type": "code",
   "execution_count": null,
   "id": "a63571af",
   "metadata": {},
   "outputs": [
    {
     "data": {
      "text/plain": [
       "tensor(2.3130, grad_fn=<NegBackward0>)"
      ]
     },
     "execution_count": null,
     "metadata": {},
     "output_type": "execute_result"
    }
   ],
   "source": [
    "cross_entropy(y_pred, y_train)"
   ]
  },
  {
   "cell_type": "code",
   "execution_count": null,
   "id": "0976fc2f",
   "metadata": {},
   "outputs": [],
   "source": [
    "test_close(cross_entropy(y_pred, y_train), F.cross_entropy(y_pred, y_train))"
   ]
  },
  {
   "cell_type": "markdown",
   "id": "a4e2fd41",
   "metadata": {},
   "source": [
    "## Implement Accuracy Metric"
   ]
  },
  {
   "cell_type": "code",
   "execution_count": null,
   "id": "32c74956",
   "metadata": {},
   "outputs": [
    {
     "data": {
      "text/plain": [
       "torch.Size([60000])"
      ]
     },
     "execution_count": null,
     "metadata": {},
     "output_type": "execute_result"
    }
   ],
   "source": [
    "y_pred.argmax(-1).shape"
   ]
  },
  {
   "cell_type": "code",
   "execution_count": null,
   "id": "75c26a09",
   "metadata": {},
   "outputs": [],
   "source": [
    "def accuracy(y_pred, y_train):\n",
    "    return (y_pred.argmax(-1) == y_train).sum() / y_pred.shape[0]"
   ]
  },
  {
   "cell_type": "code",
   "execution_count": null,
   "id": "5174b6f2",
   "metadata": {},
   "outputs": [
    {
     "data": {
      "text/plain": [
       "tensor(0.0905)"
      ]
     },
     "execution_count": null,
     "metadata": {},
     "output_type": "execute_result"
    }
   ],
   "source": [
    "accuracy(y_pred, y_train)"
   ]
  },
  {
   "cell_type": "markdown",
   "id": "a781bd86",
   "metadata": {},
   "source": [
    "## Implement Minibatch Training"
   ]
  },
  {
   "cell_type": "code",
   "execution_count": null,
   "id": "511f28f0",
   "metadata": {},
   "outputs": [],
   "source": [
    "bs = 32\n",
    "epochs = 10\n",
    "lr = 0.01"
   ]
  },
  {
   "cell_type": "code",
   "execution_count": null,
   "id": "75ac4317",
   "metadata": {},
   "outputs": [],
   "source": [
    "m = Model(784, 50, 10)"
   ]
  },
  {
   "cell_type": "code",
   "execution_count": null,
   "id": "b350e430",
   "metadata": {},
   "outputs": [
    {
     "name": "stdout",
     "output_type": "stream",
     "text": [
      "Epoch 0 Loss: 0.6007910370826721\n",
      "Epoch 1 Loss: 0.42758849263191223\n",
      "Epoch 2 Loss: 0.3689204752445221\n",
      "Epoch 3 Loss: 0.3278256952762604\n",
      "Epoch 4 Loss: 0.29490503668785095\n",
      "Epoch 5 Loss: 0.27044224739074707\n",
      "Epoch 6 Loss: 0.2532268166542053\n",
      "Epoch 7 Loss: 0.23949064314365387\n",
      "Epoch 8 Loss: 0.2294975370168686\n",
      "Epoch 9 Loss: 0.2232760339975357\n"
     ]
    }
   ],
   "source": [
    "for i in range(epochs):\n",
    "    for j in range(0, len(x_train), bs):\n",
    "        batch = slice(j, min(len(x_train), j + bs))\n",
    "        x_bs = x_train[batch]\n",
    "        y_bs = y_train[batch]\n",
    "        y_hat = m(x_bs)\n",
    "        loss = F.cross_entropy(y_hat, y_bs)\n",
    "        \n",
    "        loss.backward()\n",
    "\n",
    "        with torch.no_grad():\n",
    "            for l in m.layers:\n",
    "                if hasattr(l, 'weight'):\n",
    "                    l.weight -= lr * l.weight.grad\n",
    "                    l.bias -= lr * l.bias.grad\n",
    "                    l.weight.grad.zero_()\n",
    "                    l.bias.grad.zero_()\n",
    "    print (f'Epoch {i} Loss: {loss}')"
   ]
  },
  {
   "cell_type": "code",
   "execution_count": null,
   "id": "4b38758c",
   "metadata": {},
   "outputs": [],
   "source": [
    "new_y_pred = m(x_train)"
   ]
  },
  {
   "cell_type": "code",
   "execution_count": null,
   "id": "1dd0bcd3",
   "metadata": {},
   "outputs": [
    {
     "data": {
      "text/plain": [
       "tensor(0.9105)"
      ]
     },
     "execution_count": null,
     "metadata": {},
     "output_type": "execute_result"
    }
   ],
   "source": [
    "accuracy(new_y_pred, y_train)"
   ]
  },
  {
   "cell_type": "code",
   "execution_count": null,
   "id": "f79ba599",
   "metadata": {},
   "outputs": [],
   "source": []
  }
 ],
 "metadata": {
  "kernelspec": {
   "display_name": "fastai",
   "language": "python",
   "name": "fastai"
  }
 },
 "nbformat": 4,
 "nbformat_minor": 5
}
