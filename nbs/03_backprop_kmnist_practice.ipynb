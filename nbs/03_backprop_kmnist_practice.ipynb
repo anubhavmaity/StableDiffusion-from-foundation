{
 "cells": [
  {
   "cell_type": "markdown",
   "id": "aa078122",
   "metadata": {},
   "source": [
    "# Backprop KMNIST Practice\n",
    "> Without peeking"
   ]
  },
  {
   "cell_type": "code",
   "execution_count": null,
   "id": "53e4fa31",
   "metadata": {},
   "outputs": [
    {
     "name": "stderr",
     "output_type": "stream",
     "text": [
      "/Users/anubhavmaity/mambaforge/envs/fastai/lib/python3.9/site-packages/tqdm/auto.py:22: TqdmWarning: IProgress not found. Please update jupyter and ipywidgets. See https://ipywidgets.readthedocs.io/en/stable/user_install.html\n",
      "  from .autonotebook import tqdm as notebook_tqdm\n"
     ]
    }
   ],
   "source": [
    "import numpy as np\n",
    "import torch\n",
    "import torchvision\n",
    "from matplotlib import pyplot\n",
    "from matplotlib.pyplot import plot as plt"
   ]
  },
  {
   "cell_type": "code",
   "execution_count": null,
   "id": "43cf80a6",
   "metadata": {},
   "outputs": [
    {
     "data": {
      "text/plain": [
       "<torch._C.Generator>"
      ]
     },
     "execution_count": null,
     "metadata": {},
     "output_type": "execute_result"
    }
   ],
   "source": [
    "torch.manual_seed(42)"
   ]
  },
  {
   "cell_type": "markdown",
   "id": "7fa86d1c",
   "metadata": {},
   "source": [
    "## Download KMNIST Dataset"
   ]
  },
  {
   "cell_type": "code",
   "execution_count": null,
   "id": "63c0bcad",
   "metadata": {},
   "outputs": [
    {
     "name": "stderr",
     "output_type": "stream",
     "text": [
      "/Users/anubhavmaity/mambaforge/envs/fastai/lib/python3.9/site-packages/torchvision/datasets/mnist.py:75: UserWarning: train_data has been renamed data\n",
      "  warnings.warn(\"train_data has been renamed data\")\n",
      "/Users/anubhavmaity/mambaforge/envs/fastai/lib/python3.9/site-packages/torchvision/datasets/mnist.py:65: UserWarning: train_labels has been renamed targets\n",
      "  warnings.warn(\"train_labels has been renamed targets\")\n",
      "/Users/anubhavmaity/mambaforge/envs/fastai/lib/python3.9/site-packages/torchvision/datasets/mnist.py:80: UserWarning: test_data has been renamed data\n",
      "  warnings.warn(\"test_data has been renamed data\")\n",
      "/Users/anubhavmaity/mambaforge/envs/fastai/lib/python3.9/site-packages/torchvision/datasets/mnist.py:70: UserWarning: test_labels has been renamed targets\n",
      "  warnings.warn(\"test_labels has been renamed targets\")\n"
     ]
    }
   ],
   "source": [
    "data_train = torchvision.datasets.KMNIST(root='data', download=True)\n",
    "x_train, y_train = data_train.train_data, data_train.train_labels\n",
    "\n",
    "data_test = torchvision.datasets.KMNIST(root='data', train=False, download=True)\n",
    "x_test, y_test = data_test.test_data, data_test.test_labels"
   ]
  },
  {
   "cell_type": "code",
   "execution_count": null,
   "id": "a0e90506",
   "metadata": {},
   "outputs": [
    {
     "data": {
      "text/plain": [
       "<matplotlib.image.AxesImage>"
      ]
     },
     "execution_count": null,
     "metadata": {},
     "output_type": "execute_result"
    },
    {
     "data": {
      "image/png": "[encoded data removed]",
      "text/plain": [
       "<Figure size 640x480 with 1 Axes>"
      ]
     },
     "metadata": {},
     "output_type": "display_data"
    }
   ],
   "source": [
    "pyplot.imshow(x_test[0])"
   ]
  },
  {
   "cell_type": "markdown",
   "id": "2d0aa742",
   "metadata": {},
   "source": [
    "## KMNIST Data Analysis and Processing"
   ]
  },
  {
   "cell_type": "code",
   "execution_count": null,
   "id": "14f7b45b",
   "metadata": {},
   "outputs": [
    {
     "data": {
      "text/plain": [
       "(torch.Size([60000, 28, 28]),\n",
       " torch.Size([60000]),\n",
       " torch.Size([10000, 28, 28]),\n",
       " torch.Size([10000]))"
      ]
     },
     "execution_count": null,
     "metadata": {},
     "output_type": "execute_result"
    }
   ],
   "source": [
    "x_train.shape, y_train.shape, x_test.shape, y_test.shape"
   ]
  },
  {
   "cell_type": "markdown",
   "id": "8f214664",
   "metadata": {},
   "source": [
    "Flatten the `x_train` and `x_test`. Convert them to floating points"
   ]
  },
  {
   "cell_type": "code",
   "execution_count": null,
   "id": "0a11debd",
   "metadata": {},
   "outputs": [],
   "source": [
    "x_train, x_test = x_train.flatten(1) / 255., x_test.flatten(1) / 255."
   ]
  },
  {
   "cell_type": "code",
   "execution_count": null,
   "id": "e9e2c511",
   "metadata": {},
   "outputs": [
    {
     "data": {
      "text/plain": [
       "(torch.Size([60000, 784]), torch.Size([10000, 784]))"
      ]
     },
     "execution_count": null,
     "metadata": {},
     "output_type": "execute_result"
    }
   ],
   "source": [
    "x_train.shape, x_test.shape"
   ]
  },
  {
   "cell_type": "code",
   "execution_count": null,
   "id": "257cc2d7",
   "metadata": {},
   "outputs": [
    {
     "data": {
      "text/plain": [
       "(60000, 10)"
      ]
     },
     "execution_count": null,
     "metadata": {},
     "output_type": "execute_result"
    }
   ],
   "source": [
    "n = y_train.shape[0]\n",
    "c = y_train.max().numpy() + 1\n",
    "nh = 50 # number of hidden layers\n",
    "n, c"
   ]
  },
  {
   "cell_type": "markdown",
   "id": "82f22bac",
   "metadata": {},
   "source": [
    "## Weights & Biases"
   ]
  },
  {
   "cell_type": "code",
   "execution_count": null,
   "id": "8b8371f9",
   "metadata": {},
   "outputs": [],
   "source": [
    "w1 = torch.randn(x_train.shape[1], nh)\n",
    "b1 = torch.zeros(nh)\n",
    "w2 = torch.randn(nh, 1)\n",
    "b2 = torch.zeros(1)"
   ]
  },
  {
   "cell_type": "code",
   "execution_count": null,
   "id": "a7571817",
   "metadata": {},
   "outputs": [
    {
     "data": {
      "text/plain": [
       "(torch.Size([784, 50]), torch.Size([50]), torch.Size([50, 1]), torch.Size([1]))"
      ]
     },
     "execution_count": null,
     "metadata": {},
     "output_type": "execute_result"
    }
   ],
   "source": [
    "w1.shape, b1.shape, w2.shape, b2.shape"
   ]
  },
  {
   "cell_type": "markdown",
   "id": "10faeb7c",
   "metadata": {},
   "source": [
    "## Forward Pass"
   ]
  },
  {
   "cell_type": "code",
   "execution_count": null,
   "id": "5db84682",
   "metadata": {},
   "outputs": [],
   "source": [
    "def forward_pass(x_train, params):\n",
    "    w1, b1, w2, b2 = params\n",
    "    output_1 = x_train @ w1 + b1 # first layer\n",
    "    return output_1 @ w2 + b2 # second layer"
   ]
  },
  {
   "cell_type": "code",
   "execution_count": null,
   "id": "123c52c2",
   "metadata": {},
   "outputs": [],
   "source": [
    "params = w1, b1, w2, b2"
   ]
  },
  {
   "cell_type": "code",
   "execution_count": null,
   "id": "53579cf3",
   "metadata": {},
   "outputs": [
    {
     "data": {
      "text/plain": [
       "torch.Size([60000, 1])"
      ]
     },
     "execution_count": null,
     "metadata": {},
     "output_type": "execute_result"
    }
   ],
   "source": [
    "y_pred = forward_pass(x_train, params)\n",
    "y_pred.shape"
   ]
  },
  {
   "cell_type": "markdown",
   "id": "8d54b4a3",
   "metadata": {},
   "source": [
    "## Loss: MSE"
   ]
  },
  {
   "cell_type": "code",
   "execution_count": null,
   "id": "7b03cfef",
   "metadata": {},
   "outputs": [
    {
     "data": {
      "text/plain": [
       "(torch.Size([60000]), torch.Size([60000, 1]))"
      ]
     },
     "execution_count": null,
     "metadata": {},
     "output_type": "execute_result"
    }
   ],
   "source": [
    "y_train.shape, y_pred.shape"
   ]
  },
  {
   "cell_type": "code",
   "execution_count": null,
   "id": "4787e126",
   "metadata": {},
   "outputs": [
    {
     "data": {
      "text/plain": [
       "tensor(5882.7144)"
      ]
     },
     "execution_count": null,
     "metadata": {},
     "output_type": "execute_result"
    }
   ],
   "source": [
    "( (y_pred - y_train[:, None]) **2 ).mean()"
   ]
  },
  {
   "cell_type": "code",
   "execution_count": null,
   "id": "c98ad872",
   "metadata": {},
   "outputs": [],
   "source": [
    "def mse_loss(y_pred, y_train):\n",
    "    return ( (y_pred - y_train[:, None]) **2 ).mean()"
   ]
  },
  {
   "cell_type": "markdown",
   "id": "912126bc",
   "metadata": {},
   "source": [
    "## Derivatives"
   ]
  },
  {
   "cell_type": "code",
   "execution_count": null,
   "id": "f4afe3bf",
   "metadata": {},
   "outputs": [],
   "source": [
    "l1 = x_train @ w1 + b1"
   ]
  },
  {
   "cell_type": "code",
   "execution_count": null,
   "id": "46efd866",
   "metadata": {},
   "outputs": [
    {
     "data": {
      "text/plain": [
       "torch.Size([60000, 50])"
      ]
     },
     "execution_count": null,
     "metadata": {},
     "output_type": "execute_result"
    }
   ],
   "source": [
    "l1.shape"
   ]
  },
  {
   "cell_type": "code",
   "execution_count": null,
   "id": "b09f908a",
   "metadata": {},
   "outputs": [],
   "source": [
    "l2 = l1 @ w2 + b2"
   ]
  },
  {
   "cell_type": "code",
   "execution_count": null,
   "id": "2e3b45ee",
   "metadata": {},
   "outputs": [
    {
     "data": {
      "text/plain": [
       "torch.Size([60000, 1])"
      ]
     },
     "execution_count": null,
     "metadata": {},
     "output_type": "execute_result"
    }
   ],
   "source": [
    "l2.shape"
   ]
  },
  {
   "cell_type": "code",
   "execution_count": null,
   "id": "6708dee0",
   "metadata": {},
   "outputs": [],
   "source": [
    "diff = (l2 - y_train[:, None]) "
   ]
  },
  {
   "cell_type": "markdown",
   "id": "89dfb363",
   "metadata": {},
   "source": [
    "#### Derivative of `mse_loss` with respect to `l2`"
   ]
  },
  {
   "cell_type": "code",
   "execution_count": null,
   "id": "570b1ffc",
   "metadata": {},
   "outputs": [],
   "source": [
    "l2.grad = 2 * diff / l2.shape[0] "
   ]
  },
  {
   "cell_type": "markdown",
   "id": "a1fd81fe",
   "metadata": {},
   "source": [
    "#### Derivative of `l2` with respect to `l1`"
   ]
  },
  {
   "cell_type": "code",
   "execution_count": null,
   "id": "0c2eb581",
   "metadata": {},
   "outputs": [
    {
     "data": {
      "text/plain": [
       "torch.Size([60000, 1])"
      ]
     },
     "execution_count": null,
     "metadata": {},
     "output_type": "execute_result"
    }
   ],
   "source": [
    "l2.grad.shape"
   ]
  },
  {
   "cell_type": "code",
   "execution_count": null,
   "id": "cc0d1632",
   "metadata": {},
   "outputs": [
    {
     "data": {
      "text/plain": [
       "torch.Size([50, 1])"
      ]
     },
     "execution_count": null,
     "metadata": {},
     "output_type": "execute_result"
    }
   ],
   "source": [
    "w2.shape"
   ]
  },
  {
   "cell_type": "code",
   "execution_count": null,
   "id": "3e673893",
   "metadata": {},
   "outputs": [
    {
     "data": {
      "text/plain": [
       "torch.Size([60000, 50])"
      ]
     },
     "execution_count": null,
     "metadata": {},
     "output_type": "execute_result"
    }
   ],
   "source": [
    "l1.shape"
   ]
  },
  {
   "cell_type": "code",
   "execution_count": null,
   "id": "f6ace870",
   "metadata": {},
   "outputs": [],
   "source": [
    "l1.grad = l2.grad @ w2.T"
   ]
  },
  {
   "cell_type": "code",
   "execution_count": null,
   "id": "d14c0252",
   "metadata": {},
   "outputs": [
    {
     "data": {
      "text/plain": [
       "torch.Size([60000, 50])"
      ]
     },
     "execution_count": null,
     "metadata": {},
     "output_type": "execute_result"
    }
   ],
   "source": [
    "l1.grad.shape"
   ]
  },
  {
   "cell_type": "markdown",
   "id": "616b0892",
   "metadata": {},
   "source": [
    "#### Derivative of `l2` with respect to `w2`"
   ]
  },
  {
   "cell_type": "code",
   "execution_count": null,
   "id": "8f37582b",
   "metadata": {},
   "outputs": [
    {
     "data": {
      "text/plain": [
       "torch.Size([50, 1])"
      ]
     },
     "execution_count": null,
     "metadata": {},
     "output_type": "execute_result"
    }
   ],
   "source": [
    "w2.shape"
   ]
  },
  {
   "cell_type": "code",
   "execution_count": null,
   "id": "56fedb2d",
   "metadata": {},
   "outputs": [
    {
     "data": {
      "text/plain": [
       "torch.Size([60000, 50])"
      ]
     },
     "execution_count": null,
     "metadata": {},
     "output_type": "execute_result"
    }
   ],
   "source": [
    "l1.shape"
   ]
  },
  {
   "cell_type": "code",
   "execution_count": null,
   "id": "3bd566cc",
   "metadata": {},
   "outputs": [
    {
     "data": {
      "text/plain": [
       "torch.Size([60000, 1])"
      ]
     },
     "execution_count": null,
     "metadata": {},
     "output_type": "execute_result"
    }
   ],
   "source": [
    "l2.grad.shape"
   ]
  },
  {
   "cell_type": "code",
   "execution_count": null,
   "id": "abf78695",
   "metadata": {},
   "outputs": [],
   "source": [
    "w2.grad = l1.T @ l2.grad"
   ]
  },
  {
   "cell_type": "code",
   "execution_count": null,
   "id": "bd12e630",
   "metadata": {},
   "outputs": [
    {
     "data": {
      "text/plain": [
       "torch.Size([50, 1])"
      ]
     },
     "execution_count": null,
     "metadata": {},
     "output_type": "execute_result"
    }
   ],
   "source": [
    "w2.grad.shape"
   ]
  },
  {
   "cell_type": "markdown",
   "id": "acf7f6ce",
   "metadata": {},
   "source": [
    "#### Derivative of `l2` with respect to `b2`"
   ]
  },
  {
   "cell_type": "code",
   "execution_count": null,
   "id": "faed9b01",
   "metadata": {},
   "outputs": [
    {
     "data": {
      "text/plain": [
       "torch.Size([1])"
      ]
     },
     "execution_count": null,
     "metadata": {},
     "output_type": "execute_result"
    }
   ],
   "source": [
    "b2.shape"
   ]
  },
  {
   "cell_type": "code",
   "execution_count": null,
   "id": "7d58e841",
   "metadata": {},
   "outputs": [
    {
     "data": {
      "text/plain": [
       "torch.Size([60000, 1])"
      ]
     },
     "execution_count": null,
     "metadata": {},
     "output_type": "execute_result"
    }
   ],
   "source": [
    "l2.grad.shape"
   ]
  },
  {
   "cell_type": "code",
   "execution_count": null,
   "id": "b83993e3",
   "metadata": {},
   "outputs": [],
   "source": [
    "b2.grad = l2.grad.sum(0)"
   ]
  },
  {
   "cell_type": "markdown",
   "id": "22bb4de2",
   "metadata": {},
   "source": [
    "## Forward and backward pass"
   ]
  },
  {
   "cell_type": "code",
   "execution_count": null,
   "id": "150b4500",
   "metadata": {},
   "outputs": [],
   "source": [
    "def forward_backward_pass(x_train, y_train, params):\n",
    "    # forward pass\n",
    "    w1, b1, w2, b2 = params\n",
    "    l1 = x_train @ w1 + b1\n",
    "    torch.min_clamp\n",
    "    l2 =  l1 @ w2 + b2\n",
    "    loss = msed_loss( l2, y_train )\n",
    "    \n",
    "    # backward pass\n",
    "    diff = ( l2 - y_train[:, None] )\n",
    "    l2.grad = 2 * diff / l2.shape[0]\n",
    "    l1.grad = l2.grad @ w2.T\n",
    "    w2.grad = \n",
    "    \n",
    "    \n",
    "    \n"
   ]
  }
 ],
 "metadata": {
  "kernelspec": {
   "display_name": "fastai",
   "language": "python",
   "name": "fastai"
  }
 },
 "nbformat": 4,
 "nbformat_minor": 5
}
