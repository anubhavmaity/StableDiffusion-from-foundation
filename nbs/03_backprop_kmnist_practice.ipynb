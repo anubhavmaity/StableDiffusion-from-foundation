{
 "cells": [
  {
   "cell_type": "markdown",
   "id": "aa078122",
   "metadata": {},
   "source": [
    "# Backprop KMNIST Practice\n",
    "> Without peeking"
   ]
  },
  {
   "cell_type": "code",
   "execution_count": null,
   "id": "53e4fa31",
   "metadata": {},
   "outputs": [
    {
     "name": "stderr",
     "output_type": "stream",
     "text": [
      "/Users/anubhavmaity/mambaforge/envs/fastai/lib/python3.9/site-packages/tqdm/auto.py:22: TqdmWarning: IProgress not found. Please update jupyter and ipywidgets. See https://ipywidgets.readthedocs.io/en/stable/user_install.html\n",
      "  from .autonotebook import tqdm as notebook_tqdm\n"
     ]
    }
   ],
   "source": [
    "import numpy as np\n",
    "import torch\n",
    "import torchvision\n",
    "from matplotlib import pyplot\n",
    "from matplotlib.pyplot import plot as plt\n",
    "from fastcore.all import test_close, test_eq"
   ]
  },
  {
   "cell_type": "code",
   "execution_count": null,
   "id": "43cf80a6",
   "metadata": {},
   "outputs": [
    {
     "data": {
      "text/plain": [
       "<torch._C.Generator>"
      ]
     },
     "execution_count": null,
     "metadata": {},
     "output_type": "execute_result"
    }
   ],
   "source": [
    "torch.manual_seed(42)"
   ]
  },
  {
   "cell_type": "markdown",
   "id": "7fa86d1c",
   "metadata": {},
   "source": [
    "## Download KMNIST Dataset"
   ]
  },
  {
   "cell_type": "code",
   "execution_count": null,
   "id": "63c0bcad",
   "metadata": {},
   "outputs": [
    {
     "name": "stderr",
     "output_type": "stream",
     "text": [
      "/Users/anubhavmaity/mambaforge/envs/fastai/lib/python3.9/site-packages/torchvision/datasets/mnist.py:75: UserWarning: train_data has been renamed data\n",
      "  warnings.warn(\"train_data has been renamed data\")\n",
      "/Users/anubhavmaity/mambaforge/envs/fastai/lib/python3.9/site-packages/torchvision/datasets/mnist.py:65: UserWarning: train_labels has been renamed targets\n",
      "  warnings.warn(\"train_labels has been renamed targets\")\n",
      "/Users/anubhavmaity/mambaforge/envs/fastai/lib/python3.9/site-packages/torchvision/datasets/mnist.py:80: UserWarning: test_data has been renamed data\n",
      "  warnings.warn(\"test_data has been renamed data\")\n",
      "/Users/anubhavmaity/mambaforge/envs/fastai/lib/python3.9/site-packages/torchvision/datasets/mnist.py:70: UserWarning: test_labels has been renamed targets\n",
      "  warnings.warn(\"test_labels has been renamed targets\")\n"
     ]
    }
   ],
   "source": [
    "data_train = torchvision.datasets.KMNIST(root='data', download=True)\n",
    "x_train, y_train = data_train.train_data, data_train.train_labels\n",
    "\n",
    "data_test = torchvision.datasets.KMNIST(root='data', train=False, download=True)\n",
    "x_test, y_test = data_test.test_data, data_test.test_labels"
   ]
  },
  {
   "cell_type": "code",
   "execution_count": null,
   "id": "a0e90506",
   "metadata": {},
   "outputs": [
    {
     "data": {
      "text/plain": [
       "<matplotlib.image.AxesImage>"
      ]
     },
     "execution_count": null,
     "metadata": {},
     "output_type": "execute_result"
    },
    {
     "data": {
      "image/png": "[encoded data removed]",
      "text/plain": [
       "<Figure size 640x480 with 1 Axes>"
      ]
     },
     "metadata": {},
     "output_type": "display_data"
    }
   ],
   "source": [
    "pyplot.imshow(x_test[0])"
   ]
  },
  {
   "cell_type": "markdown",
   "id": "2d0aa742",
   "metadata": {},
   "source": [
    "## KMNIST Data Analysis and Processing"
   ]
  },
  {
   "cell_type": "code",
   "execution_count": null,
   "id": "14f7b45b",
   "metadata": {},
   "outputs": [
    {
     "data": {
      "text/plain": [
       "(torch.Size([60000, 28, 28]),\n",
       " torch.Size([60000]),\n",
       " torch.Size([10000, 28, 28]),\n",
       " torch.Size([10000]))"
      ]
     },
     "execution_count": null,
     "metadata": {},
     "output_type": "execute_result"
    }
   ],
   "source": [
    "x_train.shape, y_train.shape, x_test.shape, y_test.shape"
   ]
  },
  {
   "cell_type": "markdown",
   "id": "8f214664",
   "metadata": {},
   "source": [
    "Flatten the `x_train` and `x_test`. Convert them to floating points"
   ]
  },
  {
   "cell_type": "code",
   "execution_count": null,
   "id": "0a11debd",
   "metadata": {},
   "outputs": [],
   "source": [
    "x_train, x_test = x_train.flatten(1) / 255., x_test.flatten(1) / 255."
   ]
  },
  {
   "cell_type": "code",
   "execution_count": null,
   "id": "e9e2c511",
   "metadata": {},
   "outputs": [
    {
     "data": {
      "text/plain": [
       "(torch.Size([60000, 784]), torch.Size([10000, 784]))"
      ]
     },
     "execution_count": null,
     "metadata": {},
     "output_type": "execute_result"
    }
   ],
   "source": [
    "x_train.shape, x_test.shape"
   ]
  },
  {
   "cell_type": "code",
   "execution_count": null,
   "id": "257cc2d7",
   "metadata": {},
   "outputs": [
    {
     "data": {
      "text/plain": [
       "(60000, 10)"
      ]
     },
     "execution_count": null,
     "metadata": {},
     "output_type": "execute_result"
    }
   ],
   "source": [
    "n = y_train.shape[0]\n",
    "c = y_train.max().numpy() + 1\n",
    "nh = 50 # number of hidden layers\n",
    "n, c"
   ]
  },
  {
   "cell_type": "markdown",
   "id": "82f22bac",
   "metadata": {},
   "source": [
    "## Weights & Biases"
   ]
  },
  {
   "cell_type": "code",
   "execution_count": null,
   "id": "8b8371f9",
   "metadata": {},
   "outputs": [],
   "source": [
    "w1 = torch.randn(x_train.shape[1], nh)\n",
    "b1 = torch.zeros(nh)\n",
    "w2 = torch.randn(nh, 1)\n",
    "b2 = torch.zeros(1)"
   ]
  },
  {
   "cell_type": "code",
   "execution_count": null,
   "id": "a7571817",
   "metadata": {},
   "outputs": [
    {
     "data": {
      "text/plain": [
       "(torch.Size([784, 50]), torch.Size([50]), torch.Size([50, 1]), torch.Size([1]))"
      ]
     },
     "execution_count": null,
     "metadata": {},
     "output_type": "execute_result"
    }
   ],
   "source": [
    "w1.shape, b1.shape, w2.shape, b2.shape"
   ]
  },
  {
   "cell_type": "markdown",
   "id": "10faeb7c",
   "metadata": {},
   "source": [
    "## Forward Pass"
   ]
  },
  {
   "cell_type": "code",
   "execution_count": null,
   "id": "5db84682",
   "metadata": {},
   "outputs": [],
   "source": [
    "def forward_pass(x_train, params):\n",
    "    w1, b1, w2, b2 = params\n",
    "    output_1 = x_train @ w1 + b1 # first linear layer\n",
    "    output_2 = torch.clamp(output_1, min=0) # relu layer\n",
    "    return output_2 @ w2 + b2 # second linear layer"
   ]
  },
  {
   "cell_type": "code",
   "execution_count": null,
   "id": "123c52c2",
   "metadata": {},
   "outputs": [],
   "source": [
    "params = w1, b1, w2, b2"
   ]
  },
  {
   "cell_type": "code",
   "execution_count": null,
   "id": "53579cf3",
   "metadata": {},
   "outputs": [
    {
     "data": {
      "text/plain": [
       "torch.Size([60000, 1])"
      ]
     },
     "execution_count": null,
     "metadata": {},
     "output_type": "execute_result"
    }
   ],
   "source": [
    "y_pred = forward_pass(x_train, params)\n",
    "y_pred.shape"
   ]
  },
  {
   "cell_type": "markdown",
   "id": "8d54b4a3",
   "metadata": {},
   "source": [
    "## Loss: MSE"
   ]
  },
  {
   "cell_type": "code",
   "execution_count": null,
   "id": "7b03cfef",
   "metadata": {},
   "outputs": [
    {
     "data": {
      "text/plain": [
       "(torch.Size([60000]), torch.Size([60000, 1]))"
      ]
     },
     "execution_count": null,
     "metadata": {},
     "output_type": "execute_result"
    }
   ],
   "source": [
    "y_train.shape, y_pred.shape"
   ]
  },
  {
   "cell_type": "code",
   "execution_count": null,
   "id": "4787e126",
   "metadata": {},
   "outputs": [
    {
     "data": {
      "text/plain": [
       "tensor(4160.4277)"
      ]
     },
     "execution_count": null,
     "metadata": {},
     "output_type": "execute_result"
    }
   ],
   "source": [
    "( (y_pred - y_train[:, None]) **2 ).mean()"
   ]
  },
  {
   "cell_type": "code",
   "execution_count": null,
   "id": "c98ad872",
   "metadata": {},
   "outputs": [],
   "source": [
    "def mse_loss(y_pred, y_train):\n",
    "    return ( (y_pred - y_train[:, None]) **2 ).mean()"
   ]
  },
  {
   "cell_type": "markdown",
   "id": "912126bc",
   "metadata": {},
   "source": [
    "## Derivatives"
   ]
  },
  {
   "cell_type": "code",
   "execution_count": null,
   "id": "f4afe3bf",
   "metadata": {},
   "outputs": [],
   "source": [
    "l1 = x_train @ w1 + b1"
   ]
  },
  {
   "cell_type": "code",
   "execution_count": null,
   "id": "46efd866",
   "metadata": {},
   "outputs": [
    {
     "data": {
      "text/plain": [
       "torch.Size([60000, 50])"
      ]
     },
     "execution_count": null,
     "metadata": {},
     "output_type": "execute_result"
    }
   ],
   "source": [
    "l1.shape"
   ]
  },
  {
   "cell_type": "code",
   "execution_count": null,
   "id": "f7c0fabb",
   "metadata": {},
   "outputs": [],
   "source": [
    "l2 = torch.clamp(l1, min=0)"
   ]
  },
  {
   "cell_type": "code",
   "execution_count": null,
   "id": "4c15ef38",
   "metadata": {},
   "outputs": [
    {
     "data": {
      "text/plain": [
       "torch.Size([60000, 50])"
      ]
     },
     "execution_count": null,
     "metadata": {},
     "output_type": "execute_result"
    }
   ],
   "source": [
    "l2.shape"
   ]
  },
  {
   "cell_type": "code",
   "execution_count": null,
   "id": "b09f908a",
   "metadata": {},
   "outputs": [],
   "source": [
    "l3 = l2 @ w2 + b2"
   ]
  },
  {
   "cell_type": "code",
   "execution_count": null,
   "id": "2e3b45ee",
   "metadata": {},
   "outputs": [
    {
     "data": {
      "text/plain": [
       "torch.Size([60000, 1])"
      ]
     },
     "execution_count": null,
     "metadata": {},
     "output_type": "execute_result"
    }
   ],
   "source": [
    "l3.shape"
   ]
  },
  {
   "cell_type": "code",
   "execution_count": null,
   "id": "6708dee0",
   "metadata": {},
   "outputs": [],
   "source": [
    "diff = (l3 - y_train[:, None]) "
   ]
  },
  {
   "cell_type": "markdown",
   "id": "89dfb363",
   "metadata": {},
   "source": [
    "#### Derivative of `mse_loss` with respect to `l3`"
   ]
  },
  {
   "cell_type": "code",
   "execution_count": null,
   "id": "570b1ffc",
   "metadata": {},
   "outputs": [],
   "source": [
    "l3.g = 2 * diff / l3.shape[0] "
   ]
  },
  {
   "cell_type": "code",
   "execution_count": null,
   "id": "73ebaba7",
   "metadata": {},
   "outputs": [],
   "source": [
    "assert l3.g.shape == l3.shape"
   ]
  },
  {
   "cell_type": "markdown",
   "id": "a1fd81fe",
   "metadata": {},
   "source": [
    "#### Derivative of `loss` with respect to `l2`"
   ]
  },
  {
   "cell_type": "code",
   "execution_count": null,
   "id": "0c2eb581",
   "metadata": {},
   "outputs": [
    {
     "data": {
      "text/plain": [
       "torch.Size([60000, 1])"
      ]
     },
     "execution_count": null,
     "metadata": {},
     "output_type": "execute_result"
    }
   ],
   "source": [
    "l3.g.shape"
   ]
  },
  {
   "cell_type": "code",
   "execution_count": null,
   "id": "cc0d1632",
   "metadata": {},
   "outputs": [
    {
     "data": {
      "text/plain": [
       "torch.Size([50, 1])"
      ]
     },
     "execution_count": null,
     "metadata": {},
     "output_type": "execute_result"
    }
   ],
   "source": [
    "w2.shape"
   ]
  },
  {
   "cell_type": "code",
   "execution_count": null,
   "id": "3e673893",
   "metadata": {},
   "outputs": [
    {
     "data": {
      "text/plain": [
       "torch.Size([60000, 50])"
      ]
     },
     "execution_count": null,
     "metadata": {},
     "output_type": "execute_result"
    }
   ],
   "source": [
    "l2.shape"
   ]
  },
  {
   "cell_type": "code",
   "execution_count": null,
   "id": "f6ace870",
   "metadata": {},
   "outputs": [],
   "source": [
    "l2.g = l3.g @ w2.T"
   ]
  },
  {
   "cell_type": "code",
   "execution_count": null,
   "id": "d14c0252",
   "metadata": {},
   "outputs": [],
   "source": [
    "assert l2.g.shape == l2.shape"
   ]
  },
  {
   "cell_type": "markdown",
   "id": "616b0892",
   "metadata": {},
   "source": [
    "#### Derivative of `loss` with respect to `w2`"
   ]
  },
  {
   "cell_type": "code",
   "execution_count": null,
   "id": "8f37582b",
   "metadata": {},
   "outputs": [
    {
     "data": {
      "text/plain": [
       "torch.Size([50, 1])"
      ]
     },
     "execution_count": null,
     "metadata": {},
     "output_type": "execute_result"
    }
   ],
   "source": [
    "w2.shape"
   ]
  },
  {
   "cell_type": "code",
   "execution_count": null,
   "id": "56fedb2d",
   "metadata": {},
   "outputs": [
    {
     "data": {
      "text/plain": [
       "torch.Size([60000, 50])"
      ]
     },
     "execution_count": null,
     "metadata": {},
     "output_type": "execute_result"
    }
   ],
   "source": [
    "l1.shape"
   ]
  },
  {
   "cell_type": "code",
   "execution_count": null,
   "id": "3bd566cc",
   "metadata": {},
   "outputs": [
    {
     "data": {
      "text/plain": [
       "torch.Size([60000, 50])"
      ]
     },
     "execution_count": null,
     "metadata": {},
     "output_type": "execute_result"
    }
   ],
   "source": [
    "l2.g.shape"
   ]
  },
  {
   "cell_type": "code",
   "execution_count": null,
   "id": "abf78695",
   "metadata": {},
   "outputs": [],
   "source": [
    "w2.g = l2.T @ l3.g"
   ]
  },
  {
   "cell_type": "code",
   "execution_count": null,
   "id": "bd12e630",
   "metadata": {},
   "outputs": [],
   "source": [
    "assert w2.g.shape == w2.shape"
   ]
  },
  {
   "cell_type": "markdown",
   "id": "acf7f6ce",
   "metadata": {},
   "source": [
    "#### Derivative of `loss` with respect to `b2`"
   ]
  },
  {
   "cell_type": "code",
   "execution_count": null,
   "id": "faed9b01",
   "metadata": {},
   "outputs": [
    {
     "data": {
      "text/plain": [
       "torch.Size([1])"
      ]
     },
     "execution_count": null,
     "metadata": {},
     "output_type": "execute_result"
    }
   ],
   "source": [
    "b2.shape"
   ]
  },
  {
   "cell_type": "code",
   "execution_count": null,
   "id": "7d58e841",
   "metadata": {},
   "outputs": [
    {
     "data": {
      "text/plain": [
       "torch.Size([60000, 1])"
      ]
     },
     "execution_count": null,
     "metadata": {},
     "output_type": "execute_result"
    }
   ],
   "source": [
    "l3.g.shape"
   ]
  },
  {
   "cell_type": "code",
   "execution_count": null,
   "id": "b83993e3",
   "metadata": {},
   "outputs": [],
   "source": [
    "b2.g = l3.g.sum(0)"
   ]
  },
  {
   "cell_type": "code",
   "execution_count": null,
   "id": "cc33234f",
   "metadata": {},
   "outputs": [],
   "source": [
    "assert b2.g.shape == b2.shape"
   ]
  },
  {
   "cell_type": "markdown",
   "id": "2a7cd066",
   "metadata": {},
   "source": [
    "#### Derivative of `loss` with respect to `l1`"
   ]
  },
  {
   "cell_type": "code",
   "execution_count": null,
   "id": "8adf859c",
   "metadata": {},
   "outputs": [
    {
     "data": {
      "text/plain": [
       "torch.Size([60000, 50])"
      ]
     },
     "execution_count": null,
     "metadata": {},
     "output_type": "execute_result"
    }
   ],
   "source": [
    "l2.g.shape"
   ]
  },
  {
   "cell_type": "code",
   "execution_count": null,
   "id": "43e487cd",
   "metadata": {},
   "outputs": [
    {
     "data": {
      "text/plain": [
       "torch.Size([60000, 50])"
      ]
     },
     "execution_count": null,
     "metadata": {},
     "output_type": "execute_result"
    }
   ],
   "source": [
    "l1.shape"
   ]
  },
  {
   "cell_type": "code",
   "execution_count": null,
   "id": "d02aef19",
   "metadata": {},
   "outputs": [],
   "source": [
    "l1.g = (l1 > 0).float() * l2.g"
   ]
  },
  {
   "cell_type": "code",
   "execution_count": null,
   "id": "389cb670",
   "metadata": {},
   "outputs": [],
   "source": [
    "assert l1.g.shape == l1.shape"
   ]
  },
  {
   "cell_type": "markdown",
   "id": "7928777d",
   "metadata": {},
   "source": [
    "#### Derivative of `loss` with respect to `w1`"
   ]
  },
  {
   "cell_type": "code",
   "execution_count": null,
   "id": "76f40100",
   "metadata": {},
   "outputs": [
    {
     "data": {
      "text/plain": [
       "torch.Size([784, 50])"
      ]
     },
     "execution_count": null,
     "metadata": {},
     "output_type": "execute_result"
    }
   ],
   "source": [
    "w1.shape"
   ]
  },
  {
   "cell_type": "code",
   "execution_count": null,
   "id": "27a6bd6a",
   "metadata": {},
   "outputs": [
    {
     "data": {
      "text/plain": [
       "torch.Size([60000, 784])"
      ]
     },
     "execution_count": null,
     "metadata": {},
     "output_type": "execute_result"
    }
   ],
   "source": [
    "x_train.shape"
   ]
  },
  {
   "cell_type": "code",
   "execution_count": null,
   "id": "56ee14b4",
   "metadata": {},
   "outputs": [
    {
     "data": {
      "text/plain": [
       "torch.Size([60000, 50])"
      ]
     },
     "execution_count": null,
     "metadata": {},
     "output_type": "execute_result"
    }
   ],
   "source": [
    "l1.g.shape"
   ]
  },
  {
   "cell_type": "code",
   "execution_count": null,
   "id": "c090f8dd",
   "metadata": {},
   "outputs": [],
   "source": [
    "w1.g = x_train.T @ l1.g"
   ]
  },
  {
   "cell_type": "code",
   "execution_count": null,
   "id": "766ce8f1",
   "metadata": {},
   "outputs": [],
   "source": [
    "assert w1.shape == w1.g.shape"
   ]
  },
  {
   "cell_type": "markdown",
   "id": "aceff7d5",
   "metadata": {},
   "source": [
    "#### Derivative of `loss` with respect to `x_train`\n"
   ]
  },
  {
   "cell_type": "code",
   "execution_count": null,
   "id": "ab163d68",
   "metadata": {},
   "outputs": [
    {
     "data": {
      "text/plain": [
       "torch.Size([60000, 784])"
      ]
     },
     "execution_count": null,
     "metadata": {},
     "output_type": "execute_result"
    }
   ],
   "source": [
    "x_train.shape"
   ]
  },
  {
   "cell_type": "code",
   "execution_count": null,
   "id": "01eacac8",
   "metadata": {},
   "outputs": [
    {
     "data": {
      "text/plain": [
       "torch.Size([60000, 50])"
      ]
     },
     "execution_count": null,
     "metadata": {},
     "output_type": "execute_result"
    }
   ],
   "source": [
    "l1.g.shape"
   ]
  },
  {
   "cell_type": "code",
   "execution_count": null,
   "id": "fe42a210",
   "metadata": {},
   "outputs": [
    {
     "data": {
      "text/plain": [
       "torch.Size([784, 50])"
      ]
     },
     "execution_count": null,
     "metadata": {},
     "output_type": "execute_result"
    }
   ],
   "source": [
    "w1.shape"
   ]
  },
  {
   "cell_type": "code",
   "execution_count": null,
   "id": "471e77ec",
   "metadata": {},
   "outputs": [],
   "source": [
    "x_train.g = l1.g @ w1.T"
   ]
  },
  {
   "cell_type": "code",
   "execution_count": null,
   "id": "4eba9b5d",
   "metadata": {},
   "outputs": [],
   "source": [
    "assert x_train.g.shape == x_train.shape"
   ]
  },
  {
   "cell_type": "markdown",
   "id": "175605db",
   "metadata": {},
   "source": [
    "#### Derivative of `loss` with respect to `b1`"
   ]
  },
  {
   "cell_type": "code",
   "execution_count": null,
   "id": "cdb21754",
   "metadata": {},
   "outputs": [
    {
     "data": {
      "text/plain": [
       "torch.Size([50])"
      ]
     },
     "execution_count": null,
     "metadata": {},
     "output_type": "execute_result"
    }
   ],
   "source": [
    "b1.shape"
   ]
  },
  {
   "cell_type": "code",
   "execution_count": null,
   "id": "1a2a83cb",
   "metadata": {},
   "outputs": [
    {
     "data": {
      "text/plain": [
       "torch.Size([60000, 50])"
      ]
     },
     "execution_count": null,
     "metadata": {},
     "output_type": "execute_result"
    }
   ],
   "source": [
    "l1.g.shape"
   ]
  },
  {
   "cell_type": "code",
   "execution_count": null,
   "id": "ac2e8ae5",
   "metadata": {},
   "outputs": [],
   "source": [
    "b1.g = l1.g.sum(0)"
   ]
  },
  {
   "cell_type": "code",
   "execution_count": null,
   "id": "942ade1a",
   "metadata": {},
   "outputs": [],
   "source": [
    "assert b1.shape == b1.g.shape"
   ]
  },
  {
   "cell_type": "markdown",
   "id": "22bb4de2",
   "metadata": {},
   "source": [
    "## Forward and backward pass"
   ]
  },
  {
   "cell_type": "code",
   "execution_count": null,
   "id": "150b4500",
   "metadata": {},
   "outputs": [],
   "source": [
    "def forward_backward_pass(x_train, y_train, params):\n",
    "    # forward pass\n",
    "    w1, b1, w2, b2 = params\n",
    "    l1 = x_train @ w1 + b1\n",
    "    l2 = torch.clamp(l1, min=0)\n",
    "    l3 = l2 @ w2 + b2\n",
    "    loss = mse_loss( l3, y_train )\n",
    "    \n",
    "    # backward pass (refering to the above computation)\n",
    "    \n",
    "    ## derivative of loss with respect to l3\n",
    "    diff = ( l3 - y_train[:, None] )\n",
    "    l3.g = 2 * diff / l3.shape[0]\n",
    "    \n",
    "    \n",
    "    \n",
    "    ## derivative of 2nd linear layer\n",
    "    \n",
    "    ### derivative of loss with respect to l2\n",
    "    l2.g = l3.g @ w2.T\n",
    "    \n",
    "    ### derivative of loss with respect to w2\n",
    "    w2.g = l2.T @ l3.g\n",
    "    \n",
    "    ### derivative of loss with respect to b2\n",
    "    b2.g = l3.g.sum(0)\n",
    "    \n",
    "    \n",
    "    \n",
    "    ## derivative of relu layer\n",
    "    \n",
    "    ### derivative of loss with respect to l1 \n",
    "    l1.g = (l1 > 0).float() * l2.g\n",
    "    \n",
    "    \n",
    "    \n",
    "    ## derivative of 1st linear layer\n",
    "    \n",
    "    ### derivative of loss with respect to x_train\n",
    "    x_train.g = l1.g @ w1.T\n",
    "    \n",
    "    ### derivative of loss with respect to w1\n",
    "    w1.g = x_train.T @ l1.g\n",
    "    \n",
    "    ### derivative of loss with respect to b1\n",
    "    b1.g = l1.g.sum(0)\n",
    "    \n",
    "    return loss"
   ]
  },
  {
   "cell_type": "code",
   "execution_count": null,
   "id": "a3b0b407",
   "metadata": {},
   "outputs": [
    {
     "data": {
      "text/plain": [
       "tensor(4160.4277)"
      ]
     },
     "execution_count": null,
     "metadata": {},
     "output_type": "execute_result"
    }
   ],
   "source": [
    "forward_backward_pass(x_train, y_train, params)"
   ]
  },
  {
   "cell_type": "markdown",
   "id": "ec009ea3",
   "metadata": {},
   "source": [
    "### Refactor the gradient computation of linear layer"
   ]
  },
  {
   "cell_type": "code",
   "execution_count": null,
   "id": "8d672885",
   "metadata": {},
   "outputs": [],
   "source": [
    "def compute_linear_layer_gradients(inp, out, w, b):\n",
    "    # derivative of loss with respect to input\n",
    "    inp.g = out.g @ w.T\n",
    "    \n",
    "    # derivative of loss with respect to w\n",
    "    w.g = inp.T @ out.g\n",
    "    \n",
    "    # derivative of loss with respect to b\n",
    "    b.g = out.g.sum(0)"
   ]
  },
  {
   "cell_type": "code",
   "execution_count": null,
   "id": "0ca23098",
   "metadata": {},
   "outputs": [],
   "source": [
    "def forward_backward_pass(x_train, y_train, params):\n",
    "    # forward pass\n",
    "    w1, b1, w2, b2 = params\n",
    "    l1 = x_train @ w1 + b1\n",
    "    l2 = torch.clamp(l1, min=0)\n",
    "    l3 = l2 @ w2 + b2\n",
    "    loss = mse_loss(l3, y_train)\n",
    "    \n",
    "    # derivative of loss with respect to l3\n",
    "    diff = ( l3 - y_train[:, None] )\n",
    "    l3.g = 2 * diff / l3.shape[0]\n",
    "    \n",
    "    compute_linear_layer_gradients(l2, l3, w2, b2)\n",
    "    l1.g = (l1 > 0).float() * l2.g\n",
    "    compute_linear_layer_gradients(x_train, l1, w1, b1)\n",
    "    \n",
    "    return loss"
   ]
  },
  {
   "cell_type": "code",
   "execution_count": null,
   "id": "99ea522a",
   "metadata": {},
   "outputs": [],
   "source": [
    "w11, b11, w22, b22 = map(lambda x: x.clone(), params)"
   ]
  },
  {
   "cell_type": "code",
   "execution_count": null,
   "id": "2dcf3b08",
   "metadata": {},
   "outputs": [
    {
     "data": {
      "text/plain": [
       "tensor(4160.4277)"
      ]
     },
     "execution_count": null,
     "metadata": {},
     "output_type": "execute_result"
    }
   ],
   "source": [
    "forward_backward_pass(x_train, y_train, [w11, b11, w22, b22])"
   ]
  },
  {
   "cell_type": "code",
   "execution_count": null,
   "id": "a23ddd5c",
   "metadata": {},
   "outputs": [],
   "source": [
    "test_close(w1.g, w11.g)\n",
    "test_close(w2.g, w22.g)\n",
    "test_close(b1.g, b11.g)\n",
    "test_close(b2.g, b22.g)"
   ]
  },
  {
   "cell_type": "markdown",
   "id": "3e8b4ca4",
   "metadata": {},
   "source": [
    "### Refactor the Layers"
   ]
  },
  {
   "cell_type": "code",
   "execution_count": null,
   "id": "c2edee1d",
   "metadata": {},
   "outputs": [],
   "source": [
    "class Linear:\n",
    "    def __init__(self, w, b):\n",
    "        self.w = w\n",
    "        self.b = b\n",
    "    def __call__(self, inp):\n",
    "        self.inp = inp\n",
    "        self.out = self.inp @ self.w + self.b\n",
    "        return self.out\n",
    "    def backward(self):\n",
    "        self.inp.g = self.out.g @ self.w.T\n",
    "        self.w.g = self.inp.T @ self.out.g\n",
    "        self.b.g = self.out.g.sum(0)"
   ]
  },
  {
   "cell_type": "code",
   "execution_count": null,
   "id": "97c83802",
   "metadata": {},
   "outputs": [],
   "source": [
    "class Relu:\n",
    "    def __call__(self, inp):\n",
    "        self.inp = inp\n",
    "        self.out = torch.clamp(self.inp, min=0)\n",
    "        return self.out\n",
    "    def backward(self):\n",
    "        self.inp.g = (self.inp > 0).float() * self.out.g"
   ]
  },
  {
   "cell_type": "code",
   "execution_count": null,
   "id": "c867187f",
   "metadata": {},
   "outputs": [],
   "source": [
    "class MSE:\n",
    "    def __call__(self, inp, y_train):\n",
    "        self.inp = inp\n",
    "        self.diff = (inp - y_train[:, None])\n",
    "        return ( diff ** 2 ).mean()\n",
    "    def backward(self):\n",
    "        self.inp.g = 2 * self.diff / self.inp.shape[0]      "
   ]
  },
  {
   "cell_type": "code",
   "execution_count": null,
   "id": "2facdcee",
   "metadata": {},
   "outputs": [],
   "source": [
    "class Model:\n",
    "    def __init__(self, w1, b1, w2, b2):\n",
    "        self.layers = [Linear(w1, b1), Relu(), Linear(w2, b2)]\n",
    "        self.loss = MSE()\n",
    "        \n",
    "    def __call__(self, x, y):\n",
    "        for layer in self.layers: x = layer(x)\n",
    "        return self.loss(x, y)\n",
    "        \n",
    "    def backward(self):\n",
    "        self.loss.backward()\n",
    "        for layer in reversed(self.layers): layer.backward()"
   ]
  },
  {
   "cell_type": "code",
   "execution_count": null,
   "id": "61571977",
   "metadata": {},
   "outputs": [],
   "source": [
    "w111, b111, w222, b222 = map(lambda x: x.clone(), [w1, b1, w2, b2])"
   ]
  },
  {
   "cell_type": "code",
   "execution_count": null,
   "id": "89153d83",
   "metadata": {},
   "outputs": [],
   "source": [
    "m = Model(w111, b111, w222, b222)"
   ]
  },
  {
   "cell_type": "code",
   "execution_count": null,
   "id": "bf3d79dd",
   "metadata": {},
   "outputs": [
    {
     "data": {
      "text/plain": [
       "tensor(4160.4277)"
      ]
     },
     "execution_count": null,
     "metadata": {},
     "output_type": "execute_result"
    }
   ],
   "source": [
    "m(x_train, y_train)"
   ]
  },
  {
   "cell_type": "code",
   "execution_count": null,
   "id": "b9acb058",
   "metadata": {},
   "outputs": [],
   "source": [
    "m.backward()"
   ]
  },
  {
   "cell_type": "code",
   "execution_count": null,
   "id": "e62bb9c2",
   "metadata": {},
   "outputs": [],
   "source": [
    "test_close(w111.g, w1.g)\n",
    "test_close(b111.g, b1.g)\n",
    "test_close(w222.g, w2.g)\n",
    "test_close(b222.g, b2.g)"
   ]
  },
  {
   "cell_type": "markdown",
   "id": "a973ffa8",
   "metadata": {},
   "source": [
    "### Refactor the layers further"
   ]
  },
  {
   "cell_type": "code",
   "execution_count": null,
   "id": "f974752e",
   "metadata": {},
   "outputs": [],
   "source": [
    "class Module:\n",
    "    def __call__(self, *args):\n",
    "        self.args = args\n",
    "        self.out = self.forward(*self.args)\n",
    "        return self.out\n",
    "    def forward(self, inp, *args): raise Exception(\"Not implemented\")\n",
    "    def backward(self): self.bwd(self.out, *self.args)\n",
    "    def bwd(self): raise Exception(\"Not implemented\")"
   ]
  },
  {
   "cell_type": "code",
   "execution_count": null,
   "id": "498c4fe3",
   "metadata": {},
   "outputs": [],
   "source": [
    "class Linear(Module):\n",
    "    def __init__(self, w, b):\n",
    "        self.w = w\n",
    "        self.b = b\n",
    "    def forward(self, inp):\n",
    "        return inp @ self.w + self.b\n",
    "    def bwd(self, out, inp):\n",
    "        inp.g = out.g @ self.w.T\n",
    "        self.w.g = inp.T @ out.g\n",
    "        self.b.g = out.g.sum(0)"
   ]
  },
  {
   "cell_type": "code",
   "execution_count": null,
   "id": "f7c1492b",
   "metadata": {},
   "outputs": [],
   "source": [
    "class Relu(Module):\n",
    "    def forward(self, inp): return inp.clamp_min(0.)\n",
    "    def bwd(self, out, inp): inp.g = (inp > 0).float() * out.g"
   ]
  },
  {
   "cell_type": "code",
   "execution_count": null,
   "id": "78d40bd8",
   "metadata": {},
   "outputs": [],
   "source": [
    "class Mse(Module):\n",
    "    def forward(self, inp, targ): \n",
    "        return ( (inp - targ[:, None])**2 ).mean()\n",
    "    def bwd(self, out, inp, targ):\n",
    "        inp.g = ( 2 * (inp - targ[:, None]) ) / inp.shape[0]"
   ]
  },
  {
   "cell_type": "code",
   "execution_count": null,
   "id": "75c800fe",
   "metadata": {},
   "outputs": [],
   "source": [
    "class Model(Module):\n",
    "    def __init__(self, w1, b1, w2, b2):\n",
    "        self.layers = [Linear(w1, b1), Relu(), Linear(w2, b2)]\n",
    "        self.loss = Mse()\n",
    "    def forward(self, x, y):\n",
    "        for layer in self.layers: x = layer(x)\n",
    "        return self.loss(x, y)\n",
    "    def backward(self):\n",
    "        self.loss.backward()\n",
    "        for layer in reversed(self.layers): layer.backward()"
   ]
  },
  {
   "cell_type": "code",
   "execution_count": null,
   "id": "bdfaac5b",
   "metadata": {},
   "outputs": [],
   "source": [
    "w1r, b1r, w2r, b2r = map(lambda x: x.clone(), [w1, b1, w2, b2])"
   ]
  },
  {
   "cell_type": "code",
   "execution_count": null,
   "id": "785900b9",
   "metadata": {},
   "outputs": [],
   "source": [
    "m = Model(w1r, b1r, w2r, b2r)"
   ]
  },
  {
   "cell_type": "code",
   "execution_count": null,
   "id": "e8482447",
   "metadata": {},
   "outputs": [
    {
     "data": {
      "text/plain": [
       "tensor(4160.4277)"
      ]
     },
     "execution_count": null,
     "metadata": {},
     "output_type": "execute_result"
    }
   ],
   "source": [
    "m(x_train, y_train)"
   ]
  },
  {
   "cell_type": "code",
   "execution_count": null,
   "id": "a9d240e9",
   "metadata": {},
   "outputs": [],
   "source": [
    "m.backward()"
   ]
  },
  {
   "cell_type": "code",
   "execution_count": null,
   "id": "3531821f",
   "metadata": {},
   "outputs": [],
   "source": [
    "test_close(w1r.g, w1.g)\n",
    "test_close(w2r.g, w2.g)\n",
    "test_close(b1r.g, b1.g)\n",
    "test_close(b2r.g, b2.g)"
   ]
  },
  {
   "cell_type": "markdown",
   "id": "d336203d",
   "metadata": {},
   "source": [
    "### Autograd"
   ]
  },
  {
   "cell_type": "code",
   "execution_count": null,
   "id": "047fb2bb",
   "metadata": {},
   "outputs": [],
   "source": [
    "from torch import nn\n",
    "from torch.nn import functional as F"
   ]
  },
  {
   "cell_type": "code",
   "execution_count": null,
   "id": "55282bf3",
   "metadata": {},
   "outputs": [],
   "source": [
    "loss1 = F.mse_loss(y_pred, y_train[:, None])"
   ]
  },
  {
   "cell_type": "code",
   "execution_count": null,
   "id": "8c49ec41",
   "metadata": {},
   "outputs": [],
   "source": [
    "loss2 = mse_loss(y_pred, y_train)"
   ]
  },
  {
   "cell_type": "code",
   "execution_count": null,
   "id": "0cda2233",
   "metadata": {},
   "outputs": [],
   "source": [
    "test_eq(loss1, loss2)"
   ]
  },
  {
   "cell_type": "code",
   "execution_count": null,
   "id": "3e609494",
   "metadata": {},
   "outputs": [],
   "source": [
    "class Linear(nn.Module):\n",
    "    def __init__(self, w, b):\n",
    "        super().__init__()\n",
    "        self.w = w.requires_grad_(True)\n",
    "        self.b = b.requires_grad_(True)\n",
    "    def forward(self, inp):\n",
    "        return inp @ self.w + self.b"
   ]
  },
  {
   "cell_type": "code",
   "execution_count": null,
   "id": "c8ef7565",
   "metadata": {},
   "outputs": [],
   "source": [
    "class Relu(nn.Module):\n",
    "    def __init__(self):\n",
    "        super().__init__()\n",
    "    def forward(self, inp):\n",
    "        return inp.clamp_min(0)"
   ]
  },
  {
   "cell_type": "code",
   "execution_count": null,
   "id": "8964cee6",
   "metadata": {},
   "outputs": [],
   "source": [
    "class Model(nn.Module):\n",
    "    def __init__(self, w1, b1, w2, b2):\n",
    "        super().__init__()\n",
    "        self.layers = [Linear(w1, b1), Relu(), Linear(w2, b2)]\n",
    "    def forward(self, inp, y):\n",
    "        for layer in self.layers: inp = layer(inp)\n",
    "        return F.mse_loss(inp, y[:, None])"
   ]
  },
  {
   "cell_type": "code",
   "execution_count": null,
   "id": "8a01103b",
   "metadata": {},
   "outputs": [],
   "source": [
    "w1t, b1t, w2t, b2t = map(lambda x: x.clone(), (w1, b1, w2, b2))"
   ]
  },
  {
   "cell_type": "code",
   "execution_count": null,
   "id": "10e8dad9",
   "metadata": {},
   "outputs": [],
   "source": [
    "m = Model(w1t, b1t, w2t, b2t)"
   ]
  },
  {
   "cell_type": "code",
   "execution_count": null,
   "id": "c82594ff",
   "metadata": {},
   "outputs": [],
   "source": [
    "loss = m(x_train, y_train.float())"
   ]
  },
  {
   "cell_type": "code",
   "execution_count": null,
   "id": "5c65b5ee",
   "metadata": {},
   "outputs": [],
   "source": [
    "loss.backward()"
   ]
  },
  {
   "cell_type": "code",
   "execution_count": null,
   "id": "620f66a4",
   "metadata": {},
   "outputs": [],
   "source": [
    "test_close(b2t.grad, b2.g)\n",
    "test_close(w2t.grad, w2.g, eps=0.01)\n",
    "test_close(b1t.grad, b1.g, eps=1e-1)\n",
    "test_close(w1t.grad, w1.g, eps=1e-1)"
   ]
  },
  {
   "cell_type": "code",
   "execution_count": null,
   "id": "0e616b4e",
   "metadata": {},
   "outputs": [],
   "source": []
  }
 ],
 "metadata": {
  "kernelspec": {
   "display_name": "fastai",
   "language": "python",
   "name": "fastai"
  }
 },
 "nbformat": 4,
 "nbformat_minor": 5
}
