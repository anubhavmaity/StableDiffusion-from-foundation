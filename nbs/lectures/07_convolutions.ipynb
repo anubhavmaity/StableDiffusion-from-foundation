{
 "cells": [
  {
   "cell_type": "code",
   "execution_count": null,
   "id": "4225c1e1",
   "metadata": {},
   "outputs": [],
   "source": [
    "#|default_exp conv"
   ]
  },
  {
   "cell_type": "markdown",
   "id": "ce8410c0",
   "metadata": {},
   "source": [
    "# Convolutions"
   ]
  },
  {
   "cell_type": "code",
   "execution_count": null,
   "id": "da4eb0ba",
   "metadata": {},
   "outputs": [
    {
     "name": "stderr",
     "output_type": "stream",
     "text": [
      "/Users/anubhavmaity/mambaforge/envs/fastai/lib/python3.9/site-packages/deeplake/util/check_latest_version.py:32: UserWarning: A newer version of deeplake (3.8.19) is available. It's recommended that you update to the latest version using `pip install -U deeplake`.\n",
      "  warnings.warn(\n"
     ]
    }
   ],
   "source": [
    "#|export\n",
    "import pickle, gzip, math, os, time, shutil, torch, matplotlib as mpl, numpy as np\n",
    "import pandas as pd\n",
    "import matplotlib.pyplot as plt\n",
    "from torch import nn\n",
    "import torch.nn.functional as F\n",
    "from pathlib import Path\n",
    "from torch import tensor\n",
    "from fastcore.test import test_close\n",
    "import deeplake\n",
    "from sklearn.model_selection import train_test_split\n",
    "\n",
    "from torch.utils.data import default_collate\n",
    "from collections import Counter\n",
    "from typing import Mapping\n",
    "\n",
    "from minai.training import *\n",
    "from minai.datasets import * \n",
    "\n",
    "torch.manual_seed(42)\n",
    "\n",
    "mpl.rcParams['image.cmap'] = 'gray'\n",
    "torch.set_printoptions(precision=2, linewidth=125, sci_mode=False)\n",
    "np.set_printoptions(precision=2, linewidth=125)\n",
    "\n",
    "ds = deeplake.load('hub://activeloop/not-mnist-small', read_only=True, verbose=False)\n",
    "\n",
    "images = ds.tensors['images'].numpy().reshape(-1, 784).astype('float32')\n",
    "labels = ds.tensors['labels'].numpy().squeeze(-1).astype('int')\n",
    "\n",
    "x_train, x_valid, y_train, y_valid = train_test_split(images, labels, test_size=0.2, random_state=1)\n",
    "x_train, y_train, x_valid, y_valid = map(tensor, (x_train, y_train, x_valid, y_valid))\n",
    "x_train, x_valid = x_train/255., x_valid/255."
   ]
  },
  {
   "cell_type": "markdown",
   "id": "eee5c64b",
   "metadata": {},
   "source": [
    "In the context of an image, a feature is a visually distinctive attribute. For example, the number 7 is characterized by a horizontal edge near the top of the digit, and a top-right to bottom left diagonal edge underneath that\n",
    "\n",
    "It turns out that finding the edges in an image is a very common tasks in computer vision, and is surprisingly straightforward. To do it, we use a convolution. A convolution requires nothing more than multiplication, and addition."
   ]
  },
  {
   "cell_type": "markdown",
   "id": "9f27b389",
   "metadata": {},
   "source": [
    "## Understanding the Convolution Equations"
   ]
  },
  {
   "cell_type": "markdown",
   "id": "96c6f2bd",
   "metadata": {},
   "source": [
    "To explain the math behind convolutions, fast.ai student Matt Kleinsmith came up with the very clever idea of showing CNNs from different viewpoints\n",
    "\n",
    "Here's the input:\n",
    "<p align=\"center\">\n",
    "  <img src=\"images/att_00032.png\" alt=\"Grid of 3 by 3 having cells with values A, B, C, D, E, F, G, H, I\">\n",
    "</p>\n",
    "\n",
    "\n",
    "Here's our kernel:\n",
    "<p align=\"center\">\n",
    "  <img src=\"images/att_00033.png\" alt=\"Grid of 2 by 2 having cells with values &alpha;, &beta;, &gamma;, &delta;\">\n",
    "</p>\n",
    "\n",
    "Since the filter fits in the image four times, we have four results:\n",
    "<p align=\"center\">\n",
    "  <img src=\"images/att_00034.png\" alt=\"Grid of 2 by 2 having cells with values P, Q, R, S\">\n",
    "</p>\n",
    "\n",
    "<p align=\"center\">\n",
    "  <img src=\"images/att_00035.png\" alt=\"&alpha;, &beta;, &gamma;, &delta; applied to A, B, D, E yields P\n",
    "                                       &alpha;, &beta;, &gamma;, &delta; applied to B, C, E, F yields Q\n",
    "                                       &alpha;, &beta;, &gamma;, &delta; applied to D, E, G, H yields R\n",
    "                                       &alpha;, &beta;, &gamma;, &delta; applied to E, F, H, J yields S\">\n",
    "</p>"
   ]
  },
  {
   "cell_type": "code",
   "execution_count": null,
   "id": "c8257604",
   "metadata": {},
   "outputs": [],
   "source": [
    "x_imgs = x_train.view(-1, 28, 28)\n",
    "xv_imgs = x_valid.view(-1, 28, 28)"
   ]
  },
  {
   "cell_type": "code",
   "execution_count": null,
   "id": "97e8ee81",
   "metadata": {},
   "outputs": [],
   "source": [
    "mpl.rcParams['figure.dpi'] = 30"
   ]
  },
  {
   "cell_type": "code",
   "execution_count": null,
   "id": "1a5f279a",
   "metadata": {},
   "outputs": [
    {
     "data": {
      "text/plain": [
       "torch.Size([28, 28])"
      ]
     },
     "execution_count": null,
     "metadata": {},
     "output_type": "execute_result"
    },
    {
     "data": {
      "image/png": "[encoded data removed]",
      "text/plain": [
       "<Figure size 192x144 with 1 Axes>"
      ]
     },
     "metadata": {},
     "output_type": "display_data"
    }
   ],
   "source": [
    "im3 = x_imgs[8]\n",
    "show_image(im3);\n",
    "im3.shape"
   ]
  },
  {
   "cell_type": "code",
   "execution_count": null,
   "id": "e01d2cf0",
   "metadata": {},
   "outputs": [],
   "source": [
    "top_edge = tensor([[-1, -1, -1],\n",
    "                   [0,   0,  0],\n",
    "                   [1,   1,  1]]).float()"
   ]
  },
  {
   "cell_type": "markdown",
   "id": "95f60ca3",
   "metadata": {},
   "source": [
    "We're going to call this our kernel(becase that's what fancy computer vision researchers call these.)"
   ]
  },
  {
   "cell_type": "code",
   "execution_count": null,
   "id": "df3277e6",
   "metadata": {},
   "outputs": [
    {
     "data": {
      "image/png": "[encoded data removed]",
      "text/plain": [
       "<Figure size 192x144 with 1 Axes>"
      ]
     },
     "metadata": {},
     "output_type": "display_data"
    }
   ],
   "source": [
    "show_image(top_edge, noframe=False);"
   ]
  },
  {
   "cell_type": "markdown",
   "id": "f4fe6652",
   "metadata": {},
   "source": [
    "The filter will take any window of 3X3 in our images, and if we name the pixel values like this:\n",
    "\n",
    "\\begin{matrix} a1 & a2 & a3 \\\\ a4 & a5 & a6 \\\\ a7 & a8 & a9 \\end{matrix}\n",
    "\n",
    "It will return $-a1-a2-a3+a7+a8+a9$"
   ]
  },
  {
   "cell_type": "code",
   "execution_count": null,
   "id": "d6bceede",
   "metadata": {},
   "outputs": [
    {
     "data": {
      "text/html": [
       "<style type=\"text/css\">\n",
       "#T_4a32b_row0_col0, #T_4a32b_row0_col1, #T_4a32b_row0_col2, #T_4a32b_row0_col4, #T_4a32b_row1_col0, #T_4a32b_row1_col1, #T_4a32b_row1_col2, #T_4a32b_row1_col3, #T_4a32b_row1_col5, #T_4a32b_row2_col0, #T_4a32b_row2_col1, #T_4a32b_row2_col2, #T_4a32b_row2_col3, #T_4a32b_row2_col4, #T_4a32b_row2_col6, #T_4a32b_row2_col15, #T_4a32b_row2_col17, #T_4a32b_row2_col18, #T_4a32b_row2_col19, #T_4a32b_row3_col0, #T_4a32b_row3_col1, #T_4a32b_row3_col2, #T_4a32b_row3_col3, #T_4a32b_row3_col4, #T_4a32b_row3_col6, #T_4a32b_row3_col7, #T_4a32b_row3_col14, #T_4a32b_row3_col19, #T_4a32b_row3_col21, #T_4a32b_row4_col0, #T_4a32b_row4_col1, #T_4a32b_row4_col2, #T_4a32b_row4_col3, #T_4a32b_row4_col4, #T_4a32b_row4_col5, #T_4a32b_row4_col6, #T_4a32b_row4_col14, #T_4a32b_row4_col16, #T_4a32b_row4_col17, #T_4a32b_row4_col18, #T_4a32b_row4_col19, #T_4a32b_row5_col0, #T_4a32b_row5_col1, #T_4a32b_row5_col2, #T_4a32b_row5_col3, #T_4a32b_row5_col5, #T_4a32b_row5_col14, #T_4a32b_row5_col16, #T_4a32b_row5_col17, #T_4a32b_row5_col18, #T_4a32b_row5_col19, #T_4a32b_row5_col20, #T_4a32b_row5_col21, #T_4a32b_row6_col0, #T_4a32b_row6_col1, #T_4a32b_row6_col2, #T_4a32b_row6_col3, #T_4a32b_row6_col5, #T_4a32b_row6_col14, #T_4a32b_row6_col16, #T_4a32b_row6_col17, #T_4a32b_row6_col18, #T_4a32b_row6_col19, #T_4a32b_row6_col20, #T_4a32b_row6_col21, #T_4a32b_row6_col22, #T_4a32b_row7_col0, #T_4a32b_row7_col1, #T_4a32b_row7_col2, #T_4a32b_row7_col3, #T_4a32b_row7_col5, #T_4a32b_row7_col13, #T_4a32b_row7_col15, #T_4a32b_row7_col16, #T_4a32b_row7_col17, #T_4a32b_row7_col18, #T_4a32b_row7_col19, #T_4a32b_row7_col20, #T_4a32b_row7_col21, #T_4a32b_row7_col22, #T_4a32b_row8_col0, #T_4a32b_row8_col1, #T_4a32b_row8_col2, #T_4a32b_row8_col3, #T_4a32b_row8_col5, #T_4a32b_row8_col8, #T_4a32b_row8_col13, #T_4a32b_row8_col15, #T_4a32b_row8_col16, #T_4a32b_row8_col17, #T_4a32b_row8_col18, #T_4a32b_row8_col19, #T_4a32b_row8_col20, #T_4a32b_row9_col0, #T_4a32b_row9_col1, #T_4a32b_row9_col2, #T_4a32b_row9_col4, #T_4a32b_row9_col13, #T_4a32b_row9_col15, #T_4a32b_row9_col16, #T_4a32b_row9_col17, #T_4a32b_row9_col21, #T_4a32b_row9_col22, #T_4a32b_row10_col0, #T_4a32b_row10_col1, #T_4a32b_row10_col2, #T_4a32b_row10_col4, #T_4a32b_row10_col13, #T_4a32b_row10_col19, #T_4a32b_row10_col20, #T_4a32b_row11_col0, #T_4a32b_row11_col1, #T_4a32b_row11_col2, #T_4a32b_row11_col4, #T_4a32b_row11_col13, #T_4a32b_row11_col15, #T_4a32b_row11_col16, #T_4a32b_row11_col17, #T_4a32b_row12_col0, #T_4a32b_row12_col1, #T_4a32b_row12_col2, #T_4a32b_row12_col4, #T_4a32b_row13_col0, #T_4a32b_row13_col1, #T_4a32b_row13_col2, #T_4a32b_row13_col4, #T_4a32b_row14_col0, #T_4a32b_row14_col1, #T_4a32b_row14_col3, #T_4a32b_row14_col22, #T_4a32b_row15_col0, #T_4a32b_row15_col1, #T_4a32b_row15_col3, #T_4a32b_row15_col12, #T_4a32b_row15_col15, #T_4a32b_row15_col22, #T_4a32b_row16_col0, #T_4a32b_row16_col1, #T_4a32b_row16_col3, #T_4a32b_row16_col17, #T_4a32b_row16_col22, #T_4a32b_row17_col0, #T_4a32b_row17_col1, #T_4a32b_row17_col3, #T_4a32b_row17_col8, #T_4a32b_row17_col11, #T_4a32b_row17_col13, #T_4a32b_row17_col14, #T_4a32b_row17_col15, #T_4a32b_row17_col19, #T_4a32b_row17_col22, #T_4a32b_row18_col0, #T_4a32b_row18_col1, #T_4a32b_row18_col3, #T_4a32b_row18_col11, #T_4a32b_row18_col13, #T_4a32b_row18_col14, #T_4a32b_row18_col15, #T_4a32b_row18_col16, #T_4a32b_row18_col17, #T_4a32b_row18_col20, #T_4a32b_row18_col22, #T_4a32b_row19_col0, #T_4a32b_row19_col2, #T_4a32b_row19_col11, #T_4a32b_row19_col13, #T_4a32b_row19_col14, #T_4a32b_row19_col15, #T_4a32b_row19_col16, #T_4a32b_row19_col17, #T_4a32b_row19_col18, #T_4a32b_row19_col19, #T_4a32b_row19_col21, #T_4a32b_row19_col22, #T_4a32b_row20_col0, #T_4a32b_row20_col2, #T_4a32b_row20_col11, #T_4a32b_row20_col13, #T_4a32b_row20_col14, #T_4a32b_row20_col15, #T_4a32b_row20_col16, #T_4a32b_row20_col17, #T_4a32b_row20_col18, #T_4a32b_row20_col19, #T_4a32b_row20_col20, #T_4a32b_row21_col0, #T_4a32b_row21_col2, #T_4a32b_row21_col10, #T_4a32b_row21_col11, #T_4a32b_row21_col12, #T_4a32b_row21_col13, #T_4a32b_row21_col14, #T_4a32b_row21_col15, #T_4a32b_row21_col16, #T_4a32b_row21_col17, #T_4a32b_row21_col18, #T_4a32b_row21_col22, #T_4a32b_row22_col0, #T_4a32b_row22_col2, #T_4a32b_row22_col9, #T_4a32b_row22_col10, #T_4a32b_row22_col12, #T_4a32b_row22_col13, #T_4a32b_row22_col14, #T_4a32b_row22_col15, #T_4a32b_row22_col16, #T_4a32b_row22_col17, #T_4a32b_row22_col20 {\n",
       "  font-size: 7pt;\n",
       "  background-color: #ffffff;\n",
       "  color: #000000;\n",
       "}\n",
       "#T_4a32b_row0_col3, #T_4a32b_row2_col5, #T_4a32b_row2_col16, #T_4a32b_row3_col20, #T_4a32b_row5_col4, #T_4a32b_row5_col22, #T_4a32b_row6_col15, #T_4a32b_row9_col3, #T_4a32b_row9_col18, #T_4a32b_row10_col18, #T_4a32b_row11_col14, #T_4a32b_row15_col13, #T_4a32b_row15_col14, #T_4a32b_row16_col16, #T_4a32b_row17_col18, #T_4a32b_row18_col21, #T_4a32b_row20_col12, #T_4a32b_row20_col21, #T_4a32b_row21_col19 {\n",
       "  font-size: 7pt;\n",
       "  background-color: #fefefe;\n",
       "  color: #000000;\n",
       "}\n",
       "#T_4a32b_row0_col5, #T_4a32b_row16_col11 {\n",
       "  font-size: 7pt;\n",
       "  background-color: #f5f5f5;\n",
       "  color: #000000;\n",
       "}\n",
       "#T_4a32b_row0_col6, #T_4a32b_row1_col19 {\n",
       "  font-size: 7pt;\n",
       "  background-color: #333333;\n",
       "  color: #f1f1f1;\n",
       "}\n",
       "#T_4a32b_row0_col7, #T_4a32b_row0_col9, #T_4a32b_row0_col10, #T_4a32b_row0_col11, #T_4a32b_row0_col12, #T_4a32b_row0_col13, #T_4a32b_row0_col14, #T_4a32b_row0_col15, #T_4a32b_row0_col16, #T_4a32b_row0_col17, #T_4a32b_row0_col18, #T_4a32b_row0_col19, #T_4a32b_row0_col20, #T_4a32b_row1_col7, #T_4a32b_row1_col8, #T_4a32b_row1_col9, #T_4a32b_row1_col10, #T_4a32b_row1_col11, #T_4a32b_row1_col12, #T_4a32b_row1_col21, #T_4a32b_row1_col22, #T_4a32b_row2_col8, #T_4a32b_row2_col10, #T_4a32b_row2_col12, #T_4a32b_row3_col8, #T_4a32b_row3_col10, #T_4a32b_row3_col12, #T_4a32b_row4_col8, #T_4a32b_row4_col10, #T_4a32b_row4_col12, #T_4a32b_row5_col8, #T_4a32b_row5_col11, #T_4a32b_row5_col12, #T_4a32b_row6_col8, #T_4a32b_row6_col11, #T_4a32b_row7_col7, #T_4a32b_row7_col9, #T_4a32b_row7_col11, #T_4a32b_row8_col7, #T_4a32b_row8_col9, #T_4a32b_row8_col11, #T_4a32b_row9_col7, #T_4a32b_row9_col9, #T_4a32b_row9_col11, #T_4a32b_row10_col7, #T_4a32b_row10_col10, #T_4a32b_row10_col11, #T_4a32b_row11_col6, #T_4a32b_row11_col8, #T_4a32b_row11_col10, #T_4a32b_row11_col21, #T_4a32b_row12_col6, #T_4a32b_row12_col8, #T_4a32b_row12_col10, #T_4a32b_row12_col19, #T_4a32b_row12_col21, #T_4a32b_row13_col6, #T_4a32b_row13_col8, #T_4a32b_row13_col9, #T_4a32b_row13_col10, #T_4a32b_row13_col11, #T_4a32b_row13_col12, #T_4a32b_row13_col13, #T_4a32b_row13_col14, #T_4a32b_row13_col15, #T_4a32b_row13_col16, #T_4a32b_row13_col17, #T_4a32b_row13_col18, #T_4a32b_row13_col20, #T_4a32b_row14_col6, #T_4a32b_row14_col8, #T_4a32b_row14_col9, #T_4a32b_row14_col10, #T_4a32b_row14_col17, #T_4a32b_row14_col20, #T_4a32b_row15_col6, #T_4a32b_row15_col9, #T_4a32b_row15_col19, #T_4a32b_row15_col20, #T_4a32b_row16_col2, #T_4a32b_row16_col5, #T_4a32b_row16_col7, #T_4a32b_row16_col9, #T_4a32b_row17_col5, #T_4a32b_row17_col7, #T_4a32b_row17_col9, #T_4a32b_row18_col5, #T_4a32b_row18_col7, #T_4a32b_row18_col9, #T_4a32b_row19_col5, #T_4a32b_row19_col8, #T_4a32b_row20_col5, #T_4a32b_row20_col8, #T_4a32b_row21_col1, #T_4a32b_row21_col4, #T_4a32b_row21_col6, #T_4a32b_row21_col8, #T_4a32b_row22_col3, #T_4a32b_row22_col4, #T_4a32b_row22_col6, #T_4a32b_row22_col8 {\n",
       "  font-size: 7pt;\n",
       "  background-color: #000000;\n",
       "  color: #f1f1f1;\n",
       "}\n",
       "#T_4a32b_row0_col8, #T_4a32b_row7_col8, #T_4a32b_row15_col2, #T_4a32b_row16_col8, #T_4a32b_row20_col1 {\n",
       "  font-size: 7pt;\n",
       "  background-color: #7f7f7f;\n",
       "  color: #f1f1f1;\n",
       "}\n",
       "#T_4a32b_row0_col21, #T_4a32b_row1_col13, #T_4a32b_row3_col11, #T_4a32b_row8_col10, #T_4a32b_row9_col10, #T_4a32b_row13_col19, #T_4a32b_row16_col6 {\n",
       "  font-size: 7pt;\n",
       "  background-color: #030303;\n",
       "  color: #f1f1f1;\n",
       "}\n",
       "#T_4a32b_row0_col22, #T_4a32b_row2_col11, #T_4a32b_row5_col9, #T_4a32b_row6_col7, #T_4a32b_row6_col9, #T_4a32b_row6_col10, #T_4a32b_row7_col10, #T_4a32b_row10_col9, #T_4a32b_row15_col7, #T_4a32b_row18_col6, #T_4a32b_row19_col7, #T_4a32b_row20_col7, #T_4a32b_row21_col5 {\n",
       "  font-size: 7pt;\n",
       "  background-color: #020202;\n",
       "  color: #f1f1f1;\n",
       "}\n",
       "#T_4a32b_row1_col4, #T_4a32b_row3_col5, #T_4a32b_row3_col16, #T_4a32b_row3_col17, #T_4a32b_row3_col18, #T_4a32b_row4_col20, #T_4a32b_row4_col22, #T_4a32b_row6_col4, #T_4a32b_row7_col14, #T_4a32b_row8_col14, #T_4a32b_row8_col21, #T_4a32b_row8_col22, #T_4a32b_row9_col20, #T_4a32b_row10_col15, #T_4a32b_row16_col12, #T_4a32b_row16_col15, #T_4a32b_row17_col12, #T_4a32b_row17_col16, #T_4a32b_row18_col18, #T_4a32b_row19_col20, #T_4a32b_row21_col21, #T_4a32b_row22_col11, #T_4a32b_row22_col19 {\n",
       "  font-size: 7pt;\n",
       "  background-color: #fdfdfd;\n",
       "  color: #000000;\n",
       "}\n",
       "#T_4a32b_row1_col6, #T_4a32b_row11_col19 {\n",
       "  font-size: 7pt;\n",
       "  background-color: #bbbbbb;\n",
       "  color: #000000;\n",
       "}\n",
       "#T_4a32b_row1_col14 {\n",
       "  font-size: 7pt;\n",
       "  background-color: #363636;\n",
       "  color: #f1f1f1;\n",
       "}\n",
       "#T_4a32b_row1_col15, #T_4a32b_row1_col18 {\n",
       "  font-size: 7pt;\n",
       "  background-color: #3a3a3a;\n",
       "  color: #f1f1f1;\n",
       "}\n",
       "#T_4a32b_row1_col16, #T_4a32b_row1_col17, #T_4a32b_row9_col6 {\n",
       "  font-size: 7pt;\n",
       "  background-color: #393939;\n",
       "  color: #f1f1f1;\n",
       "}\n",
       "#T_4a32b_row1_col20, #T_4a32b_row10_col6, #T_4a32b_row15_col5 {\n",
       "  font-size: 7pt;\n",
       "  background-color: #0e0e0e;\n",
       "  color: #f1f1f1;\n",
       "}\n",
       "#T_4a32b_row2_col7 {\n",
       "  font-size: 7pt;\n",
       "  background-color: #b6b6b6;\n",
       "  color: #000000;\n",
       "}\n",
       "#T_4a32b_row2_col9, #T_4a32b_row12_col9, #T_4a32b_row13_col7, #T_4a32b_row14_col7, #T_4a32b_row22_col7 {\n",
       "  font-size: 7pt;\n",
       "  background-color: #060606;\n",
       "  color: #f1f1f1;\n",
       "}\n",
       "#T_4a32b_row2_col13, #T_4a32b_row12_col18, #T_4a32b_row14_col5, #T_4a32b_row20_col9 {\n",
       "  font-size: 7pt;\n",
       "  background-color: #2d2d2d;\n",
       "  color: #f1f1f1;\n",
       "}\n",
       "#T_4a32b_row2_col14, #T_4a32b_row10_col14, #T_4a32b_row12_col3, #T_4a32b_row13_col3, #T_4a32b_row16_col13 {\n",
       "  font-size: 7pt;\n",
       "  background-color: #fafafa;\n",
       "  color: #000000;\n",
       "}\n",
       "#T_4a32b_row2_col20 {\n",
       "  font-size: 7pt;\n",
       "  background-color: #e3e3e3;\n",
       "  color: #000000;\n",
       "}\n",
       "#T_4a32b_row2_col21 {\n",
       "  font-size: 7pt;\n",
       "  background-color: #909090;\n",
       "  color: #f1f1f1;\n",
       "}\n",
       "#T_4a32b_row2_col22 {\n",
       "  font-size: 7pt;\n",
       "  background-color: #242424;\n",
       "  color: #f1f1f1;\n",
       "}\n",
       "#T_4a32b_row3_col9 {\n",
       "  font-size: 7pt;\n",
       "  background-color: #090909;\n",
       "  color: #f1f1f1;\n",
       "}\n",
       "#T_4a32b_row3_col13, #T_4a32b_row8_col6 {\n",
       "  font-size: 7pt;\n",
       "  background-color: #626262;\n",
       "  color: #f1f1f1;\n",
       "}\n",
       "#T_4a32b_row3_col15, #T_4a32b_row5_col15, #T_4a32b_row9_col14, #T_4a32b_row9_col19, #T_4a32b_row10_col3, #T_4a32b_row10_col16, #T_4a32b_row11_col3, #T_4a32b_row17_col17, #T_4a32b_row18_col19, #T_4a32b_row19_col12, #T_4a32b_row20_col22, #T_4a32b_row21_col20, #T_4a32b_row22_col18 {\n",
       "  font-size: 7pt;\n",
       "  background-color: #fcfcfc;\n",
       "  color: #000000;\n",
       "}\n",
       "#T_4a32b_row3_col22, #T_4a32b_row19_col3 {\n",
       "  font-size: 7pt;\n",
       "  background-color: #f3f3f3;\n",
       "  color: #000000;\n",
       "}\n",
       "#T_4a32b_row4_col7, #T_4a32b_row15_col21 {\n",
       "  font-size: 7pt;\n",
       "  background-color: #919191;\n",
       "  color: #f1f1f1;\n",
       "}\n",
       "#T_4a32b_row4_col9, #T_4a32b_row4_col11, #T_4a32b_row11_col7, #T_4a32b_row11_col9, #T_4a32b_row12_col7, #T_4a32b_row17_col6, #T_4a32b_row19_col9, #T_4a32b_row21_col7, #T_4a32b_row22_col5 {\n",
       "  font-size: 7pt;\n",
       "  background-color: #040404;\n",
       "  color: #f1f1f1;\n",
       "}\n",
       "#T_4a32b_row4_col13 {\n",
       "  font-size: 7pt;\n",
       "  background-color: #939393;\n",
       "  color: #f1f1f1;\n",
       "}\n",
       "#T_4a32b_row4_col15, #T_4a32b_row4_col21, #T_4a32b_row7_col4, #T_4a32b_row8_col4, #T_4a32b_row10_col17, #T_4a32b_row11_col18, #T_4a32b_row16_col14, #T_4a32b_row18_col12 {\n",
       "  font-size: 7pt;\n",
       "  background-color: #fbfbfb;\n",
       "  color: #000000;\n",
       "}\n",
       "#T_4a32b_row5_col6 {\n",
       "  font-size: 7pt;\n",
       "  background-color: #f0f0f0;\n",
       "  color: #000000;\n",
       "}\n",
       "#T_4a32b_row5_col7 {\n",
       "  font-size: 7pt;\n",
       "  background-color: #272727;\n",
       "  color: #f1f1f1;\n",
       "}\n",
       "#T_4a32b_row5_col10, #T_4a32b_row12_col20, #T_4a32b_row14_col18, #T_4a32b_row19_col6, #T_4a32b_row20_col6 {\n",
       "  font-size: 7pt;\n",
       "  background-color: #010101;\n",
       "  color: #f1f1f1;\n",
       "}\n",
       "#T_4a32b_row5_col13 {\n",
       "  font-size: 7pt;\n",
       "  background-color: #bcbcbc;\n",
       "  color: #000000;\n",
       "}\n",
       "#T_4a32b_row6_col6, #T_4a32b_row10_col21 {\n",
       "  font-size: 7pt;\n",
       "  background-color: #c4c4c4;\n",
       "  color: #000000;\n",
       "}\n",
       "#T_4a32b_row6_col12 {\n",
       "  font-size: 7pt;\n",
       "  background-color: #191919;\n",
       "  color: #f1f1f1;\n",
       "}\n",
       "#T_4a32b_row6_col13, #T_4a32b_row15_col11 {\n",
       "  font-size: 7pt;\n",
       "  background-color: #e7e7e7;\n",
       "  color: #000000;\n",
       "}\n",
       "#T_4a32b_row7_col6, #T_4a32b_row18_col10 {\n",
       "  font-size: 7pt;\n",
       "  background-color: #8f8f8f;\n",
       "  color: #f1f1f1;\n",
       "}\n",
       "#T_4a32b_row7_col12 {\n",
       "  font-size: 7pt;\n",
       "  background-color: #373737;\n",
       "  color: #f1f1f1;\n",
       "}\n",
       "#T_4a32b_row8_col12 {\n",
       "  font-size: 7pt;\n",
       "  background-color: #6c6c6c;\n",
       "  color: #f1f1f1;\n",
       "}\n",
       "#T_4a32b_row9_col5, #T_4a32b_row17_col21 {\n",
       "  font-size: 7pt;\n",
       "  background-color: #f8f8f8;\n",
       "  color: #000000;\n",
       "}\n",
       "#T_4a32b_row9_col8, #T_4a32b_row14_col2, #T_4a32b_row18_col2, #T_4a32b_row18_col8, #T_4a32b_row19_col1 {\n",
       "  font-size: 7pt;\n",
       "  background-color: #bfbfbf;\n",
       "  color: #000000;\n",
       "}\n",
       "#T_4a32b_row9_col12 {\n",
       "  font-size: 7pt;\n",
       "  background-color: #a4a4a4;\n",
       "  color: #f1f1f1;\n",
       "}\n",
       "#T_4a32b_row10_col5, #T_4a32b_row17_col20 {\n",
       "  font-size: 7pt;\n",
       "  background-color: #e0e0e0;\n",
       "  color: #000000;\n",
       "}\n",
       "#T_4a32b_row10_col8, #T_4a32b_row15_col8 {\n",
       "  font-size: 7pt;\n",
       "  background-color: #3f3f3f;\n",
       "  color: #f1f1f1;\n",
       "}\n",
       "#T_4a32b_row10_col12 {\n",
       "  font-size: 7pt;\n",
       "  background-color: #cccccc;\n",
       "  color: #000000;\n",
       "}\n",
       "#T_4a32b_row10_col22 {\n",
       "  font-size: 7pt;\n",
       "  background-color: #a0a0a0;\n",
       "  color: #f1f1f1;\n",
       "}\n",
       "#T_4a32b_row11_col5, #T_4a32b_row19_col10 {\n",
       "  font-size: 7pt;\n",
       "  background-color: #bebebe;\n",
       "  color: #000000;\n",
       "}\n",
       "#T_4a32b_row11_col11, #T_4a32b_row13_col21 {\n",
       "  font-size: 7pt;\n",
       "  background-color: #282828;\n",
       "  color: #f1f1f1;\n",
       "}\n",
       "#T_4a32b_row11_col12, #T_4a32b_row13_col22 {\n",
       "  font-size: 7pt;\n",
       "  background-color: #efefef;\n",
       "  color: #000000;\n",
       "}\n",
       "#T_4a32b_row11_col20, #T_4a32b_row14_col13 {\n",
       "  font-size: 7pt;\n",
       "  background-color: #535353;\n",
       "  color: #f1f1f1;\n",
       "}\n",
       "#T_4a32b_row11_col22 {\n",
       "  font-size: 7pt;\n",
       "  background-color: #8a8a8a;\n",
       "  color: #f1f1f1;\n",
       "}\n",
       "#T_4a32b_row12_col5 {\n",
       "  font-size: 7pt;\n",
       "  background-color: #888888;\n",
       "  color: #f1f1f1;\n",
       "}\n",
       "#T_4a32b_row12_col11, #T_4a32b_row17_col2, #T_4a32b_row22_col1 {\n",
       "  font-size: 7pt;\n",
       "  background-color: #404040;\n",
       "  color: #f1f1f1;\n",
       "}\n",
       "#T_4a32b_row12_col12 {\n",
       "  font-size: 7pt;\n",
       "  background-color: #e9e9e9;\n",
       "  color: #000000;\n",
       "}\n",
       "#T_4a32b_row12_col13 {\n",
       "  font-size: 7pt;\n",
       "  background-color: #dfdfdf;\n",
       "  color: #000000;\n",
       "}\n",
       "#T_4a32b_row12_col14 {\n",
       "  font-size: 7pt;\n",
       "  background-color: #e1e1e1;\n",
       "  color: #000000;\n",
       "}\n",
       "#T_4a32b_row12_col15 {\n",
       "  font-size: 7pt;\n",
       "  background-color: #dbdbdb;\n",
       "  color: #000000;\n",
       "}\n",
       "#T_4a32b_row12_col16 {\n",
       "  font-size: 7pt;\n",
       "  background-color: #b8b8b8;\n",
       "  color: #000000;\n",
       "}\n",
       "#T_4a32b_row12_col17 {\n",
       "  font-size: 7pt;\n",
       "  background-color: #797979;\n",
       "  color: #f1f1f1;\n",
       "}\n",
       "#T_4a32b_row12_col22 {\n",
       "  font-size: 7pt;\n",
       "  background-color: #d2d2d2;\n",
       "  color: #000000;\n",
       "}\n",
       "#T_4a32b_row13_col5 {\n",
       "  font-size: 7pt;\n",
       "  background-color: #515151;\n",
       "  color: #f1f1f1;\n",
       "}\n",
       "#T_4a32b_row14_col4 {\n",
       "  font-size: 7pt;\n",
       "  background-color: #f9f9f9;\n",
       "  color: #000000;\n",
       "}\n",
       "#T_4a32b_row14_col11 {\n",
       "  font-size: 7pt;\n",
       "  background-color: #414141;\n",
       "  color: #f1f1f1;\n",
       "}\n",
       "#T_4a32b_row14_col12 {\n",
       "  font-size: 7pt;\n",
       "  background-color: #575757;\n",
       "  color: #f1f1f1;\n",
       "}\n",
       "#T_4a32b_row14_col14 {\n",
       "  font-size: 7pt;\n",
       "  background-color: #555555;\n",
       "  color: #f1f1f1;\n",
       "}\n",
       "#T_4a32b_row14_col15, #T_4a32b_row18_col4 {\n",
       "  font-size: 7pt;\n",
       "  background-color: #494949;\n",
       "  color: #f1f1f1;\n",
       "}\n",
       "#T_4a32b_row14_col16 {\n",
       "  font-size: 7pt;\n",
       "  background-color: #151515;\n",
       "  color: #f1f1f1;\n",
       "}\n",
       "#T_4a32b_row14_col19, #T_4a32b_row15_col10 {\n",
       "  font-size: 7pt;\n",
       "  background-color: #070707;\n",
       "  color: #f1f1f1;\n",
       "}\n",
       "#T_4a32b_row14_col21 {\n",
       "  font-size: 7pt;\n",
       "  background-color: #5b5b5b;\n",
       "  color: #f1f1f1;\n",
       "}\n",
       "#T_4a32b_row15_col4 {\n",
       "  font-size: 7pt;\n",
       "  background-color: #d4d4d4;\n",
       "  color: #000000;\n",
       "}\n",
       "#T_4a32b_row15_col16 {\n",
       "  font-size: 7pt;\n",
       "  background-color: #eaeaea;\n",
       "  color: #000000;\n",
       "}\n",
       "#T_4a32b_row15_col17 {\n",
       "  font-size: 7pt;\n",
       "  background-color: #8d8d8d;\n",
       "  color: #f1f1f1;\n",
       "}\n",
       "#T_4a32b_row15_col18 {\n",
       "  font-size: 7pt;\n",
       "  background-color: #1d1d1d;\n",
       "  color: #f1f1f1;\n",
       "}\n",
       "#T_4a32b_row16_col4 {\n",
       "  font-size: 7pt;\n",
       "  background-color: #b0b0b0;\n",
       "  color: #000000;\n",
       "}\n",
       "#T_4a32b_row16_col10 {\n",
       "  font-size: 7pt;\n",
       "  background-color: #323232;\n",
       "  color: #f1f1f1;\n",
       "}\n",
       "#T_4a32b_row16_col18 {\n",
       "  font-size: 7pt;\n",
       "  background-color: #f1f1f1;\n",
       "  color: #000000;\n",
       "}\n",
       "#T_4a32b_row16_col19 {\n",
       "  font-size: 7pt;\n",
       "  background-color: #7d7d7d;\n",
       "  color: #f1f1f1;\n",
       "}\n",
       "#T_4a32b_row16_col20 {\n",
       "  font-size: 7pt;\n",
       "  background-color: #111111;\n",
       "  color: #f1f1f1;\n",
       "}\n",
       "#T_4a32b_row16_col21 {\n",
       "  font-size: 7pt;\n",
       "  background-color: #d0d0d0;\n",
       "  color: #000000;\n",
       "}\n",
       "#T_4a32b_row17_col4 {\n",
       "  font-size: 7pt;\n",
       "  background-color: #808080;\n",
       "  color: #f1f1f1;\n",
       "}\n",
       "#T_4a32b_row17_col10 {\n",
       "  font-size: 7pt;\n",
       "  background-color: #636363;\n",
       "  color: #f1f1f1;\n",
       "}\n",
       "#T_4a32b_row19_col4 {\n",
       "  font-size: 7pt;\n",
       "  background-color: #1c1c1c;\n",
       "  color: #f1f1f1;\n",
       "}\n",
       "#T_4a32b_row20_col3 {\n",
       "  font-size: 7pt;\n",
       "  background-color: #a6a6a6;\n",
       "  color: #f1f1f1;\n",
       "}\n",
       "#T_4a32b_row20_col4 {\n",
       "  font-size: 7pt;\n",
       "  background-color: #080808;\n",
       "  color: #f1f1f1;\n",
       "}\n",
       "#T_4a32b_row20_col10 {\n",
       "  font-size: 7pt;\n",
       "  background-color: #ededed;\n",
       "  color: #000000;\n",
       "}\n",
       "#T_4a32b_row21_col3 {\n",
       "  font-size: 7pt;\n",
       "  background-color: #505050;\n",
       "  color: #f1f1f1;\n",
       "}\n",
       "#T_4a32b_row21_col9, #T_4a32b_row22_col22 {\n",
       "  font-size: 7pt;\n",
       "  background-color: #818181;\n",
       "  color: #f1f1f1;\n",
       "}\n",
       "#T_4a32b_row22_col21 {\n",
       "  font-size: 7pt;\n",
       "  background-color: #f4f4f4;\n",
       "  color: #000000;\n",
       "}\n",
       "</style>\n",
       "<table id=\"T_4a32b\">\n",
       "  <thead>\n",
       "    <tr>\n",
       "      <th class=\"blank level0\" >&nbsp;</th>\n",
       "      <th id=\"T_4a32b_level0_col0\" class=\"col_heading level0 col0\" >0</th>\n",
       "      <th id=\"T_4a32b_level0_col1\" class=\"col_heading level0 col1\" >1</th>\n",
       "      <th id=\"T_4a32b_level0_col2\" class=\"col_heading level0 col2\" >2</th>\n",
       "      <th id=\"T_4a32b_level0_col3\" class=\"col_heading level0 col3\" >3</th>\n",
       "      <th id=\"T_4a32b_level0_col4\" class=\"col_heading level0 col4\" >4</th>\n",
       "      <th id=\"T_4a32b_level0_col5\" class=\"col_heading level0 col5\" >5</th>\n",
       "      <th id=\"T_4a32b_level0_col6\" class=\"col_heading level0 col6\" >6</th>\n",
       "      <th id=\"T_4a32b_level0_col7\" class=\"col_heading level0 col7\" >7</th>\n",
       "      <th id=\"T_4a32b_level0_col8\" class=\"col_heading level0 col8\" >8</th>\n",
       "      <th id=\"T_4a32b_level0_col9\" class=\"col_heading level0 col9\" >9</th>\n",
       "      <th id=\"T_4a32b_level0_col10\" class=\"col_heading level0 col10\" >10</th>\n",
       "      <th id=\"T_4a32b_level0_col11\" class=\"col_heading level0 col11\" >11</th>\n",
       "      <th id=\"T_4a32b_level0_col12\" class=\"col_heading level0 col12\" >12</th>\n",
       "      <th id=\"T_4a32b_level0_col13\" class=\"col_heading level0 col13\" >13</th>\n",
       "      <th id=\"T_4a32b_level0_col14\" class=\"col_heading level0 col14\" >14</th>\n",
       "      <th id=\"T_4a32b_level0_col15\" class=\"col_heading level0 col15\" >15</th>\n",
       "      <th id=\"T_4a32b_level0_col16\" class=\"col_heading level0 col16\" >16</th>\n",
       "      <th id=\"T_4a32b_level0_col17\" class=\"col_heading level0 col17\" >17</th>\n",
       "      <th id=\"T_4a32b_level0_col18\" class=\"col_heading level0 col18\" >18</th>\n",
       "      <th id=\"T_4a32b_level0_col19\" class=\"col_heading level0 col19\" >19</th>\n",
       "      <th id=\"T_4a32b_level0_col20\" class=\"col_heading level0 col20\" >20</th>\n",
       "      <th id=\"T_4a32b_level0_col21\" class=\"col_heading level0 col21\" >21</th>\n",
       "      <th id=\"T_4a32b_level0_col22\" class=\"col_heading level0 col22\" >22</th>\n",
       "    </tr>\n",
       "  </thead>\n",
       "  <tbody>\n",
       "    <tr>\n",
       "      <th id=\"T_4a32b_level0_row0\" class=\"row_heading level0 row0\" >0</th>\n",
       "      <td id=\"T_4a32b_row0_col0\" class=\"data row0 col0\" >0.00</td>\n",
       "      <td id=\"T_4a32b_row0_col1\" class=\"data row0 col1\" >0.00</td>\n",
       "      <td id=\"T_4a32b_row0_col2\" class=\"data row0 col2\" >0.00</td>\n",
       "      <td id=\"T_4a32b_row0_col3\" class=\"data row0 col3\" >0.00</td>\n",
       "      <td id=\"T_4a32b_row0_col4\" class=\"data row0 col4\" >0.00</td>\n",
       "      <td id=\"T_4a32b_row0_col5\" class=\"data row0 col5\" >0.04</td>\n",
       "      <td id=\"T_4a32b_row0_col6\" class=\"data row0 col6\" >0.80</td>\n",
       "      <td id=\"T_4a32b_row0_col7\" class=\"data row0 col7\" >1.00</td>\n",
       "      <td id=\"T_4a32b_row0_col8\" class=\"data row0 col8\" >0.99</td>\n",
       "      <td id=\"T_4a32b_row0_col9\" class=\"data row0 col9\" >1.00</td>\n",
       "      <td id=\"T_4a32b_row0_col10\" class=\"data row0 col10\" >1.00</td>\n",
       "      <td id=\"T_4a32b_row0_col11\" class=\"data row0 col11\" >1.00</td>\n",
       "      <td id=\"T_4a32b_row0_col12\" class=\"data row0 col12\" >1.00</td>\n",
       "      <td id=\"T_4a32b_row0_col13\" class=\"data row0 col13\" >1.00</td>\n",
       "      <td id=\"T_4a32b_row0_col14\" class=\"data row0 col14\" >1.00</td>\n",
       "      <td id=\"T_4a32b_row0_col15\" class=\"data row0 col15\" >1.00</td>\n",
       "      <td id=\"T_4a32b_row0_col16\" class=\"data row0 col16\" >1.00</td>\n",
       "      <td id=\"T_4a32b_row0_col17\" class=\"data row0 col17\" >1.00</td>\n",
       "      <td id=\"T_4a32b_row0_col18\" class=\"data row0 col18\" >1.00</td>\n",
       "      <td id=\"T_4a32b_row0_col19\" class=\"data row0 col19\" >1.00</td>\n",
       "      <td id=\"T_4a32b_row0_col20\" class=\"data row0 col20\" >1.00</td>\n",
       "      <td id=\"T_4a32b_row0_col21\" class=\"data row0 col21\" >0.99</td>\n",
       "      <td id=\"T_4a32b_row0_col22\" class=\"data row0 col22\" >0.99</td>\n",
       "    </tr>\n",
       "    <tr>\n",
       "      <th id=\"T_4a32b_level0_row1\" class=\"row_heading level0 row1\" >1</th>\n",
       "      <td id=\"T_4a32b_row1_col0\" class=\"data row1 col0\" >0.00</td>\n",
       "      <td id=\"T_4a32b_row1_col1\" class=\"data row1 col1\" >0.00</td>\n",
       "      <td id=\"T_4a32b_row1_col2\" class=\"data row1 col2\" >0.00</td>\n",
       "      <td id=\"T_4a32b_row1_col3\" class=\"data row1 col3\" >0.00</td>\n",
       "      <td id=\"T_4a32b_row1_col4\" class=\"data row1 col4\" >0.01</td>\n",
       "      <td id=\"T_4a32b_row1_col5\" class=\"data row1 col5\" >0.00</td>\n",
       "      <td id=\"T_4a32b_row1_col6\" class=\"data row1 col6\" >0.27</td>\n",
       "      <td id=\"T_4a32b_row1_col7\" class=\"data row1 col7\" >1.00</td>\n",
       "      <td id=\"T_4a32b_row1_col8\" class=\"data row1 col8\" >1.00</td>\n",
       "      <td id=\"T_4a32b_row1_col9\" class=\"data row1 col9\" >1.00</td>\n",
       "      <td id=\"T_4a32b_row1_col10\" class=\"data row1 col10\" >1.00</td>\n",
       "      <td id=\"T_4a32b_row1_col11\" class=\"data row1 col11\" >1.00</td>\n",
       "      <td id=\"T_4a32b_row1_col12\" class=\"data row1 col12\" >1.00</td>\n",
       "      <td id=\"T_4a32b_row1_col13\" class=\"data row1 col13\" >0.99</td>\n",
       "      <td id=\"T_4a32b_row1_col14\" class=\"data row1 col14\" >0.79</td>\n",
       "      <td id=\"T_4a32b_row1_col15\" class=\"data row1 col15\" >0.77</td>\n",
       "      <td id=\"T_4a32b_row1_col16\" class=\"data row1 col16\" >0.78</td>\n",
       "      <td id=\"T_4a32b_row1_col17\" class=\"data row1 col17\" >0.78</td>\n",
       "      <td id=\"T_4a32b_row1_col18\" class=\"data row1 col18\" >0.77</td>\n",
       "      <td id=\"T_4a32b_row1_col19\" class=\"data row1 col19\" >0.80</td>\n",
       "      <td id=\"T_4a32b_row1_col20\" class=\"data row1 col20\" >0.95</td>\n",
       "      <td id=\"T_4a32b_row1_col21\" class=\"data row1 col21\" >1.00</td>\n",
       "      <td id=\"T_4a32b_row1_col22\" class=\"data row1 col22\" >1.00</td>\n",
       "    </tr>\n",
       "    <tr>\n",
       "      <th id=\"T_4a32b_level0_row2\" class=\"row_heading level0 row2\" >2</th>\n",
       "      <td id=\"T_4a32b_row2_col0\" class=\"data row2 col0\" >0.00</td>\n",
       "      <td id=\"T_4a32b_row2_col1\" class=\"data row2 col1\" >0.00</td>\n",
       "      <td id=\"T_4a32b_row2_col2\" class=\"data row2 col2\" >0.00</td>\n",
       "      <td id=\"T_4a32b_row2_col3\" class=\"data row2 col3\" >0.00</td>\n",
       "      <td id=\"T_4a32b_row2_col4\" class=\"data row2 col4\" >0.00</td>\n",
       "      <td id=\"T_4a32b_row2_col5\" class=\"data row2 col5\" >0.00</td>\n",
       "      <td id=\"T_4a32b_row2_col6\" class=\"data row2 col6\" >0.00</td>\n",
       "      <td id=\"T_4a32b_row2_col7\" class=\"data row2 col7\" >0.69</td>\n",
       "      <td id=\"T_4a32b_row2_col8\" class=\"data row2 col8\" >1.00</td>\n",
       "      <td id=\"T_4a32b_row2_col9\" class=\"data row2 col9\" >0.99</td>\n",
       "      <td id=\"T_4a32b_row2_col10\" class=\"data row2 col10\" >1.00</td>\n",
       "      <td id=\"T_4a32b_row2_col11\" class=\"data row2 col11\" >0.99</td>\n",
       "      <td id=\"T_4a32b_row2_col12\" class=\"data row2 col12\" >1.00</td>\n",
       "      <td id=\"T_4a32b_row2_col13\" class=\"data row2 col13\" >0.82</td>\n",
       "      <td id=\"T_4a32b_row2_col14\" class=\"data row2 col14\" >0.02</td>\n",
       "      <td id=\"T_4a32b_row2_col15\" class=\"data row2 col15\" >0.00</td>\n",
       "      <td id=\"T_4a32b_row2_col16\" class=\"data row2 col16\" >0.00</td>\n",
       "      <td id=\"T_4a32b_row2_col17\" class=\"data row2 col17\" >0.00</td>\n",
       "      <td id=\"T_4a32b_row2_col18\" class=\"data row2 col18\" >0.00</td>\n",
       "      <td id=\"T_4a32b_row2_col19\" class=\"data row2 col19\" >0.00</td>\n",
       "      <td id=\"T_4a32b_row2_col20\" class=\"data row2 col20\" >0.11</td>\n",
       "      <td id=\"T_4a32b_row2_col21\" class=\"data row2 col21\" >0.44</td>\n",
       "      <td id=\"T_4a32b_row2_col22\" class=\"data row2 col22\" >0.86</td>\n",
       "    </tr>\n",
       "    <tr>\n",
       "      <th id=\"T_4a32b_level0_row3\" class=\"row_heading level0 row3\" >3</th>\n",
       "      <td id=\"T_4a32b_row3_col0\" class=\"data row3 col0\" >0.00</td>\n",
       "      <td id=\"T_4a32b_row3_col1\" class=\"data row3 col1\" >0.00</td>\n",
       "      <td id=\"T_4a32b_row3_col2\" class=\"data row3 col2\" >0.00</td>\n",
       "      <td id=\"T_4a32b_row3_col3\" class=\"data row3 col3\" >0.00</td>\n",
       "      <td id=\"T_4a32b_row3_col4\" class=\"data row3 col4\" >0.00</td>\n",
       "      <td id=\"T_4a32b_row3_col5\" class=\"data row3 col5\" >0.01</td>\n",
       "      <td id=\"T_4a32b_row3_col6\" class=\"data row3 col6\" >0.00</td>\n",
       "      <td id=\"T_4a32b_row3_col7\" class=\"data row3 col7\" >0.56</td>\n",
       "      <td id=\"T_4a32b_row3_col8\" class=\"data row3 col8\" >1.00</td>\n",
       "      <td id=\"T_4a32b_row3_col9\" class=\"data row3 col9\" >0.98</td>\n",
       "      <td id=\"T_4a32b_row3_col10\" class=\"data row3 col10\" >1.00</td>\n",
       "      <td id=\"T_4a32b_row3_col11\" class=\"data row3 col11\" >0.99</td>\n",
       "      <td id=\"T_4a32b_row3_col12\" class=\"data row3 col12\" >1.00</td>\n",
       "      <td id=\"T_4a32b_row3_col13\" class=\"data row3 col13\" >0.62</td>\n",
       "      <td id=\"T_4a32b_row3_col14\" class=\"data row3 col14\" >0.00</td>\n",
       "      <td id=\"T_4a32b_row3_col15\" class=\"data row3 col15\" >0.01</td>\n",
       "      <td id=\"T_4a32b_row3_col16\" class=\"data row3 col16\" >0.01</td>\n",
       "      <td id=\"T_4a32b_row3_col17\" class=\"data row3 col17\" >0.01</td>\n",
       "      <td id=\"T_4a32b_row3_col18\" class=\"data row3 col18\" >0.01</td>\n",
       "      <td id=\"T_4a32b_row3_col19\" class=\"data row3 col19\" >0.00</td>\n",
       "      <td id=\"T_4a32b_row3_col20\" class=\"data row3 col20\" >0.00</td>\n",
       "      <td id=\"T_4a32b_row3_col21\" class=\"data row3 col21\" >0.00</td>\n",
       "      <td id=\"T_4a32b_row3_col22\" class=\"data row3 col22\" >0.05</td>\n",
       "    </tr>\n",
       "    <tr>\n",
       "      <th id=\"T_4a32b_level0_row4\" class=\"row_heading level0 row4\" >4</th>\n",
       "      <td id=\"T_4a32b_row4_col0\" class=\"data row4 col0\" >0.00</td>\n",
       "      <td id=\"T_4a32b_row4_col1\" class=\"data row4 col1\" >0.00</td>\n",
       "      <td id=\"T_4a32b_row4_col2\" class=\"data row4 col2\" >0.00</td>\n",
       "      <td id=\"T_4a32b_row4_col3\" class=\"data row4 col3\" >0.00</td>\n",
       "      <td id=\"T_4a32b_row4_col4\" class=\"data row4 col4\" >0.00</td>\n",
       "      <td id=\"T_4a32b_row4_col5\" class=\"data row4 col5\" >0.00</td>\n",
       "      <td id=\"T_4a32b_row4_col6\" class=\"data row4 col6\" >0.00</td>\n",
       "      <td id=\"T_4a32b_row4_col7\" class=\"data row4 col7\" >0.75</td>\n",
       "      <td id=\"T_4a32b_row4_col8\" class=\"data row4 col8\" >1.00</td>\n",
       "      <td id=\"T_4a32b_row4_col9\" class=\"data row4 col9\" >0.99</td>\n",
       "      <td id=\"T_4a32b_row4_col10\" class=\"data row4 col10\" >1.00</td>\n",
       "      <td id=\"T_4a32b_row4_col11\" class=\"data row4 col11\" >0.98</td>\n",
       "      <td id=\"T_4a32b_row4_col12\" class=\"data row4 col12\" >1.00</td>\n",
       "      <td id=\"T_4a32b_row4_col13\" class=\"data row4 col13\" >0.42</td>\n",
       "      <td id=\"T_4a32b_row4_col14\" class=\"data row4 col14\" >0.00</td>\n",
       "      <td id=\"T_4a32b_row4_col15\" class=\"data row4 col15\" >0.02</td>\n",
       "      <td id=\"T_4a32b_row4_col16\" class=\"data row4 col16\" >0.00</td>\n",
       "      <td id=\"T_4a32b_row4_col17\" class=\"data row4 col17\" >0.00</td>\n",
       "      <td id=\"T_4a32b_row4_col18\" class=\"data row4 col18\" >0.00</td>\n",
       "      <td id=\"T_4a32b_row4_col19\" class=\"data row4 col19\" >0.00</td>\n",
       "      <td id=\"T_4a32b_row4_col20\" class=\"data row4 col20\" >0.01</td>\n",
       "      <td id=\"T_4a32b_row4_col21\" class=\"data row4 col21\" >0.02</td>\n",
       "      <td id=\"T_4a32b_row4_col22\" class=\"data row4 col22\" >0.01</td>\n",
       "    </tr>\n",
       "    <tr>\n",
       "      <th id=\"T_4a32b_level0_row5\" class=\"row_heading level0 row5\" >5</th>\n",
       "      <td id=\"T_4a32b_row5_col0\" class=\"data row5 col0\" >0.00</td>\n",
       "      <td id=\"T_4a32b_row5_col1\" class=\"data row5 col1\" >0.00</td>\n",
       "      <td id=\"T_4a32b_row5_col2\" class=\"data row5 col2\" >0.00</td>\n",
       "      <td id=\"T_4a32b_row5_col3\" class=\"data row5 col3\" >0.00</td>\n",
       "      <td id=\"T_4a32b_row5_col4\" class=\"data row5 col4\" >0.00</td>\n",
       "      <td id=\"T_4a32b_row5_col5\" class=\"data row5 col5\" >0.00</td>\n",
       "      <td id=\"T_4a32b_row5_col6\" class=\"data row5 col6\" >0.06</td>\n",
       "      <td id=\"T_4a32b_row5_col7\" class=\"data row5 col7\" >0.93</td>\n",
       "      <td id=\"T_4a32b_row5_col8\" class=\"data row5 col8\" >1.00</td>\n",
       "      <td id=\"T_4a32b_row5_col9\" class=\"data row5 col9\" >1.00</td>\n",
       "      <td id=\"T_4a32b_row5_col10\" class=\"data row5 col10\" >1.00</td>\n",
       "      <td id=\"T_4a32b_row5_col11\" class=\"data row5 col11\" >1.00</td>\n",
       "      <td id=\"T_4a32b_row5_col12\" class=\"data row5 col12\" >1.00</td>\n",
       "      <td id=\"T_4a32b_row5_col13\" class=\"data row5 col13\" >0.26</td>\n",
       "      <td id=\"T_4a32b_row5_col14\" class=\"data row5 col14\" >0.00</td>\n",
       "      <td id=\"T_4a32b_row5_col15\" class=\"data row5 col15\" >0.01</td>\n",
       "      <td id=\"T_4a32b_row5_col16\" class=\"data row5 col16\" >0.00</td>\n",
       "      <td id=\"T_4a32b_row5_col17\" class=\"data row5 col17\" >0.00</td>\n",
       "      <td id=\"T_4a32b_row5_col18\" class=\"data row5 col18\" >0.00</td>\n",
       "      <td id=\"T_4a32b_row5_col19\" class=\"data row5 col19\" >0.00</td>\n",
       "      <td id=\"T_4a32b_row5_col20\" class=\"data row5 col20\" >0.00</td>\n",
       "      <td id=\"T_4a32b_row5_col21\" class=\"data row5 col21\" >0.00</td>\n",
       "      <td id=\"T_4a32b_row5_col22\" class=\"data row5 col22\" >0.00</td>\n",
       "    </tr>\n",
       "    <tr>\n",
       "      <th id=\"T_4a32b_level0_row6\" class=\"row_heading level0 row6\" >6</th>\n",
       "      <td id=\"T_4a32b_row6_col0\" class=\"data row6 col0\" >0.00</td>\n",
       "      <td id=\"T_4a32b_row6_col1\" class=\"data row6 col1\" >0.00</td>\n",
       "      <td id=\"T_4a32b_row6_col2\" class=\"data row6 col2\" >0.00</td>\n",
       "      <td id=\"T_4a32b_row6_col3\" class=\"data row6 col3\" >0.00</td>\n",
       "      <td id=\"T_4a32b_row6_col4\" class=\"data row6 col4\" >0.01</td>\n",
       "      <td id=\"T_4a32b_row6_col5\" class=\"data row6 col5\" >0.00</td>\n",
       "      <td id=\"T_4a32b_row6_col6\" class=\"data row6 col6\" >0.23</td>\n",
       "      <td id=\"T_4a32b_row6_col7\" class=\"data row6 col7\" >1.00</td>\n",
       "      <td id=\"T_4a32b_row6_col8\" class=\"data row6 col8\" >1.00</td>\n",
       "      <td id=\"T_4a32b_row6_col9\" class=\"data row6 col9\" >1.00</td>\n",
       "      <td id=\"T_4a32b_row6_col10\" class=\"data row6 col10\" >0.99</td>\n",
       "      <td id=\"T_4a32b_row6_col11\" class=\"data row6 col11\" >1.00</td>\n",
       "      <td id=\"T_4a32b_row6_col12\" class=\"data row6 col12\" >0.90</td>\n",
       "      <td id=\"T_4a32b_row6_col13\" class=\"data row6 col13\" >0.09</td>\n",
       "      <td id=\"T_4a32b_row6_col14\" class=\"data row6 col14\" >0.00</td>\n",
       "      <td id=\"T_4a32b_row6_col15\" class=\"data row6 col15\" >0.00</td>\n",
       "      <td id=\"T_4a32b_row6_col16\" class=\"data row6 col16\" >0.00</td>\n",
       "      <td id=\"T_4a32b_row6_col17\" class=\"data row6 col17\" >0.00</td>\n",
       "      <td id=\"T_4a32b_row6_col18\" class=\"data row6 col18\" >0.00</td>\n",
       "      <td id=\"T_4a32b_row6_col19\" class=\"data row6 col19\" >0.00</td>\n",
       "      <td id=\"T_4a32b_row6_col20\" class=\"data row6 col20\" >0.00</td>\n",
       "      <td id=\"T_4a32b_row6_col21\" class=\"data row6 col21\" >0.00</td>\n",
       "      <td id=\"T_4a32b_row6_col22\" class=\"data row6 col22\" >0.00</td>\n",
       "    </tr>\n",
       "    <tr>\n",
       "      <th id=\"T_4a32b_level0_row7\" class=\"row_heading level0 row7\" >7</th>\n",
       "      <td id=\"T_4a32b_row7_col0\" class=\"data row7 col0\" >0.00</td>\n",
       "      <td id=\"T_4a32b_row7_col1\" class=\"data row7 col1\" >0.00</td>\n",
       "      <td id=\"T_4a32b_row7_col2\" class=\"data row7 col2\" >0.00</td>\n",
       "      <td id=\"T_4a32b_row7_col3\" class=\"data row7 col3\" >0.00</td>\n",
       "      <td id=\"T_4a32b_row7_col4\" class=\"data row7 col4\" >0.02</td>\n",
       "      <td id=\"T_4a32b_row7_col5\" class=\"data row7 col5\" >0.00</td>\n",
       "      <td id=\"T_4a32b_row7_col6\" class=\"data row7 col6\" >0.44</td>\n",
       "      <td id=\"T_4a32b_row7_col7\" class=\"data row7 col7\" >1.00</td>\n",
       "      <td id=\"T_4a32b_row7_col8\" class=\"data row7 col8\" >0.99</td>\n",
       "      <td id=\"T_4a32b_row7_col9\" class=\"data row7 col9\" >1.00</td>\n",
       "      <td id=\"T_4a32b_row7_col10\" class=\"data row7 col10\" >0.99</td>\n",
       "      <td id=\"T_4a32b_row7_col11\" class=\"data row7 col11\" >1.00</td>\n",
       "      <td id=\"T_4a32b_row7_col12\" class=\"data row7 col12\" >0.78</td>\n",
       "      <td id=\"T_4a32b_row7_col13\" class=\"data row7 col13\" >0.00</td>\n",
       "      <td id=\"T_4a32b_row7_col14\" class=\"data row7 col14\" >0.01</td>\n",
       "      <td id=\"T_4a32b_row7_col15\" class=\"data row7 col15\" >0.00</td>\n",
       "      <td id=\"T_4a32b_row7_col16\" class=\"data row7 col16\" >0.00</td>\n",
       "      <td id=\"T_4a32b_row7_col17\" class=\"data row7 col17\" >0.00</td>\n",
       "      <td id=\"T_4a32b_row7_col18\" class=\"data row7 col18\" >0.00</td>\n",
       "      <td id=\"T_4a32b_row7_col19\" class=\"data row7 col19\" >0.00</td>\n",
       "      <td id=\"T_4a32b_row7_col20\" class=\"data row7 col20\" >0.00</td>\n",
       "      <td id=\"T_4a32b_row7_col21\" class=\"data row7 col21\" >0.00</td>\n",
       "      <td id=\"T_4a32b_row7_col22\" class=\"data row7 col22\" >0.00</td>\n",
       "    </tr>\n",
       "    <tr>\n",
       "      <th id=\"T_4a32b_level0_row8\" class=\"row_heading level0 row8\" >8</th>\n",
       "      <td id=\"T_4a32b_row8_col0\" class=\"data row8 col0\" >0.00</td>\n",
       "      <td id=\"T_4a32b_row8_col1\" class=\"data row8 col1\" >0.00</td>\n",
       "      <td id=\"T_4a32b_row8_col2\" class=\"data row8 col2\" >0.00</td>\n",
       "      <td id=\"T_4a32b_row8_col3\" class=\"data row8 col3\" >0.00</td>\n",
       "      <td id=\"T_4a32b_row8_col4\" class=\"data row8 col4\" >0.02</td>\n",
       "      <td id=\"T_4a32b_row8_col5\" class=\"data row8 col5\" >0.00</td>\n",
       "      <td id=\"T_4a32b_row8_col6\" class=\"data row8 col6\" >0.62</td>\n",
       "      <td id=\"T_4a32b_row8_col7\" class=\"data row8 col7\" >1.00</td>\n",
       "      <td id=\"T_4a32b_row8_col8\" class=\"data row8 col8\" >0.98</td>\n",
       "      <td id=\"T_4a32b_row8_col9\" class=\"data row8 col9\" >1.00</td>\n",
       "      <td id=\"T_4a32b_row8_col10\" class=\"data row8 col10\" >0.99</td>\n",
       "      <td id=\"T_4a32b_row8_col11\" class=\"data row8 col11\" >1.00</td>\n",
       "      <td id=\"T_4a32b_row8_col12\" class=\"data row8 col12\" >0.58</td>\n",
       "      <td id=\"T_4a32b_row8_col13\" class=\"data row8 col13\" >0.00</td>\n",
       "      <td id=\"T_4a32b_row8_col14\" class=\"data row8 col14\" >0.01</td>\n",
       "      <td id=\"T_4a32b_row8_col15\" class=\"data row8 col15\" >0.00</td>\n",
       "      <td id=\"T_4a32b_row8_col16\" class=\"data row8 col16\" >0.00</td>\n",
       "      <td id=\"T_4a32b_row8_col17\" class=\"data row8 col17\" >0.00</td>\n",
       "      <td id=\"T_4a32b_row8_col18\" class=\"data row8 col18\" >0.00</td>\n",
       "      <td id=\"T_4a32b_row8_col19\" class=\"data row8 col19\" >0.00</td>\n",
       "      <td id=\"T_4a32b_row8_col20\" class=\"data row8 col20\" >0.00</td>\n",
       "      <td id=\"T_4a32b_row8_col21\" class=\"data row8 col21\" >0.01</td>\n",
       "      <td id=\"T_4a32b_row8_col22\" class=\"data row8 col22\" >0.01</td>\n",
       "    </tr>\n",
       "    <tr>\n",
       "      <th id=\"T_4a32b_level0_row9\" class=\"row_heading level0 row9\" >9</th>\n",
       "      <td id=\"T_4a32b_row9_col0\" class=\"data row9 col0\" >0.00</td>\n",
       "      <td id=\"T_4a32b_row9_col1\" class=\"data row9 col1\" >0.00</td>\n",
       "      <td id=\"T_4a32b_row9_col2\" class=\"data row9 col2\" >0.00</td>\n",
       "      <td id=\"T_4a32b_row9_col3\" class=\"data row9 col3\" >0.00</td>\n",
       "      <td id=\"T_4a32b_row9_col4\" class=\"data row9 col4\" >0.00</td>\n",
       "      <td id=\"T_4a32b_row9_col5\" class=\"data row9 col5\" >0.03</td>\n",
       "      <td id=\"T_4a32b_row9_col6\" class=\"data row9 col6\" >0.78</td>\n",
       "      <td id=\"T_4a32b_row9_col7\" class=\"data row9 col7\" >1.00</td>\n",
       "      <td id=\"T_4a32b_row9_col8\" class=\"data row9 col8\" >0.99</td>\n",
       "      <td id=\"T_4a32b_row9_col9\" class=\"data row9 col9\" >1.00</td>\n",
       "      <td id=\"T_4a32b_row9_col10\" class=\"data row9 col10\" >0.99</td>\n",
       "      <td id=\"T_4a32b_row9_col11\" class=\"data row9 col11\" >1.00</td>\n",
       "      <td id=\"T_4a32b_row9_col12\" class=\"data row9 col12\" >0.36</td>\n",
       "      <td id=\"T_4a32b_row9_col13\" class=\"data row9 col13\" >0.00</td>\n",
       "      <td id=\"T_4a32b_row9_col14\" class=\"data row9 col14\" >0.01</td>\n",
       "      <td id=\"T_4a32b_row9_col15\" class=\"data row9 col15\" >0.00</td>\n",
       "      <td id=\"T_4a32b_row9_col16\" class=\"data row9 col16\" >0.00</td>\n",
       "      <td id=\"T_4a32b_row9_col17\" class=\"data row9 col17\" >0.00</td>\n",
       "      <td id=\"T_4a32b_row9_col18\" class=\"data row9 col18\" >0.00</td>\n",
       "      <td id=\"T_4a32b_row9_col19\" class=\"data row9 col19\" >0.01</td>\n",
       "      <td id=\"T_4a32b_row9_col20\" class=\"data row9 col20\" >0.01</td>\n",
       "      <td id=\"T_4a32b_row9_col21\" class=\"data row9 col21\" >0.00</td>\n",
       "      <td id=\"T_4a32b_row9_col22\" class=\"data row9 col22\" >0.00</td>\n",
       "    </tr>\n",
       "    <tr>\n",
       "      <th id=\"T_4a32b_level0_row10\" class=\"row_heading level0 row10\" >10</th>\n",
       "      <td id=\"T_4a32b_row10_col0\" class=\"data row10 col0\" >0.00</td>\n",
       "      <td id=\"T_4a32b_row10_col1\" class=\"data row10 col1\" >0.00</td>\n",
       "      <td id=\"T_4a32b_row10_col2\" class=\"data row10 col2\" >0.00</td>\n",
       "      <td id=\"T_4a32b_row10_col3\" class=\"data row10 col3\" >0.01</td>\n",
       "      <td id=\"T_4a32b_row10_col4\" class=\"data row10 col4\" >0.00</td>\n",
       "      <td id=\"T_4a32b_row10_col5\" class=\"data row10 col5\" >0.12</td>\n",
       "      <td id=\"T_4a32b_row10_col6\" class=\"data row10 col6\" >0.95</td>\n",
       "      <td id=\"T_4a32b_row10_col7\" class=\"data row10 col7\" >1.00</td>\n",
       "      <td id=\"T_4a32b_row10_col8\" class=\"data row10 col8\" >1.00</td>\n",
       "      <td id=\"T_4a32b_row10_col9\" class=\"data row10 col9\" >1.00</td>\n",
       "      <td id=\"T_4a32b_row10_col10\" class=\"data row10 col10\" >1.00</td>\n",
       "      <td id=\"T_4a32b_row10_col11\" class=\"data row10 col11\" >1.00</td>\n",
       "      <td id=\"T_4a32b_row10_col12\" class=\"data row10 col12\" >0.20</td>\n",
       "      <td id=\"T_4a32b_row10_col13\" class=\"data row10 col13\" >0.00</td>\n",
       "      <td id=\"T_4a32b_row10_col14\" class=\"data row10 col14\" >0.02</td>\n",
       "      <td id=\"T_4a32b_row10_col15\" class=\"data row10 col15\" >0.01</td>\n",
       "      <td id=\"T_4a32b_row10_col16\" class=\"data row10 col16\" >0.01</td>\n",
       "      <td id=\"T_4a32b_row10_col17\" class=\"data row10 col17\" >0.02</td>\n",
       "      <td id=\"T_4a32b_row10_col18\" class=\"data row10 col18\" >0.00</td>\n",
       "      <td id=\"T_4a32b_row10_col19\" class=\"data row10 col19\" >0.00</td>\n",
       "      <td id=\"T_4a32b_row10_col20\" class=\"data row10 col20\" >0.00</td>\n",
       "      <td id=\"T_4a32b_row10_col21\" class=\"data row10 col21\" >0.23</td>\n",
       "      <td id=\"T_4a32b_row10_col22\" class=\"data row10 col22\" >0.37</td>\n",
       "    </tr>\n",
       "    <tr>\n",
       "      <th id=\"T_4a32b_level0_row11\" class=\"row_heading level0 row11\" >11</th>\n",
       "      <td id=\"T_4a32b_row11_col0\" class=\"data row11 col0\" >0.00</td>\n",
       "      <td id=\"T_4a32b_row11_col1\" class=\"data row11 col1\" >0.00</td>\n",
       "      <td id=\"T_4a32b_row11_col2\" class=\"data row11 col2\" >0.00</td>\n",
       "      <td id=\"T_4a32b_row11_col3\" class=\"data row11 col3\" >0.01</td>\n",
       "      <td id=\"T_4a32b_row11_col4\" class=\"data row11 col4\" >0.00</td>\n",
       "      <td id=\"T_4a32b_row11_col5\" class=\"data row11 col5\" >0.25</td>\n",
       "      <td id=\"T_4a32b_row11_col6\" class=\"data row11 col6\" >1.00</td>\n",
       "      <td id=\"T_4a32b_row11_col7\" class=\"data row11 col7\" >0.99</td>\n",
       "      <td id=\"T_4a32b_row11_col8\" class=\"data row11 col8\" >1.00</td>\n",
       "      <td id=\"T_4a32b_row11_col9\" class=\"data row11 col9\" >0.99</td>\n",
       "      <td id=\"T_4a32b_row11_col10\" class=\"data row11 col10\" >1.00</td>\n",
       "      <td id=\"T_4a32b_row11_col11\" class=\"data row11 col11\" >0.84</td>\n",
       "      <td id=\"T_4a32b_row11_col12\" class=\"data row11 col12\" >0.06</td>\n",
       "      <td id=\"T_4a32b_row11_col13\" class=\"data row11 col13\" >0.00</td>\n",
       "      <td id=\"T_4a32b_row11_col14\" class=\"data row11 col14\" >0.00</td>\n",
       "      <td id=\"T_4a32b_row11_col15\" class=\"data row11 col15\" >0.00</td>\n",
       "      <td id=\"T_4a32b_row11_col16\" class=\"data row11 col16\" >0.00</td>\n",
       "      <td id=\"T_4a32b_row11_col17\" class=\"data row11 col17\" >0.00</td>\n",
       "      <td id=\"T_4a32b_row11_col18\" class=\"data row11 col18\" >0.02</td>\n",
       "      <td id=\"T_4a32b_row11_col19\" class=\"data row11 col19\" >0.27</td>\n",
       "      <td id=\"T_4a32b_row11_col20\" class=\"data row11 col20\" >0.67</td>\n",
       "      <td id=\"T_4a32b_row11_col21\" class=\"data row11 col21\" >1.00</td>\n",
       "      <td id=\"T_4a32b_row11_col22\" class=\"data row11 col22\" >0.46</td>\n",
       "    </tr>\n",
       "    <tr>\n",
       "      <th id=\"T_4a32b_level0_row12\" class=\"row_heading level0 row12\" >12</th>\n",
       "      <td id=\"T_4a32b_row12_col0\" class=\"data row12 col0\" >0.00</td>\n",
       "      <td id=\"T_4a32b_row12_col1\" class=\"data row12 col1\" >0.00</td>\n",
       "      <td id=\"T_4a32b_row12_col2\" class=\"data row12 col2\" >0.00</td>\n",
       "      <td id=\"T_4a32b_row12_col3\" class=\"data row12 col3\" >0.01</td>\n",
       "      <td id=\"T_4a32b_row12_col4\" class=\"data row12 col4\" >0.00</td>\n",
       "      <td id=\"T_4a32b_row12_col5\" class=\"data row12 col5\" >0.47</td>\n",
       "      <td id=\"T_4a32b_row12_col6\" class=\"data row12 col6\" >1.00</td>\n",
       "      <td id=\"T_4a32b_row12_col7\" class=\"data row12 col7\" >0.99</td>\n",
       "      <td id=\"T_4a32b_row12_col8\" class=\"data row12 col8\" >1.00</td>\n",
       "      <td id=\"T_4a32b_row12_col9\" class=\"data row12 col9\" >0.99</td>\n",
       "      <td id=\"T_4a32b_row12_col10\" class=\"data row12 col10\" >1.00</td>\n",
       "      <td id=\"T_4a32b_row12_col11\" class=\"data row12 col11\" >0.75</td>\n",
       "      <td id=\"T_4a32b_row12_col12\" class=\"data row12 col12\" >0.09</td>\n",
       "      <td id=\"T_4a32b_row12_col13\" class=\"data row12 col13\" >0.13</td>\n",
       "      <td id=\"T_4a32b_row12_col14\" class=\"data row12 col14\" >0.12</td>\n",
       "      <td id=\"T_4a32b_row12_col15\" class=\"data row12 col15\" >0.14</td>\n",
       "      <td id=\"T_4a32b_row12_col16\" class=\"data row12 col16\" >0.28</td>\n",
       "      <td id=\"T_4a32b_row12_col17\" class=\"data row12 col17\" >0.53</td>\n",
       "      <td id=\"T_4a32b_row12_col18\" class=\"data row12 col18\" >0.82</td>\n",
       "      <td id=\"T_4a32b_row12_col19\" class=\"data row12 col19\" >1.00</td>\n",
       "      <td id=\"T_4a32b_row12_col20\" class=\"data row12 col20\" >1.00</td>\n",
       "      <td id=\"T_4a32b_row12_col21\" class=\"data row12 col21\" >1.00</td>\n",
       "      <td id=\"T_4a32b_row12_col22\" class=\"data row12 col22\" >0.18</td>\n",
       "    </tr>\n",
       "    <tr>\n",
       "      <th id=\"T_4a32b_level0_row13\" class=\"row_heading level0 row13\" >13</th>\n",
       "      <td id=\"T_4a32b_row13_col0\" class=\"data row13 col0\" >0.00</td>\n",
       "      <td id=\"T_4a32b_row13_col1\" class=\"data row13 col1\" >0.00</td>\n",
       "      <td id=\"T_4a32b_row13_col2\" class=\"data row13 col2\" >0.00</td>\n",
       "      <td id=\"T_4a32b_row13_col3\" class=\"data row13 col3\" >0.01</td>\n",
       "      <td id=\"T_4a32b_row13_col4\" class=\"data row13 col4\" >0.00</td>\n",
       "      <td id=\"T_4a32b_row13_col5\" class=\"data row13 col5\" >0.68</td>\n",
       "      <td id=\"T_4a32b_row13_col6\" class=\"data row13 col6\" >1.00</td>\n",
       "      <td id=\"T_4a32b_row13_col7\" class=\"data row13 col7\" >0.99</td>\n",
       "      <td id=\"T_4a32b_row13_col8\" class=\"data row13 col8\" >1.00</td>\n",
       "      <td id=\"T_4a32b_row13_col9\" class=\"data row13 col9\" >1.00</td>\n",
       "      <td id=\"T_4a32b_row13_col10\" class=\"data row13 col10\" >1.00</td>\n",
       "      <td id=\"T_4a32b_row13_col11\" class=\"data row13 col11\" >1.00</td>\n",
       "      <td id=\"T_4a32b_row13_col12\" class=\"data row13 col12\" >1.00</td>\n",
       "      <td id=\"T_4a32b_row13_col13\" class=\"data row13 col13\" >1.00</td>\n",
       "      <td id=\"T_4a32b_row13_col14\" class=\"data row13 col14\" >1.00</td>\n",
       "      <td id=\"T_4a32b_row13_col15\" class=\"data row13 col15\" >1.00</td>\n",
       "      <td id=\"T_4a32b_row13_col16\" class=\"data row13 col16\" >1.00</td>\n",
       "      <td id=\"T_4a32b_row13_col17\" class=\"data row13 col17\" >1.00</td>\n",
       "      <td id=\"T_4a32b_row13_col18\" class=\"data row13 col18\" >1.00</td>\n",
       "      <td id=\"T_4a32b_row13_col19\" class=\"data row13 col19\" >0.99</td>\n",
       "      <td id=\"T_4a32b_row13_col20\" class=\"data row13 col20\" >1.00</td>\n",
       "      <td id=\"T_4a32b_row13_col21\" class=\"data row13 col21\" >0.84</td>\n",
       "      <td id=\"T_4a32b_row13_col22\" class=\"data row13 col22\" >0.06</td>\n",
       "    </tr>\n",
       "    <tr>\n",
       "      <th id=\"T_4a32b_level0_row14\" class=\"row_heading level0 row14\" >14</th>\n",
       "      <td id=\"T_4a32b_row14_col0\" class=\"data row14 col0\" >0.00</td>\n",
       "      <td id=\"T_4a32b_row14_col1\" class=\"data row14 col1\" >0.00</td>\n",
       "      <td id=\"T_4a32b_row14_col2\" class=\"data row14 col2\" >0.00</td>\n",
       "      <td id=\"T_4a32b_row14_col3\" class=\"data row14 col3\" >0.00</td>\n",
       "      <td id=\"T_4a32b_row14_col4\" class=\"data row14 col4\" >0.02</td>\n",
       "      <td id=\"T_4a32b_row14_col5\" class=\"data row14 col5\" >0.82</td>\n",
       "      <td id=\"T_4a32b_row14_col6\" class=\"data row14 col6\" >1.00</td>\n",
       "      <td id=\"T_4a32b_row14_col7\" class=\"data row14 col7\" >0.99</td>\n",
       "      <td id=\"T_4a32b_row14_col8\" class=\"data row14 col8\" >1.00</td>\n",
       "      <td id=\"T_4a32b_row14_col9\" class=\"data row14 col9\" >1.00</td>\n",
       "      <td id=\"T_4a32b_row14_col10\" class=\"data row14 col10\" >1.00</td>\n",
       "      <td id=\"T_4a32b_row14_col11\" class=\"data row14 col11\" >0.75</td>\n",
       "      <td id=\"T_4a32b_row14_col12\" class=\"data row14 col12\" >0.66</td>\n",
       "      <td id=\"T_4a32b_row14_col13\" class=\"data row14 col13\" >0.67</td>\n",
       "      <td id=\"T_4a32b_row14_col14\" class=\"data row14 col14\" >0.67</td>\n",
       "      <td id=\"T_4a32b_row14_col15\" class=\"data row14 col15\" >0.71</td>\n",
       "      <td id=\"T_4a32b_row14_col16\" class=\"data row14 col16\" >0.92</td>\n",
       "      <td id=\"T_4a32b_row14_col17\" class=\"data row14 col17\" >1.00</td>\n",
       "      <td id=\"T_4a32b_row14_col18\" class=\"data row14 col18\" >1.00</td>\n",
       "      <td id=\"T_4a32b_row14_col19\" class=\"data row14 col19\" >0.97</td>\n",
       "      <td id=\"T_4a32b_row14_col20\" class=\"data row14 col20\" >1.00</td>\n",
       "      <td id=\"T_4a32b_row14_col21\" class=\"data row14 col21\" >0.64</td>\n",
       "      <td id=\"T_4a32b_row14_col22\" class=\"data row14 col22\" >0.00</td>\n",
       "    </tr>\n",
       "    <tr>\n",
       "      <th id=\"T_4a32b_level0_row15\" class=\"row_heading level0 row15\" >15</th>\n",
       "      <td id=\"T_4a32b_row15_col0\" class=\"data row15 col0\" >0.00</td>\n",
       "      <td id=\"T_4a32b_row15_col1\" class=\"data row15 col1\" >0.00</td>\n",
       "      <td id=\"T_4a32b_row15_col2\" class=\"data row15 col2\" >0.01</td>\n",
       "      <td id=\"T_4a32b_row15_col3\" class=\"data row15 col3\" >0.00</td>\n",
       "      <td id=\"T_4a32b_row15_col4\" class=\"data row15 col4\" >0.17</td>\n",
       "      <td id=\"T_4a32b_row15_col5\" class=\"data row15 col5\" >0.95</td>\n",
       "      <td id=\"T_4a32b_row15_col6\" class=\"data row15 col6\" >1.00</td>\n",
       "      <td id=\"T_4a32b_row15_col7\" class=\"data row15 col7\" >1.00</td>\n",
       "      <td id=\"T_4a32b_row15_col8\" class=\"data row15 col8\" >1.00</td>\n",
       "      <td id=\"T_4a32b_row15_col9\" class=\"data row15 col9\" >1.00</td>\n",
       "      <td id=\"T_4a32b_row15_col10\" class=\"data row15 col10\" >0.97</td>\n",
       "      <td id=\"T_4a32b_row15_col11\" class=\"data row15 col11\" >0.09</td>\n",
       "      <td id=\"T_4a32b_row15_col12\" class=\"data row15 col12\" >0.00</td>\n",
       "      <td id=\"T_4a32b_row15_col13\" class=\"data row15 col13\" >0.00</td>\n",
       "      <td id=\"T_4a32b_row15_col14\" class=\"data row15 col14\" >0.00</td>\n",
       "      <td id=\"T_4a32b_row15_col15\" class=\"data row15 col15\" >0.00</td>\n",
       "      <td id=\"T_4a32b_row15_col16\" class=\"data row15 col16\" >0.08</td>\n",
       "      <td id=\"T_4a32b_row15_col17\" class=\"data row15 col17\" >0.45</td>\n",
       "      <td id=\"T_4a32b_row15_col18\" class=\"data row15 col18\" >0.89</td>\n",
       "      <td id=\"T_4a32b_row15_col19\" class=\"data row15 col19\" >1.00</td>\n",
       "      <td id=\"T_4a32b_row15_col20\" class=\"data row15 col20\" >1.00</td>\n",
       "      <td id=\"T_4a32b_row15_col21\" class=\"data row15 col21\" >0.43</td>\n",
       "      <td id=\"T_4a32b_row15_col22\" class=\"data row15 col22\" >0.00</td>\n",
       "    </tr>\n",
       "    <tr>\n",
       "      <th id=\"T_4a32b_level0_row16\" class=\"row_heading level0 row16\" >16</th>\n",
       "      <td id=\"T_4a32b_row16_col0\" class=\"data row16 col0\" >0.00</td>\n",
       "      <td id=\"T_4a32b_row16_col1\" class=\"data row16 col1\" >0.00</td>\n",
       "      <td id=\"T_4a32b_row16_col2\" class=\"data row16 col2\" >0.02</td>\n",
       "      <td id=\"T_4a32b_row16_col3\" class=\"data row16 col3\" >0.00</td>\n",
       "      <td id=\"T_4a32b_row16_col4\" class=\"data row16 col4\" >0.31</td>\n",
       "      <td id=\"T_4a32b_row16_col5\" class=\"data row16 col5\" >1.00</td>\n",
       "      <td id=\"T_4a32b_row16_col6\" class=\"data row16 col6\" >0.99</td>\n",
       "      <td id=\"T_4a32b_row16_col7\" class=\"data row16 col7\" >1.00</td>\n",
       "      <td id=\"T_4a32b_row16_col8\" class=\"data row16 col8\" >0.99</td>\n",
       "      <td id=\"T_4a32b_row16_col9\" class=\"data row16 col9\" >1.00</td>\n",
       "      <td id=\"T_4a32b_row16_col10\" class=\"data row16 col10\" >0.80</td>\n",
       "      <td id=\"T_4a32b_row16_col11\" class=\"data row16 col11\" >0.04</td>\n",
       "      <td id=\"T_4a32b_row16_col12\" class=\"data row16 col12\" >0.01</td>\n",
       "      <td id=\"T_4a32b_row16_col13\" class=\"data row16 col13\" >0.02</td>\n",
       "      <td id=\"T_4a32b_row16_col14\" class=\"data row16 col14\" >0.02</td>\n",
       "      <td id=\"T_4a32b_row16_col15\" class=\"data row16 col15\" >0.01</td>\n",
       "      <td id=\"T_4a32b_row16_col16\" class=\"data row16 col16\" >0.00</td>\n",
       "      <td id=\"T_4a32b_row16_col17\" class=\"data row16 col17\" >0.00</td>\n",
       "      <td id=\"T_4a32b_row16_col18\" class=\"data row16 col18\" >0.05</td>\n",
       "      <td id=\"T_4a32b_row16_col19\" class=\"data row16 col19\" >0.51</td>\n",
       "      <td id=\"T_4a32b_row16_col20\" class=\"data row16 col20\" >0.93</td>\n",
       "      <td id=\"T_4a32b_row16_col21\" class=\"data row16 col21\" >0.18</td>\n",
       "      <td id=\"T_4a32b_row16_col22\" class=\"data row16 col22\" >0.00</td>\n",
       "    </tr>\n",
       "    <tr>\n",
       "      <th id=\"T_4a32b_level0_row17\" class=\"row_heading level0 row17\" >17</th>\n",
       "      <td id=\"T_4a32b_row17_col0\" class=\"data row17 col0\" >0.00</td>\n",
       "      <td id=\"T_4a32b_row17_col1\" class=\"data row17 col1\" >0.00</td>\n",
       "      <td id=\"T_4a32b_row17_col2\" class=\"data row17 col2\" >0.01</td>\n",
       "      <td id=\"T_4a32b_row17_col3\" class=\"data row17 col3\" >0.00</td>\n",
       "      <td id=\"T_4a32b_row17_col4\" class=\"data row17 col4\" >0.50</td>\n",
       "      <td id=\"T_4a32b_row17_col5\" class=\"data row17 col5\" >1.00</td>\n",
       "      <td id=\"T_4a32b_row17_col6\" class=\"data row17 col6\" >0.98</td>\n",
       "      <td id=\"T_4a32b_row17_col7\" class=\"data row17 col7\" >1.00</td>\n",
       "      <td id=\"T_4a32b_row17_col8\" class=\"data row17 col8\" >0.98</td>\n",
       "      <td id=\"T_4a32b_row17_col9\" class=\"data row17 col9\" >1.00</td>\n",
       "      <td id=\"T_4a32b_row17_col10\" class=\"data row17 col10\" >0.61</td>\n",
       "      <td id=\"T_4a32b_row17_col11\" class=\"data row17 col11\" >0.00</td>\n",
       "      <td id=\"T_4a32b_row17_col12\" class=\"data row17 col12\" >0.01</td>\n",
       "      <td id=\"T_4a32b_row17_col13\" class=\"data row17 col13\" >0.00</td>\n",
       "      <td id=\"T_4a32b_row17_col14\" class=\"data row17 col14\" >0.00</td>\n",
       "      <td id=\"T_4a32b_row17_col15\" class=\"data row17 col15\" >0.00</td>\n",
       "      <td id=\"T_4a32b_row17_col16\" class=\"data row17 col16\" >0.01</td>\n",
       "      <td id=\"T_4a32b_row17_col17\" class=\"data row17 col17\" >0.01</td>\n",
       "      <td id=\"T_4a32b_row17_col18\" class=\"data row17 col18\" >0.00</td>\n",
       "      <td id=\"T_4a32b_row17_col19\" class=\"data row17 col19\" >0.00</td>\n",
       "      <td id=\"T_4a32b_row17_col20\" class=\"data row17 col20\" >0.12</td>\n",
       "      <td id=\"T_4a32b_row17_col21\" class=\"data row17 col21\" >0.03</td>\n",
       "      <td id=\"T_4a32b_row17_col22\" class=\"data row17 col22\" >0.00</td>\n",
       "    </tr>\n",
       "    <tr>\n",
       "      <th id=\"T_4a32b_level0_row18\" class=\"row_heading level0 row18\" >18</th>\n",
       "      <td id=\"T_4a32b_row18_col0\" class=\"data row18 col0\" >0.00</td>\n",
       "      <td id=\"T_4a32b_row18_col1\" class=\"data row18 col1\" >0.00</td>\n",
       "      <td id=\"T_4a32b_row18_col2\" class=\"data row18 col2\" >0.00</td>\n",
       "      <td id=\"T_4a32b_row18_col3\" class=\"data row18 col3\" >0.00</td>\n",
       "      <td id=\"T_4a32b_row18_col4\" class=\"data row18 col4\" >0.71</td>\n",
       "      <td id=\"T_4a32b_row18_col5\" class=\"data row18 col5\" >1.00</td>\n",
       "      <td id=\"T_4a32b_row18_col6\" class=\"data row18 col6\" >0.99</td>\n",
       "      <td id=\"T_4a32b_row18_col7\" class=\"data row18 col7\" >1.00</td>\n",
       "      <td id=\"T_4a32b_row18_col8\" class=\"data row18 col8\" >0.99</td>\n",
       "      <td id=\"T_4a32b_row18_col9\" class=\"data row18 col9\" >1.00</td>\n",
       "      <td id=\"T_4a32b_row18_col10\" class=\"data row18 col10\" >0.44</td>\n",
       "      <td id=\"T_4a32b_row18_col11\" class=\"data row18 col11\" >0.00</td>\n",
       "      <td id=\"T_4a32b_row18_col12\" class=\"data row18 col12\" >0.02</td>\n",
       "      <td id=\"T_4a32b_row18_col13\" class=\"data row18 col13\" >0.00</td>\n",
       "      <td id=\"T_4a32b_row18_col14\" class=\"data row18 col14\" >0.00</td>\n",
       "      <td id=\"T_4a32b_row18_col15\" class=\"data row18 col15\" >0.00</td>\n",
       "      <td id=\"T_4a32b_row18_col16\" class=\"data row18 col16\" >0.00</td>\n",
       "      <td id=\"T_4a32b_row18_col17\" class=\"data row18 col17\" >0.00</td>\n",
       "      <td id=\"T_4a32b_row18_col18\" class=\"data row18 col18\" >0.01</td>\n",
       "      <td id=\"T_4a32b_row18_col19\" class=\"data row18 col19\" >0.01</td>\n",
       "      <td id=\"T_4a32b_row18_col20\" class=\"data row18 col20\" >0.00</td>\n",
       "      <td id=\"T_4a32b_row18_col21\" class=\"data row18 col21\" >0.00</td>\n",
       "      <td id=\"T_4a32b_row18_col22\" class=\"data row18 col22\" >0.00</td>\n",
       "    </tr>\n",
       "    <tr>\n",
       "      <th id=\"T_4a32b_level0_row19\" class=\"row_heading level0 row19\" >19</th>\n",
       "      <td id=\"T_4a32b_row19_col0\" class=\"data row19 col0\" >0.00</td>\n",
       "      <td id=\"T_4a32b_row19_col1\" class=\"data row19 col1\" >0.00</td>\n",
       "      <td id=\"T_4a32b_row19_col2\" class=\"data row19 col2\" >0.00</td>\n",
       "      <td id=\"T_4a32b_row19_col3\" class=\"data row19 col3\" >0.03</td>\n",
       "      <td id=\"T_4a32b_row19_col4\" class=\"data row19 col4\" >0.89</td>\n",
       "      <td id=\"T_4a32b_row19_col5\" class=\"data row19 col5\" >1.00</td>\n",
       "      <td id=\"T_4a32b_row19_col6\" class=\"data row19 col6\" >1.00</td>\n",
       "      <td id=\"T_4a32b_row19_col7\" class=\"data row19 col7\" >1.00</td>\n",
       "      <td id=\"T_4a32b_row19_col8\" class=\"data row19 col8\" >1.00</td>\n",
       "      <td id=\"T_4a32b_row19_col9\" class=\"data row19 col9\" >0.99</td>\n",
       "      <td id=\"T_4a32b_row19_col10\" class=\"data row19 col10\" >0.25</td>\n",
       "      <td id=\"T_4a32b_row19_col11\" class=\"data row19 col11\" >0.00</td>\n",
       "      <td id=\"T_4a32b_row19_col12\" class=\"data row19 col12\" >0.01</td>\n",
       "      <td id=\"T_4a32b_row19_col13\" class=\"data row19 col13\" >0.00</td>\n",
       "      <td id=\"T_4a32b_row19_col14\" class=\"data row19 col14\" >0.00</td>\n",
       "      <td id=\"T_4a32b_row19_col15\" class=\"data row19 col15\" >0.00</td>\n",
       "      <td id=\"T_4a32b_row19_col16\" class=\"data row19 col16\" >0.00</td>\n",
       "      <td id=\"T_4a32b_row19_col17\" class=\"data row19 col17\" >0.00</td>\n",
       "      <td id=\"T_4a32b_row19_col18\" class=\"data row19 col18\" >0.00</td>\n",
       "      <td id=\"T_4a32b_row19_col19\" class=\"data row19 col19\" >0.00</td>\n",
       "      <td id=\"T_4a32b_row19_col20\" class=\"data row19 col20\" >0.01</td>\n",
       "      <td id=\"T_4a32b_row19_col21\" class=\"data row19 col21\" >0.00</td>\n",
       "      <td id=\"T_4a32b_row19_col22\" class=\"data row19 col22\" >0.00</td>\n",
       "    </tr>\n",
       "    <tr>\n",
       "      <th id=\"T_4a32b_level0_row20\" class=\"row_heading level0 row20\" >20</th>\n",
       "      <td id=\"T_4a32b_row20_col0\" class=\"data row20 col0\" >0.00</td>\n",
       "      <td id=\"T_4a32b_row20_col1\" class=\"data row20 col1\" >0.01</td>\n",
       "      <td id=\"T_4a32b_row20_col2\" class=\"data row20 col2\" >0.00</td>\n",
       "      <td id=\"T_4a32b_row20_col3\" class=\"data row20 col3\" >0.20</td>\n",
       "      <td id=\"T_4a32b_row20_col4\" class=\"data row20 col4\" >0.97</td>\n",
       "      <td id=\"T_4a32b_row20_col5\" class=\"data row20 col5\" >1.00</td>\n",
       "      <td id=\"T_4a32b_row20_col6\" class=\"data row20 col6\" >1.00</td>\n",
       "      <td id=\"T_4a32b_row20_col7\" class=\"data row20 col7\" >1.00</td>\n",
       "      <td id=\"T_4a32b_row20_col8\" class=\"data row20 col8\" >1.00</td>\n",
       "      <td id=\"T_4a32b_row20_col9\" class=\"data row20 col9\" >0.92</td>\n",
       "      <td id=\"T_4a32b_row20_col10\" class=\"data row20 col10\" >0.07</td>\n",
       "      <td id=\"T_4a32b_row20_col11\" class=\"data row20 col11\" >0.00</td>\n",
       "      <td id=\"T_4a32b_row20_col12\" class=\"data row20 col12\" >0.00</td>\n",
       "      <td id=\"T_4a32b_row20_col13\" class=\"data row20 col13\" >0.00</td>\n",
       "      <td id=\"T_4a32b_row20_col14\" class=\"data row20 col14\" >0.00</td>\n",
       "      <td id=\"T_4a32b_row20_col15\" class=\"data row20 col15\" >0.00</td>\n",
       "      <td id=\"T_4a32b_row20_col16\" class=\"data row20 col16\" >0.00</td>\n",
       "      <td id=\"T_4a32b_row20_col17\" class=\"data row20 col17\" >0.00</td>\n",
       "      <td id=\"T_4a32b_row20_col18\" class=\"data row20 col18\" >0.00</td>\n",
       "      <td id=\"T_4a32b_row20_col19\" class=\"data row20 col19\" >0.00</td>\n",
       "      <td id=\"T_4a32b_row20_col20\" class=\"data row20 col20\" >0.00</td>\n",
       "      <td id=\"T_4a32b_row20_col21\" class=\"data row20 col21\" >0.00</td>\n",
       "      <td id=\"T_4a32b_row20_col22\" class=\"data row20 col22\" >0.01</td>\n",
       "    </tr>\n",
       "    <tr>\n",
       "      <th id=\"T_4a32b_level0_row21\" class=\"row_heading level0 row21\" >21</th>\n",
       "      <td id=\"T_4a32b_row21_col0\" class=\"data row21 col0\" >0.00</td>\n",
       "      <td id=\"T_4a32b_row21_col1\" class=\"data row21 col1\" >0.02</td>\n",
       "      <td id=\"T_4a32b_row21_col2\" class=\"data row21 col2\" >0.00</td>\n",
       "      <td id=\"T_4a32b_row21_col3\" class=\"data row21 col3\" >0.38</td>\n",
       "      <td id=\"T_4a32b_row21_col4\" class=\"data row21 col4\" >1.00</td>\n",
       "      <td id=\"T_4a32b_row21_col5\" class=\"data row21 col5\" >0.99</td>\n",
       "      <td id=\"T_4a32b_row21_col6\" class=\"data row21 col6\" >1.00</td>\n",
       "      <td id=\"T_4a32b_row21_col7\" class=\"data row21 col7\" >0.99</td>\n",
       "      <td id=\"T_4a32b_row21_col8\" class=\"data row21 col8\" >1.00</td>\n",
       "      <td id=\"T_4a32b_row21_col9\" class=\"data row21 col9\" >0.78</td>\n",
       "      <td id=\"T_4a32b_row21_col10\" class=\"data row21 col10\" >0.00</td>\n",
       "      <td id=\"T_4a32b_row21_col11\" class=\"data row21 col11\" >0.00</td>\n",
       "      <td id=\"T_4a32b_row21_col12\" class=\"data row21 col12\" >0.00</td>\n",
       "      <td id=\"T_4a32b_row21_col13\" class=\"data row21 col13\" >0.00</td>\n",
       "      <td id=\"T_4a32b_row21_col14\" class=\"data row21 col14\" >0.00</td>\n",
       "      <td id=\"T_4a32b_row21_col15\" class=\"data row21 col15\" >0.00</td>\n",
       "      <td id=\"T_4a32b_row21_col16\" class=\"data row21 col16\" >0.00</td>\n",
       "      <td id=\"T_4a32b_row21_col17\" class=\"data row21 col17\" >0.00</td>\n",
       "      <td id=\"T_4a32b_row21_col18\" class=\"data row21 col18\" >0.00</td>\n",
       "      <td id=\"T_4a32b_row21_col19\" class=\"data row21 col19\" >0.00</td>\n",
       "      <td id=\"T_4a32b_row21_col20\" class=\"data row21 col20\" >0.01</td>\n",
       "      <td id=\"T_4a32b_row21_col21\" class=\"data row21 col21\" >0.01</td>\n",
       "      <td id=\"T_4a32b_row21_col22\" class=\"data row21 col22\" >0.00</td>\n",
       "    </tr>\n",
       "    <tr>\n",
       "      <th id=\"T_4a32b_level0_row22\" class=\"row_heading level0 row22\" >22</th>\n",
       "      <td id=\"T_4a32b_row22_col0\" class=\"data row22 col0\" >0.00</td>\n",
       "      <td id=\"T_4a32b_row22_col1\" class=\"data row22 col1\" >0.01</td>\n",
       "      <td id=\"T_4a32b_row22_col2\" class=\"data row22 col2\" >0.00</td>\n",
       "      <td id=\"T_4a32b_row22_col3\" class=\"data row22 col3\" >0.56</td>\n",
       "      <td id=\"T_4a32b_row22_col4\" class=\"data row22 col4\" >1.00</td>\n",
       "      <td id=\"T_4a32b_row22_col5\" class=\"data row22 col5\" >0.98</td>\n",
       "      <td id=\"T_4a32b_row22_col6\" class=\"data row22 col6\" >1.00</td>\n",
       "      <td id=\"T_4a32b_row22_col7\" class=\"data row22 col7\" >0.99</td>\n",
       "      <td id=\"T_4a32b_row22_col8\" class=\"data row22 col8\" >1.00</td>\n",
       "      <td id=\"T_4a32b_row22_col9\" class=\"data row22 col9\" >0.56</td>\n",
       "      <td id=\"T_4a32b_row22_col10\" class=\"data row22 col10\" >0.00</td>\n",
       "      <td id=\"T_4a32b_row22_col11\" class=\"data row22 col11\" >0.01</td>\n",
       "      <td id=\"T_4a32b_row22_col12\" class=\"data row22 col12\" >0.00</td>\n",
       "      <td id=\"T_4a32b_row22_col13\" class=\"data row22 col13\" >0.00</td>\n",
       "      <td id=\"T_4a32b_row22_col14\" class=\"data row22 col14\" >0.00</td>\n",
       "      <td id=\"T_4a32b_row22_col15\" class=\"data row22 col15\" >0.00</td>\n",
       "      <td id=\"T_4a32b_row22_col16\" class=\"data row22 col16\" >0.00</td>\n",
       "      <td id=\"T_4a32b_row22_col17\" class=\"data row22 col17\" >0.00</td>\n",
       "      <td id=\"T_4a32b_row22_col18\" class=\"data row22 col18\" >0.01</td>\n",
       "      <td id=\"T_4a32b_row22_col19\" class=\"data row22 col19\" >0.01</td>\n",
       "      <td id=\"T_4a32b_row22_col20\" class=\"data row22 col20\" >0.00</td>\n",
       "      <td id=\"T_4a32b_row22_col21\" class=\"data row22 col21\" >0.04</td>\n",
       "      <td id=\"T_4a32b_row22_col22\" class=\"data row22 col22\" >0.49</td>\n",
       "    </tr>\n",
       "  </tbody>\n",
       "</table>\n"
      ],
      "text/plain": [
       "<pandas.io.formats.style.Styler>"
      ]
     },
     "execution_count": null,
     "metadata": {},
     "output_type": "execute_result"
    }
   ],
   "source": [
    "df = pd.DataFrame(im3[:23, :23])\n",
    "df.style.format(precision=2).set_properties(**{'font-size': '7pt'}).background_gradient('binary')"
   ]
  },
  {
   "cell_type": "code",
   "execution_count": null,
   "id": "dc6116c9",
   "metadata": {},
   "outputs": [
    {
     "data": {
      "text/plain": [
       "tensor(3.00)"
      ]
     },
     "execution_count": null,
     "metadata": {},
     "output_type": "execute_result"
    }
   ],
   "source": [
    "(im3[11:14, 13:16] * top_edge).sum()"
   ]
  },
  {
   "cell_type": "code",
   "execution_count": null,
   "id": "90cf84cf",
   "metadata": {},
   "outputs": [
    {
     "data": {
      "text/plain": [
       "tensor([[0.00, 0.00, 0.00],\n",
       "        [0.13, 0.12, 0.14],\n",
       "        [1.00, 1.00, 1.00]])"
      ]
     },
     "execution_count": null,
     "metadata": {},
     "output_type": "execute_result"
    }
   ],
   "source": [
    "im3[11:14, 13:16]"
   ]
  },
  {
   "cell_type": "code",
   "execution_count": null,
   "id": "99d32f66",
   "metadata": {},
   "outputs": [
    {
     "data": {
      "text/plain": [
       "tensor(-2.99)"
      ]
     },
     "execution_count": null,
     "metadata": {},
     "output_type": "execute_result"
    }
   ],
   "source": [
    "(im3[13:16, 13:16] * top_edge).sum()"
   ]
  },
  {
   "cell_type": "code",
   "execution_count": null,
   "id": "e90d2627",
   "metadata": {},
   "outputs": [
    {
     "data": {
      "text/plain": [
       "tensor([[1.00, 1.00, 1.00],\n",
       "        [0.67, 0.67, 0.71],\n",
       "        [0.00, 0.00, 0.00]])"
      ]
     },
     "execution_count": null,
     "metadata": {},
     "output_type": "execute_result"
    }
   ],
   "source": [
    "im3[13:16, 13:16]"
   ]
  },
  {
   "cell_type": "code",
   "execution_count": null,
   "id": "9ac66d0a",
   "metadata": {},
   "outputs": [],
   "source": [
    "def apply_kernel(row, col, kernel): return (im3[row-1:row+2, col-1:col+2] * kernel).sum()"
   ]
  },
  {
   "cell_type": "code",
   "execution_count": null,
   "id": "00263709",
   "metadata": {},
   "outputs": [
    {
     "data": {
      "text/plain": [
       "tensor(-0.01)"
      ]
     },
     "execution_count": null,
     "metadata": {},
     "output_type": "execute_result"
    }
   ],
   "source": [
    "apply_kernel(4, 15, top_edge)"
   ]
  },
  {
   "cell_type": "markdown",
   "id": "5f066a93",
   "metadata": {},
   "source": [
    "<p align=\"center\">\n",
    "  <img src=\"images/chapter9_nopadconv.svg\" alt=\"Applying kernel of 3 by 3 on Grid of 5 by 5 with stride 1 along the first 3 rows\">\n",
    "</p>"
   ]
  },
  {
   "cell_type": "code",
   "execution_count": null,
   "id": "d44529f6",
   "metadata": {},
   "outputs": [
    {
     "data": {
      "text/plain": [
       "[[(0, 0), (0, 1), (0, 2), (0, 3), (0, 4)],\n",
       " [(1, 0), (1, 1), (1, 2), (1, 3), (1, 4)],\n",
       " [(2, 0), (2, 1), (2, 2), (2, 3), (2, 4)],\n",
       " [(3, 0), (3, 1), (3, 2), (3, 3), (3, 4)],\n",
       " [(4, 0), (4, 1), (4, 2), (4, 3), (4, 4)]]"
      ]
     },
     "execution_count": null,
     "metadata": {},
     "output_type": "execute_result"
    }
   ],
   "source": [
    "[[(i, j) for j in range(5)] for i in range(5)]"
   ]
  },
  {
   "cell_type": "code",
   "execution_count": null,
   "id": "5ecd5d89",
   "metadata": {},
   "outputs": [
    {
     "data": {
      "image/png": "[encoded data removed]",
      "text/plain": [
       "<Figure size 192x144 with 1 Axes>"
      ]
     },
     "metadata": {},
     "output_type": "display_data"
    }
   ],
   "source": [
    "rng = range(1, 27)\n",
    "top_edge3 = tensor([[apply_kernel(i, j, top_edge) for j in rng] for i in rng])\n",
    "show_image(top_edge3);"
   ]
  },
  {
   "cell_type": "code",
   "execution_count": null,
   "id": "fdbc2050",
   "metadata": {},
   "outputs": [],
   "source": [
    "left_edge = tensor([[-1, 1, 0],\n",
    "                    [-1, 1, 0],\n",
    "                    [-1, 1, 0]]).float()"
   ]
  },
  {
   "cell_type": "code",
   "execution_count": null,
   "id": "1eeaa4cb",
   "metadata": {},
   "outputs": [
    {
     "data": {
      "image/png": "[encoded data removed]",
      "text/plain": [
       "<Figure size 192x144 with 1 Axes>"
      ]
     },
     "metadata": {},
     "output_type": "display_data"
    }
   ],
   "source": [
    "show_image(left_edge, noframe=False);"
   ]
  },
  {
   "cell_type": "code",
   "execution_count": null,
   "id": "128d9763",
   "metadata": {},
   "outputs": [
    {
     "data": {
      "image/png": "[encoded data removed]",
      "text/plain": [
       "<Figure size 192x144 with 1 Axes>"
      ]
     },
     "metadata": {},
     "output_type": "display_data"
    }
   ],
   "source": [
    "left_edge3 = tensor([[apply_kernel(i, j, left_edge) for j in rng] for i in rng])\n",
    "show_image(left_edge3);"
   ]
  },
  {
   "cell_type": "markdown",
   "id": "e6f09dfe",
   "metadata": {},
   "source": [
    "<p align=\"center\">\n",
    "  <img src=\"images/att_00028.png\" alt=\"Applying kernel of 3 by 3 on Grid of 4 by 4 with stride 1 and getting outputs of grid of 2 by 2\">\n",
    "</p>"
   ]
  },
  {
   "cell_type": "markdown",
   "id": "d3a83fbe",
   "metadata": {},
   "source": [
    "Output shape Equation:  \n",
    "$$  \\frac{n - f + 2 \\times p}{s} + 1 $$"
   ]
  },
  {
   "cell_type": "markdown",
   "id": "73a82680",
   "metadata": {},
   "source": [
    "## Convolutions in PyTorch"
   ]
  },
  {
   "cell_type": "code",
   "execution_count": null,
   "id": "e4f7f138",
   "metadata": {},
   "outputs": [],
   "source": [
    "import torch.nn.functional as F\n",
    "import torch"
   ]
  },
  {
   "cell_type": "markdown",
   "id": "3e95ef43",
   "metadata": {},
   "source": [
    "What to do if you have [2 months to complete your thesis](https://github.com/Yangqing/caffe/wiki/Convolution-in-Caffe:-a-memo)? Use [im2col](https://inria.hal.science/inria-00112631/)\n",
    "\n",
    "\n",
    "<p align=\"center\">\n",
    "  <img src=\"images/im2col.png\" alt=\"The process of im2col\">\n",
    "</p>\n",
    "\n",
    "Here's a sample [numpy implementation](!https://github.com/3outeille/CNNumpy/blob/5394f13e7ed67a808a3e39fd381f168825d65ff5/src/fast/utils.py#L360)"
   ]
  },
  {
   "cell_type": "code",
   "execution_count": null,
   "id": "7cf50225",
   "metadata": {},
   "outputs": [
    {
     "data": {
      "text/plain": [
       "torch.Size([1, 1, 28, 28])"
      ]
     },
     "execution_count": null,
     "metadata": {},
     "output_type": "execute_result"
    }
   ],
   "source": [
    "inp = im3[None, None, :, :].float(); inp.shape"
   ]
  },
  {
   "cell_type": "code",
   "execution_count": null,
   "id": "d69f7400",
   "metadata": {},
   "outputs": [
    {
     "data": {
      "text/plain": [
       "torch.Size([1, 9, 676])"
      ]
     },
     "execution_count": null,
     "metadata": {},
     "output_type": "execute_result"
    }
   ],
   "source": [
    "F.unfold(inp, (3, 3)).shape"
   ]
  },
  {
   "cell_type": "code",
   "execution_count": null,
   "id": "e29799e6",
   "metadata": {},
   "outputs": [
    {
     "data": {
      "text/plain": [
       "torch.Size([9, 676])"
      ]
     },
     "execution_count": null,
     "metadata": {},
     "output_type": "execute_result"
    }
   ],
   "source": [
    "inp = im3[None, None, :, :].float()\n",
    "inp_unf = F.unfold(inp, (3,3))[0]\n",
    "inp_unf.shape"
   ]
  },
  {
   "cell_type": "code",
   "execution_count": null,
   "id": "7958cf10",
   "metadata": {},
   "outputs": [
    {
     "data": {
      "text/plain": [
       "torch.Size([9])"
      ]
     },
     "execution_count": null,
     "metadata": {},
     "output_type": "execute_result"
    }
   ],
   "source": [
    "w = left_edge.view(-1)\n",
    "w.shape"
   ]
  },
  {
   "cell_type": "code",
   "execution_count": null,
   "id": "0f3b27ed",
   "metadata": {},
   "outputs": [
    {
     "data": {
      "text/plain": [
       "torch.Size([676])"
      ]
     },
     "execution_count": null,
     "metadata": {},
     "output_type": "execute_result"
    }
   ],
   "source": [
    "out_unf = w@inp_unf\n",
    "out_unf.shape"
   ]
  },
  {
   "cell_type": "code",
   "execution_count": null,
   "id": "bc1517a3",
   "metadata": {},
   "outputs": [
    {
     "data": {
      "image/png": "[encoded data removed]",
      "text/plain": [
       "<Figure size 192x144 with 1 Axes>"
      ]
     },
     "metadata": {},
     "output_type": "display_data"
    }
   ],
   "source": [
    "out_unf = out_unf.view(26, 26)\n",
    "show_image(out_unf);"
   ]
  },
  {
   "cell_type": "code",
   "execution_count": null,
   "id": "54933cd6",
   "metadata": {},
   "outputs": [
    {
     "name": "stdout",
     "output_type": "stream",
     "text": [
      "32.6 ms ± 9.25 ms per loop (mean ± std. dev. of 7 runs, 1 loop each)\n"
     ]
    }
   ],
   "source": [
    "%timeit -n 1 tensor([[apply_kernel(i, j, left_edge) for j in rng] for i in rng])"
   ]
  },
  {
   "cell_type": "code",
   "execution_count": null,
   "id": "b2952d8e",
   "metadata": {},
   "outputs": [
    {
     "name": "stdout",
     "output_type": "stream",
     "text": [
      "193 µs ± 57.6 µs per loop (mean ± std. dev. of 7 runs, 100 loops each)\n"
     ]
    }
   ],
   "source": [
    "%timeit -n 100 (w@F.unfold(inp, (3, 3))[0]).view(26, 26);"
   ]
  },
  {
   "cell_type": "code",
   "execution_count": null,
   "id": "0ff36c02",
   "metadata": {},
   "outputs": [
    {
     "name": "stdout",
     "output_type": "stream",
     "text": [
      "The slowest run took 8.27 times longer than the fastest. This could mean that an intermediate result is being cached.\n",
      "153 µs ± 148 µs per loop (mean ± std. dev. of 7 runs, 100 loops each)\n"
     ]
    }
   ],
   "source": [
    "%timeit -n 100 F.conv2d(inp, left_edge[None, None])"
   ]
  },
  {
   "cell_type": "code",
   "execution_count": null,
   "id": "4ce57e9f",
   "metadata": {},
   "outputs": [],
   "source": [
    "diag1_edge = tensor([[0, -1, 1],\n",
    "                     [-1, 1, 0],\n",
    "                     [1,  0, 0]]).float()"
   ]
  },
  {
   "cell_type": "code",
   "execution_count": null,
   "id": "742bc59f",
   "metadata": {},
   "outputs": [
    {
     "data": {
      "image/png": "[encoded data removed]",
      "text/plain": [
       "<Figure size 192x144 with 1 Axes>"
      ]
     },
     "metadata": {},
     "output_type": "display_data"
    }
   ],
   "source": [
    "show_image(diag1_edge, noframe=False);"
   ]
  },
  {
   "cell_type": "code",
   "execution_count": null,
   "id": "6423dc17",
   "metadata": {},
   "outputs": [],
   "source": [
    "diag2_edge = tensor([[1, -1, 0],\n",
    "                     [0, 1, -1],\n",
    "                     [0, 0,  1]]).float()"
   ]
  },
  {
   "cell_type": "code",
   "execution_count": null,
   "id": "86f83d42",
   "metadata": {},
   "outputs": [
    {
     "data": {
      "image/png": "[encoded data removed]",
      "text/plain": [
       "<Figure size 192x144 with 1 Axes>"
      ]
     },
     "metadata": {},
     "output_type": "display_data"
    }
   ],
   "source": [
    "show_image(diag2_edge, noframe=False);"
   ]
  },
  {
   "cell_type": "code",
   "execution_count": null,
   "id": "7e49cf17",
   "metadata": {},
   "outputs": [
    {
     "data": {
      "text/plain": [
       "torch.Size([64, 1, 28, 28])"
      ]
     },
     "execution_count": null,
     "metadata": {},
     "output_type": "execute_result"
    }
   ],
   "source": [
    "xb = x_imgs[:64][:, None]; xb.shape"
   ]
  },
  {
   "cell_type": "code",
   "execution_count": null,
   "id": "c3c54cb7",
   "metadata": {},
   "outputs": [
    {
     "data": {
      "text/plain": [
       "torch.Size([4, 1, 3, 3])"
      ]
     },
     "execution_count": null,
     "metadata": {},
     "output_type": "execute_result"
    }
   ],
   "source": [
    "edge_kernels = torch.stack([left_edge, top_edge, diag1_edge, diag2_edge])[:, None]\n",
    "edge_kernels.shape"
   ]
  },
  {
   "cell_type": "code",
   "execution_count": null,
   "id": "e6bdd616",
   "metadata": {},
   "outputs": [
    {
     "data": {
      "text/plain": [
       "torch.Size([64, 4, 26, 26])"
      ]
     },
     "execution_count": null,
     "metadata": {},
     "output_type": "execute_result"
    }
   ],
   "source": [
    "batch_features = F.conv2d(xb, edge_kernels); batch_features.shape"
   ]
  },
  {
   "cell_type": "markdown",
   "id": "05c1a706",
   "metadata": {},
   "source": [
    "The output shape shows we get 64 images in the mini-batch, 4 kernels, and 26x26 edge maps(we started with 28x28 images, but lost one pixel from each side as discussed earlier). We can see we get the same results as when we did this manually:"
   ]
  },
  {
   "cell_type": "code",
   "execution_count": null,
   "id": "31d1a871",
   "metadata": {},
   "outputs": [
    {
     "data": {
      "text/plain": [
       "<AxesSubplot: >"
      ]
     },
     "execution_count": null,
     "metadata": {},
     "output_type": "execute_result"
    },
    {
     "data": {
      "image/png": "[encoded data removed]",
      "text/plain": [
       "<Figure size 192x144 with 1 Axes>"
      ]
     },
     "metadata": {},
     "output_type": "display_data"
    }
   ],
   "source": [
    "img0 = xb[1, 0]\n",
    "show_image(img0)"
   ]
  },
  {
   "cell_type": "code",
   "execution_count": null,
   "id": "2d9ef910",
   "metadata": {},
   "outputs": [
    {
     "data": {
      "image/png": "[encoded data removed]",
      "text/plain": [
       "<Figure size 180x180 with 4 Axes>"
      ]
     },
     "metadata": {},
     "output_type": "display_data"
    }
   ],
   "source": [
    "show_images([batch_features[1, i] for i in range(4)])"
   ]
  },
  {
   "cell_type": "markdown",
   "id": "c54ebd22",
   "metadata": {},
   "source": [
    "## Strides and Padding"
   ]
  },
  {
   "cell_type": "markdown",
   "id": "b75b6090",
   "metadata": {},
   "source": [
    "With appropriate padding, we can ensure that the output activation map is the same size as the original image.\n",
    "\n",
    "<p align=\"center\">\n",
    "  <img src=\"images/chapter9_conv_pad.png\" alt=\"Applying kernel of 3 by 3 on Grid of 5 by 5 with stride 1 along the first 3 rows\">\n",
    "</p>\n",
    "\n",
    "With a 5x5 input, 4x4 kernel, and 2 pixels of padding, we end up with 6x6 activation map\n",
    "\n",
    "<p align=\"center\">\n",
    "  <img src=\"images/att_00029.png\" alt=\"Applying kernel of 4 by 4 on Grid of 5 by 5 with stride 1 and padding 2 to get a 6x6 activation map\">\n",
    "</p>\n",
    "\n",
    "\n",
    "If we add a kernel of size `ks` by `ks` (with `ks` an odd number), the necessary padding on each side to keep the same shape is `ks//2`\n",
    "\n",
    "We could move over two pixels after each kernel appliaction. This known as stride-2 convolution.\n",
    "<p align=\"center\">\n",
    "  <img src=\"images/att_00030.png\" alt=\"Applying kernel of 3 by 3 on Grid of 5 by 5 with stride 1 and padding 2 to get a 6x6 activation map\">\n",
    "</p>\n"
   ]
  },
  {
   "cell_type": "markdown",
   "id": "3a3b04ae",
   "metadata": {},
   "source": [
    "## Creating the CNN"
   ]
  },
  {
   "cell_type": "code",
   "execution_count": null,
   "id": "351b845a",
   "metadata": {},
   "outputs": [],
   "source": [
    "n, m = x_train.shape\n",
    "c = y_train.max() + 1\n",
    "nh = 50"
   ]
  },
  {
   "cell_type": "code",
   "execution_count": null,
   "id": "4aa1b189",
   "metadata": {},
   "outputs": [],
   "source": [
    "model = nn.Sequential(nn.Linear(m, nh), nn.ReLU(), nn.Linear(nh, 10))"
   ]
  },
  {
   "cell_type": "code",
   "execution_count": null,
   "id": "d1c51ecb",
   "metadata": {},
   "outputs": [
    {
     "data": {
      "text/plain": [
       "tensor(39760)"
      ]
     },
     "execution_count": null,
     "metadata": {},
     "output_type": "execute_result"
    }
   ],
   "source": [
    "tensor([np.product(o.shape) for o in model.parameters()]).sum()"
   ]
  },
  {
   "cell_type": "code",
   "execution_count": null,
   "id": "b35eb831",
   "metadata": {},
   "outputs": [],
   "source": [
    "broken_cnn = nn.Sequential(\n",
    "    nn.Conv2d(1, 30, kernel_size=3, padding=1),\n",
    "    nn.ReLU(),\n",
    "    nn.Conv2d(30, 10, kernel_size=3, padding=1)\n",
    ")"
   ]
  },
  {
   "cell_type": "code",
   "execution_count": null,
   "id": "c6ca2aae",
   "metadata": {},
   "outputs": [
    {
     "data": {
      "text/plain": [
       "torch.Size([64, 30, 28, 28])"
      ]
     },
     "execution_count": null,
     "metadata": {},
     "output_type": "execute_result"
    }
   ],
   "source": [
    "l1 = nn.Conv2d(1, 30, kernel_size=3, padding=1)(xb); l1.shape"
   ]
  },
  {
   "cell_type": "code",
   "execution_count": null,
   "id": "92c3f80f",
   "metadata": {},
   "outputs": [
    {
     "data": {
      "text/plain": [
       "torch.Size([64, 30, 28, 28])"
      ]
     },
     "execution_count": null,
     "metadata": {},
     "output_type": "execute_result"
    }
   ],
   "source": [
    "l2 = nn.ReLU()(l1); l2.shape"
   ]
  },
  {
   "cell_type": "code",
   "execution_count": null,
   "id": "8abeacdf",
   "metadata": {},
   "outputs": [
    {
     "data": {
      "text/plain": [
       "torch.Size([64, 10, 28, 28])"
      ]
     },
     "execution_count": null,
     "metadata": {},
     "output_type": "execute_result"
    }
   ],
   "source": [
    "l3 = nn.Conv2d(30, 10, kernel_size=3, padding=1)(l2); l3.shape"
   ]
  },
  {
   "cell_type": "code",
   "execution_count": null,
   "id": "21dabf98",
   "metadata": {},
   "outputs": [
    {
     "data": {
      "text/plain": [
       "torch.Size([64, 10, 28, 28])"
      ]
     },
     "execution_count": null,
     "metadata": {},
     "output_type": "execute_result"
    }
   ],
   "source": [
    "broken_cnn(xb).shape"
   ]
  },
  {
   "cell_type": "code",
   "execution_count": null,
   "id": "619baeb1",
   "metadata": {},
   "outputs": [],
   "source": [
    "#|export\n",
    "def conv(ni, nf, ks=3, stride=2, act=True):\n",
    "    res = nn.Conv2d(ni, nf, stride=stride, kernel_size=ks, padding=ks//2)\n",
    "    if act: res = nn.Sequential(res, nn.ReLU())\n",
    "    return res"
   ]
  },
  {
   "cell_type": "markdown",
   "id": "e5a2d12f",
   "metadata": {},
   "source": [
    "Refactoring parts of your neural networks like this makes it much less likely you'll get errors die to inconsistencies in your achitectures, and makes it more obvious to the reader which parts of your layers are actually hanging"
   ]
  },
  {
   "cell_type": "raw",
   "id": "956bc6d2",
   "metadata": {},
   "source": [
    "simple_cnn = nn.Sequential(\n",
    "    conv(1, 4), # 14 x 14\n",
    "    conv(4, 8), # 7 x 7\n",
    "    conv(8, 16), # 4 x 4\n",
    "    conv(16, 16), # 2 x 2\n",
    "    conv(16, 10, act=False), # 1 x 1\n",
    "    nn.Flatten(),\n",
    ")"
   ]
  },
  {
   "cell_type": "code",
   "execution_count": null,
   "id": "d3fdceaa",
   "metadata": {},
   "outputs": [
    {
     "data": {
      "text/plain": [
       "torch.Size([64, 10])"
      ]
     },
     "execution_count": null,
     "metadata": {},
     "output_type": "execute_result"
    }
   ],
   "source": [
    "simple_cnn(xb).shape"
   ]
  },
  {
   "cell_type": "code",
   "execution_count": null,
   "id": "f7e5c035",
   "metadata": {},
   "outputs": [
    {
     "data": {
      "text/plain": [
       "tensor(5274)"
      ]
     },
     "execution_count": null,
     "metadata": {},
     "output_type": "execute_result"
    }
   ],
   "source": [
    "tensor([np.product(o.shape) for o in simple_cnn.parameters()]).sum()"
   ]
  },
  {
   "cell_type": "code",
   "execution_count": null,
   "id": "4637e76d",
   "metadata": {},
   "outputs": [
    {
     "data": {
      "text/plain": [
       "tensor(5274)"
      ]
     },
     "execution_count": null,
     "metadata": {},
     "output_type": "execute_result"
    }
   ],
   "source": [
    "tensor([o.numel() for o in simple_cnn.parameters()]).sum()"
   ]
  },
  {
   "cell_type": "code",
   "execution_count": null,
   "id": "e0ed7d69",
   "metadata": {},
   "outputs": [
    {
     "data": {
      "text/plain": [
       "5274"
      ]
     },
     "execution_count": null,
     "metadata": {},
     "output_type": "execute_result"
    }
   ],
   "source": [
    "sum(o.numel() for o in simple_cnn.parameters())"
   ]
  },
  {
   "cell_type": "code",
   "execution_count": null,
   "id": "e2a65973",
   "metadata": {},
   "outputs": [],
   "source": [
    "x_imgs = x_train.view(-1, 1, 28, 28)\n",
    "xv_imgs = x_valid.view(-1, 1, 28, 28)\n",
    "train_ds, valid_ds = Dataset(x_imgs, y_train), Dataset(xv_imgs, y_valid)"
   ]
  },
  {
   "cell_type": "code",
   "execution_count": null,
   "id": "86873966",
   "metadata": {},
   "outputs": [],
   "source": [
    "#|export\n",
    "\n",
    "def_device = 'mps' if torch.backends.mps.is_available() else 'cuda' if torch.cuda.is_available() else 'cpu'\n",
    "\n",
    "def to_device(x, device=def_device):\n",
    "    if isinstance(x, Mapping): return {k: v.to(device) for k, v in x.items()}\n",
    "    return type(x)(o.to(device) for o in x)\n",
    "\n",
    "def collate_device(b): \n",
    "    return to_device(default_collate(b))"
   ]
  },
  {
   "cell_type": "code",
   "execution_count": null,
   "id": "a4a7bf64",
   "metadata": {},
   "outputs": [],
   "source": [
    "from torch.utils.data import DataLoader"
   ]
  },
  {
   "cell_type": "code",
   "execution_count": null,
   "id": "4ab2c8a9",
   "metadata": {},
   "outputs": [],
   "source": [
    "from torch import optim\n",
    "\n",
    "bs = 256\n",
    "lr = 0.4\n",
    "train_dl, valid_dl = get_dls(train_ds, valid_ds, bs, collate_fn=collate_device)\n",
    "opt = optim.SGD(simple_cnn.parameters(), lr=lr)"
   ]
  },
  {
   "cell_type": "code",
   "execution_count": null,
   "id": "c32f1b34",
   "metadata": {},
   "outputs": [
    {
     "name": "stdout",
     "output_type": "stream",
     "text": [
      "0 2.299301318205565 0.11508678216561774\n",
      "1 2.280546821230085 0.12656875827880662\n",
      "2 0.8789877557149717 0.733511349196746\n",
      "3 0.6203243218531437 0.828304406511131\n",
      "4 0.45614214779856366 0.8787716967559784\n"
     ]
    }
   ],
   "source": [
    "loss, acc = fit(5, simple_cnn.to(def_device), F.cross_entropy, opt, train_dl, valid_dl)"
   ]
  },
  {
   "cell_type": "code",
   "execution_count": null,
   "id": "81f8ea5e",
   "metadata": {},
   "outputs": [
    {
     "name": "stdout",
     "output_type": "stream",
     "text": [
      "0 0.41114130928137593 0.8907877173220045\n",
      "1 0.4039275900703247 0.8929238973058591\n",
      "2 0.3920766551440485 0.8953271023740119\n",
      "3 0.3823734535235111 0.8958611469720807\n",
      "4 0.37331901976517906 0.9001335118896016\n"
     ]
    }
   ],
   "source": [
    "opt = optim.SGD(simple_cnn.parameters(), lr=lr/4)\n",
    "loss, act = fit(5, simple_cnn.to(def_device), F.cross_entropy, opt, train_dl, valid_dl)"
   ]
  },
  {
   "cell_type": "markdown",
   "id": "6f9ec148",
   "metadata": {},
   "source": [
    "## Understanding Convolution Arithmetic"
   ]
  },
  {
   "cell_type": "markdown",
   "id": "775e81af",
   "metadata": {},
   "source": [
    "In an input size of `64x1x28x28` the axes are `batch, channel, height, width`. This is often represented as `NCHW` (where `N` refers to batch size). Tensorflow, on the hand, uses `NHWC` axis order (aka \"channels-last\"). Channels-last is faster for many models, so recently it's become more common to see this as option in PyTorch too."
   ]
  },
  {
   "cell_type": "code",
   "execution_count": null,
   "id": "27534708",
   "metadata": {},
   "outputs": [
    {
     "data": {
      "text/plain": [
       "Sequential(\n",
       "  (0): Sequential(\n",
       "    (0): Conv2d(1, 4, kernel_size=(3, 3), stride=(2, 2), padding=(1, 1))\n",
       "    (1): ReLU()\n",
       "  )\n",
       "  (1): Sequential(\n",
       "    (0): Conv2d(4, 8, kernel_size=(3, 3), stride=(2, 2), padding=(1, 1))\n",
       "    (1): ReLU()\n",
       "  )\n",
       "  (2): Sequential(\n",
       "    (0): Conv2d(8, 16, kernel_size=(3, 3), stride=(2, 2), padding=(1, 1))\n",
       "    (1): ReLU()\n",
       "  )\n",
       "  (3): Sequential(\n",
       "    (0): Conv2d(16, 16, kernel_size=(3, 3), stride=(2, 2), padding=(1, 1))\n",
       "    (1): ReLU()\n",
       "  )\n",
       "  (4): Conv2d(16, 10, kernel_size=(3, 3), stride=(2, 2), padding=(1, 1))\n",
       "  (5): Flatten(start_dim=1, end_dim=-1)\n",
       ")"
      ]
     },
     "execution_count": null,
     "metadata": {},
     "output_type": "execute_result"
    }
   ],
   "source": [
    "simple_cnn"
   ]
  },
  {
   "cell_type": "code",
   "execution_count": null,
   "id": "3bf9d024",
   "metadata": {},
   "outputs": [
    {
     "data": {
      "text/plain": [
       "torch.Size([4, 1, 3, 3])"
      ]
     },
     "execution_count": null,
     "metadata": {},
     "output_type": "execute_result"
    }
   ],
   "source": [
    "conv1 = simple_cnn[0][0]\n",
    "conv1.weight.shape"
   ]
  },
  {
   "cell_type": "code",
   "execution_count": null,
   "id": "b43b5022",
   "metadata": {},
   "outputs": [
    {
     "data": {
      "text/plain": [
       "torch.Size([4])"
      ]
     },
     "execution_count": null,
     "metadata": {},
     "output_type": "execute_result"
    }
   ],
   "source": [
    "conv1.bias.shape"
   ]
  },
  {
   "cell_type": "markdown",
   "id": "283d37ec",
   "metadata": {},
   "source": [
    "The _receptive field_ is the area of an image that is involved in the calculation of a layer. _conv-example.xlsx_ shows the calculation of two stride-2 convolutional layers using an MNIST digit. Here's what we see if we click on one of the cells in the _conv2_ section, which shows the output of the second convolutional layer, and click _trace precedents_"
   ]
  },
  {
   "cell_type": "markdown",
   "id": "882eec59",
   "metadata": {},
   "source": [
    "<p align=\"center\">\n",
    "  <img src=\"images/att_00068.png\" alt=\"Applying filter of 3 by 3 to conv1 to get values in conv2\">\n",
    "</p>"
   ]
  },
  {
   "cell_type": "markdown",
   "id": "87de6c88",
   "metadata": {},
   "source": [
    "The blue highlighted cells are its _precedents*--that is, the cells used to calculate its value. These cells are the corresponding 3x3 area of cells from the input layer (on the left), and the cells from the filter (on the right). Click *trace precedents_ again"
   ]
  },
  {
   "cell_type": "markdown",
   "id": "3380b55f",
   "metadata": {},
   "source": [
    "## Export"
   ]
  },
  {
   "cell_type": "code",
   "execution_count": null,
   "id": "43a459d9",
   "metadata": {},
   "outputs": [],
   "source": [
    "from nbdev import nbdev_export; nbdev_export()"
   ]
  },
  {
   "cell_type": "code",
   "execution_count": null,
   "id": "886fdeba",
   "metadata": {},
   "outputs": [],
   "source": []
  }
 ],
 "metadata": {
  "kernelspec": {
   "display_name": "fastai",
   "language": "python",
   "name": "fastai"
  }
 },
 "nbformat": 4,
 "nbformat_minor": 5
}
