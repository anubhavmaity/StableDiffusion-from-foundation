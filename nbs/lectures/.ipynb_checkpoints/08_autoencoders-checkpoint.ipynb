{
 "cells": [
  {
   "cell_type": "markdown",
   "id": "12e41380",
   "metadata": {},
   "source": [
    "# Autoencoders"
   ]
  },
  {
   "cell_type": "code",
   "execution_count": null,
   "id": "53206519",
   "metadata": {},
   "outputs": [],
   "source": [
    "import pickle, gzip, math, os, time, shutil, torch, matplotlib as mpl, numpy as np\n",
    "import pandas as pd\n",
    "import matplotlib.pyplot as plt\n",
    "from torch import nn\n",
    "import torch.nn.functional as F\n",
    "from pathlib import Path\n",
    "from torch import tensor\n",
    "from fastcore.test import test_close\n",
    "import deeplake\n",
    "import torchvision.transforms.functional as  TF\n",
    "from sklearn.model_selection import train_test_split\n",
    "from torch.utils.data import DataLoader\n",
    "\n",
    "from torch.utils.data import default_collate\n",
    "from collections import Counter\n",
    "from typing import Mapping\n",
    "from operator import itemgetter\n",
    "from datasets import load_dataset, load_dataset_builder\n",
    "\n",
    "from miniai.training import *\n",
    "from miniai.datasets import * \n",
    "from miniai.conv import *\n",
    "\n",
    "torch.manual_seed(42)\n",
    "\n",
    "mpl.rcParams['image.cmap'] = 'gray'\n",
    "torch.set_printoptions(precision=2, linewidth=125, sci_mode=False)\n",
    "np.set_printoptions(precision=2, linewidth=125)\n",
    "\n",
    "import logging\n",
    "logging.disable(logging.WARNING)"
   ]
  },
  {
   "cell_type": "markdown",
   "id": "729b4365",
   "metadata": {},
   "source": [
    "## Data"
   ]
  },
  {
   "cell_type": "code",
   "execution_count": null,
   "id": "028b1c23",
   "metadata": {},
   "outputs": [],
   "source": [
    "x, y = 'image', 'label'\n",
    "name = 'anubhavmaity/notMNIST'\n",
    "dsd = load_dataset(name, ignore_verifications=True)"
   ]
  },
  {
   "cell_type": "code",
   "execution_count": null,
   "id": "419af57d",
   "metadata": {},
   "outputs": [],
   "source": [
    "@inplace\n",
    "def transformi(b): b[x] = [TF.to_tensor(o) for o in b[x]]"
   ]
  },
  {
   "cell_type": "code",
   "execution_count": null,
   "id": "563ac926",
   "metadata": {},
   "outputs": [],
   "source": [
    "bs = 256\n",
    "tds = dsd.with_transform(transformi)"
   ]
  },
  {
   "cell_type": "code",
   "execution_count": null,
   "id": "9572983b",
   "metadata": {},
   "outputs": [],
   "source": [
    "ds = tds['train']\n",
    "img = ds[0]['image']\n",
    "show_image(img, figsize=(1, 1));"
   ]
  },
  {
   "cell_type": "code",
   "execution_count": null,
   "id": "80a8bede",
   "metadata": {},
   "outputs": [],
   "source": [
    "ds"
   ]
  },
  {
   "cell_type": "code",
   "execution_count": null,
   "id": "892386b2",
   "metadata": {},
   "outputs": [],
   "source": [
    "cf = collate_dict(ds)"
   ]
  },
  {
   "cell_type": "code",
   "execution_count": null,
   "id": "0e575e46",
   "metadata": {},
   "outputs": [],
   "source": [
    "def collate_(b): return to_device(cf(b))\n",
    "def data_loaders(dsd, bs, **kwargs): return {k: DataLoader(v, bs, **kwargs) for k, v in dsd.items()}"
   ]
  },
  {
   "cell_type": "code",
   "execution_count": null,
   "id": "2b5db007",
   "metadata": {},
   "outputs": [],
   "source": [
    "dls = data_loaders(tds, bs, num_workers=4, collate_fn=collate_)"
   ]
  },
  {
   "cell_type": "code",
   "execution_count": null,
   "id": "173749a0",
   "metadata": {},
   "outputs": [],
   "source": [
    "dt = dls['train']\n",
    "dv = dls['test']\n",
    "\n",
    "xb, yb = next(iter(dt))"
   ]
  },
  {
   "cell_type": "code",
   "execution_count": null,
   "id": "f6697344",
   "metadata": {},
   "outputs": [],
   "source": [
    "labels = ds.features[y].names"
   ]
  },
  {
   "cell_type": "code",
   "execution_count": null,
   "id": "526b9ce0",
   "metadata": {},
   "outputs": [],
   "source": [
    "ds.features"
   ]
  },
  {
   "cell_type": "code",
   "execution_count": null,
   "id": "51785199",
   "metadata": {},
   "outputs": [],
   "source": []
  }
 ],
 "metadata": {
  "kernelspec": {
   "display_name": "fastai",
   "language": "python",
   "name": "fastai"
  }
 },
 "nbformat": 4,
 "nbformat_minor": 5
}
