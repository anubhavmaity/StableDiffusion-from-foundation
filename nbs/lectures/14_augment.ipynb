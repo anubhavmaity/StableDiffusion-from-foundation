{
 "cells": [
  {
   "cell_type": "code",
   "execution_count": 1,
   "id": "d1499b29",
   "metadata": {
    "tags": []
   },
   "outputs": [],
   "source": [
    "#|default_exp augment"
   ]
  },
  {
   "cell_type": "markdown",
   "id": "418b89f1",
   "metadata": {},
   "source": [
    "# Augmentation"
   ]
  },
  {
   "cell_type": "code",
   "execution_count": 2,
   "id": "5144972a",
   "metadata": {
    "tags": []
   },
   "outputs": [
    {
     "name": "stderr",
     "output_type": "stream",
     "text": [
      "/home/studio-lab-user/.conda/envs/fastai/lib/python3.9/site-packages/deeplake/util/check_latest_version.py:32: UserWarning: A newer version of deeplake (3.9.7) is available. It's recommended that you update to the latest version using `pip install -U deeplake`.\n",
      "  warnings.warn(\n"
     ]
    }
   ],
   "source": [
    "#|export\n",
    "import random\n",
    "import fastcore.all as fc\n",
    "from functools import partial\n",
    "\n",
    "from datasets import load_dataset\n",
    "\n",
    "import torch\n",
    "from torch import distributions, nn, tensor, optim\n",
    "from torch.nn import init\n",
    "import torch.nn.functional as F\n",
    "import torchvision.transforms.functional as TF\n",
    "from torch.optim import lr_scheduler\n",
    "from torcheval.metrics import MulticlassAccuracy\n",
    "\n",
    "from minai.conv import def_device\n",
    "from minai.datasets import inplace, show_images, show_image\n",
    "from minai.learner import MetricsCB, DeviceCB, ProgressCB, DataLoaders, Learner, TrainLearner, SingleBatchCB, MomentumLearner, lr_find, Callback, to_cpu\n",
    "from minai.activations import Hooks\n",
    "from minai.init import conv, GeneralRelu, init_weights, ActivationStats, set_seed, BatchTransformCB\n",
    "from minai.sgd import BatchSchedCB\n",
    "from minai.resnet import ResBlock\n",
    "\n",
    "set_seed(42)"
   ]
  },
  {
   "cell_type": "code",
   "execution_count": 3,
   "id": "1a61bffe",
   "metadata": {
    "tags": []
   },
   "outputs": [],
   "source": [
    "x1, y1 = 'image', 'label'\n",
    "bs = 1024\n",
    "ds = load_dataset('anubhavmaity/notMNIST')"
   ]
  },
  {
   "cell_type": "code",
   "execution_count": 4,
   "id": "428faa02",
   "metadata": {
    "tags": []
   },
   "outputs": [],
   "source": [
    "@inplace\n",
    "def transformi(b): b[x1] = [TF.to_tensor(o) for o in b[x1]]\n",
    "dsd = ds.with_transform(transformi)"
   ]
  },
  {
   "cell_type": "code",
   "execution_count": 5,
   "id": "e2e5f1ab",
   "metadata": {
    "tags": []
   },
   "outputs": [],
   "source": [
    "dls = DataLoaders.from_dd(dsd, batch_size=bs)"
   ]
  },
  {
   "cell_type": "code",
   "execution_count": 6,
   "id": "79de6d2b",
   "metadata": {
    "tags": []
   },
   "outputs": [],
   "source": [
    "#|export\n",
    "act_gr = partial(GeneralRelu, leak=0.1, sub=0.4)"
   ]
  },
  {
   "cell_type": "code",
   "execution_count": 7,
   "id": "60ca5660",
   "metadata": {
    "tags": []
   },
   "outputs": [],
   "source": [
    "metrics = MetricsCB(accuracy=MulticlassAccuracy())\n",
    "astats = ActivationStats(fc.risinstance(GeneralRelu))\n",
    "cbs = [DeviceCB(), metrics, ProgressCB(plot=True), astats]\n",
    "iw = partial(init_weights, leaky=0.1)"
   ]
  },
  {
   "cell_type": "code",
   "execution_count": 8,
   "id": "1f5d7664",
   "metadata": {
    "tags": []
   },
   "outputs": [],
   "source": [
    "lr, epochs = 6e-2, 5"
   ]
  },
  {
   "cell_type": "markdown",
   "id": "f3df755f",
   "metadata": {},
   "source": [
    "## Going wider"
   ]
  },
  {
   "cell_type": "code",
   "execution_count": 9,
   "id": "2e3aa0e3",
   "metadata": {
    "tags": []
   },
   "outputs": [],
   "source": [
    "def get_model(act=nn.ReLU, nfs=(16, 32, 64, 128, 256, 512), norm=nn.BatchNorm2d):\n",
    "    layers = [ResBlock(1, 16, ks=5, stride=1, act=act, norm=norm)]\n",
    "    layers += [ResBlock(nfs[i], nfs[i+1], act=act, norm=norm, stride=2) for i in range(len(nfs) - 1)]\n",
    "    layers += [nn.Flatten(), nn.Linear(nfs[-1], 10, bias=False), nn.BatchNorm1d(10)]\n",
    "    return nn.Sequential(*layers).to(def_device)"
   ]
  },
  {
   "cell_type": "code",
   "execution_count": 10,
   "id": "1fb4cab1",
   "metadata": {
    "tags": []
   },
   "outputs": [],
   "source": [
    "lr = 1e-2\n",
    "tmax = epochs * len(dls.train)\n",
    "sched = partial(lr_scheduler.OneCycleLR, max_lr=lr, total_steps=tmax)\n",
    "xtra = [BatchSchedCB(sched)]\n",
    "model = get_model(act_gr, norm=nn.BatchNorm2d).apply(iw)\n",
    "learn = TrainLearner(model, dls, F.cross_entropy, lr=lr, cbs=cbs+xtra, opt_func=optim.AdamW)"
   ]
  },
  {
   "cell_type": "code",
   "execution_count": 46,
   "id": "6e1fe3aa",
   "metadata": {
    "tags": []
   },
   "outputs": [
    {
     "data": {
      "text/html": [
       "\n",
       "<style>\n",
       "    /* Turns off some styling */\n",
       "    progress {\n",
       "        /* gets rid of default border in Firefox and Opera. */\n",
       "        border: none;\n",
       "        /* Needs to be in here for Safari polyfill so background images work as expected. */\n",
       "        background-size: auto;\n",
       "    }\n",
       "    progress:not([value]), progress:not([value])::-webkit-progress-bar {\n",
       "        background: repeating-linear-gradient(45deg, #7e7e7e, #7e7e7e 10px, #5c5c5c 10px, #5c5c5c 20px);\n",
       "    }\n",
       "    .progress-bar-interrupted, .progress-bar-interrupted::-webkit-progress-bar {\n",
       "        background: #F44336;\n",
       "    }\n",
       "</style>\n"
      ],
      "text/plain": [
       "<IPython.core.display.HTML object>"
      ]
     },
     "metadata": {},
     "output_type": "display_data"
    },
    {
     "data": {
      "text/html": [
       "<table border=\"1\" class=\"dataframe\">\n",
       "  <thead>\n",
       "    <tr style=\"text-align: left;\">\n",
       "      <th>accuracy</th>\n",
       "      <th>loss</th>\n",
       "      <th>epoch</th>\n",
       "      <th>train</th>\n",
       "    </tr>\n",
       "  </thead>\n",
       "  <tbody>\n",
       "    <tr>\n",
       "      <td> 0.881</td>\n",
       "      <td> 0.609</td>\n",
       "      <td>0</td>\n",
       "      <td>True</td>\n",
       "    </tr>\n",
       "    <tr>\n",
       "      <td> 0.615</td>\n",
       "      <td> 1.737</td>\n",
       "      <td>0</td>\n",
       "      <td>False</td>\n",
       "    </tr>\n",
       "    <tr>\n",
       "      <td> 0.911</td>\n",
       "      <td> 0.373</td>\n",
       "      <td>1</td>\n",
       "      <td>True</td>\n",
       "    </tr>\n",
       "    <tr>\n",
       "      <td> 0.761</td>\n",
       "      <td> 1.089</td>\n",
       "      <td>1</td>\n",
       "      <td>False</td>\n",
       "    </tr>\n",
       "    <tr>\n",
       "      <td> 0.919</td>\n",
       "      <td> 0.313</td>\n",
       "      <td>2</td>\n",
       "      <td>True</td>\n",
       "    </tr>\n",
       "    <tr>\n",
       "      <td> 0.939</td>\n",
       "      <td> 0.249</td>\n",
       "      <td>2</td>\n",
       "      <td>False</td>\n",
       "    </tr>\n",
       "    <tr>\n",
       "      <td> 0.951</td>\n",
       "      <td> 0.195</td>\n",
       "      <td>3</td>\n",
       "      <td>True</td>\n",
       "    </tr>\n",
       "    <tr>\n",
       "      <td> 0.948</td>\n",
       "      <td> 0.189</td>\n",
       "      <td>3</td>\n",
       "      <td>False</td>\n",
       "    </tr>\n",
       "    <tr>\n",
       "      <td> 0.967</td>\n",
       "      <td> 0.142</td>\n",
       "      <td>4</td>\n",
       "      <td>True</td>\n",
       "    </tr>\n",
       "    <tr>\n",
       "      <td> 0.948</td>\n",
       "      <td> 0.191</td>\n",
       "      <td>4</td>\n",
       "      <td>False</td>\n",
       "    </tr>\n",
       "  </tbody>\n",
       "</table>"
      ],
      "text/plain": [
       "<IPython.core.display.HTML object>"
      ]
     },
     "metadata": {},
     "output_type": "display_data"
    },
    {
     "data": {
      "image/png": "[encoded data removed]",
      "text/plain": [
       "<Figure size 600x400 with 1 Axes>"
      ]
     },
     "metadata": {},
     "output_type": "display_data"
    }
   ],
   "source": [
    "learn.fit(epochs)"
   ]
  },
  {
   "cell_type": "markdown",
   "id": "2af106cf",
   "metadata": {},
   "source": [
    "## Pooling"
   ]
  },
  {
   "cell_type": "code",
   "execution_count": 11,
   "id": "41b66643",
   "metadata": {},
   "outputs": [],
   "source": [
    "class GlobalAvgPool(nn.Module):\n",
    "    def forward(self, x): return x.mean((-2, -1))"
   ]
  },
  {
   "cell_type": "code",
   "execution_count": 12,
   "id": "1c986d23",
   "metadata": {},
   "outputs": [],
   "source": [
    "def get_model2(act=nn.ReLU, nfs=(16, 32, 64, 128, 256), norm=nn.BatchNorm2d):\n",
    "    layers = [ResBlock(1, 16, ks=5, stride=1, act=act, norm=norm)]\n",
    "    layers += [ResBlock(nfs[i], nfs[i+1], act=act, norm=norm, stride=2) for i in range(len(nfs) - 1)]\n",
    "    layers += [ResBlock(256, 512, act=act, norm=norm), GlobalAvgPool()]\n",
    "    layers += [nn.Linear(512, 10, bias=False), nn.BatchNorm1d(10)]\n",
    "    return nn.Sequential(*layers).to(def_device)"
   ]
  },
  {
   "cell_type": "code",
   "execution_count": 13,
   "id": "328e3a95",
   "metadata": {},
   "outputs": [],
   "source": [
    "#|export\n",
    "def _flops(x, h, w):\n",
    "    if x.dim() < 3: return x.numel()\n",
    "    if x.dim() == 4: return x.numel()*h*w\n",
    "    raise Exception()\n",
    "\n",
    "@fc.patch\n",
    "def summary(self:Learner):\n",
    "    res = '|Module|Input|Output|Num params|MFlops|\\n|--|--|--|--|--|\\n'\n",
    "    totp, totf = 0, 0\n",
    "    def _f(hook, mod, inp, outp):\n",
    "        nonlocal res,totp,totf\n",
    "        nparams = sum(o.numel() for o in mod.parameters())\n",
    "        totp += nparams\n",
    "        *_,h,w = outp.shape\n",
    "        flops = sum(_flops(o, h, w) for o in mod.parameters())/1e6\n",
    "        totf += flops\n",
    "        res += f'{type(mod).__name__}|{tuple(inp[0].shape)}|{tuple(outp.shape)}|{nparams}|{flops:.1f}|\\n'\n",
    "    with Hooks(self.model, _f) as hooks: self.fit(1, lr=1, train=False, cbs=SingleBatchCB())\n",
    "    print(f\"Tot params: {totp}; MLFLOPS: {totf:.1f}\")\n",
    "    if fc.IN_NOTEBOOK:\n",
    "        from IPython.display import Markdown\n",
    "        return Markdown(res)\n",
    "    else: print(res)"
   ]
  },
  {
   "cell_type": "code",
   "execution_count": null,
   "id": "d23beab9",
   "metadata": {},
   "outputs": [],
   "source": [
    "TrainLearner(get_model2(), dls, F.cross_entropy, lr=lr, cbs=[DeviceCB()]).summary()"
   ]
  },
  {
   "cell_type": "code",
   "execution_count": null,
   "id": "cbe0bcfc",
   "metadata": {},
   "outputs": [],
   "source": [
    "set_seed(42)\n",
    "model = get_model2(act_gr, norm=nn.BatchNorm2d).apply(iw)\n",
    "learn = TrainLearner(model, dls, F.cross_entropy, lr=lr, cbs=cbs+xtra, opt_func=optim.AdamW)\n",
    "learn.fit(epochs)"
   ]
  },
  {
   "cell_type": "code",
   "execution_count": null,
   "id": "d03de699",
   "metadata": {},
   "outputs": [],
   "source": [
    "def get_model3(act=nn.ReLU, nfs=(16, 32, 64, 128, 256), norm=nn.BatchNorm2d):\n",
    "    layers = [ResBlock(1, 16, ks=5, stride=1, act=act, norm=norm)]\n",
    "    layers += [ResBlock(nfs[i], nfs[i+1], act=act, norm=norm, stride=2) for i in range(len(nfs) - 1)]\n",
    "    layers += [GlobalAvgPool(), nn.Linear(256, 10, bias=False), nn.BatchNorm1d(10)]\n",
    "    return nn.Sequential(*layers).to(def_device)"
   ]
  },
  {
   "cell_type": "code",
   "execution_count": null,
   "id": "78ec6661-2685-476c-8913-83c48d2b911c",
   "metadata": {
    "tags": []
   },
   "outputs": [],
   "source": [
    "TrainLearner(get_model3(), dls, F.cross_entropy, lr=lr, cbs=[DeviceCB()]).summary()"
   ]
  },
  {
   "cell_type": "code",
   "execution_count": null,
   "id": "8b47a83a-e1e7-418d-b9f3-2fd19f6724a7",
   "metadata": {
    "tags": []
   },
   "outputs": [],
   "source": [
    "[o.shape for o in get_model3()[0].parameters()] # inside ResBlock"
   ]
  },
  {
   "cell_type": "code",
   "execution_count": null,
   "id": "aa8f3f52-f3d0-4d9b-8166-a44760111a32",
   "metadata": {
    "tags": []
   },
   "outputs": [],
   "source": [
    "set_seed(42)\n",
    "model = get_model3(act_gr, norm=nn.BatchNorm2d).apply(iw)\n",
    "learn = TrainLearner(model, dls, F.cross_entropy, lr=lr, cbs=cbs+xtra, opt_func=optim.AdamW)\n",
    "learn.fit(epochs)"
   ]
  },
  {
   "cell_type": "code",
   "execution_count": null,
   "id": "d966a5cb-820c-4ba6-8067-71ea106bcb9b",
   "metadata": {
    "tags": []
   },
   "outputs": [],
   "source": [
    "def get_model4(act=nn.ReLU, nfs=(16, 32, 64, 128, 256), norm=nn.BatchNorm2d):\n",
    "    layers = [conv(1, 16, ks=5, stride=1, act=act, norm=norm)]\n",
    "    layers += [ResBlock(nfs[i], nfs[i+1], act=act, norm=norm, stride=2) for i in range(len(nfs) - 1)]\n",
    "    layers += [GlobalAvgPool(), nn.Linear(256, 10, bias=False), nn.BatchNorm1d(10)]\n",
    "    return nn.Sequential(*layers).to(def_device)"
   ]
  },
  {
   "cell_type": "code",
   "execution_count": null,
   "id": "bb0f6613-b70c-44a1-a311-b53405807271",
   "metadata": {
    "tags": []
   },
   "outputs": [],
   "source": [
    "[o.shape for o in get_model4()[0].parameters()]"
   ]
  },
  {
   "cell_type": "code",
   "execution_count": null,
   "id": "127c53bd-e4ae-4cc7-8694-3fcc4563c504",
   "metadata": {
    "tags": []
   },
   "outputs": [],
   "source": [
    "TrainLearner(get_model4(), dls, F.cross_entropy, lr=lr, cbs=[DeviceCB()]).summary()"
   ]
  },
  {
   "cell_type": "code",
   "execution_count": null,
   "id": "9023a758-a88d-4311-adc1-3694c278c4d0",
   "metadata": {
    "tags": []
   },
   "outputs": [],
   "source": [
    "set_seed(42)\n",
    "model = get_model(act_gr, norm=nn.BatchNorm2d).apply(iw)\n",
    "learn = TrainLearner(model, dls, F.cross_entropy, lr=lr, cbs=cbs+xtra, opt_func=optim.AdamW)\n",
    "learn.fit(epochs)"
   ]
  },
  {
   "cell_type": "markdown",
   "id": "fa475c6a-746e-49de-aa7e-6d62e83db945",
   "metadata": {
    "tags": []
   },
   "source": [
    "## Train for longer"
   ]
  },
  {
   "cell_type": "code",
   "execution_count": null,
   "id": "9c663033-e874-42b9-a50d-4eb2699a017d",
   "metadata": {
    "tags": []
   },
   "outputs": [],
   "source": [
    "# set_seed(42)\n",
    "# epochs = 20\n",
    "# tmax = epochs * len(dls.train)\n",
    "# sched = partial(lr_scheduler.OneCycleLR, max_lr=lr, total_steps=tmax)\n",
    "# xtra = [BatchSchedCB(sched)]\n",
    "# model = get_model(act_gr, norm=nn.BatchNorm2d).apply(iw)\n",
    "# learn = TrainLearner(model, dls, F.cross_entropy, lr=lr, cbs=cbs+xtra, opt_func=optim.AdamW)\n",
    "# learn.fit(epochs)"
   ]
  },
  {
   "cell_type": "markdown",
   "id": "6fc68614-8528-4f9f-a1fd-c56eebdf354d",
   "metadata": {
    "tags": []
   },
   "source": [
    "After 20 epochs without augmentation:\n",
    "\n",
    "    Train:\n",
    "\n",
    "        Accuracy: 0.999\n",
    "        \n",
    "        Loss: 0.030\n",
    "    \n",
    "    Valid:\n",
    "    \n",
    "        Accuracy: 0.955\n",
    "        \n",
    "        Loss: 0.184"
   ]
  },
  {
   "cell_type": "markdown",
   "id": "9c2a8b17-2a11-496e-a76a-7bdd4a688ad0",
   "metadata": {},
   "source": [
    "## Data Augmentation"
   ]
  },
  {
   "cell_type": "code",
   "execution_count": 48,
   "id": "eabf0f30-b551-4859-a335-797beb1358a2",
   "metadata": {
    "tags": []
   },
   "outputs": [],
   "source": [
    "from torchvision import transforms"
   ]
  },
  {
   "cell_type": "code",
   "execution_count": 49,
   "id": "aca7c0af-c495-4b53-9b88-3a36d1fe3a76",
   "metadata": {
    "tags": []
   },
   "outputs": [
    {
     "name": "stdout",
     "output_type": "stream",
     "text": [
      "[ResBlock(\n",
      "  (convs): Sequential(\n",
      "    (0): Sequential(\n",
      "      (0): Conv2d(1, 16, kernel_size=(5, 5), stride=(1, 1), padding=(2, 2))\n",
      "      (1): ReLU()\n",
      "    )\n",
      "    (1): Sequential(\n",
      "      (0): Conv2d(16, 16, kernel_size=(5, 5), stride=(1, 1), padding=(2, 2))\n",
      "    )\n",
      "  )\n",
      "  (idconv): Sequential(\n",
      "    (0): Conv2d(1, 16, kernel_size=(1, 1), stride=(1, 1))\n",
      "  )\n",
      "  (act): ReLU()\n",
      ")]\n"
     ]
    }
   ],
   "source": [
    "def tfm_batch(b, tfm_x=fc.noop, tfm_y=fc.noop): return tfm_x(b[0]), tfm_y(b[1])\n",
    "\n",
    "tfms = nn.Sequential(transforms.RandomCrop(28, padding=4), \n",
    "                     transforms.RandomRotation(10),\n",
    "                    transforms.RandomAffine(0, translate=(0.1, 0.1)))\n",
    "                    \n",
    "\n",
    "augcb = BatchTransformCB(partial(tfm_batch, tfm_x=tfms), on_val=False)\n",
    "model = get_model()\n",
    "learn = TrainLearner(model, dls, F.cross_entropy, lr=lr, cbs=[SingleBatchCB(), augcb, DeviceCB()])"
   ]
  },
  {
   "cell_type": "code",
   "execution_count": 47,
   "id": "c7b85413-8284-4b03-9f78-5828e7cb31f4",
   "metadata": {
    "tags": []
   },
   "outputs": [
    {
     "data": {
      "image/png": "[encoded data removed]",
      "text/plain": [
       "<Figure size 600x600 with 16 Axes>"
      ]
     },
     "metadata": {},
     "output_type": "display_data"
    }
   ],
   "source": [
    "xb, yb = next(iter(dls.train))\n",
    "show_images(xb[:16], imsize=1.5)"
   ]
  },
  {
   "cell_type": "code",
   "execution_count": null,
   "id": "e39f11eb-9cd0-43d9-a06a-d84d01d311fe",
   "metadata": {
    "tags": []
   },
   "outputs": [],
   "source": [
    "learn.fit(1)"
   ]
  },
  {
   "cell_type": "code",
   "execution_count": null,
   "id": "7c3ce06f-20ca-450d-96f6-9492b1f27d52",
   "metadata": {
    "tags": []
   },
   "outputs": [],
   "source": [
    "xb, yb = learn.batch\n",
    "show_images(xb[:16], imsize=1.5)"
   ]
  },
  {
   "cell_type": "code",
   "execution_count": null,
   "id": "9a827eb7-abd1-41bd-ac0e-c3ce2deef3d0",
   "metadata": {
    "tags": []
   },
   "outputs": [],
   "source": [
    "tfms = nn.Sequential(transforms.RandomCrop(28, padding=1), \n",
    "                     transforms.RandomRotation(10),\n",
    "                     transforms.RandomAffine(degrees=0, translate=(0.1, 0.1))\n",
    "                    )\n",
    "\n",
    "augcb = BatchTransformCB(partial(tfm_batch, tfm_x=tfms), on_val=False)"
   ]
  },
  {
   "cell_type": "code",
   "execution_count": null,
   "id": "c9ef16bc-3b94-4a8c-809b-704aeb14da5b",
   "metadata": {
    "tags": []
   },
   "outputs": [],
   "source": [
    "set_seed(42)\n",
    "epochs = 20\n",
    "tmax = epochs * len(dls.train)\n",
    "sched = partial(lr_scheduler.OneCycleLR, max_lr=lr, total_steps=tmax)\n",
    "xtra = [BatchSchedCB(sched), augcb]\n",
    "model = get_model(act_gr, norm=nn.BatchNorm2d).apply(iw)\n",
    "learn = TrainLearner(model, dls, F.cross_entropy, lr=lr, cbs=cbs+xtra, opt_func=optim.AdamW)\n",
    "learn.fit(epochs)"
   ]
  },
  {
   "cell_type": "markdown",
   "id": "62238d52-9b55-46e5-8676-27ec6be31bae",
   "metadata": {},
   "source": [
    "A custom collation function could let you do per-item transformations"
   ]
  },
  {
   "cell_type": "code",
   "execution_count": null,
   "id": "31eab3a0-6cf6-4ce4-b939-bdf85f63f926",
   "metadata": {
    "tags": []
   },
   "outputs": [],
   "source": [
    "mdl_path = fc.Path('models')\n",
    "mdl_path.mkdir(exist_ok=True)\n",
    "torch.save(learn.model, mdl_path/'data_aug.pkl')"
   ]
  },
  {
   "cell_type": "markdown",
   "id": "45240bb6-e029-4fa7-8625-b92ca9628bc4",
   "metadata": {},
   "source": [
    "## TTA \n",
    "> Test Time Augmentation"
   ]
  },
  {
   "cell_type": "code",
   "execution_count": null,
   "id": "18b8efd2-cb36-4109-8f4f-b4d1f7a9e845",
   "metadata": {
    "tags": []
   },
   "outputs": [],
   "source": [
    "set_seed(42)\n",
    "epochs = 20\n",
    "tmax = epochs * len(dls.train)\n",
    "sched = partial(lr_scheduler.OneCycleLR, max_lr=lr, total_steps=tmax)\n",
    "xtra = [BatchSchedCB(sched)]\n",
    "model = torch.load(mdl_path/'data_aug.pkl')\n",
    "learn = TrainLearner(model, dls, F.cross_entropy, lr=lr, cbs=cbs+xtra, opt_func=optim.AdamW)"
   ]
  },
  {
   "cell_type": "code",
   "execution_count": null,
   "id": "7a72a8e7-88c6-4f2e-af16-e18122a68101",
   "metadata": {
    "tags": []
   },
   "outputs": [],
   "source": [
    "#|export\n",
    "class CapturePreds(Callback):\n",
    "    def before_fit(self, learn): self.all_preds, self.all_targs = [], []\n",
    "    def after_batch(self, learn):\n",
    "        self.all_preds.append(to_cpu(learn.preds))\n",
    "        self.all_targs.append(to_cpu(learn.batch[1]))"
   ]
  },
  {
   "cell_type": "code",
   "execution_count": null,
   "id": "1499dc55-7a46-4675-87d6-1265adbc04b9",
   "metadata": {
    "tags": []
   },
   "outputs": [],
   "source": [
    "cp = CapturePreds()\n",
    "learn.fit(1, train=False, cbs=cp)"
   ]
  },
  {
   "cell_type": "code",
   "execution_count": null,
   "id": "35221469-dd35-4864-8574-0761e260306d",
   "metadata": {
    "tags": []
   },
   "outputs": [],
   "source": [
    "cp2 = CapturePreds()\n",
    "tfm_x= nn.Sequential(transforms.RandomRotation(10), transforms.RandomAffine(degrees=0, translate=(0.1, 0.1)))\n",
    "ttacb = BatchTransformCB(partial(tfm_batch, tfm_x=tfm_x), on_val=True)\n",
    "learn.fit(1, train=False, cbs=[cp2, ttacb])"
   ]
  },
  {
   "cell_type": "code",
   "execution_count": null,
   "id": "ffc660dd-1da1-44cc-9a45-89151938d69a",
   "metadata": {
    "tags": []
   },
   "outputs": [],
   "source": [
    "ap1 = torch.cat(cp.all_preds)\n",
    "ap2 = torch.cat(cp2.all_preds)\n",
    "at = torch.cat(cp.all_targs)\n",
    "ap1.shape, ap2.shape"
   ]
  },
  {
   "cell_type": "code",
   "execution_count": null,
   "id": "91dd1fdf-4d0d-460a-b8f5-2db674eb26b6",
   "metadata": {
    "tags": []
   },
   "outputs": [],
   "source": [
    "ap = torch.stack([ap1, ap2]).mean(0).argmax(1)"
   ]
  },
  {
   "cell_type": "code",
   "execution_count": null,
   "id": "81500bf2-e6e5-4388-9d1e-32e8aa742af6",
   "metadata": {
    "tags": []
   },
   "outputs": [],
   "source": [
    "round((ap==at).float().mean().item(), 3)"
   ]
  },
  {
   "cell_type": "markdown",
   "id": "78106598-2456-4d51-ab55-86c6fc1ee642",
   "metadata": {},
   "source": [
    "## Random Erase"
   ]
  },
  {
   "cell_type": "code",
   "execution_count": null,
   "id": "54dd6380-fa48-46e2-b03b-fd583c4647c2",
   "metadata": {
    "tags": []
   },
   "outputs": [],
   "source": [
    "xb, _ = next(iter(dls.train))\n",
    "xbt = xb[:16]"
   ]
  },
  {
   "cell_type": "code",
   "execution_count": null,
   "id": "0ff6e88b-29c2-4049-9a5e-3af0e260eb7d",
   "metadata": {},
   "outputs": [],
   "source": [
    "show_images(xbt, imsize=1.5)"
   ]
  },
  {
   "cell_type": "code",
   "execution_count": null,
   "id": "63d66df0-5c13-460a-be74-6bdd1c3e0aef",
   "metadata": {
    "tags": []
   },
   "outputs": [],
   "source": [
    "xm, xs = xbt.mean(), xbt.std()\n",
    "xm, xs"
   ]
  },
  {
   "cell_type": "code",
   "execution_count": null,
   "id": "0179f27f-1b46-4ebf-9d06-736a1ba1d81a",
   "metadata": {
    "tags": []
   },
   "outputs": [],
   "source": [
    "xbt.min(), xbt.max()"
   ]
  },
  {
   "cell_type": "code",
   "execution_count": null,
   "id": "d0f5ee72-4fcd-4ca6-970f-a3b6f95a328c",
   "metadata": {
    "tags": []
   },
   "outputs": [],
   "source": [
    "pct = 0.2"
   ]
  },
  {
   "cell_type": "code",
   "execution_count": null,
   "id": "0a45a612-2746-41e1-b385-f6f20236707c",
   "metadata": {},
   "outputs": [],
   "source": [
    "szx = int(pct*xbt.shape[-2])\n",
    "szy = int(pct*xbt.shape[-1])\n",
    "stx = int(random.random() * (1 - pct) * xbt.shape[-2])\n",
    "sty = int(random.random() * (1 - pct) * xbt.shape[-1])\n",
    "stx, sty, szx, szy"
   ]
  },
  {
   "cell_type": "code",
   "execution_count": null,
   "id": "3ca9660e-8b17-4b45-b804-555866ebc2d5",
   "metadata": {
    "tags": []
   },
   "outputs": [],
   "source": [
    "init.normal_(xbt[:, :, stx:stx+szx, sty:sty+szy], mean=xm, std=xs);"
   ]
  },
  {
   "cell_type": "code",
   "execution_count": null,
   "id": "20221c15-114c-4d8d-82b8-98b24f9af6e5",
   "metadata": {
    "tags": []
   },
   "outputs": [],
   "source": [
    "show_images(xbt, imsize=1.5)"
   ]
  },
  {
   "cell_type": "code",
   "execution_count": null,
   "id": "5fd202b2-3cc8-47e7-841c-a826da769b82",
   "metadata": {
    "tags": []
   },
   "outputs": [],
   "source": [
    "xbt.min(), xbt.max()"
   ]
  },
  {
   "cell_type": "code",
   "execution_count": null,
   "id": "fe3af171-0665-49f7-aa8d-b4a1e57a485b",
   "metadata": {
    "tags": []
   },
   "outputs": [],
   "source": [
    "#|export\n",
    "def _rand_erase(x, pct, xm, xs, mn, mx):\n",
    "    szx = int(pct * x.shape[-2])\n",
    "    szy = int(pct * x.shape[-1])\n",
    "    stx = int(random.random() * (1 - pct) * x.shape[-2])\n",
    "    sty = int(random.random() * (1 - pct) * x.shape[-1])\n",
    "    init.normal_(x[:,:,stx:stx+szx, sty:sty+szy])\n",
    "    x.clamp_(mn, mx)"
   ]
  },
  {
   "cell_type": "code",
   "execution_count": null,
   "id": "cc2ec7f6-9bbe-4298-8ba0-637598fb1146",
   "metadata": {
    "tags": []
   },
   "outputs": [],
   "source": [
    "xb,_ = next(iter(dls.train))\n",
    "xbt = xb[:16]\n",
    "_rand_erase(xbt, 0.2, xbt.mean(), xbt.std(), xbt.min(), xbt.max())\n",
    "show_images(xbt, imsize=1.5)"
   ]
  },
  {
   "cell_type": "code",
   "execution_count": null,
   "id": "f2f9830d-0670-4504-913e-3916dd5f0ac6",
   "metadata": {
    "tags": []
   },
   "outputs": [],
   "source": [
    "xbt.mean(), xbt.std(), xbt.min(), xbt.max()"
   ]
  },
  {
   "cell_type": "code",
   "execution_count": null,
   "id": "519fc077-0ee5-4782-aed1-cd3870d94d96",
   "metadata": {
    "tags": []
   },
   "outputs": [],
   "source": [
    "#|export\n",
    "def rand_erase(x, pct=0.2, max_num=4):\n",
    "    xm, xs, mn, mx = x.mean(), x.std(), x.min(), x.max()\n",
    "    num = random.randint(0, max_num)\n",
    "    for i in range(num): _rand_erase(x, pct, xm, xs, mn, mx)\n",
    "    return x"
   ]
  },
  {
   "cell_type": "code",
   "execution_count": null,
   "id": "c8e6c6bc-f2db-4ae0-a7d5-d96be8dfbc13",
   "metadata": {
    "tags": []
   },
   "outputs": [],
   "source": [
    "xb, _ = next(iter(dls.train))\n",
    "xbt = xb[:16]\n",
    "rand_erase(xbt, 0.2, 4)\n",
    "show_images(xbt, imsize=1.5)"
   ]
  },
  {
   "cell_type": "code",
   "execution_count": null,
   "id": "7769e47b-9f4b-4555-9138-b971e27ea987",
   "metadata": {
    "tags": []
   },
   "outputs": [],
   "source": [
    "#|export\n",
    "class RandErase(nn.Module):\n",
    "    def __init__(self, pct=0.2, max_num=4):\n",
    "        super().__init__()\n",
    "        self.pct, self.max_num = pct, max_num\n",
    "    def forward(self, x): return rand_erase(x, self.pct, self.max_num)"
   ]
  },
  {
   "cell_type": "code",
   "execution_count": null,
   "id": "048614d6-59a2-4ac9-8574-03411b09b3b7",
   "metadata": {
    "tags": []
   },
   "outputs": [],
   "source": [
    "tfms = nn.Sequential(transforms.RandomCrop(28, padding=1),\n",
    "                     RandErase())\n",
    "augcb = BatchTransformCB(partial(tfm_batch, tfm_x=tfms), on_val=False)"
   ]
  },
  {
   "cell_type": "code",
   "execution_count": null,
   "id": "2f712abb-6548-46d8-a108-e3725c3dc075",
   "metadata": {
    "tags": []
   },
   "outputs": [],
   "source": [
    "model = get_model()\n",
    "learn = TrainLearner(model, dls, F.cross_entropy, lr=lr, cbs=[DeviceCB(), SingleBatchCB(), augcb])\n",
    "learn.fit(1)\n",
    "xb, yb = learn.batch\n",
    "show_images(xb[:16], imsize=1.5)"
   ]
  },
  {
   "cell_type": "code",
   "execution_count": null,
   "id": "94ff5c28-3f2a-461c-9a71-bc445f2e682d",
   "metadata": {
    "tags": []
   },
   "outputs": [],
   "source": [
    "epochs = 50\n",
    "lr = 2e-2\n",
    "tmax = epochs * len(dls.train)\n",
    "sched = partial(lr_scheduler.OneCycleLR, max_lr=lr, total_steps=tmax)\n",
    "xtra = [BatchSchedCB(sched), augcb]\n",
    "model = get_model(act_gr, norm=nn.BatchNorm2d).apply(iw)\n",
    "learn = TrainLearner(model, dls, F.cross_entropy, lr=lr, cbs=cbs+xtra, opt_func=optim.AdamW)\n",
    "learn.fit(epochs)"
   ]
  },
  {
   "cell_type": "code",
   "execution_count": null,
   "id": "1b1c0eb0-6a78-4115-bc98-0aa39e1e4f7f",
   "metadata": {
    "tags": []
   },
   "outputs": [],
   "source": [
    "cp = CapturePreds()\n",
    "learn.fit(1, train=False, cbs=cp)"
   ]
  },
  {
   "cell_type": "code",
   "execution_count": null,
   "id": "845a4343-bc2d-4f6f-a2eb-9718475c8855",
   "metadata": {},
   "outputs": [],
   "source": [
    "mdl_path = fc.Path('models')\n",
    "mdl_path.mkdir(exist_ok=True)\n",
    "torch.save(learn.model, mdl_path/'random_erase.pkl')"
   ]
  },
  {
   "cell_type": "markdown",
   "id": "94511c92-2f1a-401e-969b-42ac637e1f1c",
   "metadata": {},
   "source": [
    "## Random Copy"
   ]
  },
  {
   "cell_type": "code",
   "execution_count": null,
   "id": "405c320f-02db-4f4c-a93b-fc129107918a",
   "metadata": {
    "tags": []
   },
   "outputs": [],
   "source": [
    "xb,_ = next(iter(dls.train))\n",
    "xbt = xb[:16]"
   ]
  },
  {
   "cell_type": "code",
   "execution_count": null,
   "id": "4a38024b-3f44-4eb9-b67f-bcec15d7796e",
   "metadata": {
    "tags": []
   },
   "outputs": [],
   "source": [
    "szx = int(pct * xbt.shape[-2])\n",
    "szy = int(pct * xbt.shape[-1])\n",
    "stx1 = int(random.random() * (1 - pct) * xbt.shape[-2])\n",
    "sty1 = int(random.random() * (1 - pct) * xbt.shape[-1])\n",
    "stx2 = int(random.random() * (1 - pct) * xbt.shape[-2])\n",
    "sty2 = int(random.random() * (1 - pct) * xbt.shape[-1])\n",
    "stx1, sty1, stx2, sty2, szx, szy"
   ]
  },
  {
   "cell_type": "code",
   "execution_count": null,
   "id": "cf43a394-c798-4c4f-8974-0e2e0a772ae2",
   "metadata": {
    "tags": []
   },
   "outputs": [],
   "source": [
    "xbt[:, :, stx1:stx1+szx, sty1:sty1+szy] = xbt[:, :, stx2:stx2+szx, sty2:sty2+szy]"
   ]
  },
  {
   "cell_type": "code",
   "execution_count": null,
   "id": "fcf8fe57-05b8-4727-ad55-26b8120a1aca",
   "metadata": {
    "tags": []
   },
   "outputs": [],
   "source": [
    "show_images(xbt, imsize=1.5)"
   ]
  },
  {
   "cell_type": "code",
   "execution_count": null,
   "id": "64d0a7b4-4312-49d8-a6dc-01b06381f875",
   "metadata": {
    "tags": []
   },
   "outputs": [],
   "source": [
    "random.random() * 28"
   ]
  },
  {
   "cell_type": "code",
   "execution_count": null,
   "id": "361ff1d3-8837-4319-8102-9be37ca9cf42",
   "metadata": {
    "tags": []
   },
   "outputs": [],
   "source": [
    "#|export\n",
    "def _rand_copy1(x, pct):\n",
    "    szx = int(pct * x.shape[-2])\n",
    "    szy = int(pct * x.shape[-1])\n",
    "    stx1 = int(random.random() * (1 - pct) * x.shape[-2])\n",
    "    sty1 = int(random.random() * (1 - pct) * x.shape[-1])\n",
    "    stx2 = int(random.random() * (1 - pct) * x.shape[-2])\n",
    "    sty2 = int(random.random() * (1 - pct) * x.shape[-1])\n",
    "    x[:, :, stx1:stx1+szx, sty1:sty1+szy] = x[:, :, stx2:stx2+szx, sty2:sty2+szy]"
   ]
  },
  {
   "cell_type": "code",
   "execution_count": null,
   "id": "cd07a46c-1ff2-4105-98cc-bc6c9bf19045",
   "metadata": {
    "tags": []
   },
   "outputs": [],
   "source": [
    "xb,_ = next(iter(dls.train))\n",
    "xbt = xb[:16]\n",
    "_rand_copy1(xbt, 0.2)\n",
    "show_images(xbt, imsize=1.5)"
   ]
  },
  {
   "cell_type": "code",
   "execution_count": null,
   "id": "50b7e0c7-db54-4218-a455-a967a71d75af",
   "metadata": {
    "tags": []
   },
   "outputs": [],
   "source": [
    "#|export\n",
    "def rand_copy(x, pct=0.2, max_num = 4):\n",
    "    num = random.randint(0, max_num)\n",
    "    for i in range(num): _rand_copy1(x, pct)\n",
    "    return x"
   ]
  },
  {
   "cell_type": "code",
   "execution_count": null,
   "id": "7a681f2c-011a-4095-9022-a86969224553",
   "metadata": {
    "tags": []
   },
   "outputs": [],
   "source": [
    "xb, _ = next(iter(dls.train))\n",
    "xbt = xb[:16]\n",
    "rand_copy(xbt, 0.2, 4)\n",
    "show_images(xbt, imsize=1.5)"
   ]
  },
  {
   "cell_type": "code",
   "execution_count": null,
   "id": "2d0f9935-9808-48c8-ba23-92f180121bc0",
   "metadata": {
    "tags": []
   },
   "outputs": [],
   "source": [
    "#|export\n",
    "class RandCopy(nn.Module):\n",
    "    def __init__(self, pct=0.2, max_num=4):\n",
    "        super().__init__()\n",
    "        self.pct, self.max_num = pct, max_num\n",
    "    def forward(self, x): return rand_copy(x, self.pct, self.max_num)"
   ]
  },
  {
   "cell_type": "code",
   "execution_count": null,
   "id": "d36c9682-eea5-421a-b6a3-1f1a0ce29495",
   "metadata": {
    "tags": []
   },
   "outputs": [],
   "source": [
    "tfms = nn.Sequential(transforms.RandomCrop(28, padding=1),\n",
    "                     RandCopy())"
   ]
  },
  {
   "cell_type": "code",
   "execution_count": null,
   "id": "74cefb62-c063-476d-836f-5f3769dc6f74",
   "metadata": {
    "tags": []
   },
   "outputs": [],
   "source": [
    "augcb = BatchTransformCB(partial(tfm_batch, tfm_x=tfms), on_val=False)"
   ]
  },
  {
   "cell_type": "code",
   "execution_count": null,
   "id": "2cae105b-bee6-4ca9-91f5-fe2ede37859f",
   "metadata": {
    "tags": []
   },
   "outputs": [],
   "source": [
    "model = get_model()\n",
    "learn = TrainLearner(model, dls, F.cross_entropy, lr=lr, cbs=[DeviceCB(), SingleBatchCB(), augcb])\n",
    "learn.fit(1)\n",
    "xb, yb = learn.batch\n",
    "show_images(xb[:16], imsize=1.5)"
   ]
  },
  {
   "cell_type": "code",
   "execution_count": null,
   "id": "84229b3b-ffea-4036-b0be-7abff372b125",
   "metadata": {
    "tags": []
   },
   "outputs": [],
   "source": [
    "set_seed(42)\n",
    "epochs = 25\n",
    "lr = 1e-2\n",
    "tmax = epochs * len(dls.train)\n",
    "sched = partial(lr_scheduler.OneCycleLR, max_lr=lr, total_steps=tmax)\n",
    "xtra = [BatchSchedCB(sched), augcb]\n",
    "model = get_model(act_gr, norm=nn.BatchNorm2d).apply(iw)\n",
    "learn = TrainLearner(model, dls, F.cross_entropy, lr=lr, cbs=cbs+xtra, opt_func=optim.AdamW)\n",
    "learn.fit(epochs)"
   ]
  },
  {
   "cell_type": "code",
   "execution_count": null,
   "id": "1e78e17b-e0cc-466f-9a4f-106e3f89c0c0",
   "metadata": {
    "tags": []
   },
   "outputs": [],
   "source": [
    "model2 = get_model(act_gr, norm=nn.BatchNorm2d).apply(iw)\n",
    "learn2 = TrainLearner(model2, dls, F.cross_entropy, lr=lr, cbs=cbs+xtra, opt_func=optim.AdamW)\n",
    "learn2.fit(epochs)"
   ]
  },
  {
   "cell_type": "code",
   "execution_count": null,
   "id": "69d29c84-c9f4-4179-a715-91b66721be48",
   "metadata": {
    "tags": []
   },
   "outputs": [],
   "source": [
    "mdl_path = fc.Path('models')\n",
    "torch.save(learn.model, mdl_path/'randcopy1.pkl')\n",
    "torch.save(learn2.model, mdl_path/'randcopy2.pkl')"
   ]
  },
  {
   "cell_type": "code",
   "execution_count": null,
   "id": "73506aa7-fb69-4164-89d5-527e834a34ea",
   "metadata": {
    "tags": []
   },
   "outputs": [],
   "source": [
    "cp1 = CapturePreds()\n",
    "learn.fit(1, train=False, cbs=cp1)"
   ]
  },
  {
   "cell_type": "code",
   "execution_count": null,
   "id": "cc40c4fb-7ced-4150-b8bf-934d07f8b556",
   "metadata": {
    "tags": []
   },
   "outputs": [],
   "source": [
    "cp2 = CapturePreds()\n",
    "learn2.fit(1, train=False, cbs=cp2)"
   ]
  },
  {
   "cell_type": "code",
   "execution_count": null,
   "id": "4093cbff-1a83-4d65-8c7d-099e701c7de4",
   "metadata": {
    "tags": []
   },
   "outputs": [],
   "source": [
    "ap1 = torch.cat(cp1.all_preds)\n",
    "ap2 = torch.cat(cp2.all_preds)\n",
    "at = torch.cat(cp1.all_targs)\n",
    "ap1.shape, ap2.shape"
   ]
  },
  {
   "cell_type": "code",
   "execution_count": null,
   "id": "5721ecce-70a5-40d5-a3ef-9fd072f3133d",
   "metadata": {
    "tags": []
   },
   "outputs": [],
   "source": [
    "ap = torch.stack([ap1, ap2]).mean(0).argmax(1)"
   ]
  },
  {
   "cell_type": "code",
   "execution_count": null,
   "id": "46319ed2-3882-4ef9-b311-2d8ed368a323",
   "metadata": {
    "tags": []
   },
   "outputs": [],
   "source": [
    "round((ap==at).float().mean().item(), 3)"
   ]
  },
  {
   "cell_type": "markdown",
   "id": "e0a5902e-94b6-4272-ac2e-ce4c39c649bb",
   "metadata": {},
   "source": [
    "## Export"
   ]
  },
  {
   "cell_type": "code",
   "execution_count": null,
   "id": "11ddda4d-4044-4e14-8195-db78510a7571",
   "metadata": {
    "tags": []
   },
   "outputs": [],
   "source": [
    "import nbdev; nbdev.nbdev_export()"
   ]
  },
  {
   "cell_type": "markdown",
   "id": "ec4c7ffc-ec5c-428c-abdb-db85a8ab91c9",
   "metadata": {},
   "source": [
    "HW"
   ]
  },
  {
   "cell_type": "markdown",
   "id": "84b241e9-0d15-4411-8fa7-60f5c62b28a6",
   "metadata": {},
   "source": [
    "- Create your own cosine annealing from scratch\n",
    "- Create your own 1cycle scheduler from scratch\n",
    "- Create your own Exponential Scheduler\n",
    "\n",
    "All scheduler should work with Pytorch Optimizer and BatchScheduler\n",
    "\n",
    "\n",
    "Beat JH on 5 epochs, 20 epochs & 50 epochs on Fashion MNIST using Minia"
   ]
  },
  {
   "cell_type": "markdown",
   "id": "ace19cc6-e73c-429a-b99c-b34a937f2fed",
   "metadata": {},
   "source": [
    "## Dropout"
   ]
  },
  {
   "cell_type": "code",
   "execution_count": 89,
   "id": "b5113b7f-0569-44aa-bdf4-d3aab71811bf",
   "metadata": {},
   "outputs": [
    {
     "data": {
      "text/plain": [
       "tensor([1., 1., 1., 1., 1., 1., 1., 1., 1., 0.])"
      ]
     },
     "execution_count": 89,
     "metadata": {},
     "output_type": "execute_result"
    }
   ],
   "source": [
    "p = 0.1\n",
    "dist = distributions.binomial.Binomial(probs=1-p)\n",
    "dist.sample((10,))"
   ]
  },
  {
   "cell_type": "code",
   "execution_count": 14,
   "id": "552b6cd3-ffda-4d10-9eaa-ab908c804c5f",
   "metadata": {
    "tags": []
   },
   "outputs": [],
   "source": [
    "class Dropout(nn.Module):\n",
    "    def __init__(self, p=0.1):\n",
    "        super().__init__()\n",
    "        self.p = p\n",
    "    def forward(self, x):\n",
    "        if not self.training: return x\n",
    "        dist = distributions.binomial.Binomial(tensor(1.0).to(x.device), probs=1-self.p)\n",
    "        return x * dist.sample(x.size()) * 1/(1-self.p)    "
   ]
  },
  {
   "cell_type": "code",
   "execution_count": 108,
   "id": "08a34119-762b-4138-aa49-e7c91b3373e4",
   "metadata": {
    "tags": []
   },
   "outputs": [],
   "source": [
    "def get_model(act=nn.ReLU, nfs=(16,32,64,128,256,512), norm=nn.BatchNorm2d, drop=0.0):\n",
    "    layers = [ResBlock(1, 16, ks=5, stride=1, act=act, norm=norm)]\n",
    "    layers += [nn.Dropout2d(drop)]\n",
    "    layers += [ResBlock(nfs[i], nfs[i+1], act=act, norm=norm, stride=2) for i in range(len(nfs) - 1)]\n",
    "    layers += [nn.Flatten(), Dropout(drop), nn.Linear(nfs[-1], 10, bias=False), nn.BatchNorm1d(10)]\n",
    "    return nn.Sequential(*layers)"
   ]
  },
  {
   "cell_type": "code",
   "execution_count": 109,
   "id": "ee00e2d2-cb4a-4586-ac07-38bf02264265",
   "metadata": {
    "tags": []
   },
   "outputs": [],
   "source": [
    "set_seed(42)\n",
    "lr = 1e-2\n",
    "epochs = 5\n",
    "tmax = epochs * len(dls.train)\n",
    "sched = partial(lr_scheduler.OneCycleLR, max_lr=lr, total_steps=tmax)\n",
    "xtra = [BatchSchedCB(sched)]\n",
    "model = get_model(act_gr, norm=nn.BatchNorm2d, drop=0.1).apply(iw)\n",
    "learn = TrainLearner(model, dls, F.cross_entropy, lr=lr, cbs=cbs+xtra, opt_func=optim.AdamW)"
   ]
  },
  {
   "cell_type": "code",
   "execution_count": 110,
   "id": "cc0b74f1-84f7-4bbc-adf4-7447a6f36b55",
   "metadata": {
    "tags": []
   },
   "outputs": [
    {
     "data": {
      "text/html": [
       "\n",
       "<style>\n",
       "    /* Turns off some styling */\n",
       "    progress {\n",
       "        /* gets rid of default border in Firefox and Opera. */\n",
       "        border: none;\n",
       "        /* Needs to be in here for Safari polyfill so background images work as expected. */\n",
       "        background-size: auto;\n",
       "    }\n",
       "    progress:not([value]), progress:not([value])::-webkit-progress-bar {\n",
       "        background: repeating-linear-gradient(45deg, #7e7e7e, #7e7e7e 10px, #5c5c5c 10px, #5c5c5c 20px);\n",
       "    }\n",
       "    .progress-bar-interrupted, .progress-bar-interrupted::-webkit-progress-bar {\n",
       "        background: #F44336;\n",
       "    }\n",
       "</style>\n"
      ],
      "text/plain": [
       "<IPython.core.display.HTML object>"
      ]
     },
     "metadata": {},
     "output_type": "display_data"
    },
    {
     "data": {
      "text/html": [
       "\n",
       "    <div>\n",
       "      <progress value='0' class='' max='1' style='width:300px; height:20px; vertical-align: middle;'></progress>\n",
       "      0.00% [0/1 00:00&lt;?]\n",
       "    </div>\n",
       "    \n",
       "\n",
       "\n",
       "    <div>\n",
       "      <progress value='0' class='' max='4' style='width:300px; height:20px; vertical-align: middle;'></progress>\n",
       "      0.00% [0/4 00:00&lt;?]\n",
       "    </div>\n",
       "    "
      ],
      "text/plain": [
       "<IPython.core.display.HTML object>"
      ]
     },
     "metadata": {},
     "output_type": "display_data"
    },
    {
     "name": "stdout",
     "output_type": "stream",
     "text": [
      "Tot params: 4903556; MLFLOPS: 22.0\n"
     ]
    },
    {
     "data": {
      "text/markdown": [
       "|Module|Input|Output|Num params|MFlops|\n",
       "|--|--|--|--|--|\n",
       "ResBlock|(1024, 1, 28, 28)|(1024, 16, 28, 28)|6864|5.3|\n",
       "Dropout2d|(1024, 16, 28, 28)|(1024, 16, 28, 28)|0|0.0|\n",
       "ResBlock|(1024, 16, 28, 28)|(1024, 32, 14, 14)|14432|2.8|\n",
       "ResBlock|(1024, 32, 14, 14)|(1024, 64, 7, 7)|57536|2.8|\n",
       "ResBlock|(1024, 64, 7, 7)|(1024, 128, 4, 4)|229760|3.7|\n",
       "ResBlock|(1024, 128, 4, 4)|(1024, 256, 2, 2)|918272|3.7|\n",
       "ResBlock|(1024, 256, 2, 2)|(1024, 512, 1, 1)|3671552|3.7|\n",
       "Flatten|(1024, 512, 1, 1)|(1024, 512)|0|0.0|\n",
       "Dropout|(1024, 512)|(1024, 512)|0|0.0|\n",
       "Linear|(1024, 512)|(1024, 10)|5120|0.0|\n",
       "BatchNorm1d|(1024, 10)|(1024, 10)|20|0.0|\n"
      ],
      "text/plain": [
       "<IPython.core.display.Markdown object>"
      ]
     },
     "execution_count": 110,
     "metadata": {},
     "output_type": "execute_result"
    }
   ],
   "source": [
    "learn.summary()"
   ]
  },
  {
   "cell_type": "code",
   "execution_count": 111,
   "id": "b83a604f-3902-4867-aef7-bae2304717db",
   "metadata": {
    "tags": []
   },
   "outputs": [
    {
     "data": {
      "text/html": [
       "\n",
       "<style>\n",
       "    /* Turns off some styling */\n",
       "    progress {\n",
       "        /* gets rid of default border in Firefox and Opera. */\n",
       "        border: none;\n",
       "        /* Needs to be in here for Safari polyfill so background images work as expected. */\n",
       "        background-size: auto;\n",
       "    }\n",
       "    progress:not([value]), progress:not([value])::-webkit-progress-bar {\n",
       "        background: repeating-linear-gradient(45deg, #7e7e7e, #7e7e7e 10px, #5c5c5c 10px, #5c5c5c 20px);\n",
       "    }\n",
       "    .progress-bar-interrupted, .progress-bar-interrupted::-webkit-progress-bar {\n",
       "        background: #F44336;\n",
       "    }\n",
       "</style>\n"
      ],
      "text/plain": [
       "<IPython.core.display.HTML object>"
      ]
     },
     "metadata": {},
     "output_type": "display_data"
    },
    {
     "data": {
      "text/html": [
       "<table border=\"1\" class=\"dataframe\">\n",
       "  <thead>\n",
       "    <tr style=\"text-align: left;\">\n",
       "      <th>accuracy</th>\n",
       "      <th>loss</th>\n",
       "      <th>epoch</th>\n",
       "      <th>train</th>\n",
       "    </tr>\n",
       "  </thead>\n",
       "  <tbody>\n",
       "    <tr>\n",
       "      <td> 0.764</td>\n",
       "      <td> 1.019</td>\n",
       "      <td>0</td>\n",
       "      <td>True</td>\n",
       "    </tr>\n",
       "    <tr>\n",
       "      <td> 0.904</td>\n",
       "      <td> 0.343</td>\n",
       "      <td>0</td>\n",
       "      <td>False</td>\n",
       "    </tr>\n",
       "    <tr>\n",
       "      <td> 0.917</td>\n",
       "      <td> 0.472</td>\n",
       "      <td>1</td>\n",
       "      <td>True</td>\n",
       "    </tr>\n",
       "    <tr>\n",
       "      <td> 0.934</td>\n",
       "      <td> 0.239</td>\n",
       "      <td>1</td>\n",
       "      <td>False</td>\n",
       "    </tr>\n",
       "    <tr>\n",
       "      <td> 0.945</td>\n",
       "      <td> 0.325</td>\n",
       "      <td>2</td>\n",
       "      <td>True</td>\n",
       "    </tr>\n",
       "    <tr>\n",
       "      <td> 0.943</td>\n",
       "      <td> 0.281</td>\n",
       "      <td>2</td>\n",
       "      <td>False</td>\n",
       "    </tr>\n",
       "    <tr>\n",
       "      <td> 0.962</td>\n",
       "      <td> 0.249</td>\n",
       "      <td>3</td>\n",
       "      <td>True</td>\n",
       "    </tr>\n",
       "    <tr>\n",
       "      <td> 0.953</td>\n",
       "      <td> 0.257</td>\n",
       "      <td>3</td>\n",
       "      <td>False</td>\n",
       "    </tr>\n",
       "    <tr>\n",
       "      <td> 0.972</td>\n",
       "      <td> 0.209</td>\n",
       "      <td>4</td>\n",
       "      <td>True</td>\n",
       "    </tr>\n",
       "    <tr>\n",
       "      <td> 0.951</td>\n",
       "      <td> 0.277</td>\n",
       "      <td>4</td>\n",
       "      <td>False</td>\n",
       "    </tr>\n",
       "  </tbody>\n",
       "</table>"
      ],
      "text/plain": [
       "<IPython.core.display.HTML object>"
      ]
     },
     "metadata": {},
     "output_type": "display_data"
    },
    {
     "data": {
      "image/png": "[encoded data removed]",
      "text/plain": [
       "<Figure size 600x400 with 1 Axes>"
      ]
     },
     "metadata": {},
     "output_type": "display_data"
    }
   ],
   "source": [
    "learn.fit(epochs)"
   ]
  },
  {
   "cell_type": "markdown",
   "id": "18f3dfea-bd60-4b79-9465-3463582a32d9",
   "metadata": {},
   "source": [
    "> Exercise: Implement Dropout2d from scratch"
   ]
  },
  {
   "cell_type": "code",
   "execution_count": 23,
   "id": "93da6eba-f380-469a-b473-5ea82d31e9e2",
   "metadata": {
    "tags": []
   },
   "outputs": [],
   "source": [
    "class TTD_CB(Callback):\n",
    "    def before_epoch(self, learn):\n",
    "        learn.model.apply(lambda m: m.train() if isinstance(m, (nn.Dropout, nn.Dropout2d)) else None)"
   ]
  },
  {
   "cell_type": "code",
   "execution_count": 54,
   "id": "ab6c8bf9-1221-4146-bfdd-ae577b00bd1c",
   "metadata": {
    "tags": []
   },
   "outputs": [
    {
     "data": {
      "text/plain": [
       "tensor([[[[0.]],\n",
       "\n",
       "         [[0.]],\n",
       "\n",
       "         [[0.]],\n",
       "\n",
       "         [[0.]],\n",
       "\n",
       "         [[0.]],\n",
       "\n",
       "         [[0.]],\n",
       "\n",
       "         [[0.]],\n",
       "\n",
       "         [[0.]],\n",
       "\n",
       "         [[0.]],\n",
       "\n",
       "         [[0.]],\n",
       "\n",
       "         [[0.]],\n",
       "\n",
       "         [[0.]],\n",
       "\n",
       "         [[0.]],\n",
       "\n",
       "         [[0.]],\n",
       "\n",
       "         [[0.]],\n",
       "\n",
       "         [[1.]]]])"
      ]
     },
     "execution_count": 54,
     "metadata": {},
     "output_type": "execute_result"
    }
   ],
   "source": [
    "dist = distributions.binomial.Binomial(tensor(1.0), probs=0.1)\n",
    "d = dist.sample((1, 16, 1, 1))\n",
    "d"
   ]
  },
  {
   "cell_type": "code",
   "execution_count": 121,
   "id": "bd5e01d4-88ac-4acd-a7ac-ae5ec92565dd",
   "metadata": {
    "tags": []
   },
   "outputs": [],
   "source": [
    "class Dropout2D(nn.Module):\n",
    "    def __init__(self, p=0.1):\n",
    "        super().__init__()\n",
    "        self.p = p\n",
    "    def forward(self, x):\n",
    "        if not self.training: return x\n",
    "        dist = distributions.binomial.Binomial(tensor(1.0).to(x.device), probs=1-self.p)\n",
    "        _, f, *_ = x.size() \n",
    "        return x * dist.sample((1, f, 1, 1)) * 1.0/(1-self.p)"
   ]
  },
  {
   "cell_type": "code",
   "execution_count": 134,
   "id": "3522dd45-22a3-4853-9255-72849014c2a6",
   "metadata": {
    "tags": []
   },
   "outputs": [],
   "source": [
    "def get_model(act=nn.ReLU, nfs=(16,32,64,128,256,512), norm=nn.BatchNorm2d, drop=0.0):\n",
    "    layers = [ResBlock(1, 16, ks=5, stride=1, act=act, norm=norm)]\n",
    "    layers += [Dropout2D(drop)]\n",
    "    layers += [ResBlock(nfs[i], nfs[i+1], act=act, norm=norm, stride=2) for i in range(len(nfs) - 1)]\n",
    "    layers += [nn.Flatten(), Dropout(drop), nn.Linear(nfs[-1], 10, bias=False), nn.BatchNorm1d(10)]\n",
    "    return nn.Sequential(*layers)"
   ]
  },
  {
   "cell_type": "code",
   "execution_count": 135,
   "id": "f1d3e881-b3b8-49ce-bdee-a0cd2ebe0b28",
   "metadata": {
    "tags": []
   },
   "outputs": [],
   "source": [
    "set_seed(42)\n",
    "lr = 1e-2\n",
    "epochs = 5\n",
    "tmax = epochs * len(dls.train)\n",
    "sched = partial(lr_scheduler.OneCycleLR, max_lr=lr, total_steps=tmax)\n",
    "xtra = [BatchSchedCB(sched)]\n",
    "model = get_model(act_gr, norm=nn.BatchNorm2d, drop=0.1).apply(iw)\n",
    "learn = TrainLearner(model, dls, F.cross_entropy, lr=lr, cbs=cbs+xtra, opt_func=optim.AdamW)"
   ]
  },
  {
   "cell_type": "code",
   "execution_count": 136,
   "id": "302eb010-59d3-45af-be03-4bf898cd7216",
   "metadata": {
    "tags": []
   },
   "outputs": [
    {
     "data": {
      "text/html": [
       "\n",
       "<style>\n",
       "    /* Turns off some styling */\n",
       "    progress {\n",
       "        /* gets rid of default border in Firefox and Opera. */\n",
       "        border: none;\n",
       "        /* Needs to be in here for Safari polyfill so background images work as expected. */\n",
       "        background-size: auto;\n",
       "    }\n",
       "    progress:not([value]), progress:not([value])::-webkit-progress-bar {\n",
       "        background: repeating-linear-gradient(45deg, #7e7e7e, #7e7e7e 10px, #5c5c5c 10px, #5c5c5c 20px);\n",
       "    }\n",
       "    .progress-bar-interrupted, .progress-bar-interrupted::-webkit-progress-bar {\n",
       "        background: #F44336;\n",
       "    }\n",
       "</style>\n"
      ],
      "text/plain": [
       "<IPython.core.display.HTML object>"
      ]
     },
     "metadata": {},
     "output_type": "display_data"
    },
    {
     "data": {
      "text/html": [
       "\n",
       "    <div>\n",
       "      <progress value='0' class='' max='1' style='width:300px; height:20px; vertical-align: middle;'></progress>\n",
       "      0.00% [0/1 00:00&lt;?]\n",
       "    </div>\n",
       "    \n",
       "\n",
       "\n",
       "    <div>\n",
       "      <progress value='0' class='' max='4' style='width:300px; height:20px; vertical-align: middle;'></progress>\n",
       "      0.00% [0/4 00:00&lt;?]\n",
       "    </div>\n",
       "    "
      ],
      "text/plain": [
       "<IPython.core.display.HTML object>"
      ]
     },
     "metadata": {},
     "output_type": "display_data"
    },
    {
     "name": "stdout",
     "output_type": "stream",
     "text": [
      "Tot params: 4903556; MLFLOPS: 22.0\n"
     ]
    },
    {
     "data": {
      "text/markdown": [
       "|Module|Input|Output|Num params|MFlops|\n",
       "|--|--|--|--|--|\n",
       "ResBlock|(1024, 1, 28, 28)|(1024, 16, 28, 28)|6864|5.3|\n",
       "Dropout2D|(1024, 16, 28, 28)|(1024, 16, 28, 28)|0|0.0|\n",
       "ResBlock|(1024, 16, 28, 28)|(1024, 32, 14, 14)|14432|2.8|\n",
       "ResBlock|(1024, 32, 14, 14)|(1024, 64, 7, 7)|57536|2.8|\n",
       "ResBlock|(1024, 64, 7, 7)|(1024, 128, 4, 4)|229760|3.7|\n",
       "ResBlock|(1024, 128, 4, 4)|(1024, 256, 2, 2)|918272|3.7|\n",
       "ResBlock|(1024, 256, 2, 2)|(1024, 512, 1, 1)|3671552|3.7|\n",
       "Flatten|(1024, 512, 1, 1)|(1024, 512)|0|0.0|\n",
       "Dropout|(1024, 512)|(1024, 512)|0|0.0|\n",
       "Linear|(1024, 512)|(1024, 10)|5120|0.0|\n",
       "BatchNorm1d|(1024, 10)|(1024, 10)|20|0.0|\n"
      ],
      "text/plain": [
       "<IPython.core.display.Markdown object>"
      ]
     },
     "execution_count": 136,
     "metadata": {},
     "output_type": "execute_result"
    }
   ],
   "source": [
    "learn.summary()"
   ]
  },
  {
   "cell_type": "code",
   "execution_count": 137,
   "id": "b9e2f1e2-7ad8-46d8-9095-241720ab89d2",
   "metadata": {
    "tags": []
   },
   "outputs": [
    {
     "data": {
      "text/html": [
       "\n",
       "<style>\n",
       "    /* Turns off some styling */\n",
       "    progress {\n",
       "        /* gets rid of default border in Firefox and Opera. */\n",
       "        border: none;\n",
       "        /* Needs to be in here for Safari polyfill so background images work as expected. */\n",
       "        background-size: auto;\n",
       "    }\n",
       "    progress:not([value]), progress:not([value])::-webkit-progress-bar {\n",
       "        background: repeating-linear-gradient(45deg, #7e7e7e, #7e7e7e 10px, #5c5c5c 10px, #5c5c5c 20px);\n",
       "    }\n",
       "    .progress-bar-interrupted, .progress-bar-interrupted::-webkit-progress-bar {\n",
       "        background: #F44336;\n",
       "    }\n",
       "</style>\n"
      ],
      "text/plain": [
       "<IPython.core.display.HTML object>"
      ]
     },
     "metadata": {},
     "output_type": "display_data"
    },
    {
     "data": {
      "text/html": [
       "<table border=\"1\" class=\"dataframe\">\n",
       "  <thead>\n",
       "    <tr style=\"text-align: left;\">\n",
       "      <th>accuracy</th>\n",
       "      <th>loss</th>\n",
       "      <th>epoch</th>\n",
       "      <th>train</th>\n",
       "    </tr>\n",
       "  </thead>\n",
       "  <tbody>\n",
       "    <tr>\n",
       "      <td> 0.762</td>\n",
       "      <td> 1.023</td>\n",
       "      <td>0</td>\n",
       "      <td>True</td>\n",
       "    </tr>\n",
       "    <tr>\n",
       "      <td> 0.851</td>\n",
       "      <td> 0.562</td>\n",
       "      <td>0</td>\n",
       "      <td>False</td>\n",
       "    </tr>\n",
       "    <tr>\n",
       "      <td> 0.894</td>\n",
       "      <td> 0.552</td>\n",
       "      <td>1</td>\n",
       "      <td>True</td>\n",
       "    </tr>\n",
       "    <tr>\n",
       "      <td> 0.915</td>\n",
       "      <td> 0.307</td>\n",
       "      <td>1</td>\n",
       "      <td>False</td>\n",
       "    </tr>\n",
       "    <tr>\n",
       "      <td> 0.932</td>\n",
       "      <td> 0.371</td>\n",
       "      <td>2</td>\n",
       "      <td>True</td>\n",
       "    </tr>\n",
       "    <tr>\n",
       "      <td> 0.937</td>\n",
       "      <td> 0.277</td>\n",
       "      <td>2</td>\n",
       "      <td>False</td>\n",
       "    </tr>\n",
       "    <tr>\n",
       "      <td> 0.947</td>\n",
       "      <td> 0.295</td>\n",
       "      <td>3</td>\n",
       "      <td>True</td>\n",
       "    </tr>\n",
       "    <tr>\n",
       "      <td> 0.939</td>\n",
       "      <td> 0.349</td>\n",
       "      <td>3</td>\n",
       "      <td>False</td>\n",
       "    </tr>\n",
       "    <tr>\n",
       "      <td> 0.959</td>\n",
       "      <td> 0.250</td>\n",
       "      <td>4</td>\n",
       "      <td>True</td>\n",
       "    </tr>\n",
       "    <tr>\n",
       "      <td> 0.943</td>\n",
       "      <td> 0.273</td>\n",
       "      <td>4</td>\n",
       "      <td>False</td>\n",
       "    </tr>\n",
       "  </tbody>\n",
       "</table>"
      ],
      "text/plain": [
       "<IPython.core.display.HTML object>"
      ]
     },
     "metadata": {},
     "output_type": "display_data"
    },
    {
     "data": {
      "image/png": "[encoded data removed]",
      "text/plain": [
       "<Figure size 600x400 with 1 Axes>"
      ]
     },
     "metadata": {},
     "output_type": "display_data"
    }
   ],
   "source": [
    "learn.fit(epochs)"
   ]
  },
  {
   "cell_type": "code",
   "execution_count": null,
   "id": "a9bf674a-a033-4b97-8df8-2879c117ad6f",
   "metadata": {},
   "outputs": [],
   "source": []
  }
 ],
 "metadata": {
  "kernelspec": {
   "display_name": "fastai:Python",
   "language": "python",
   "name": "conda-env-fastai-py"
  },
  "language_info": {
   "codemirror_mode": {
    "name": "ipython",
    "version": 3
   },
   "file_extension": ".py",
   "mimetype": "text/x-python",
   "name": "python",
   "nbconvert_exporter": "python",
   "pygments_lexer": "ipython3",
   "version": "3.9.13"
  }
 },
 "nbformat": 4,
 "nbformat_minor": 5
}
