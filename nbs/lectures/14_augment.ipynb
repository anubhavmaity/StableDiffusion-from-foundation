{
 "cells": [
  {
   "cell_type": "code",
   "execution_count": null,
   "id": "d1499b29",
   "metadata": {},
   "outputs": [],
   "source": [
    "#|default_exp augment"
   ]
  },
  {
   "cell_type": "markdown",
   "id": "418b89f1",
   "metadata": {},
   "source": [
    "# Augmentation"
   ]
  },
  {
   "cell_type": "code",
   "execution_count": null,
   "id": "5144972a",
   "metadata": {},
   "outputs": [],
   "source": [
    "#|export\n",
    "import fastcore.all as fc\n",
    "from functools import partial\n",
    "\n",
    "from datasets import load_dataset\n",
    "\n",
    "from torch import nn\n",
    "from torch import optim\n",
    "import torch.nn.functional as F\n",
    "import torchvision.transforms.functional as TF\n",
    "from torch.optim import lr_scheduler\n",
    "from torcheval.metrics import MulticlassAccuracy\n",
    "\n",
    "from minai.conv import def_device\n",
    "from minai.datasets import inplace\n",
    "from minai.learner import MetricsCB, DeviceCB, ProgressCB, DataLoaders, Learner, TrainLearner, SingleBatchCB, MomentumLearner, lr_find\n",
    "from minai.activations import Hooks\n",
    "from minai.init import conv, GeneralRelu, init_weights, ActivationStats, set_seed\n",
    "from minai.sgd import BatchSchedCB\n",
    "from minai.resnet import ResBlock"
   ]
  },
  {
   "cell_type": "code",
   "execution_count": null,
   "id": "1a61bffe",
   "metadata": {},
   "outputs": [],
   "source": [
    "x1, y1 = 'image', 'label'\n",
    "bs = 1024\n",
    "ds = load_dataset('anubhavmaity/notMNIST')"
   ]
  },
  {
   "cell_type": "code",
   "execution_count": null,
   "id": "428faa02",
   "metadata": {},
   "outputs": [],
   "source": [
    "@inplace\n",
    "def transformi(b): b[x1] = [TF.to_tensor(o) for o in b[x1]]\n",
    "dsd = ds.with_transform(transformi)"
   ]
  },
  {
   "cell_type": "code",
   "execution_count": null,
   "id": "e2e5f1ab",
   "metadata": {},
   "outputs": [],
   "source": [
    "dls = DataLoaders.from_dd(dsd, batch_size=bs)"
   ]
  },
  {
   "cell_type": "code",
   "execution_count": null,
   "id": "79de6d2b",
   "metadata": {},
   "outputs": [],
   "source": [
    "#|export\n",
    "act_gr = partial(GeneralRelu, leak=0.1, sub=0.4)"
   ]
  },
  {
   "cell_type": "code",
   "execution_count": null,
   "id": "60ca5660",
   "metadata": {},
   "outputs": [],
   "source": [
    "metrics = MetricsCB(accuracy=MulticlassAccuracy())\n",
    "astats = ActivationStats(fc.risinstance(GeneralRelu))\n",
    "cbs = [DeviceCB(), metrics, ProgressCB(plot=True), astats]\n",
    "iw = partial(init_weights, leaky=0.1)"
   ]
  },
  {
   "cell_type": "code",
   "execution_count": null,
   "id": "1f5d7664",
   "metadata": {},
   "outputs": [],
   "source": [
    "set_seed(42)\n",
    "lr, epochs = 6e-2, 5"
   ]
  },
  {
   "cell_type": "markdown",
   "id": "f3df755f",
   "metadata": {},
   "source": [
    "## Going wider"
   ]
  },
  {
   "cell_type": "code",
   "execution_count": null,
   "id": "2e3aa0e3",
   "metadata": {},
   "outputs": [],
   "source": [
    "def get_model(act=nn.ReLU, nfs=(16, 32, 64, 128, 256, 512), norm=nn.BatchNorm2d):\n",
    "    layers = [ResBlock(1, 16, ks=5, stride=1, act=act, norm=norm)]\n",
    "    layers += [ResBlock(nfs[i], nfs[i+1], act=act, norm=norm, stride=2) for i in range(len(nfs) - 1)]\n",
    "    layers += [nn.Flatten(), nn.Linear(nfs[-1], 10, bias=False), nn.BatchNorm1d(10)]\n",
    "    return nn.Sequential(*layers).to(def_device)"
   ]
  },
  {
   "cell_type": "code",
   "execution_count": null,
   "id": "1fb4cab1",
   "metadata": {},
   "outputs": [],
   "source": [
    "lr = 1e-2\n",
    "tmax = epochs * len(dls.train)\n",
    "sched = partial(lr_scheduler.OneCycleLR, max_lr=lr, total_steps=tmax)\n",
    "xtra = [BatchSchedCB(sched)]\n",
    "model = get_model(act_gr, norm=nn.BatchNorm2d).apply(iw)\n",
    "learn = TrainLearner(model, dls, F.cross_entropy, lr=lr, cbs=cbs+xtra, opt_func=optim.AdamW)"
   ]
  },
  {
   "cell_type": "code",
   "execution_count": null,
   "id": "6e1fe3aa",
   "metadata": {},
   "outputs": [
    {
     "data": {
      "text/html": [
       "\n",
       "<style>\n",
       "    /* Turns off some styling */\n",
       "    progress {\n",
       "        /* gets rid of default border in Firefox and Opera. */\n",
       "        border: none;\n",
       "        /* Needs to be in here for Safari polyfill so background images work as expected. */\n",
       "        background-size: auto;\n",
       "    }\n",
       "    progress:not([value]), progress:not([value])::-webkit-progress-bar {\n",
       "        background: repeating-linear-gradient(45deg, #7e7e7e, #7e7e7e 10px, #5c5c5c 10px, #5c5c5c 20px);\n",
       "    }\n",
       "    .progress-bar-interrupted, .progress-bar-interrupted::-webkit-progress-bar {\n",
       "        background: #F44336;\n",
       "    }\n",
       "</style>\n"
      ],
      "text/plain": [
       "<IPython.core.display.HTML object>"
      ]
     },
     "metadata": {},
     "output_type": "display_data"
    },
    {
     "data": {
      "text/html": [
       "{'accuracy': ' 0.758', 'loss': ' 1.060', 'epoch': 0, 'train': True}<p>{'accuracy': ' 0.865', 'loss': ' 0.505', 'epoch': 0, 'train': False}<p>{'accuracy': ' 0.912', 'loss': ' 0.502', 'epoch': 1, 'train': True}<p>{'accuracy': ' 0.926', 'loss': ' 0.278', 'epoch': 1, 'train': False}<p>{'accuracy': ' 0.937', 'loss': ' 0.356', 'epoch': 2, 'train': True}<p>{'accuracy': ' 0.941', 'loss': ' 0.299', 'epoch': 2, 'train': False}<p>{'accuracy': ' 0.954', 'loss': ' 0.273', 'epoch': 3, 'train': True}<p>{'accuracy': ' 0.946', 'loss': ' 0.317', 'epoch': 3, 'train': False}<p>{'accuracy': ' 0.965', 'loss': ' 0.232', 'epoch': 4, 'train': True}<p>{'accuracy': ' 0.948', 'loss': ' 0.286', 'epoch': 4, 'train': False}"
      ],
      "text/plain": [
       "<IPython.core.display.HTML object>"
      ]
     },
     "metadata": {},
     "output_type": "display_data"
    },
    {
     "data": {
      "image/png": "[encoded data removed]",
      "text/plain": [
       "<Figure size 600x400 with 1 Axes>"
      ]
     },
     "metadata": {},
     "output_type": "display_data"
    }
   ],
   "source": [
    "learn.fit(epochs)"
   ]
  },
  {
   "cell_type": "markdown",
   "id": "2af106cf",
   "metadata": {},
   "source": [
    "## Pooling"
   ]
  },
  {
   "cell_type": "code",
   "execution_count": null,
   "id": "41b66643",
   "metadata": {},
   "outputs": [],
   "source": [
    "class GlobalAvgPool(nn.Module):\n",
    "    def forward(self, x): return x.mean((-2, -1))"
   ]
  },
  {
   "cell_type": "code",
   "execution_count": null,
   "id": "1c986d23",
   "metadata": {},
   "outputs": [],
   "source": [
    "def get_model2(act=nn.ReLU, nfs=(16, 32, 64, 128, 256), norm=nn.BatchNorm2d):\n",
    "    layers = [ResBlock(1, 16, ks=5, stride=1, act=act, norm=norm)]\n",
    "    layers += [ResBlock(nfs[i], nfs[i+1], act=act, norm=norm, stride=2) for i in range(len(nfs) - 1)]\n",
    "    layers += [ResBlock(256, 512, act=act, norm=norm), GlobalAvgPool()]\n",
    "    layers += [nn.Linear(512, 10, bias=False), nn.BatchNorm1d(10)]\n",
    "    return nn.Sequential(*layers).to(def_device)"
   ]
  },
  {
   "cell_type": "code",
   "execution_count": null,
   "id": "328e3a95",
   "metadata": {},
   "outputs": [],
   "source": [
    "#|export\n",
    "def _flops(x, h, w):\n",
    "    if x.dim() < 3: return x.numel()\n",
    "    if x.dim() == 4: return x.numel()*h*w\n",
    "    raise Exception()\n",
    "\n",
    "@fc.patch\n",
    "def summary(self:Learner):\n",
    "    res = '|Module|Input|Output|Num params|MFlops|\\n|--|--|--|--|--|\\n'\n",
    "    totp, totf = 0, 0\n",
    "    def _f(hook, mod, inp, outp):\n",
    "        nonlocal res,totp,totf\n",
    "        nparams = sum(o.numel() for o in mod.parameters())\n",
    "        totp += nparams\n",
    "        *_,h,w = outp.shape\n",
    "        flops = sum(_flops(o, h, w) for o in mod.parameters())/1e6\n",
    "        totf += flops\n",
    "        res += f'{type(mod).__name__}|{tuple(inp[0].shape)}|{tuple(outp.shape)}|{nparams}|{flops:.1f}|\\n'\n",
    "    with Hooks(self.model, _f) as hooks: self.fit(1, lr=1, train=False, cbs=SingleBatchCB())\n",
    "    print(f\"Tot params: {totp}; MLFLOPS: {totf:.1f}\")\n",
    "    if fc.IN_NOTEBOOK:\n",
    "        from IPython.display import Markdown\n",
    "        return Markdown(res)\n",
    "    else: print(res)"
   ]
  },
  {
   "cell_type": "code",
   "execution_count": null,
   "id": "d23beab9",
   "metadata": {},
   "outputs": [
    {
     "name": "stdout",
     "output_type": "stream",
     "text": [
      "Tot params: 4903556; MLFLOPS: 33.0\n"
     ]
    },
    {
     "data": {
      "text/markdown": [
       "|Module|Input|Output|Num params|MFlops|\n",
       "|--|--|--|--|--|\n",
       "ResBlock|(1024, 1, 28, 28)|(1024, 16, 28, 28)|6864|5.3|\n",
       "ResBlock|(1024, 16, 28, 28)|(1024, 32, 14, 14)|14432|2.8|\n",
       "ResBlock|(1024, 32, 14, 14)|(1024, 64, 7, 7)|57536|2.8|\n",
       "ResBlock|(1024, 64, 7, 7)|(1024, 128, 4, 4)|229760|3.7|\n",
       "ResBlock|(1024, 128, 4, 4)|(1024, 256, 2, 2)|918272|3.7|\n",
       "ResBlock|(1024, 256, 2, 2)|(1024, 512, 2, 2)|3671552|14.7|\n",
       "GlobalAvgPool|(1024, 512, 2, 2)|(1024, 512)|0|0.0|\n",
       "Linear|(1024, 512)|(1024, 10)|5120|0.0|\n",
       "BatchNorm1d|(1024, 10)|(1024, 10)|20|0.0|\n"
      ],
      "text/plain": [
       "<IPython.core.display.Markdown object>"
      ]
     },
     "execution_count": null,
     "metadata": {},
     "output_type": "execute_result"
    }
   ],
   "source": [
    "TrainLearner(get_model2(), dls, F.cross_entropy, lr=lr, cbs=[DeviceCB()]).summary()"
   ]
  },
  {
   "cell_type": "code",
   "execution_count": null,
   "id": "cbe0bcfc",
   "metadata": {},
   "outputs": [
    {
     "data": {
      "text/html": [
       "\n",
       "<style>\n",
       "    /* Turns off some styling */\n",
       "    progress {\n",
       "        /* gets rid of default border in Firefox and Opera. */\n",
       "        border: none;\n",
       "        /* Needs to be in here for Safari polyfill so background images work as expected. */\n",
       "        background-size: auto;\n",
       "    }\n",
       "    progress:not([value]), progress:not([value])::-webkit-progress-bar {\n",
       "        background: repeating-linear-gradient(45deg, #7e7e7e, #7e7e7e 10px, #5c5c5c 10px, #5c5c5c 20px);\n",
       "    }\n",
       "    .progress-bar-interrupted, .progress-bar-interrupted::-webkit-progress-bar {\n",
       "        background: #F44336;\n",
       "    }\n",
       "</style>\n"
      ],
      "text/plain": [
       "<IPython.core.display.HTML object>"
      ]
     },
     "metadata": {},
     "output_type": "display_data"
    },
    {
     "data": {
      "text/html": [
       "{'accuracy': ' 0.771', 'loss': ' 1.006', 'epoch': 0, 'train': True}<p>{'accuracy': ' 0.910', 'loss': ' 0.323', 'epoch': 0, 'train': False}<p>{'accuracy': ' 0.926', 'loss': ' 0.451', 'epoch': 1, 'train': True}<p>{'accuracy': ' 0.936', 'loss': ' 0.232', 'epoch': 1, 'train': False}<p>{'accuracy': ' 0.944', 'loss': ' 0.332', 'epoch': 2, 'train': True}<p>{'accuracy': ' 0.944', 'loss': ' 0.262', 'epoch': 2, 'train': False}<p>{'accuracy': ' 0.962', 'loss': ' 0.244', 'epoch': 3, 'train': True}<p>{'accuracy': ' 0.952', 'loss': ' 0.272', 'epoch': 3, 'train': False}<p>{'accuracy': ' 0.974', 'loss': ' 0.203', 'epoch': 4, 'train': True}<p>{'accuracy': ' 0.949', 'loss': ' 0.293', 'epoch': 4, 'train': False}"
      ],
      "text/plain": [
       "<IPython.core.display.HTML object>"
      ]
     },
     "metadata": {},
     "output_type": "display_data"
    },
    {
     "data": {
      "image/png": "[encoded data removed]",
      "text/plain": [
       "<Figure size 600x400 with 1 Axes>"
      ]
     },
     "metadata": {},
     "output_type": "display_data"
    }
   ],
   "source": [
    "set_seed(42)\n",
    "model = get_model2(act_gr, norm=nn.BatchNorm2d).apply(iw)\n",
    "learn = TrainLearner(model, dls, F.cross_entropy, lr=lr, cbs=cbs+xtra, opt_func=optim.AdamW)\n",
    "learn.fit(epochs)"
   ]
  },
  {
   "cell_type": "code",
   "execution_count": null,
   "id": "d03de699",
   "metadata": {},
   "outputs": [],
   "source": []
  }
 ],
 "metadata": {
  "kernelspec": {
   "display_name": "fastai",
   "language": "python",
   "name": "fastai"
  }
 },
 "nbformat": 4,
 "nbformat_minor": 5
}
